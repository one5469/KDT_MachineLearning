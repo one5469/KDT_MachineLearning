{
 "cells": [
  {
   "cell_type": "markdown",
   "source": [
    "### 의사결정나무(DT)\n",
    "- IF-ELSE 방식의 질문에 대한 답변으로 문제를 해결하는 알고리즘\n",
    "- 피쳐(특성) 중에서 선택한 기준으로 데이터 분할\n",
    "    * 엔트로피 (불순정도) => 낮아지는 방향\n",
    "    * 정보이득 : 1-엔트로피 => 높아지는 방향\n",
    "    * 지니계수 : 불평등수치값 => 낮아지는 방향\n",
    "- 단점 : 과대적합이 될 가능성 높음! 성능이 좋지 않음\n",
    "- 장점 : 전처리 영향을 받지 않음 / 직관성이 높음 / 피쳐들 중 주요 피쳐 확인 가능\n",
    "- 주의\n",
    "    * 여기서의 주요 피쳐는 데이터 분할을 위한 주요 피쳐\n",
    "    * 100% 데이터의 주요 피쳐가 아닐 수도 있음 => 다른 검사(상관계수, 시각화 등등)와 함께 평가"
   ],
   "metadata": {
    "collapsed": false
   },
   "id": "2f9f49085c974b5b"
  },
  {
   "cell_type": "markdown",
   "source": [
    "[1] 모듈 로딩 및 데이터 준비"
   ],
   "metadata": {
    "collapsed": false
   },
   "id": "ae31954051ac0045"
  },
  {
   "cell_type": "code",
   "outputs": [],
   "source": [
    "# 모듈 로딩\n",
    "import pandas as pd"
   ],
   "metadata": {
    "collapsed": false,
    "ExecuteTime": {
     "end_time": "2024-03-07T01:21:16.400659400Z",
     "start_time": "2024-03-07T01:21:16.372737300Z"
    }
   },
   "id": "5b4b5364d622ef66",
   "execution_count": 14
  },
  {
   "cell_type": "code",
   "outputs": [],
   "source": [
    "irisDF = pd.read_csv('../data/iris.csv')"
   ],
   "metadata": {
    "collapsed": false,
    "ExecuteTime": {
     "end_time": "2024-03-07T01:21:16.427557700Z",
     "start_time": "2024-03-07T01:21:16.405630200Z"
    }
   },
   "id": "8b140a6002035c9",
   "execution_count": 15
  },
  {
   "cell_type": "markdown",
   "source": [
    "[2] 학습용 데이터셋 준비"
   ],
   "metadata": {
    "collapsed": false
   },
   "id": "dfeff1c8e3e8a1bc"
  },
  {
   "cell_type": "markdown",
   "source": [
    "[2-1] 피쳐와 타겟 분리"
   ],
   "metadata": {
    "collapsed": false
   },
   "id": "5c080e8778857617"
  },
  {
   "cell_type": "code",
   "outputs": [
    {
     "data": {
      "text/plain": "     sepal_length  sepal_width  petal_length  petal_width    species\n0             5.1          3.5           1.4          0.2     setosa\n1             4.9          3.0           1.4          0.2     setosa\n2             4.7          3.2           1.3          0.2     setosa\n3             4.6          3.1           1.5          0.2     setosa\n4             5.0          3.6           1.4          0.2     setosa\n..            ...          ...           ...          ...        ...\n145           6.7          3.0           5.2          2.3  virginica\n146           6.3          2.5           5.0          1.9  virginica\n147           6.5          3.0           5.2          2.0  virginica\n148           6.2          3.4           5.4          2.3  virginica\n149           5.9          3.0           5.1          1.8  virginica\n\n[150 rows x 5 columns]",
      "text/html": "<div>\n<style scoped>\n    .dataframe tbody tr th:only-of-type {\n        vertical-align: middle;\n    }\n\n    .dataframe tbody tr th {\n        vertical-align: top;\n    }\n\n    .dataframe thead th {\n        text-align: right;\n    }\n</style>\n<table border=\"1\" class=\"dataframe\">\n  <thead>\n    <tr style=\"text-align: right;\">\n      <th></th>\n      <th>sepal_length</th>\n      <th>sepal_width</th>\n      <th>petal_length</th>\n      <th>petal_width</th>\n      <th>species</th>\n    </tr>\n  </thead>\n  <tbody>\n    <tr>\n      <th>0</th>\n      <td>5.1</td>\n      <td>3.5</td>\n      <td>1.4</td>\n      <td>0.2</td>\n      <td>setosa</td>\n    </tr>\n    <tr>\n      <th>1</th>\n      <td>4.9</td>\n      <td>3.0</td>\n      <td>1.4</td>\n      <td>0.2</td>\n      <td>setosa</td>\n    </tr>\n    <tr>\n      <th>2</th>\n      <td>4.7</td>\n      <td>3.2</td>\n      <td>1.3</td>\n      <td>0.2</td>\n      <td>setosa</td>\n    </tr>\n    <tr>\n      <th>3</th>\n      <td>4.6</td>\n      <td>3.1</td>\n      <td>1.5</td>\n      <td>0.2</td>\n      <td>setosa</td>\n    </tr>\n    <tr>\n      <th>4</th>\n      <td>5.0</td>\n      <td>3.6</td>\n      <td>1.4</td>\n      <td>0.2</td>\n      <td>setosa</td>\n    </tr>\n    <tr>\n      <th>...</th>\n      <td>...</td>\n      <td>...</td>\n      <td>...</td>\n      <td>...</td>\n      <td>...</td>\n    </tr>\n    <tr>\n      <th>145</th>\n      <td>6.7</td>\n      <td>3.0</td>\n      <td>5.2</td>\n      <td>2.3</td>\n      <td>virginica</td>\n    </tr>\n    <tr>\n      <th>146</th>\n      <td>6.3</td>\n      <td>2.5</td>\n      <td>5.0</td>\n      <td>1.9</td>\n      <td>virginica</td>\n    </tr>\n    <tr>\n      <th>147</th>\n      <td>6.5</td>\n      <td>3.0</td>\n      <td>5.2</td>\n      <td>2.0</td>\n      <td>virginica</td>\n    </tr>\n    <tr>\n      <th>148</th>\n      <td>6.2</td>\n      <td>3.4</td>\n      <td>5.4</td>\n      <td>2.3</td>\n      <td>virginica</td>\n    </tr>\n    <tr>\n      <th>149</th>\n      <td>5.9</td>\n      <td>3.0</td>\n      <td>5.1</td>\n      <td>1.8</td>\n      <td>virginica</td>\n    </tr>\n  </tbody>\n</table>\n<p>150 rows × 5 columns</p>\n</div>"
     },
     "execution_count": 16,
     "metadata": {},
     "output_type": "execute_result"
    }
   ],
   "source": [
    "irisDF"
   ],
   "metadata": {
    "collapsed": false,
    "ExecuteTime": {
     "end_time": "2024-03-07T01:21:16.462479300Z",
     "start_time": "2024-03-07T01:21:16.437522900Z"
    }
   },
   "id": "39c7f279442ead2d",
   "execution_count": 16
  },
  {
   "cell_type": "code",
   "outputs": [],
   "source": [
    "feature = irisDF[irisDF.columns[:-1]]\n",
    "target = irisDF[irisDF.columns[-1]]"
   ],
   "metadata": {
    "collapsed": false,
    "ExecuteTime": {
     "end_time": "2024-03-07T01:21:16.477420200Z",
     "start_time": "2024-03-07T01:21:16.459480600Z"
    }
   },
   "id": "25ea089a5ee15e51",
   "execution_count": 17
  },
  {
   "cell_type": "markdown",
   "source": [
    "[2-2] 훈련용과 테스트용 데이터셋 분리"
   ],
   "metadata": {
    "collapsed": false
   },
   "id": "1c4af8cfee81f8c5"
  },
  {
   "cell_type": "code",
   "outputs": [],
   "source": [
    "from sklearn.model_selection import train_test_split"
   ],
   "metadata": {
    "collapsed": false,
    "ExecuteTime": {
     "end_time": "2024-03-07T01:21:16.547086500Z",
     "start_time": "2024-03-07T01:21:16.473433400Z"
    }
   },
   "id": "e70daa44695bac9c",
   "execution_count": 18
  },
  {
   "cell_type": "code",
   "outputs": [],
   "source": [
    "X_train, X_test, y_train, y_test = train_test_split(feature, target,\n",
    "                                                    test_size=0.2,\n",
    "                                                    stratify=target)"
   ],
   "metadata": {
    "collapsed": false,
    "ExecuteTime": {
     "end_time": "2024-03-07T01:21:16.548082600Z",
     "start_time": "2024-03-07T01:21:16.489378700Z"
    }
   },
   "id": "3577b81a9ff6387e",
   "execution_count": 19
  },
  {
   "cell_type": "markdown",
   "source": [
    "[3] 기계학습 진행\n",
    "- 타겟 데이터 확인 결과 : 3개의 분류\n",
    "- 학습 유형 : 지도학습 + 분류\n",
    "    * 분류 알고리즘 => KNN, LogisticRegression, SVM-SVC, DecisionTree"
   ],
   "metadata": {
    "collapsed": false
   },
   "id": "ec986faca79b0971"
  },
  {
   "cell_type": "markdown",
   "source": [
    "[3-1] 의사결정 알고리즘으로 분류"
   ],
   "metadata": {
    "collapsed": false
   },
   "id": "e6885bfa40629e5f"
  },
  {
   "cell_type": "code",
   "outputs": [],
   "source": [
    "from sklearn.tree import DecisionTreeClassifier"
   ],
   "metadata": {
    "collapsed": false,
    "ExecuteTime": {
     "end_time": "2024-03-07T01:21:16.585483300Z",
     "start_time": "2024-03-07T01:21:16.506770100Z"
    }
   },
   "id": "a32a5f0bd8163d56",
   "execution_count": 20
  },
  {
   "cell_type": "code",
   "outputs": [
    {
     "data": {
      "text/plain": "DecisionTreeClassifier()",
      "text/html": "<style>#sk-container-id-2 {color: black;}#sk-container-id-2 pre{padding: 0;}#sk-container-id-2 div.sk-toggleable {background-color: white;}#sk-container-id-2 label.sk-toggleable__label {cursor: pointer;display: block;width: 100%;margin-bottom: 0;padding: 0.3em;box-sizing: border-box;text-align: center;}#sk-container-id-2 label.sk-toggleable__label-arrow:before {content: \"▸\";float: left;margin-right: 0.25em;color: #696969;}#sk-container-id-2 label.sk-toggleable__label-arrow:hover:before {color: black;}#sk-container-id-2 div.sk-estimator:hover label.sk-toggleable__label-arrow:before {color: black;}#sk-container-id-2 div.sk-toggleable__content {max-height: 0;max-width: 0;overflow: hidden;text-align: left;background-color: #f0f8ff;}#sk-container-id-2 div.sk-toggleable__content pre {margin: 0.2em;color: black;border-radius: 0.25em;background-color: #f0f8ff;}#sk-container-id-2 input.sk-toggleable__control:checked~div.sk-toggleable__content {max-height: 200px;max-width: 100%;overflow: auto;}#sk-container-id-2 input.sk-toggleable__control:checked~label.sk-toggleable__label-arrow:before {content: \"▾\";}#sk-container-id-2 div.sk-estimator input.sk-toggleable__control:checked~label.sk-toggleable__label {background-color: #d4ebff;}#sk-container-id-2 div.sk-label input.sk-toggleable__control:checked~label.sk-toggleable__label {background-color: #d4ebff;}#sk-container-id-2 input.sk-hidden--visually {border: 0;clip: rect(1px 1px 1px 1px);clip: rect(1px, 1px, 1px, 1px);height: 1px;margin: -1px;overflow: hidden;padding: 0;position: absolute;width: 1px;}#sk-container-id-2 div.sk-estimator {font-family: monospace;background-color: #f0f8ff;border: 1px dotted black;border-radius: 0.25em;box-sizing: border-box;margin-bottom: 0.5em;}#sk-container-id-2 div.sk-estimator:hover {background-color: #d4ebff;}#sk-container-id-2 div.sk-parallel-item::after {content: \"\";width: 100%;border-bottom: 1px solid gray;flex-grow: 1;}#sk-container-id-2 div.sk-label:hover label.sk-toggleable__label {background-color: #d4ebff;}#sk-container-id-2 div.sk-serial::before {content: \"\";position: absolute;border-left: 1px solid gray;box-sizing: border-box;top: 0;bottom: 0;left: 50%;z-index: 0;}#sk-container-id-2 div.sk-serial {display: flex;flex-direction: column;align-items: center;background-color: white;padding-right: 0.2em;padding-left: 0.2em;position: relative;}#sk-container-id-2 div.sk-item {position: relative;z-index: 1;}#sk-container-id-2 div.sk-parallel {display: flex;align-items: stretch;justify-content: center;background-color: white;position: relative;}#sk-container-id-2 div.sk-item::before, #sk-container-id-2 div.sk-parallel-item::before {content: \"\";position: absolute;border-left: 1px solid gray;box-sizing: border-box;top: 0;bottom: 0;left: 50%;z-index: -1;}#sk-container-id-2 div.sk-parallel-item {display: flex;flex-direction: column;z-index: 1;position: relative;background-color: white;}#sk-container-id-2 div.sk-parallel-item:first-child::after {align-self: flex-end;width: 50%;}#sk-container-id-2 div.sk-parallel-item:last-child::after {align-self: flex-start;width: 50%;}#sk-container-id-2 div.sk-parallel-item:only-child::after {width: 0;}#sk-container-id-2 div.sk-dashed-wrapped {border: 1px dashed gray;margin: 0 0.4em 0.5em 0.4em;box-sizing: border-box;padding-bottom: 0.4em;background-color: white;}#sk-container-id-2 div.sk-label label {font-family: monospace;font-weight: bold;display: inline-block;line-height: 1.2em;}#sk-container-id-2 div.sk-label-container {text-align: center;}#sk-container-id-2 div.sk-container {/* jupyter's `normalize.less` sets `[hidden] { display: none; }` but bootstrap.min.css set `[hidden] { display: none !important; }` so we also need the `!important` here to be able to override the default hidden behavior on the sphinx rendered scikit-learn.org. See: https://github.com/scikit-learn/scikit-learn/issues/21755 */display: inline-block !important;position: relative;}#sk-container-id-2 div.sk-text-repr-fallback {display: none;}</style><div id=\"sk-container-id-2\" class=\"sk-top-container\"><div class=\"sk-text-repr-fallback\"><pre>DecisionTreeClassifier()</pre><b>In a Jupyter environment, please rerun this cell to show the HTML representation or trust the notebook. <br />On GitHub, the HTML representation is unable to render, please try loading this page with nbviewer.org.</b></div><div class=\"sk-container\" hidden><div class=\"sk-item\"><div class=\"sk-estimator sk-toggleable\"><input class=\"sk-toggleable__control sk-hidden--visually\" id=\"sk-estimator-id-2\" type=\"checkbox\" checked><label for=\"sk-estimator-id-2\" class=\"sk-toggleable__label sk-toggleable__label-arrow\">DecisionTreeClassifier</label><div class=\"sk-toggleable__content\"><pre>DecisionTreeClassifier()</pre></div></div></div></div></div>"
     },
     "execution_count": 21,
     "metadata": {},
     "output_type": "execute_result"
    }
   ],
   "source": [
    "# 인스턴스 생성 및 학습\n",
    "model = DecisionTreeClassifier()\n",
    "model.fit(X_train, y_train)"
   ],
   "metadata": {
    "collapsed": false,
    "ExecuteTime": {
     "end_time": "2024-03-07T01:21:16.623898600Z",
     "start_time": "2024-03-07T01:21:16.522170300Z"
    }
   },
   "id": "f2d7d22aad97a29f",
   "execution_count": 21
  },
  {
   "cell_type": "code",
   "outputs": [],
   "source": [
    " # 생성된 모델 구조 시각화\n",
    "from sklearn.tree import export_graphviz\n",
    "# dot 언어로 작성된 내용을 시각화 해주는 모듈\n",
    "from graphviz import Source"
   ],
   "metadata": {
    "collapsed": false,
    "ExecuteTime": {
     "end_time": "2024-03-07T01:21:16.623898600Z",
     "start_time": "2024-03-07T01:21:16.535126Z"
    }
   },
   "id": "fde7408be476908a",
   "execution_count": 22
  },
  {
   "cell_type": "code",
   "outputs": [],
   "source": [
    "# DT 모델의 시각화 정보를 dot 언어로 작성해서 파일로 저장\n",
    "export_graphviz(model,\n",
    "                out_file='iris_tree.dot',\n",
    "                feature_names=feature.columns,\n",
    "                class_names=model.classes_,\n",
    "                filled=True\n",
    "                )"
   ],
   "metadata": {
    "collapsed": false,
    "ExecuteTime": {
     "end_time": "2024-03-07T01:26:58.787134500Z",
     "start_time": "2024-03-07T01:26:58.748392100Z"
    }
   },
   "id": "40c4c52e1cb59573",
   "execution_count": 31
  },
  {
   "cell_type": "code",
   "outputs": [
    {
     "data": {
      "image/svg+xml": "<?xml version=\"1.0\" encoding=\"UTF-8\" standalone=\"no\"?>\n<!DOCTYPE svg PUBLIC \"-//W3C//DTD SVG 1.1//EN\"\n \"http://www.w3.org/Graphics/SVG/1.1/DTD/svg11.dtd\">\n<!-- Generated by graphviz version 2.50.0 (0)\n -->\n<!-- Title: Tree Pages: 1 -->\n<svg width=\"344pt\" height=\"552pt\"\n viewBox=\"0.00 0.00 344.00 552.00\" xmlns=\"http://www.w3.org/2000/svg\" xmlns:xlink=\"http://www.w3.org/1999/xlink\">\n<g id=\"graph0\" class=\"graph\" transform=\"scale(1 1) rotate(0) translate(4 548)\">\n<title>Tree</title>\n<polygon fill=\"white\" stroke=\"transparent\" points=\"-4,4 -4,-548 340,-548 340,4 -4,4\"/>\n<!-- 0 -->\n<g id=\"node1\" class=\"node\">\n<title>0</title>\n<polygon fill=\"#ffffff\" stroke=\"black\" points=\"198,-544 65,-544 65,-461 198,-461 198,-544\"/>\n<text text-anchor=\"middle\" x=\"131.5\" y=\"-528.8\" font-family=\"Helvetica,sans-Serif\" font-size=\"14.00\">petal_length &lt;= 2.6</text>\n<text text-anchor=\"middle\" x=\"131.5\" y=\"-513.8\" font-family=\"Helvetica,sans-Serif\" font-size=\"14.00\">gini = 0.667</text>\n<text text-anchor=\"middle\" x=\"131.5\" y=\"-498.8\" font-family=\"Helvetica,sans-Serif\" font-size=\"14.00\">samples = 120</text>\n<text text-anchor=\"middle\" x=\"131.5\" y=\"-483.8\" font-family=\"Helvetica,sans-Serif\" font-size=\"14.00\">value = [40, 40, 40]</text>\n<text text-anchor=\"middle\" x=\"131.5\" y=\"-468.8\" font-family=\"Helvetica,sans-Serif\" font-size=\"14.00\">class = setosa</text>\n</g>\n<!-- 1 -->\n<g id=\"node2\" class=\"node\">\n<title>1</title>\n<polygon fill=\"#e58139\" stroke=\"black\" points=\"117,-417.5 0,-417.5 0,-349.5 117,-349.5 117,-417.5\"/>\n<text text-anchor=\"middle\" x=\"58.5\" y=\"-402.3\" font-family=\"Helvetica,sans-Serif\" font-size=\"14.00\">gini = 0.0</text>\n<text text-anchor=\"middle\" x=\"58.5\" y=\"-387.3\" font-family=\"Helvetica,sans-Serif\" font-size=\"14.00\">samples = 40</text>\n<text text-anchor=\"middle\" x=\"58.5\" y=\"-372.3\" font-family=\"Helvetica,sans-Serif\" font-size=\"14.00\">value = [40, 0, 0]</text>\n<text text-anchor=\"middle\" x=\"58.5\" y=\"-357.3\" font-family=\"Helvetica,sans-Serif\" font-size=\"14.00\">class = setosa</text>\n</g>\n<!-- 0&#45;&gt;1 -->\n<g id=\"edge1\" class=\"edge\">\n<title>0&#45;&gt;1</title>\n<path fill=\"none\" stroke=\"black\" d=\"M106.17,-460.91C99.22,-449.76 91.67,-437.66 84.67,-426.44\"/>\n<polygon fill=\"black\" stroke=\"black\" points=\"87.46,-424.3 79.19,-417.67 81.52,-428 87.46,-424.3\"/>\n<text text-anchor=\"middle\" x=\"73.55\" y=\"-438.32\" font-family=\"Helvetica,sans-Serif\" font-size=\"14.00\">True</text>\n</g>\n<!-- 2 -->\n<g id=\"node3\" class=\"node\">\n<title>2</title>\n<polygon fill=\"#ffffff\" stroke=\"black\" points=\"275.5,-425 135.5,-425 135.5,-342 275.5,-342 275.5,-425\"/>\n<text text-anchor=\"middle\" x=\"205.5\" y=\"-409.8\" font-family=\"Helvetica,sans-Serif\" font-size=\"14.00\">petal_length &lt;= 4.95</text>\n<text text-anchor=\"middle\" x=\"205.5\" y=\"-394.8\" font-family=\"Helvetica,sans-Serif\" font-size=\"14.00\">gini = 0.5</text>\n<text text-anchor=\"middle\" x=\"205.5\" y=\"-379.8\" font-family=\"Helvetica,sans-Serif\" font-size=\"14.00\">samples = 80</text>\n<text text-anchor=\"middle\" x=\"205.5\" y=\"-364.8\" font-family=\"Helvetica,sans-Serif\" font-size=\"14.00\">value = [0, 40, 40]</text>\n<text text-anchor=\"middle\" x=\"205.5\" y=\"-349.8\" font-family=\"Helvetica,sans-Serif\" font-size=\"14.00\">class = versicolor</text>\n</g>\n<!-- 0&#45;&gt;2 -->\n<g id=\"edge2\" class=\"edge\">\n<title>0&#45;&gt;2</title>\n<path fill=\"none\" stroke=\"black\" d=\"M157.17,-460.91C162.74,-452.1 168.69,-442.7 174.44,-433.61\"/>\n<polygon fill=\"black\" stroke=\"black\" points=\"177.48,-435.34 179.87,-425.02 171.57,-431.6 177.48,-435.34\"/>\n<text text-anchor=\"middle\" x=\"185.36\" y=\"-445.71\" font-family=\"Helvetica,sans-Serif\" font-size=\"14.00\">False</text>\n</g>\n<!-- 3 -->\n<g id=\"node4\" class=\"node\">\n<title>3</title>\n<polygon fill=\"#4de88e\" stroke=\"black\" points=\"201,-306 66,-306 66,-223 201,-223 201,-306\"/>\n<text text-anchor=\"middle\" x=\"133.5\" y=\"-290.8\" font-family=\"Helvetica,sans-Serif\" font-size=\"14.00\">petal_width &lt;= 1.65</text>\n<text text-anchor=\"middle\" x=\"133.5\" y=\"-275.8\" font-family=\"Helvetica,sans-Serif\" font-size=\"14.00\">gini = 0.165</text>\n<text text-anchor=\"middle\" x=\"133.5\" y=\"-260.8\" font-family=\"Helvetica,sans-Serif\" font-size=\"14.00\">samples = 44</text>\n<text text-anchor=\"middle\" x=\"133.5\" y=\"-245.8\" font-family=\"Helvetica,sans-Serif\" font-size=\"14.00\">value = [0, 40, 4]</text>\n<text text-anchor=\"middle\" x=\"133.5\" y=\"-230.8\" font-family=\"Helvetica,sans-Serif\" font-size=\"14.00\">class = versicolor</text>\n</g>\n<!-- 2&#45;&gt;3 -->\n<g id=\"edge3\" class=\"edge\">\n<title>2&#45;&gt;3</title>\n<path fill=\"none\" stroke=\"black\" d=\"M180.52,-341.91C175.1,-333.1 169.32,-323.7 163.72,-314.61\"/>\n<polygon fill=\"black\" stroke=\"black\" points=\"166.66,-312.7 158.44,-306.02 160.7,-316.37 166.66,-312.7\"/>\n</g>\n<!-- 8 -->\n<g id=\"node9\" class=\"node\">\n<title>8</title>\n<polygon fill=\"#8139e5\" stroke=\"black\" points=\"336,-298.5 219,-298.5 219,-230.5 336,-230.5 336,-298.5\"/>\n<text text-anchor=\"middle\" x=\"277.5\" y=\"-283.3\" font-family=\"Helvetica,sans-Serif\" font-size=\"14.00\">gini = 0.0</text>\n<text text-anchor=\"middle\" x=\"277.5\" y=\"-268.3\" font-family=\"Helvetica,sans-Serif\" font-size=\"14.00\">samples = 36</text>\n<text text-anchor=\"middle\" x=\"277.5\" y=\"-253.3\" font-family=\"Helvetica,sans-Serif\" font-size=\"14.00\">value = [0, 0, 36]</text>\n<text text-anchor=\"middle\" x=\"277.5\" y=\"-238.3\" font-family=\"Helvetica,sans-Serif\" font-size=\"14.00\">class = virginica</text>\n</g>\n<!-- 2&#45;&gt;8 -->\n<g id=\"edge8\" class=\"edge\">\n<title>2&#45;&gt;8</title>\n<path fill=\"none\" stroke=\"black\" d=\"M230.48,-341.91C237.34,-330.76 244.79,-318.66 251.69,-307.44\"/>\n<polygon fill=\"black\" stroke=\"black\" points=\"254.83,-309.02 257.09,-298.67 248.87,-305.35 254.83,-309.02\"/>\n</g>\n<!-- 4 -->\n<g id=\"node5\" class=\"node\">\n<title>4</title>\n<polygon fill=\"#39e581\" stroke=\"black\" points=\"122,-179.5 1,-179.5 1,-111.5 122,-111.5 122,-179.5\"/>\n<text text-anchor=\"middle\" x=\"61.5\" y=\"-164.3\" font-family=\"Helvetica,sans-Serif\" font-size=\"14.00\">gini = 0.0</text>\n<text text-anchor=\"middle\" x=\"61.5\" y=\"-149.3\" font-family=\"Helvetica,sans-Serif\" font-size=\"14.00\">samples = 39</text>\n<text text-anchor=\"middle\" x=\"61.5\" y=\"-134.3\" font-family=\"Helvetica,sans-Serif\" font-size=\"14.00\">value = [0, 39, 0]</text>\n<text text-anchor=\"middle\" x=\"61.5\" y=\"-119.3\" font-family=\"Helvetica,sans-Serif\" font-size=\"14.00\">class = versicolor</text>\n</g>\n<!-- 3&#45;&gt;4 -->\n<g id=\"edge4\" class=\"edge\">\n<title>3&#45;&gt;4</title>\n<path fill=\"none\" stroke=\"black\" d=\"M108.52,-222.91C101.66,-211.76 94.21,-199.66 87.31,-188.44\"/>\n<polygon fill=\"black\" stroke=\"black\" points=\"90.13,-186.35 81.91,-179.67 84.17,-190.02 90.13,-186.35\"/>\n</g>\n<!-- 5 -->\n<g id=\"node6\" class=\"node\">\n<title>5</title>\n<polygon fill=\"#a06aec\" stroke=\"black\" points=\"271,-187 140,-187 140,-104 271,-104 271,-187\"/>\n<text text-anchor=\"middle\" x=\"205.5\" y=\"-171.8\" font-family=\"Helvetica,sans-Serif\" font-size=\"14.00\">sepal_width &lt;= 3.1</text>\n<text text-anchor=\"middle\" x=\"205.5\" y=\"-156.8\" font-family=\"Helvetica,sans-Serif\" font-size=\"14.00\">gini = 0.32</text>\n<text text-anchor=\"middle\" x=\"205.5\" y=\"-141.8\" font-family=\"Helvetica,sans-Serif\" font-size=\"14.00\">samples = 5</text>\n<text text-anchor=\"middle\" x=\"205.5\" y=\"-126.8\" font-family=\"Helvetica,sans-Serif\" font-size=\"14.00\">value = [0, 1, 4]</text>\n<text text-anchor=\"middle\" x=\"205.5\" y=\"-111.8\" font-family=\"Helvetica,sans-Serif\" font-size=\"14.00\">class = virginica</text>\n</g>\n<!-- 3&#45;&gt;5 -->\n<g id=\"edge5\" class=\"edge\">\n<title>3&#45;&gt;5</title>\n<path fill=\"none\" stroke=\"black\" d=\"M158.48,-222.91C163.9,-214.1 169.68,-204.7 175.28,-195.61\"/>\n<polygon fill=\"black\" stroke=\"black\" points=\"178.3,-197.37 180.56,-187.02 172.34,-193.7 178.3,-197.37\"/>\n</g>\n<!-- 6 -->\n<g id=\"node7\" class=\"node\">\n<title>6</title>\n<polygon fill=\"#8139e5\" stroke=\"black\" points=\"194,-68 81,-68 81,0 194,0 194,-68\"/>\n<text text-anchor=\"middle\" x=\"137.5\" y=\"-52.8\" font-family=\"Helvetica,sans-Serif\" font-size=\"14.00\">gini = 0.0</text>\n<text text-anchor=\"middle\" x=\"137.5\" y=\"-37.8\" font-family=\"Helvetica,sans-Serif\" font-size=\"14.00\">samples = 4</text>\n<text text-anchor=\"middle\" x=\"137.5\" y=\"-22.8\" font-family=\"Helvetica,sans-Serif\" font-size=\"14.00\">value = [0, 0, 4]</text>\n<text text-anchor=\"middle\" x=\"137.5\" y=\"-7.8\" font-family=\"Helvetica,sans-Serif\" font-size=\"14.00\">class = virginica</text>\n</g>\n<!-- 5&#45;&gt;6 -->\n<g id=\"edge6\" class=\"edge\">\n<title>5&#45;&gt;6</title>\n<path fill=\"none\" stroke=\"black\" d=\"M180.18,-103.73C174.74,-94.97 168.99,-85.7 163.52,-76.91\"/>\n<polygon fill=\"black\" stroke=\"black\" points=\"166.43,-74.95 158.18,-68.3 160.48,-78.64 166.43,-74.95\"/>\n</g>\n<!-- 7 -->\n<g id=\"node8\" class=\"node\">\n<title>7</title>\n<polygon fill=\"#39e581\" stroke=\"black\" points=\"333,-68 212,-68 212,0 333,0 333,-68\"/>\n<text text-anchor=\"middle\" x=\"272.5\" y=\"-52.8\" font-family=\"Helvetica,sans-Serif\" font-size=\"14.00\">gini = 0.0</text>\n<text text-anchor=\"middle\" x=\"272.5\" y=\"-37.8\" font-family=\"Helvetica,sans-Serif\" font-size=\"14.00\">samples = 1</text>\n<text text-anchor=\"middle\" x=\"272.5\" y=\"-22.8\" font-family=\"Helvetica,sans-Serif\" font-size=\"14.00\">value = [0, 1, 0]</text>\n<text text-anchor=\"middle\" x=\"272.5\" y=\"-7.8\" font-family=\"Helvetica,sans-Serif\" font-size=\"14.00\">class = versicolor</text>\n</g>\n<!-- 5&#45;&gt;7 -->\n<g id=\"edge7\" class=\"edge\">\n<title>5&#45;&gt;7</title>\n<path fill=\"none\" stroke=\"black\" d=\"M230.45,-103.73C235.81,-94.97 241.48,-85.7 246.86,-76.91\"/>\n<polygon fill=\"black\" stroke=\"black\" points=\"249.89,-78.66 252.12,-68.3 243.92,-75 249.89,-78.66\"/>\n</g>\n</g>\n</svg>\n",
      "text/plain": "<graphviz.sources.Source at 0x13f9b754040>"
     },
     "execution_count": 33,
     "metadata": {},
     "output_type": "execute_result"
    }
   ],
   "source": [
    "Source.from_file('iris_tree.dot')"
   ],
   "metadata": {
    "collapsed": false,
    "ExecuteTime": {
     "end_time": "2024-03-07T01:27:00.621727500Z",
     "start_time": "2024-03-07T01:27:00.493005400Z"
    }
   },
   "id": "4ed8bb1e3d74cba1",
   "execution_count": 33
  },
  {
   "cell_type": "markdown",
   "source": [
    "[5] 문제 해결 및 성능 향상 즉, 튜닝\n",
    "- 원인 예상\n",
    "    * 데이터셋 부족\n",
    "    * DT의 여러가지 하이퍼파라미터 기본값으로만 사용 => 다양한 값 조절\n",
    "- 해결 방법\n",
    "    * 2개의 원인을 한꺼번에 해결하기 위해서 GridSearchCV"
   ],
   "metadata": {
    "collapsed": false
   },
   "id": "a5b148a5eee3c66b"
  },
  {
   "cell_type": "code",
   "outputs": [],
   "source": [
    "# 모듈 로딩\n",
    "from sklearn.model_selection import GridSearchCV, RandomizedSearchCV"
   ],
   "metadata": {
    "collapsed": false,
    "ExecuteTime": {
     "end_time": "2024-03-07T01:55:02.399987600Z",
     "start_time": "2024-03-07T01:55:02.382863Z"
    }
   },
   "id": "fc5bd03693d48ced",
   "execution_count": 34
  },
  {
   "cell_type": "code",
   "outputs": [],
   "source": [
    "# 모델 조합 조건\n",
    "# cv => 기본 5, ...\n",
    "# DT의 하이퍼파라미터 => max_depth, ..\n",
    "dt_model = DecisionTreeClassifier()\n",
    "n_cv = 5\n",
    "pram = {\n",
    "    'criterion': ['gini', 'entropy', 'log_loss'],\n",
    "    'max_depth': [5, 10, 15],\n",
    "    'min_samples_split': [2,4,6]\n",
    "}\n",
    "\n",
    "# 하이퍼파라미터 조합된 모델 생성 후 교차검증 데이터셋으로 학습\n",
    "# 진행해주는 인스턴스\n",
    "gs = GridSearchCV(dt_model, param_grid=pram, cv=n_cv)"
   ],
   "metadata": {
    "collapsed": false,
    "ExecuteTime": {
     "end_time": "2024-03-07T02:00:40.633938800Z",
     "start_time": "2024-03-07T02:00:40.614523300Z"
    }
   },
   "id": "584e3800a33e090d",
   "execution_count": 35
  },
  {
   "cell_type": "code",
   "outputs": [],
   "source": [
    "# 조합된 모델들의 학습 진행\n",
    "result = gs.fit(X_train, y_train)"
   ],
   "metadata": {
    "collapsed": false,
    "ExecuteTime": {
     "end_time": "2024-03-07T02:01:22.625392Z",
     "start_time": "2024-03-07T02:01:22.282644Z"
    }
   },
   "id": "61903e7c398645c4",
   "execution_count": 36
  },
  {
   "cell_type": "code",
   "outputs": [
    {
     "data": {
      "text/plain": "GridSearchCV(cv=5, estimator=DecisionTreeClassifier(),\n             param_grid={'criterion': ['gini', 'entropy', 'log_loss'],\n                         'max_depth': [5, 10, 15],\n                         'min_samples_split': [2, 4, 6]})",
      "text/html": "<style>#sk-container-id-3 {color: black;}#sk-container-id-3 pre{padding: 0;}#sk-container-id-3 div.sk-toggleable {background-color: white;}#sk-container-id-3 label.sk-toggleable__label {cursor: pointer;display: block;width: 100%;margin-bottom: 0;padding: 0.3em;box-sizing: border-box;text-align: center;}#sk-container-id-3 label.sk-toggleable__label-arrow:before {content: \"▸\";float: left;margin-right: 0.25em;color: #696969;}#sk-container-id-3 label.sk-toggleable__label-arrow:hover:before {color: black;}#sk-container-id-3 div.sk-estimator:hover label.sk-toggleable__label-arrow:before {color: black;}#sk-container-id-3 div.sk-toggleable__content {max-height: 0;max-width: 0;overflow: hidden;text-align: left;background-color: #f0f8ff;}#sk-container-id-3 div.sk-toggleable__content pre {margin: 0.2em;color: black;border-radius: 0.25em;background-color: #f0f8ff;}#sk-container-id-3 input.sk-toggleable__control:checked~div.sk-toggleable__content {max-height: 200px;max-width: 100%;overflow: auto;}#sk-container-id-3 input.sk-toggleable__control:checked~label.sk-toggleable__label-arrow:before {content: \"▾\";}#sk-container-id-3 div.sk-estimator input.sk-toggleable__control:checked~label.sk-toggleable__label {background-color: #d4ebff;}#sk-container-id-3 div.sk-label input.sk-toggleable__control:checked~label.sk-toggleable__label {background-color: #d4ebff;}#sk-container-id-3 input.sk-hidden--visually {border: 0;clip: rect(1px 1px 1px 1px);clip: rect(1px, 1px, 1px, 1px);height: 1px;margin: -1px;overflow: hidden;padding: 0;position: absolute;width: 1px;}#sk-container-id-3 div.sk-estimator {font-family: monospace;background-color: #f0f8ff;border: 1px dotted black;border-radius: 0.25em;box-sizing: border-box;margin-bottom: 0.5em;}#sk-container-id-3 div.sk-estimator:hover {background-color: #d4ebff;}#sk-container-id-3 div.sk-parallel-item::after {content: \"\";width: 100%;border-bottom: 1px solid gray;flex-grow: 1;}#sk-container-id-3 div.sk-label:hover label.sk-toggleable__label {background-color: #d4ebff;}#sk-container-id-3 div.sk-serial::before {content: \"\";position: absolute;border-left: 1px solid gray;box-sizing: border-box;top: 0;bottom: 0;left: 50%;z-index: 0;}#sk-container-id-3 div.sk-serial {display: flex;flex-direction: column;align-items: center;background-color: white;padding-right: 0.2em;padding-left: 0.2em;position: relative;}#sk-container-id-3 div.sk-item {position: relative;z-index: 1;}#sk-container-id-3 div.sk-parallel {display: flex;align-items: stretch;justify-content: center;background-color: white;position: relative;}#sk-container-id-3 div.sk-item::before, #sk-container-id-3 div.sk-parallel-item::before {content: \"\";position: absolute;border-left: 1px solid gray;box-sizing: border-box;top: 0;bottom: 0;left: 50%;z-index: -1;}#sk-container-id-3 div.sk-parallel-item {display: flex;flex-direction: column;z-index: 1;position: relative;background-color: white;}#sk-container-id-3 div.sk-parallel-item:first-child::after {align-self: flex-end;width: 50%;}#sk-container-id-3 div.sk-parallel-item:last-child::after {align-self: flex-start;width: 50%;}#sk-container-id-3 div.sk-parallel-item:only-child::after {width: 0;}#sk-container-id-3 div.sk-dashed-wrapped {border: 1px dashed gray;margin: 0 0.4em 0.5em 0.4em;box-sizing: border-box;padding-bottom: 0.4em;background-color: white;}#sk-container-id-3 div.sk-label label {font-family: monospace;font-weight: bold;display: inline-block;line-height: 1.2em;}#sk-container-id-3 div.sk-label-container {text-align: center;}#sk-container-id-3 div.sk-container {/* jupyter's `normalize.less` sets `[hidden] { display: none; }` but bootstrap.min.css set `[hidden] { display: none !important; }` so we also need the `!important` here to be able to override the default hidden behavior on the sphinx rendered scikit-learn.org. See: https://github.com/scikit-learn/scikit-learn/issues/21755 */display: inline-block !important;position: relative;}#sk-container-id-3 div.sk-text-repr-fallback {display: none;}</style><div id=\"sk-container-id-3\" class=\"sk-top-container\"><div class=\"sk-text-repr-fallback\"><pre>GridSearchCV(cv=5, estimator=DecisionTreeClassifier(),\n             param_grid={&#x27;criterion&#x27;: [&#x27;gini&#x27;, &#x27;entropy&#x27;, &#x27;log_loss&#x27;],\n                         &#x27;max_depth&#x27;: [5, 10, 15],\n                         &#x27;min_samples_split&#x27;: [2, 4, 6]})</pre><b>In a Jupyter environment, please rerun this cell to show the HTML representation or trust the notebook. <br />On GitHub, the HTML representation is unable to render, please try loading this page with nbviewer.org.</b></div><div class=\"sk-container\" hidden><div class=\"sk-item sk-dashed-wrapped\"><div class=\"sk-label-container\"><div class=\"sk-label sk-toggleable\"><input class=\"sk-toggleable__control sk-hidden--visually\" id=\"sk-estimator-id-3\" type=\"checkbox\" ><label for=\"sk-estimator-id-3\" class=\"sk-toggleable__label sk-toggleable__label-arrow\">GridSearchCV</label><div class=\"sk-toggleable__content\"><pre>GridSearchCV(cv=5, estimator=DecisionTreeClassifier(),\n             param_grid={&#x27;criterion&#x27;: [&#x27;gini&#x27;, &#x27;entropy&#x27;, &#x27;log_loss&#x27;],\n                         &#x27;max_depth&#x27;: [5, 10, 15],\n                         &#x27;min_samples_split&#x27;: [2, 4, 6]})</pre></div></div></div><div class=\"sk-parallel\"><div class=\"sk-parallel-item\"><div class=\"sk-item\"><div class=\"sk-label-container\"><div class=\"sk-label sk-toggleable\"><input class=\"sk-toggleable__control sk-hidden--visually\" id=\"sk-estimator-id-4\" type=\"checkbox\" ><label for=\"sk-estimator-id-4\" class=\"sk-toggleable__label sk-toggleable__label-arrow\">estimator: DecisionTreeClassifier</label><div class=\"sk-toggleable__content\"><pre>DecisionTreeClassifier()</pre></div></div></div><div class=\"sk-serial\"><div class=\"sk-item\"><div class=\"sk-estimator sk-toggleable\"><input class=\"sk-toggleable__control sk-hidden--visually\" id=\"sk-estimator-id-5\" type=\"checkbox\" ><label for=\"sk-estimator-id-5\" class=\"sk-toggleable__label sk-toggleable__label-arrow\">DecisionTreeClassifier</label><div class=\"sk-toggleable__content\"><pre>DecisionTreeClassifier()</pre></div></div></div></div></div></div></div></div></div></div>"
     },
     "execution_count": 37,
     "metadata": {},
     "output_type": "execute_result"
    }
   ],
   "source": [
    "# 결과 확인\n",
    "result"
   ],
   "metadata": {
    "collapsed": false,
    "ExecuteTime": {
     "end_time": "2024-03-07T02:01:27.702422800Z",
     "start_time": "2024-03-07T02:01:27.680956900Z"
    }
   },
   "id": "d7bf435112c4fd21",
   "execution_count": 37
  },
  {
   "cell_type": "code",
   "outputs": [
    {
     "data": {
      "text/plain": "    mean_fit_time  std_fit_time  mean_score_time  std_score_time  \\\n0        0.001328      0.000394         0.001045        0.000056   \n1        0.001717      0.000536         0.000871        0.000438   \n2        0.001250      0.000503         0.001128        0.000030   \n3        0.001446      0.000549         0.001106        0.000027   \n4        0.001427      0.000527         0.000715        0.000493   \n5        0.001095      0.000032         0.000446        0.000524   \n6        0.001114      0.000022         0.000441        0.000540   \n7        0.001292      0.000407         0.001090        0.000063   \n8        0.001282      0.000436         0.000684        0.000530   \n9        0.001098      0.000028         0.001129        0.000050   \n10       0.000882      0.000441         0.000885        0.000443   \n11       0.001321      0.000432         0.000493        0.000531   \n12       0.001089      0.000099         0.000901        0.000457   \n13       0.001361      0.000319         0.000279        0.000371   \n14       0.001101      0.000070         0.000229        0.000458   \n15       0.001165      0.000032         0.000852        0.000429   \n16       0.001116      0.000029         0.000660        0.000539   \n17       0.001094      0.000020         0.000680        0.000556   \n18       0.001330      0.000442         0.000903        0.000452   \n19       0.001726      0.000473         0.000876        0.000439   \n20       0.001047      0.000051         0.001051        0.000045   \n21       0.001078      0.000043         0.000433        0.000531   \n22       0.001081      0.000042         0.000704        0.000576   \n23       0.001134      0.000039         0.000685        0.000562   \n24       0.000892      0.000447         0.000876        0.000438   \n25       0.001123      0.000085         0.001141        0.000044   \n26       0.000988      0.000394         0.000673        0.000554   \n\n   param_criterion param_max_depth param_min_samples_split  \\\n0             gini               5                       2   \n1             gini               5                       4   \n2             gini               5                       6   \n3             gini              10                       2   \n4             gini              10                       4   \n5             gini              10                       6   \n6             gini              15                       2   \n7             gini              15                       4   \n8             gini              15                       6   \n9          entropy               5                       2   \n10         entropy               5                       4   \n11         entropy               5                       6   \n12         entropy              10                       2   \n13         entropy              10                       4   \n14         entropy              10                       6   \n15         entropy              15                       2   \n16         entropy              15                       4   \n17         entropy              15                       6   \n18        log_loss               5                       2   \n19        log_loss               5                       4   \n20        log_loss               5                       6   \n21        log_loss              10                       2   \n22        log_loss              10                       4   \n23        log_loss              10                       6   \n24        log_loss              15                       2   \n25        log_loss              15                       4   \n26        log_loss              15                       6   \n\n                                               params  split0_test_score  \\\n0   {'criterion': 'gini', 'max_depth': 5, 'min_sam...           0.958333   \n1   {'criterion': 'gini', 'max_depth': 5, 'min_sam...           0.958333   \n2   {'criterion': 'gini', 'max_depth': 5, 'min_sam...           0.958333   \n3   {'criterion': 'gini', 'max_depth': 10, 'min_sa...           0.958333   \n4   {'criterion': 'gini', 'max_depth': 10, 'min_sa...           0.958333   \n5   {'criterion': 'gini', 'max_depth': 10, 'min_sa...           0.958333   \n6   {'criterion': 'gini', 'max_depth': 15, 'min_sa...           0.958333   \n7   {'criterion': 'gini', 'max_depth': 15, 'min_sa...           0.958333   \n8   {'criterion': 'gini', 'max_depth': 15, 'min_sa...           0.958333   \n9   {'criterion': 'entropy', 'max_depth': 5, 'min_...           0.958333   \n10  {'criterion': 'entropy', 'max_depth': 5, 'min_...           0.958333   \n11  {'criterion': 'entropy', 'max_depth': 5, 'min_...           0.958333   \n12  {'criterion': 'entropy', 'max_depth': 10, 'min...           0.958333   \n13  {'criterion': 'entropy', 'max_depth': 10, 'min...           0.958333   \n14  {'criterion': 'entropy', 'max_depth': 10, 'min...           0.958333   \n15  {'criterion': 'entropy', 'max_depth': 15, 'min...           0.958333   \n16  {'criterion': 'entropy', 'max_depth': 15, 'min...           0.958333   \n17  {'criterion': 'entropy', 'max_depth': 15, 'min...           0.958333   \n18  {'criterion': 'log_loss', 'max_depth': 5, 'min...           0.958333   \n19  {'criterion': 'log_loss', 'max_depth': 5, 'min...           0.958333   \n20  {'criterion': 'log_loss', 'max_depth': 5, 'min...           0.958333   \n21  {'criterion': 'log_loss', 'max_depth': 10, 'mi...           0.958333   \n22  {'criterion': 'log_loss', 'max_depth': 10, 'mi...           0.958333   \n23  {'criterion': 'log_loss', 'max_depth': 10, 'mi...           0.958333   \n24  {'criterion': 'log_loss', 'max_depth': 15, 'mi...           0.958333   \n25  {'criterion': 'log_loss', 'max_depth': 15, 'mi...           0.958333   \n26  {'criterion': 'log_loss', 'max_depth': 15, 'mi...           0.958333   \n\n    split1_test_score  split2_test_score  split3_test_score  \\\n0            0.833333           0.916667                1.0   \n1            0.833333           0.916667                1.0   \n2            0.833333           0.916667                1.0   \n3            0.833333           0.916667                1.0   \n4            0.833333           0.916667                1.0   \n5            0.833333           0.916667                1.0   \n6            0.833333           0.916667                1.0   \n7            0.833333           0.916667                1.0   \n8            0.833333           0.916667                1.0   \n9            0.875000           0.916667                1.0   \n10           0.875000           0.916667                1.0   \n11           0.875000           0.916667                1.0   \n12           0.875000           0.916667                1.0   \n13           0.875000           0.916667                1.0   \n14           0.875000           0.916667                1.0   \n15           0.875000           0.916667                1.0   \n16           0.875000           0.916667                1.0   \n17           0.875000           0.916667                1.0   \n18           0.875000           0.916667                1.0   \n19           0.875000           0.916667                1.0   \n20           0.875000           0.916667                1.0   \n21           0.875000           0.916667                1.0   \n22           0.875000           0.916667                1.0   \n23           0.875000           0.916667                1.0   \n24           0.875000           0.916667                1.0   \n25           0.875000           0.916667                1.0   \n26           0.875000           0.916667                1.0   \n\n    split4_test_score  mean_test_score  std_test_score  rank_test_score  \n0                 1.0         0.941667        0.062361               19  \n1                 1.0         0.941667        0.062361               19  \n2                 1.0         0.941667        0.062361               19  \n3                 1.0         0.941667        0.062361               19  \n4                 1.0         0.941667        0.062361               19  \n5                 1.0         0.941667        0.062361               19  \n6                 1.0         0.941667        0.062361               19  \n7                 1.0         0.941667        0.062361               19  \n8                 1.0         0.941667        0.062361               19  \n9                 1.0         0.950000        0.048591                1  \n10                1.0         0.950000        0.048591                1  \n11                1.0         0.950000        0.048591                1  \n12                1.0         0.950000        0.048591                1  \n13                1.0         0.950000        0.048591                1  \n14                1.0         0.950000        0.048591                1  \n15                1.0         0.950000        0.048591                1  \n16                1.0         0.950000        0.048591                1  \n17                1.0         0.950000        0.048591                1  \n18                1.0         0.950000        0.048591                1  \n19                1.0         0.950000        0.048591                1  \n20                1.0         0.950000        0.048591                1  \n21                1.0         0.950000        0.048591                1  \n22                1.0         0.950000        0.048591                1  \n23                1.0         0.950000        0.048591                1  \n24                1.0         0.950000        0.048591                1  \n25                1.0         0.950000        0.048591                1  \n26                1.0         0.950000        0.048591                1  ",
      "text/html": "<div>\n<style scoped>\n    .dataframe tbody tr th:only-of-type {\n        vertical-align: middle;\n    }\n\n    .dataframe tbody tr th {\n        vertical-align: top;\n    }\n\n    .dataframe thead th {\n        text-align: right;\n    }\n</style>\n<table border=\"1\" class=\"dataframe\">\n  <thead>\n    <tr style=\"text-align: right;\">\n      <th></th>\n      <th>mean_fit_time</th>\n      <th>std_fit_time</th>\n      <th>mean_score_time</th>\n      <th>std_score_time</th>\n      <th>param_criterion</th>\n      <th>param_max_depth</th>\n      <th>param_min_samples_split</th>\n      <th>params</th>\n      <th>split0_test_score</th>\n      <th>split1_test_score</th>\n      <th>split2_test_score</th>\n      <th>split3_test_score</th>\n      <th>split4_test_score</th>\n      <th>mean_test_score</th>\n      <th>std_test_score</th>\n      <th>rank_test_score</th>\n    </tr>\n  </thead>\n  <tbody>\n    <tr>\n      <th>0</th>\n      <td>0.001328</td>\n      <td>0.000394</td>\n      <td>0.001045</td>\n      <td>0.000056</td>\n      <td>gini</td>\n      <td>5</td>\n      <td>2</td>\n      <td>{'criterion': 'gini', 'max_depth': 5, 'min_sam...</td>\n      <td>0.958333</td>\n      <td>0.833333</td>\n      <td>0.916667</td>\n      <td>1.0</td>\n      <td>1.0</td>\n      <td>0.941667</td>\n      <td>0.062361</td>\n      <td>19</td>\n    </tr>\n    <tr>\n      <th>1</th>\n      <td>0.001717</td>\n      <td>0.000536</td>\n      <td>0.000871</td>\n      <td>0.000438</td>\n      <td>gini</td>\n      <td>5</td>\n      <td>4</td>\n      <td>{'criterion': 'gini', 'max_depth': 5, 'min_sam...</td>\n      <td>0.958333</td>\n      <td>0.833333</td>\n      <td>0.916667</td>\n      <td>1.0</td>\n      <td>1.0</td>\n      <td>0.941667</td>\n      <td>0.062361</td>\n      <td>19</td>\n    </tr>\n    <tr>\n      <th>2</th>\n      <td>0.001250</td>\n      <td>0.000503</td>\n      <td>0.001128</td>\n      <td>0.000030</td>\n      <td>gini</td>\n      <td>5</td>\n      <td>6</td>\n      <td>{'criterion': 'gini', 'max_depth': 5, 'min_sam...</td>\n      <td>0.958333</td>\n      <td>0.833333</td>\n      <td>0.916667</td>\n      <td>1.0</td>\n      <td>1.0</td>\n      <td>0.941667</td>\n      <td>0.062361</td>\n      <td>19</td>\n    </tr>\n    <tr>\n      <th>3</th>\n      <td>0.001446</td>\n      <td>0.000549</td>\n      <td>0.001106</td>\n      <td>0.000027</td>\n      <td>gini</td>\n      <td>10</td>\n      <td>2</td>\n      <td>{'criterion': 'gini', 'max_depth': 10, 'min_sa...</td>\n      <td>0.958333</td>\n      <td>0.833333</td>\n      <td>0.916667</td>\n      <td>1.0</td>\n      <td>1.0</td>\n      <td>0.941667</td>\n      <td>0.062361</td>\n      <td>19</td>\n    </tr>\n    <tr>\n      <th>4</th>\n      <td>0.001427</td>\n      <td>0.000527</td>\n      <td>0.000715</td>\n      <td>0.000493</td>\n      <td>gini</td>\n      <td>10</td>\n      <td>4</td>\n      <td>{'criterion': 'gini', 'max_depth': 10, 'min_sa...</td>\n      <td>0.958333</td>\n      <td>0.833333</td>\n      <td>0.916667</td>\n      <td>1.0</td>\n      <td>1.0</td>\n      <td>0.941667</td>\n      <td>0.062361</td>\n      <td>19</td>\n    </tr>\n    <tr>\n      <th>5</th>\n      <td>0.001095</td>\n      <td>0.000032</td>\n      <td>0.000446</td>\n      <td>0.000524</td>\n      <td>gini</td>\n      <td>10</td>\n      <td>6</td>\n      <td>{'criterion': 'gini', 'max_depth': 10, 'min_sa...</td>\n      <td>0.958333</td>\n      <td>0.833333</td>\n      <td>0.916667</td>\n      <td>1.0</td>\n      <td>1.0</td>\n      <td>0.941667</td>\n      <td>0.062361</td>\n      <td>19</td>\n    </tr>\n    <tr>\n      <th>6</th>\n      <td>0.001114</td>\n      <td>0.000022</td>\n      <td>0.000441</td>\n      <td>0.000540</td>\n      <td>gini</td>\n      <td>15</td>\n      <td>2</td>\n      <td>{'criterion': 'gini', 'max_depth': 15, 'min_sa...</td>\n      <td>0.958333</td>\n      <td>0.833333</td>\n      <td>0.916667</td>\n      <td>1.0</td>\n      <td>1.0</td>\n      <td>0.941667</td>\n      <td>0.062361</td>\n      <td>19</td>\n    </tr>\n    <tr>\n      <th>7</th>\n      <td>0.001292</td>\n      <td>0.000407</td>\n      <td>0.001090</td>\n      <td>0.000063</td>\n      <td>gini</td>\n      <td>15</td>\n      <td>4</td>\n      <td>{'criterion': 'gini', 'max_depth': 15, 'min_sa...</td>\n      <td>0.958333</td>\n      <td>0.833333</td>\n      <td>0.916667</td>\n      <td>1.0</td>\n      <td>1.0</td>\n      <td>0.941667</td>\n      <td>0.062361</td>\n      <td>19</td>\n    </tr>\n    <tr>\n      <th>8</th>\n      <td>0.001282</td>\n      <td>0.000436</td>\n      <td>0.000684</td>\n      <td>0.000530</td>\n      <td>gini</td>\n      <td>15</td>\n      <td>6</td>\n      <td>{'criterion': 'gini', 'max_depth': 15, 'min_sa...</td>\n      <td>0.958333</td>\n      <td>0.833333</td>\n      <td>0.916667</td>\n      <td>1.0</td>\n      <td>1.0</td>\n      <td>0.941667</td>\n      <td>0.062361</td>\n      <td>19</td>\n    </tr>\n    <tr>\n      <th>9</th>\n      <td>0.001098</td>\n      <td>0.000028</td>\n      <td>0.001129</td>\n      <td>0.000050</td>\n      <td>entropy</td>\n      <td>5</td>\n      <td>2</td>\n      <td>{'criterion': 'entropy', 'max_depth': 5, 'min_...</td>\n      <td>0.958333</td>\n      <td>0.875000</td>\n      <td>0.916667</td>\n      <td>1.0</td>\n      <td>1.0</td>\n      <td>0.950000</td>\n      <td>0.048591</td>\n      <td>1</td>\n    </tr>\n    <tr>\n      <th>10</th>\n      <td>0.000882</td>\n      <td>0.000441</td>\n      <td>0.000885</td>\n      <td>0.000443</td>\n      <td>entropy</td>\n      <td>5</td>\n      <td>4</td>\n      <td>{'criterion': 'entropy', 'max_depth': 5, 'min_...</td>\n      <td>0.958333</td>\n      <td>0.875000</td>\n      <td>0.916667</td>\n      <td>1.0</td>\n      <td>1.0</td>\n      <td>0.950000</td>\n      <td>0.048591</td>\n      <td>1</td>\n    </tr>\n    <tr>\n      <th>11</th>\n      <td>0.001321</td>\n      <td>0.000432</td>\n      <td>0.000493</td>\n      <td>0.000531</td>\n      <td>entropy</td>\n      <td>5</td>\n      <td>6</td>\n      <td>{'criterion': 'entropy', 'max_depth': 5, 'min_...</td>\n      <td>0.958333</td>\n      <td>0.875000</td>\n      <td>0.916667</td>\n      <td>1.0</td>\n      <td>1.0</td>\n      <td>0.950000</td>\n      <td>0.048591</td>\n      <td>1</td>\n    </tr>\n    <tr>\n      <th>12</th>\n      <td>0.001089</td>\n      <td>0.000099</td>\n      <td>0.000901</td>\n      <td>0.000457</td>\n      <td>entropy</td>\n      <td>10</td>\n      <td>2</td>\n      <td>{'criterion': 'entropy', 'max_depth': 10, 'min...</td>\n      <td>0.958333</td>\n      <td>0.875000</td>\n      <td>0.916667</td>\n      <td>1.0</td>\n      <td>1.0</td>\n      <td>0.950000</td>\n      <td>0.048591</td>\n      <td>1</td>\n    </tr>\n    <tr>\n      <th>13</th>\n      <td>0.001361</td>\n      <td>0.000319</td>\n      <td>0.000279</td>\n      <td>0.000371</td>\n      <td>entropy</td>\n      <td>10</td>\n      <td>4</td>\n      <td>{'criterion': 'entropy', 'max_depth': 10, 'min...</td>\n      <td>0.958333</td>\n      <td>0.875000</td>\n      <td>0.916667</td>\n      <td>1.0</td>\n      <td>1.0</td>\n      <td>0.950000</td>\n      <td>0.048591</td>\n      <td>1</td>\n    </tr>\n    <tr>\n      <th>14</th>\n      <td>0.001101</td>\n      <td>0.000070</td>\n      <td>0.000229</td>\n      <td>0.000458</td>\n      <td>entropy</td>\n      <td>10</td>\n      <td>6</td>\n      <td>{'criterion': 'entropy', 'max_depth': 10, 'min...</td>\n      <td>0.958333</td>\n      <td>0.875000</td>\n      <td>0.916667</td>\n      <td>1.0</td>\n      <td>1.0</td>\n      <td>0.950000</td>\n      <td>0.048591</td>\n      <td>1</td>\n    </tr>\n    <tr>\n      <th>15</th>\n      <td>0.001165</td>\n      <td>0.000032</td>\n      <td>0.000852</td>\n      <td>0.000429</td>\n      <td>entropy</td>\n      <td>15</td>\n      <td>2</td>\n      <td>{'criterion': 'entropy', 'max_depth': 15, 'min...</td>\n      <td>0.958333</td>\n      <td>0.875000</td>\n      <td>0.916667</td>\n      <td>1.0</td>\n      <td>1.0</td>\n      <td>0.950000</td>\n      <td>0.048591</td>\n      <td>1</td>\n    </tr>\n    <tr>\n      <th>16</th>\n      <td>0.001116</td>\n      <td>0.000029</td>\n      <td>0.000660</td>\n      <td>0.000539</td>\n      <td>entropy</td>\n      <td>15</td>\n      <td>4</td>\n      <td>{'criterion': 'entropy', 'max_depth': 15, 'min...</td>\n      <td>0.958333</td>\n      <td>0.875000</td>\n      <td>0.916667</td>\n      <td>1.0</td>\n      <td>1.0</td>\n      <td>0.950000</td>\n      <td>0.048591</td>\n      <td>1</td>\n    </tr>\n    <tr>\n      <th>17</th>\n      <td>0.001094</td>\n      <td>0.000020</td>\n      <td>0.000680</td>\n      <td>0.000556</td>\n      <td>entropy</td>\n      <td>15</td>\n      <td>6</td>\n      <td>{'criterion': 'entropy', 'max_depth': 15, 'min...</td>\n      <td>0.958333</td>\n      <td>0.875000</td>\n      <td>0.916667</td>\n      <td>1.0</td>\n      <td>1.0</td>\n      <td>0.950000</td>\n      <td>0.048591</td>\n      <td>1</td>\n    </tr>\n    <tr>\n      <th>18</th>\n      <td>0.001330</td>\n      <td>0.000442</td>\n      <td>0.000903</td>\n      <td>0.000452</td>\n      <td>log_loss</td>\n      <td>5</td>\n      <td>2</td>\n      <td>{'criterion': 'log_loss', 'max_depth': 5, 'min...</td>\n      <td>0.958333</td>\n      <td>0.875000</td>\n      <td>0.916667</td>\n      <td>1.0</td>\n      <td>1.0</td>\n      <td>0.950000</td>\n      <td>0.048591</td>\n      <td>1</td>\n    </tr>\n    <tr>\n      <th>19</th>\n      <td>0.001726</td>\n      <td>0.000473</td>\n      <td>0.000876</td>\n      <td>0.000439</td>\n      <td>log_loss</td>\n      <td>5</td>\n      <td>4</td>\n      <td>{'criterion': 'log_loss', 'max_depth': 5, 'min...</td>\n      <td>0.958333</td>\n      <td>0.875000</td>\n      <td>0.916667</td>\n      <td>1.0</td>\n      <td>1.0</td>\n      <td>0.950000</td>\n      <td>0.048591</td>\n      <td>1</td>\n    </tr>\n    <tr>\n      <th>20</th>\n      <td>0.001047</td>\n      <td>0.000051</td>\n      <td>0.001051</td>\n      <td>0.000045</td>\n      <td>log_loss</td>\n      <td>5</td>\n      <td>6</td>\n      <td>{'criterion': 'log_loss', 'max_depth': 5, 'min...</td>\n      <td>0.958333</td>\n      <td>0.875000</td>\n      <td>0.916667</td>\n      <td>1.0</td>\n      <td>1.0</td>\n      <td>0.950000</td>\n      <td>0.048591</td>\n      <td>1</td>\n    </tr>\n    <tr>\n      <th>21</th>\n      <td>0.001078</td>\n      <td>0.000043</td>\n      <td>0.000433</td>\n      <td>0.000531</td>\n      <td>log_loss</td>\n      <td>10</td>\n      <td>2</td>\n      <td>{'criterion': 'log_loss', 'max_depth': 10, 'mi...</td>\n      <td>0.958333</td>\n      <td>0.875000</td>\n      <td>0.916667</td>\n      <td>1.0</td>\n      <td>1.0</td>\n      <td>0.950000</td>\n      <td>0.048591</td>\n      <td>1</td>\n    </tr>\n    <tr>\n      <th>22</th>\n      <td>0.001081</td>\n      <td>0.000042</td>\n      <td>0.000704</td>\n      <td>0.000576</td>\n      <td>log_loss</td>\n      <td>10</td>\n      <td>4</td>\n      <td>{'criterion': 'log_loss', 'max_depth': 10, 'mi...</td>\n      <td>0.958333</td>\n      <td>0.875000</td>\n      <td>0.916667</td>\n      <td>1.0</td>\n      <td>1.0</td>\n      <td>0.950000</td>\n      <td>0.048591</td>\n      <td>1</td>\n    </tr>\n    <tr>\n      <th>23</th>\n      <td>0.001134</td>\n      <td>0.000039</td>\n      <td>0.000685</td>\n      <td>0.000562</td>\n      <td>log_loss</td>\n      <td>10</td>\n      <td>6</td>\n      <td>{'criterion': 'log_loss', 'max_depth': 10, 'mi...</td>\n      <td>0.958333</td>\n      <td>0.875000</td>\n      <td>0.916667</td>\n      <td>1.0</td>\n      <td>1.0</td>\n      <td>0.950000</td>\n      <td>0.048591</td>\n      <td>1</td>\n    </tr>\n    <tr>\n      <th>24</th>\n      <td>0.000892</td>\n      <td>0.000447</td>\n      <td>0.000876</td>\n      <td>0.000438</td>\n      <td>log_loss</td>\n      <td>15</td>\n      <td>2</td>\n      <td>{'criterion': 'log_loss', 'max_depth': 15, 'mi...</td>\n      <td>0.958333</td>\n      <td>0.875000</td>\n      <td>0.916667</td>\n      <td>1.0</td>\n      <td>1.0</td>\n      <td>0.950000</td>\n      <td>0.048591</td>\n      <td>1</td>\n    </tr>\n    <tr>\n      <th>25</th>\n      <td>0.001123</td>\n      <td>0.000085</td>\n      <td>0.001141</td>\n      <td>0.000044</td>\n      <td>log_loss</td>\n      <td>15</td>\n      <td>4</td>\n      <td>{'criterion': 'log_loss', 'max_depth': 15, 'mi...</td>\n      <td>0.958333</td>\n      <td>0.875000</td>\n      <td>0.916667</td>\n      <td>1.0</td>\n      <td>1.0</td>\n      <td>0.950000</td>\n      <td>0.048591</td>\n      <td>1</td>\n    </tr>\n    <tr>\n      <th>26</th>\n      <td>0.000988</td>\n      <td>0.000394</td>\n      <td>0.000673</td>\n      <td>0.000554</td>\n      <td>log_loss</td>\n      <td>15</td>\n      <td>6</td>\n      <td>{'criterion': 'log_loss', 'max_depth': 15, 'mi...</td>\n      <td>0.958333</td>\n      <td>0.875000</td>\n      <td>0.916667</td>\n      <td>1.0</td>\n      <td>1.0</td>\n      <td>0.950000</td>\n      <td>0.048591</td>\n      <td>1</td>\n    </tr>\n  </tbody>\n</table>\n</div>"
     },
     "execution_count": 40,
     "metadata": {},
     "output_type": "execute_result"
    }
   ],
   "source": [
    "# 학습 후 저장된 모델 파라미터 확인\n",
    "# 교차학습 결과 => 조합된 모델의 갯수 만큼\n",
    "cv_resultDF = pd.DataFrame(gs.cv_results_)\n",
    "cv_resultDF"
   ],
   "metadata": {
    "collapsed": false,
    "ExecuteTime": {
     "end_time": "2024-03-07T02:06:56.377477800Z",
     "start_time": "2024-03-07T02:06:56.358539400Z"
    }
   },
   "id": "7729e42b2ab1df7b",
   "execution_count": 40
  },
  {
   "cell_type": "code",
   "outputs": [
    {
     "data": {
      "text/plain": "DecisionTreeClassifier(criterion='entropy', max_depth=5)",
      "text/html": "<style>#sk-container-id-5 {color: black;}#sk-container-id-5 pre{padding: 0;}#sk-container-id-5 div.sk-toggleable {background-color: white;}#sk-container-id-5 label.sk-toggleable__label {cursor: pointer;display: block;width: 100%;margin-bottom: 0;padding: 0.3em;box-sizing: border-box;text-align: center;}#sk-container-id-5 label.sk-toggleable__label-arrow:before {content: \"▸\";float: left;margin-right: 0.25em;color: #696969;}#sk-container-id-5 label.sk-toggleable__label-arrow:hover:before {color: black;}#sk-container-id-5 div.sk-estimator:hover label.sk-toggleable__label-arrow:before {color: black;}#sk-container-id-5 div.sk-toggleable__content {max-height: 0;max-width: 0;overflow: hidden;text-align: left;background-color: #f0f8ff;}#sk-container-id-5 div.sk-toggleable__content pre {margin: 0.2em;color: black;border-radius: 0.25em;background-color: #f0f8ff;}#sk-container-id-5 input.sk-toggleable__control:checked~div.sk-toggleable__content {max-height: 200px;max-width: 100%;overflow: auto;}#sk-container-id-5 input.sk-toggleable__control:checked~label.sk-toggleable__label-arrow:before {content: \"▾\";}#sk-container-id-5 div.sk-estimator input.sk-toggleable__control:checked~label.sk-toggleable__label {background-color: #d4ebff;}#sk-container-id-5 div.sk-label input.sk-toggleable__control:checked~label.sk-toggleable__label {background-color: #d4ebff;}#sk-container-id-5 input.sk-hidden--visually {border: 0;clip: rect(1px 1px 1px 1px);clip: rect(1px, 1px, 1px, 1px);height: 1px;margin: -1px;overflow: hidden;padding: 0;position: absolute;width: 1px;}#sk-container-id-5 div.sk-estimator {font-family: monospace;background-color: #f0f8ff;border: 1px dotted black;border-radius: 0.25em;box-sizing: border-box;margin-bottom: 0.5em;}#sk-container-id-5 div.sk-estimator:hover {background-color: #d4ebff;}#sk-container-id-5 div.sk-parallel-item::after {content: \"\";width: 100%;border-bottom: 1px solid gray;flex-grow: 1;}#sk-container-id-5 div.sk-label:hover label.sk-toggleable__label {background-color: #d4ebff;}#sk-container-id-5 div.sk-serial::before {content: \"\";position: absolute;border-left: 1px solid gray;box-sizing: border-box;top: 0;bottom: 0;left: 50%;z-index: 0;}#sk-container-id-5 div.sk-serial {display: flex;flex-direction: column;align-items: center;background-color: white;padding-right: 0.2em;padding-left: 0.2em;position: relative;}#sk-container-id-5 div.sk-item {position: relative;z-index: 1;}#sk-container-id-5 div.sk-parallel {display: flex;align-items: stretch;justify-content: center;background-color: white;position: relative;}#sk-container-id-5 div.sk-item::before, #sk-container-id-5 div.sk-parallel-item::before {content: \"\";position: absolute;border-left: 1px solid gray;box-sizing: border-box;top: 0;bottom: 0;left: 50%;z-index: -1;}#sk-container-id-5 div.sk-parallel-item {display: flex;flex-direction: column;z-index: 1;position: relative;background-color: white;}#sk-container-id-5 div.sk-parallel-item:first-child::after {align-self: flex-end;width: 50%;}#sk-container-id-5 div.sk-parallel-item:last-child::after {align-self: flex-start;width: 50%;}#sk-container-id-5 div.sk-parallel-item:only-child::after {width: 0;}#sk-container-id-5 div.sk-dashed-wrapped {border: 1px dashed gray;margin: 0 0.4em 0.5em 0.4em;box-sizing: border-box;padding-bottom: 0.4em;background-color: white;}#sk-container-id-5 div.sk-label label {font-family: monospace;font-weight: bold;display: inline-block;line-height: 1.2em;}#sk-container-id-5 div.sk-label-container {text-align: center;}#sk-container-id-5 div.sk-container {/* jupyter's `normalize.less` sets `[hidden] { display: none; }` but bootstrap.min.css set `[hidden] { display: none !important; }` so we also need the `!important` here to be able to override the default hidden behavior on the sphinx rendered scikit-learn.org. See: https://github.com/scikit-learn/scikit-learn/issues/21755 */display: inline-block !important;position: relative;}#sk-container-id-5 div.sk-text-repr-fallback {display: none;}</style><div id=\"sk-container-id-5\" class=\"sk-top-container\"><div class=\"sk-text-repr-fallback\"><pre>DecisionTreeClassifier(criterion=&#x27;entropy&#x27;, max_depth=5)</pre><b>In a Jupyter environment, please rerun this cell to show the HTML representation or trust the notebook. <br />On GitHub, the HTML representation is unable to render, please try loading this page with nbviewer.org.</b></div><div class=\"sk-container\" hidden><div class=\"sk-item\"><div class=\"sk-estimator sk-toggleable\"><input class=\"sk-toggleable__control sk-hidden--visually\" id=\"sk-estimator-id-7\" type=\"checkbox\" checked><label for=\"sk-estimator-id-7\" class=\"sk-toggleable__label sk-toggleable__label-arrow\">DecisionTreeClassifier</label><div class=\"sk-toggleable__content\"><pre>DecisionTreeClassifier(criterion=&#x27;entropy&#x27;, max_depth=5)</pre></div></div></div></div></div>"
     },
     "execution_count": 43,
     "metadata": {},
     "output_type": "execute_result"
    }
   ],
   "source": [
    "# 조합된 모델 중 최고의 성능을 내는 하이퍼파라미터 값\n",
    "my_best_model = gs.best_estimator_\n",
    "my_best_model"
   ],
   "metadata": {
    "collapsed": false,
    "ExecuteTime": {
     "end_time": "2024-03-07T02:09:06.570431800Z",
     "start_time": "2024-03-07T02:09:06.557992200Z"
    }
   },
   "id": "fa2b35abeaa9132e",
   "execution_count": 43
  },
  {
   "cell_type": "code",
   "outputs": [
    {
     "data": {
      "text/plain": "0.95"
     },
     "execution_count": 42,
     "metadata": {},
     "output_type": "execute_result"
    }
   ],
   "source": [
    "gs.best_score_"
   ],
   "metadata": {
    "collapsed": false,
    "ExecuteTime": {
     "end_time": "2024-03-07T02:08:51.742243700Z",
     "start_time": "2024-03-07T02:08:51.704913700Z"
    }
   },
   "id": "84a43b573941b4e2",
   "execution_count": 42
  },
  {
   "cell_type": "markdown",
   "source": [
    "[6] 학습 및 튜닝 후 모델 저장\n",
    "- 다른 파일에서 활용이 가능한 파일 형태로 저장\n",
    "- 웹/앱 원하는 곳에서 활용 가능\n",
    "- scikit-learn에서는 pickle 포맷으로 저장\n",
    "- joblib 모듈에 해당 기능 포함되어 있음"
   ],
   "metadata": {
    "collapsed": false
   },
   "id": "edf4793fca0b8ff5"
  },
  {
   "cell_type": "code",
   "outputs": [],
   "source": [
    "import joblib\n",
    "import os"
   ],
   "metadata": {
    "collapsed": false,
    "ExecuteTime": {
     "end_time": "2024-03-07T02:18:37.456671100Z",
     "start_time": "2024-03-07T02:18:37.448696400Z"
    }
   },
   "id": "b0074949db901bf9",
   "execution_count": 46
  },
  {
   "cell_type": "code",
   "outputs": [],
   "source": [
    "# 모델 저장\n",
    "model_dir='../model/'\n",
    "model_filename = model_dir + 'iris_dt.pkl'\n",
    "\n",
    "# 저장 폴더 존재여부 확인 후 저장\n",
    "if not os.path.exists(model_dir):\n",
    "    os.mkdir(model_dir)"
   ],
   "metadata": {
    "collapsed": false,
    "ExecuteTime": {
     "end_time": "2024-03-07T02:20:26.927694800Z",
     "start_time": "2024-03-07T02:20:26.911529900Z"
    }
   },
   "id": "43a6291389b1efc5",
   "execution_count": 49
  },
  {
   "cell_type": "code",
   "outputs": [
    {
     "data": {
      "text/plain": "['../model/iris_dt.pkl']"
     },
     "execution_count": 50,
     "metadata": {},
     "output_type": "execute_result"
    }
   ],
   "source": [
    "joblib.dump(my_best_model, model_filename)"
   ],
   "metadata": {
    "collapsed": false,
    "ExecuteTime": {
     "end_time": "2024-03-07T02:20:27.373931100Z",
     "start_time": "2024-03-07T02:20:27.361717700Z"
    }
   },
   "id": "c487f36ef3b5a9de",
   "execution_count": 50
  },
  {
   "cell_type": "code",
   "outputs": [
    {
     "data": {
      "text/plain": "array(['sepal_length', 'sepal_width', 'petal_length', 'petal_width'],\n      dtype=object)"
     },
     "execution_count": 54,
     "metadata": {},
     "output_type": "execute_result"
    }
   ],
   "source": [
    "my_best_model.feature_names_in_"
   ],
   "metadata": {
    "collapsed": false,
    "ExecuteTime": {
     "end_time": "2024-03-07T02:52:33.799232Z",
     "start_time": "2024-03-07T02:52:33.770185Z"
    }
   },
   "id": "476272fd69bb54e3",
   "execution_count": 54
  },
  {
   "cell_type": "code",
   "outputs": [],
   "source": [],
   "metadata": {
    "collapsed": false
   },
   "id": "ddb09e9a02497c96"
  }
 ],
 "metadata": {
  "kernelspec": {
   "display_name": "Python 3",
   "language": "python",
   "name": "python3"
  },
  "language_info": {
   "codemirror_mode": {
    "name": "ipython",
    "version": 2
   },
   "file_extension": ".py",
   "mimetype": "text/x-python",
   "name": "python",
   "nbconvert_exporter": "python",
   "pygments_lexer": "ipython2",
   "version": "2.7.6"
  }
 },
 "nbformat": 4,
 "nbformat_minor": 5
}
