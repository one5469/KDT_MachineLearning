{
 "cells": [
  {
   "cell_type": "markdown",
   "source": [
    "### 그레디언트 부스팅 계열의 앙상블 모델\n",
    "- 대표 모델 : XGBoost, LightGBM\n",
    "- 추가 설치 및 사용법 숙지 필요"
   ],
   "metadata": {
    "collapsed": false
   },
   "id": "57255a80d55cffd9"
  },
  {
   "cell_type": "markdown",
   "source": [
    "- 설치 여부 확인"
   ],
   "metadata": {
    "collapsed": false
   },
   "id": "a0af6a045793af3d"
  },
  {
   "cell_type": "code",
   "outputs": [
    {
     "name": "stdout",
     "output_type": "stream",
     "text": [
      "xgboost : 1.7.3\n",
      "lightgbm : 4.1.0\n"
     ]
    }
   ],
   "source": [
    "import pandas as pd\n",
    "import xgboost, lightgbm\n",
    "\n",
    "print(f'xgboost : {xgboost.__version__}')\n",
    "print(f'lightgbm : {lightgbm.__version__}')"
   ],
   "metadata": {
    "collapsed": false,
    "ExecuteTime": {
     "end_time": "2024-03-07T07:16:03.196583500Z",
     "start_time": "2024-03-07T07:16:03.180532300Z"
    }
   },
   "id": "a60cc92a7a604059",
   "execution_count": 41
  },
  {
   "cell_type": "markdown",
   "source": [
    "[1] 모듈 로딩 및 데이터 준비"
   ],
   "metadata": {
    "collapsed": false
   },
   "id": "6f34c79b75f58e53"
  },
  {
   "cell_type": "code",
   "outputs": [],
   "source": [
    "## 데이터 파일 변수 선언\n",
    "feature_name_file = '../data/human_activity/features.txt'\n",
    "label_file = '../data/human_activity/activity_labels.txt'\n",
    "\n",
    "x_train_file = '../data/human_activity/train/X_train.txt'\n",
    "y_train_file = '../data/human_activity/train/y_train.txt'\n",
    "\n",
    "x_test_file = '../data/human_activity/test/X_test.txt'\n",
    "y_test_file = '../data/human_activity/test/y_test.txt'"
   ],
   "metadata": {
    "collapsed": false,
    "ExecuteTime": {
     "end_time": "2024-03-07T07:16:03.232371100Z",
     "start_time": "2024-03-07T07:16:03.202912500Z"
    }
   },
   "id": "8e0a7fedf65306ea",
   "execution_count": 42
  },
  {
   "cell_type": "code",
   "outputs": [],
   "source": [
    "## 데이터 로딩\n",
    "import pandas as pd\n",
    "import numpy as np\n",
    "\n",
    "feature_nameDF = pd.read_csv(feature_name_file, header=None, names=['col_id', 'col_name'], sep=' ')"
   ],
   "metadata": {
    "collapsed": false,
    "ExecuteTime": {
     "end_time": "2024-03-07T07:16:03.253552100Z",
     "start_time": "2024-03-07T07:16:03.218548300Z"
    }
   },
   "id": "e7504ff6bbf4dd04",
   "execution_count": 43
  },
  {
   "cell_type": "code",
   "outputs": [
    {
     "name": "stdout",
     "output_type": "stream",
     "text": [
      "<class 'pandas.core.frame.DataFrame'>\n",
      "RangeIndex: 561 entries, 0 to 560\n",
      "Data columns (total 2 columns):\n",
      " #   Column    Non-Null Count  Dtype \n",
      "---  ------    --------------  ----- \n",
      " 0   col_id    561 non-null    int64 \n",
      " 1   col_name  561 non-null    object\n",
      "dtypes: int64(1), object(1)\n",
      "memory usage: 8.9+ KB\n"
     ]
    }
   ],
   "source": [
    "# 데이터 확인\n",
    "feature_nameDF.info()"
   ],
   "metadata": {
    "collapsed": false,
    "ExecuteTime": {
     "end_time": "2024-03-07T07:16:03.255684800Z",
     "start_time": "2024-03-07T07:16:03.235538400Z"
    }
   },
   "id": "8e3020fbfc462ac3",
   "execution_count": 44
  },
  {
   "cell_type": "code",
   "outputs": [
    {
     "data": {
      "text/plain": "     col_id                              col_name\n0         1                     tBodyAcc-mean()-X\n1         2                     tBodyAcc-mean()-Y\n2         3                     tBodyAcc-mean()-Z\n3         4                      tBodyAcc-std()-X\n4         5                      tBodyAcc-std()-Y\n..      ...                                   ...\n556     557      angle(tBodyGyroMean,gravityMean)\n557     558  angle(tBodyGyroJerkMean,gravityMean)\n558     559                  angle(X,gravityMean)\n559     560                  angle(Y,gravityMean)\n560     561                  angle(Z,gravityMean)\n\n[561 rows x 2 columns]",
      "text/html": "<div>\n<style scoped>\n    .dataframe tbody tr th:only-of-type {\n        vertical-align: middle;\n    }\n\n    .dataframe tbody tr th {\n        vertical-align: top;\n    }\n\n    .dataframe thead th {\n        text-align: right;\n    }\n</style>\n<table border=\"1\" class=\"dataframe\">\n  <thead>\n    <tr style=\"text-align: right;\">\n      <th></th>\n      <th>col_id</th>\n      <th>col_name</th>\n    </tr>\n  </thead>\n  <tbody>\n    <tr>\n      <th>0</th>\n      <td>1</td>\n      <td>tBodyAcc-mean()-X</td>\n    </tr>\n    <tr>\n      <th>1</th>\n      <td>2</td>\n      <td>tBodyAcc-mean()-Y</td>\n    </tr>\n    <tr>\n      <th>2</th>\n      <td>3</td>\n      <td>tBodyAcc-mean()-Z</td>\n    </tr>\n    <tr>\n      <th>3</th>\n      <td>4</td>\n      <td>tBodyAcc-std()-X</td>\n    </tr>\n    <tr>\n      <th>4</th>\n      <td>5</td>\n      <td>tBodyAcc-std()-Y</td>\n    </tr>\n    <tr>\n      <th>...</th>\n      <td>...</td>\n      <td>...</td>\n    </tr>\n    <tr>\n      <th>556</th>\n      <td>557</td>\n      <td>angle(tBodyGyroMean,gravityMean)</td>\n    </tr>\n    <tr>\n      <th>557</th>\n      <td>558</td>\n      <td>angle(tBodyGyroJerkMean,gravityMean)</td>\n    </tr>\n    <tr>\n      <th>558</th>\n      <td>559</td>\n      <td>angle(X,gravityMean)</td>\n    </tr>\n    <tr>\n      <th>559</th>\n      <td>560</td>\n      <td>angle(Y,gravityMean)</td>\n    </tr>\n    <tr>\n      <th>560</th>\n      <td>561</td>\n      <td>angle(Z,gravityMean)</td>\n    </tr>\n  </tbody>\n</table>\n<p>561 rows × 2 columns</p>\n</div>"
     },
     "execution_count": 45,
     "metadata": {},
     "output_type": "execute_result"
    }
   ],
   "source": [
    "feature_nameDF"
   ],
   "metadata": {
    "collapsed": false,
    "ExecuteTime": {
     "end_time": "2024-03-07T07:16:03.312181700Z",
     "start_time": "2024-03-07T07:16:03.263990600Z"
    }
   },
   "id": "ab68f7827f98a0df",
   "execution_count": 45
  },
  {
   "cell_type": "code",
   "outputs": [
    {
     "data": {
      "text/plain": "84"
     },
     "execution_count": 46,
     "metadata": {},
     "output_type": "execute_result"
    }
   ],
   "source": [
    "# 중복 체크\n",
    "feature_nameDF.col_name.duplicated().sum()"
   ],
   "metadata": {
    "collapsed": false,
    "ExecuteTime": {
     "end_time": "2024-03-07T07:16:03.313252900Z",
     "start_time": "2024-03-07T07:16:03.282487Z"
    }
   },
   "id": "109eb0ee3a315ed1",
   "execution_count": 46
  },
  {
   "cell_type": "code",
   "outputs": [
    {
     "data": {
      "text/plain": "Index([316, 317, 318, 319, 320, 321, 322, 323, 324, 325, 326, 327, 328, 329,\n       330, 331, 332, 333, 334, 335, 336, 337, 338, 339, 340, 341, 342, 343,\n       395, 396, 397, 398, 399, 400, 401, 402, 403, 404, 405, 406, 407, 408,\n       409, 410, 411, 412, 413, 414, 415, 416, 417, 418, 419, 420, 421, 422,\n       474, 475, 476, 477, 478, 479, 480, 481, 482, 483, 484, 485, 486, 487,\n       488, 489, 490, 491, 492, 493, 494, 495, 496, 497, 498, 499, 500, 501],\n      dtype='int64')"
     },
     "execution_count": 47,
     "metadata": {},
     "output_type": "execute_result"
    }
   ],
   "source": [
    "drop_idx = feature_nameDF[feature_nameDF.col_name.duplicated()].index\n",
    "drop_idx"
   ],
   "metadata": {
    "collapsed": false,
    "ExecuteTime": {
     "end_time": "2024-03-07T07:16:03.361325200Z",
     "start_time": "2024-03-07T07:16:03.295171300Z"
    }
   },
   "id": "21ebfbfb773c8f06",
   "execution_count": 47
  },
  {
   "cell_type": "code",
   "outputs": [
    {
     "data": {
      "text/plain": "     col_id                              col_name\n0         1                     tBodyAcc-mean()-X\n1         2                     tBodyAcc-mean()-Y\n2         3                     tBodyAcc-mean()-Z\n3         4                      tBodyAcc-std()-X\n4         5                      tBodyAcc-std()-Y\n..      ...                                   ...\n472     557      angle(tBodyGyroMean,gravityMean)\n473     558  angle(tBodyGyroJerkMean,gravityMean)\n474     559                  angle(X,gravityMean)\n475     560                  angle(Y,gravityMean)\n476     561                  angle(Z,gravityMean)\n\n[477 rows x 2 columns]",
      "text/html": "<div>\n<style scoped>\n    .dataframe tbody tr th:only-of-type {\n        vertical-align: middle;\n    }\n\n    .dataframe tbody tr th {\n        vertical-align: top;\n    }\n\n    .dataframe thead th {\n        text-align: right;\n    }\n</style>\n<table border=\"1\" class=\"dataframe\">\n  <thead>\n    <tr style=\"text-align: right;\">\n      <th></th>\n      <th>col_id</th>\n      <th>col_name</th>\n    </tr>\n  </thead>\n  <tbody>\n    <tr>\n      <th>0</th>\n      <td>1</td>\n      <td>tBodyAcc-mean()-X</td>\n    </tr>\n    <tr>\n      <th>1</th>\n      <td>2</td>\n      <td>tBodyAcc-mean()-Y</td>\n    </tr>\n    <tr>\n      <th>2</th>\n      <td>3</td>\n      <td>tBodyAcc-mean()-Z</td>\n    </tr>\n    <tr>\n      <th>3</th>\n      <td>4</td>\n      <td>tBodyAcc-std()-X</td>\n    </tr>\n    <tr>\n      <th>4</th>\n      <td>5</td>\n      <td>tBodyAcc-std()-Y</td>\n    </tr>\n    <tr>\n      <th>...</th>\n      <td>...</td>\n      <td>...</td>\n    </tr>\n    <tr>\n      <th>472</th>\n      <td>557</td>\n      <td>angle(tBodyGyroMean,gravityMean)</td>\n    </tr>\n    <tr>\n      <th>473</th>\n      <td>558</td>\n      <td>angle(tBodyGyroJerkMean,gravityMean)</td>\n    </tr>\n    <tr>\n      <th>474</th>\n      <td>559</td>\n      <td>angle(X,gravityMean)</td>\n    </tr>\n    <tr>\n      <th>475</th>\n      <td>560</td>\n      <td>angle(Y,gravityMean)</td>\n    </tr>\n    <tr>\n      <th>476</th>\n      <td>561</td>\n      <td>angle(Z,gravityMean)</td>\n    </tr>\n  </tbody>\n</table>\n<p>477 rows × 2 columns</p>\n</div>"
     },
     "execution_count": 48,
     "metadata": {},
     "output_type": "execute_result"
    }
   ],
   "source": [
    "feature_nameDF.set_index('col_id', inplace=True)\n",
    "feature_nameDF.drop_duplicates(inplace=True)\n",
    "feature_nameDF.reset_index(inplace=True)\n",
    "feature_nameDF"
   ],
   "metadata": {
    "collapsed": false,
    "ExecuteTime": {
     "end_time": "2024-03-07T07:16:03.388434Z",
     "start_time": "2024-03-07T07:16:03.312181700Z"
    }
   },
   "id": "87ebf22d9e54a436",
   "execution_count": 48
  },
  {
   "cell_type": "code",
   "outputs": [
    {
     "data": {
      "text/plain": "0"
     },
     "execution_count": 49,
     "metadata": {},
     "output_type": "execute_result"
    }
   ],
   "source": [
    "feature_nameDF.col_name.duplicated().sum()"
   ],
   "metadata": {
    "collapsed": false,
    "ExecuteTime": {
     "end_time": "2024-03-07T07:16:03.389487Z",
     "start_time": "2024-03-07T07:16:03.327152900Z"
    }
   },
   "id": "841be13087f66a0b",
   "execution_count": 49
  },
  {
   "cell_type": "code",
   "outputs": [],
   "source": [
    "## => 학습 데이터 로딩\n",
    "X_trainDF = pd.read_csv(x_train_file, sep='\\s+', header=None, usecols=feature_nameDF.col_id.astype('int')-1)"
   ],
   "metadata": {
    "collapsed": false,
    "ExecuteTime": {
     "end_time": "2024-03-07T07:17:06.872837600Z",
     "start_time": "2024-03-07T07:17:04.935285600Z"
    }
   },
   "id": "6b17b57a6f9a50e8",
   "execution_count": 51
  },
  {
   "cell_type": "code",
   "outputs": [
    {
     "name": "stdout",
     "output_type": "stream",
     "text": [
      "<class 'pandas.core.frame.DataFrame'>\n",
      "RangeIndex: 7352 entries, 0 to 7351\n",
      "Columns: 477 entries, 0 to 560\n",
      "dtypes: float64(477)\n",
      "memory usage: 26.8 MB\n"
     ]
    }
   ],
   "source": [
    "X_trainDF.info()"
   ],
   "metadata": {
    "collapsed": false,
    "ExecuteTime": {
     "end_time": "2024-03-07T07:17:10.396508700Z",
     "start_time": "2024-03-07T07:17:10.376171600Z"
    }
   },
   "id": "89398c16a029dd8",
   "execution_count": 52
  },
  {
   "cell_type": "code",
   "outputs": [
    {
     "name": "stdout",
     "output_type": "stream",
     "text": [
      "<class 'pandas.core.frame.DataFrame'>\n",
      "RangeIndex: 2947 entries, 0 to 2946\n",
      "Columns: 477 entries, 0 to 560\n",
      "dtypes: float64(477)\n",
      "memory usage: 10.7 MB\n"
     ]
    }
   ],
   "source": [
    "# 테스트 데이터 로딩\n",
    "X_testDF = pd.read_csv(x_test_file, sep='\\s+', header=None, usecols=feature_nameDF.col_id.astype('int')-1)\n",
    "X_testDF.info()"
   ],
   "metadata": {
    "collapsed": false,
    "ExecuteTime": {
     "end_time": "2024-03-07T07:17:20.807725Z",
     "start_time": "2024-03-07T07:17:19.963459Z"
    }
   },
   "id": "13c638f10790b212",
   "execution_count": 53
  },
  {
   "cell_type": "code",
   "outputs": [],
   "source": [],
   "metadata": {
    "collapsed": false
   },
   "id": "7ef9d55d8d14263b"
  }
 ],
 "metadata": {
  "kernelspec": {
   "display_name": "Python 3",
   "language": "python",
   "name": "python3"
  },
  "language_info": {
   "codemirror_mode": {
    "name": "ipython",
    "version": 2
   },
   "file_extension": ".py",
   "mimetype": "text/x-python",
   "name": "python",
   "nbconvert_exporter": "python",
   "pygments_lexer": "ipython2",
   "version": "2.7.6"
  }
 },
 "nbformat": 4,
 "nbformat_minor": 5
}
