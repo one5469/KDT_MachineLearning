{
 "cells": [
  {
   "cell_type": "markdown",
   "source": [
    "### 목표 : 무게에 따른 길이를 예측해주는 모델\n",
    "- 데이터 : fish.csv\n",
    "- 피쳐 : 무게\n",
    "- 라벨/타겟 : 길이\n",
    "- "
   ],
   "metadata": {
    "collapsed": false
   },
   "id": "f826c4704f3545fb"
  },
  {
   "cell_type": "markdown",
   "source": [
    "(1) 모듈 로딩 및 데이터 준비"
   ],
   "metadata": {
    "collapsed": false
   },
   "id": "a36c42ee5004a035"
  },
  {
   "cell_type": "code",
   "outputs": [
    {
     "name": "stdout",
     "output_type": "stream",
     "text": [
      "1.3.0\n"
     ]
    }
   ],
   "source": [
    "import sklearn\n",
    "print(sklearn.__version__)"
   ],
   "metadata": {
    "collapsed": false,
    "ExecuteTime": {
     "end_time": "2024-02-27T05:17:51.602613500Z",
     "start_time": "2024-02-27T05:17:51.585173200Z"
    }
   },
   "id": "57c5e06d0e3e67c9",
   "execution_count": 90
  },
  {
   "cell_type": "code",
   "outputs": [],
   "source": [
    "import pandas as pd\n",
    "import matplotlib.pyplot as plt\n",
    "import seaborn as sns\n",
    "from sklearn.preprocessing import StandardScaler, MinMaxScaler\n",
    "from sklearn.linear_model import LinearRegression\n",
    "import numpy as np"
   ],
   "metadata": {
    "collapsed": false,
    "ExecuteTime": {
     "end_time": "2024-02-27T04:54:39.560787800Z",
     "start_time": "2024-02-27T04:54:39.476661300Z"
    }
   },
   "id": "3973999cc989a7ee",
   "execution_count": 65
  },
  {
   "cell_type": "code",
   "outputs": [],
   "source": [
    "# 데이터 파일\n",
    "data_file = '../data/fish.csv'"
   ],
   "metadata": {
    "collapsed": false,
    "ExecuteTime": {
     "end_time": "2024-02-27T04:54:39.562794400Z",
     "start_time": "2024-02-27T04:54:39.509958Z"
    }
   },
   "id": "4817bdaeafd07c78",
   "execution_count": 66
  },
  {
   "cell_type": "code",
   "outputs": [
    {
     "name": "stdout",
     "output_type": "stream",
     "text": [
      "<class 'pandas.core.frame.DataFrame'>\n",
      "RangeIndex: 159 entries, 0 to 158\n",
      "Data columns (total 3 columns):\n",
      " #   Column   Non-Null Count  Dtype  \n",
      "---  ------   --------------  -----  \n",
      " 0   Species  159 non-null    object \n",
      " 1   Weight   159 non-null    float64\n",
      " 2   Length   159 non-null    float64\n",
      "dtypes: float64(2), object(1)\n",
      "memory usage: 3.9+ KB\n"
     ]
    }
   ],
   "source": [
    "# 데이터 준비\n",
    "fishDF = pd.read_csv(data_file, usecols=[0,1,2])\n",
    "fishDF.info()"
   ],
   "metadata": {
    "collapsed": false,
    "ExecuteTime": {
     "end_time": "2024-02-27T04:54:39.592860300Z",
     "start_time": "2024-02-27T04:54:39.566928700Z"
    }
   },
   "id": "1907089fc4d1db90",
   "execution_count": 67
  },
  {
   "cell_type": "code",
   "outputs": [
    {
     "data": {
      "text/plain": "   Species  Weight  Length\n0    Perch     5.9     8.4\n1    Perch    32.0    13.7\n2    Perch    40.0    15.0\n3    Perch    51.5    16.2\n4    Perch    70.0    17.4\n5    Perch   100.0    18.0\n6    Perch    78.0    18.7\n7    Perch    80.0    19.0\n8    Perch    85.0    19.6\n9    Perch    85.0    20.0\n10   Perch   110.0    21.0\n11   Perch   115.0    21.0\n12   Perch   125.0    21.0\n13   Perch   130.0    21.3\n14   Perch   120.0    22.0\n15   Perch   120.0    22.0\n16   Perch   130.0    22.0\n17   Perch   135.0    22.0\n18   Perch   110.0    22.0\n19   Perch   130.0    22.5\n20   Perch   150.0    22.5\n21   Perch   145.0    22.7\n22   Perch   150.0    23.0\n23   Perch   170.0    23.5\n24   Perch   225.0    24.0\n25   Perch   145.0    24.0\n26   Perch   188.0    24.6\n27   Perch   180.0    25.0\n28   Perch   197.0    25.6\n29   Perch   218.0    26.5\n30   Perch   300.0    27.3\n31   Perch   260.0    27.5\n32   Perch   265.0    27.5\n33   Perch   250.0    27.5\n34   Perch   250.0    28.0\n35   Perch   300.0    28.7\n36   Perch   320.0    30.0\n37   Perch   514.0    32.8\n38   Perch   556.0    34.5\n39   Perch   840.0    35.0\n40   Perch   685.0    36.5\n41   Perch   700.0    36.0\n42   Perch   700.0    37.0\n43   Perch   690.0    37.0\n44   Perch   900.0    39.0\n45   Perch   650.0    39.0\n46   Perch   820.0    39.0\n47   Perch   850.0    40.0\n48   Perch   900.0    40.0\n49   Perch  1015.0    40.0\n50   Perch   820.0    40.0\n51   Perch  1100.0    42.0\n52   Perch  1000.0    43.0\n53   Perch  1100.0    43.0\n54   Perch  1000.0    43.5\n55   Perch  1000.0    44.0",
      "text/html": "<div>\n<style scoped>\n    .dataframe tbody tr th:only-of-type {\n        vertical-align: middle;\n    }\n\n    .dataframe tbody tr th {\n        vertical-align: top;\n    }\n\n    .dataframe thead th {\n        text-align: right;\n    }\n</style>\n<table border=\"1\" class=\"dataframe\">\n  <thead>\n    <tr style=\"text-align: right;\">\n      <th></th>\n      <th>Species</th>\n      <th>Weight</th>\n      <th>Length</th>\n    </tr>\n  </thead>\n  <tbody>\n    <tr>\n      <th>0</th>\n      <td>Perch</td>\n      <td>5.9</td>\n      <td>8.4</td>\n    </tr>\n    <tr>\n      <th>1</th>\n      <td>Perch</td>\n      <td>32.0</td>\n      <td>13.7</td>\n    </tr>\n    <tr>\n      <th>2</th>\n      <td>Perch</td>\n      <td>40.0</td>\n      <td>15.0</td>\n    </tr>\n    <tr>\n      <th>3</th>\n      <td>Perch</td>\n      <td>51.5</td>\n      <td>16.2</td>\n    </tr>\n    <tr>\n      <th>4</th>\n      <td>Perch</td>\n      <td>70.0</td>\n      <td>17.4</td>\n    </tr>\n    <tr>\n      <th>5</th>\n      <td>Perch</td>\n      <td>100.0</td>\n      <td>18.0</td>\n    </tr>\n    <tr>\n      <th>6</th>\n      <td>Perch</td>\n      <td>78.0</td>\n      <td>18.7</td>\n    </tr>\n    <tr>\n      <th>7</th>\n      <td>Perch</td>\n      <td>80.0</td>\n      <td>19.0</td>\n    </tr>\n    <tr>\n      <th>8</th>\n      <td>Perch</td>\n      <td>85.0</td>\n      <td>19.6</td>\n    </tr>\n    <tr>\n      <th>9</th>\n      <td>Perch</td>\n      <td>85.0</td>\n      <td>20.0</td>\n    </tr>\n    <tr>\n      <th>10</th>\n      <td>Perch</td>\n      <td>110.0</td>\n      <td>21.0</td>\n    </tr>\n    <tr>\n      <th>11</th>\n      <td>Perch</td>\n      <td>115.0</td>\n      <td>21.0</td>\n    </tr>\n    <tr>\n      <th>12</th>\n      <td>Perch</td>\n      <td>125.0</td>\n      <td>21.0</td>\n    </tr>\n    <tr>\n      <th>13</th>\n      <td>Perch</td>\n      <td>130.0</td>\n      <td>21.3</td>\n    </tr>\n    <tr>\n      <th>14</th>\n      <td>Perch</td>\n      <td>120.0</td>\n      <td>22.0</td>\n    </tr>\n    <tr>\n      <th>15</th>\n      <td>Perch</td>\n      <td>120.0</td>\n      <td>22.0</td>\n    </tr>\n    <tr>\n      <th>16</th>\n      <td>Perch</td>\n      <td>130.0</td>\n      <td>22.0</td>\n    </tr>\n    <tr>\n      <th>17</th>\n      <td>Perch</td>\n      <td>135.0</td>\n      <td>22.0</td>\n    </tr>\n    <tr>\n      <th>18</th>\n      <td>Perch</td>\n      <td>110.0</td>\n      <td>22.0</td>\n    </tr>\n    <tr>\n      <th>19</th>\n      <td>Perch</td>\n      <td>130.0</td>\n      <td>22.5</td>\n    </tr>\n    <tr>\n      <th>20</th>\n      <td>Perch</td>\n      <td>150.0</td>\n      <td>22.5</td>\n    </tr>\n    <tr>\n      <th>21</th>\n      <td>Perch</td>\n      <td>145.0</td>\n      <td>22.7</td>\n    </tr>\n    <tr>\n      <th>22</th>\n      <td>Perch</td>\n      <td>150.0</td>\n      <td>23.0</td>\n    </tr>\n    <tr>\n      <th>23</th>\n      <td>Perch</td>\n      <td>170.0</td>\n      <td>23.5</td>\n    </tr>\n    <tr>\n      <th>24</th>\n      <td>Perch</td>\n      <td>225.0</td>\n      <td>24.0</td>\n    </tr>\n    <tr>\n      <th>25</th>\n      <td>Perch</td>\n      <td>145.0</td>\n      <td>24.0</td>\n    </tr>\n    <tr>\n      <th>26</th>\n      <td>Perch</td>\n      <td>188.0</td>\n      <td>24.6</td>\n    </tr>\n    <tr>\n      <th>27</th>\n      <td>Perch</td>\n      <td>180.0</td>\n      <td>25.0</td>\n    </tr>\n    <tr>\n      <th>28</th>\n      <td>Perch</td>\n      <td>197.0</td>\n      <td>25.6</td>\n    </tr>\n    <tr>\n      <th>29</th>\n      <td>Perch</td>\n      <td>218.0</td>\n      <td>26.5</td>\n    </tr>\n    <tr>\n      <th>30</th>\n      <td>Perch</td>\n      <td>300.0</td>\n      <td>27.3</td>\n    </tr>\n    <tr>\n      <th>31</th>\n      <td>Perch</td>\n      <td>260.0</td>\n      <td>27.5</td>\n    </tr>\n    <tr>\n      <th>32</th>\n      <td>Perch</td>\n      <td>265.0</td>\n      <td>27.5</td>\n    </tr>\n    <tr>\n      <th>33</th>\n      <td>Perch</td>\n      <td>250.0</td>\n      <td>27.5</td>\n    </tr>\n    <tr>\n      <th>34</th>\n      <td>Perch</td>\n      <td>250.0</td>\n      <td>28.0</td>\n    </tr>\n    <tr>\n      <th>35</th>\n      <td>Perch</td>\n      <td>300.0</td>\n      <td>28.7</td>\n    </tr>\n    <tr>\n      <th>36</th>\n      <td>Perch</td>\n      <td>320.0</td>\n      <td>30.0</td>\n    </tr>\n    <tr>\n      <th>37</th>\n      <td>Perch</td>\n      <td>514.0</td>\n      <td>32.8</td>\n    </tr>\n    <tr>\n      <th>38</th>\n      <td>Perch</td>\n      <td>556.0</td>\n      <td>34.5</td>\n    </tr>\n    <tr>\n      <th>39</th>\n      <td>Perch</td>\n      <td>840.0</td>\n      <td>35.0</td>\n    </tr>\n    <tr>\n      <th>40</th>\n      <td>Perch</td>\n      <td>685.0</td>\n      <td>36.5</td>\n    </tr>\n    <tr>\n      <th>41</th>\n      <td>Perch</td>\n      <td>700.0</td>\n      <td>36.0</td>\n    </tr>\n    <tr>\n      <th>42</th>\n      <td>Perch</td>\n      <td>700.0</td>\n      <td>37.0</td>\n    </tr>\n    <tr>\n      <th>43</th>\n      <td>Perch</td>\n      <td>690.0</td>\n      <td>37.0</td>\n    </tr>\n    <tr>\n      <th>44</th>\n      <td>Perch</td>\n      <td>900.0</td>\n      <td>39.0</td>\n    </tr>\n    <tr>\n      <th>45</th>\n      <td>Perch</td>\n      <td>650.0</td>\n      <td>39.0</td>\n    </tr>\n    <tr>\n      <th>46</th>\n      <td>Perch</td>\n      <td>820.0</td>\n      <td>39.0</td>\n    </tr>\n    <tr>\n      <th>47</th>\n      <td>Perch</td>\n      <td>850.0</td>\n      <td>40.0</td>\n    </tr>\n    <tr>\n      <th>48</th>\n      <td>Perch</td>\n      <td>900.0</td>\n      <td>40.0</td>\n    </tr>\n    <tr>\n      <th>49</th>\n      <td>Perch</td>\n      <td>1015.0</td>\n      <td>40.0</td>\n    </tr>\n    <tr>\n      <th>50</th>\n      <td>Perch</td>\n      <td>820.0</td>\n      <td>40.0</td>\n    </tr>\n    <tr>\n      <th>51</th>\n      <td>Perch</td>\n      <td>1100.0</td>\n      <td>42.0</td>\n    </tr>\n    <tr>\n      <th>52</th>\n      <td>Perch</td>\n      <td>1000.0</td>\n      <td>43.0</td>\n    </tr>\n    <tr>\n      <th>53</th>\n      <td>Perch</td>\n      <td>1100.0</td>\n      <td>43.0</td>\n    </tr>\n    <tr>\n      <th>54</th>\n      <td>Perch</td>\n      <td>1000.0</td>\n      <td>43.5</td>\n    </tr>\n    <tr>\n      <th>55</th>\n      <td>Perch</td>\n      <td>1000.0</td>\n      <td>44.0</td>\n    </tr>\n  </tbody>\n</table>\n</div>"
     },
     "execution_count": 68,
     "metadata": {},
     "output_type": "execute_result"
    }
   ],
   "source": [
    "# 학습에 사용할 데이터 추출 => Perch 행만 추출\n",
    "perchDF = fishDF[fishDF.Species == 'Perch']\n",
    "\n",
    "# 인덱스 정리\n",
    "perchDF.reset_index(drop=True, inplace=True)\n",
    "perchDF"
   ],
   "metadata": {
    "collapsed": false,
    "ExecuteTime": {
     "end_time": "2024-02-27T04:54:39.636198100Z",
     "start_time": "2024-02-27T04:54:39.594837800Z"
    }
   },
   "id": "2f78b710041a17ed",
   "execution_count": 68
  },
  {
   "cell_type": "code",
   "outputs": [
    {
     "name": "stdout",
     "output_type": "stream",
     "text": [
      "<class 'pandas.core.frame.DataFrame'>\n",
      "RangeIndex: 56 entries, 0 to 55\n",
      "Data columns (total 3 columns):\n",
      " #   Column   Non-Null Count  Dtype  \n",
      "---  ------   --------------  -----  \n",
      " 0   Species  56 non-null     object \n",
      " 1   Weight   56 non-null     float64\n",
      " 2   Length   56 non-null     float64\n",
      "dtypes: float64(2), object(1)\n",
      "memory usage: 1.4+ KB\n"
     ]
    }
   ],
   "source": [
    "# 추출된 데이터 기본 정보 확인\n",
    "perchDF.info()"
   ],
   "metadata": {
    "collapsed": false,
    "ExecuteTime": {
     "end_time": "2024-02-27T04:54:39.637193400Z",
     "start_time": "2024-02-27T04:54:39.621246800Z"
    }
   },
   "id": "292f821b4153b221",
   "execution_count": 69
  },
  {
   "cell_type": "code",
   "outputs": [
    {
     "data": {
      "text/plain": "            Weight     Length\ncount    56.000000  56.000000\nmean    382.239286  27.892857\nstd     347.617717   9.021668\nmin       5.900000   8.400000\n25%     120.000000  21.825000\n50%     207.500000  25.300000\n75%     692.500000  36.625000\nmax    1100.000000  44.000000",
      "text/html": "<div>\n<style scoped>\n    .dataframe tbody tr th:only-of-type {\n        vertical-align: middle;\n    }\n\n    .dataframe tbody tr th {\n        vertical-align: top;\n    }\n\n    .dataframe thead th {\n        text-align: right;\n    }\n</style>\n<table border=\"1\" class=\"dataframe\">\n  <thead>\n    <tr style=\"text-align: right;\">\n      <th></th>\n      <th>Weight</th>\n      <th>Length</th>\n    </tr>\n  </thead>\n  <tbody>\n    <tr>\n      <th>count</th>\n      <td>56.000000</td>\n      <td>56.000000</td>\n    </tr>\n    <tr>\n      <th>mean</th>\n      <td>382.239286</td>\n      <td>27.892857</td>\n    </tr>\n    <tr>\n      <th>std</th>\n      <td>347.617717</td>\n      <td>9.021668</td>\n    </tr>\n    <tr>\n      <th>min</th>\n      <td>5.900000</td>\n      <td>8.400000</td>\n    </tr>\n    <tr>\n      <th>25%</th>\n      <td>120.000000</td>\n      <td>21.825000</td>\n    </tr>\n    <tr>\n      <th>50%</th>\n      <td>207.500000</td>\n      <td>25.300000</td>\n    </tr>\n    <tr>\n      <th>75%</th>\n      <td>692.500000</td>\n      <td>36.625000</td>\n    </tr>\n    <tr>\n      <th>max</th>\n      <td>1100.000000</td>\n      <td>44.000000</td>\n    </tr>\n  </tbody>\n</table>\n</div>"
     },
     "execution_count": 70,
     "metadata": {},
     "output_type": "execute_result"
    }
   ],
   "source": [
    "# 수치 컬럼의 데이터 정보 확인\n",
    "perchDF.describe()"
   ],
   "metadata": {
    "collapsed": false,
    "ExecuteTime": {
     "end_time": "2024-02-27T04:54:39.691024700Z",
     "start_time": "2024-02-27T04:54:39.640185900Z"
    }
   },
   "id": "72220ee13053d9cf",
   "execution_count": 70
  },
  {
   "cell_type": "markdown",
   "source": [
    "(3) 데이터 전처리\n",
    "- 결측치, 이상치, 중복값 처리\n",
    "- 데이터 분포, 컬럼 분포, 최빈값, 고유값"
   ],
   "metadata": {
    "collapsed": false
   },
   "id": "3481c7234dccb0c6"
  },
  {
   "cell_type": "markdown",
   "source": [
    "(3-1) 데이터 분포"
   ],
   "metadata": {
    "collapsed": false
   },
   "id": "85e20d202c63cf34"
  },
  {
   "cell_type": "code",
   "outputs": [
    {
     "data": {
      "text/plain": "<Figure size 640x480 with 1 Axes>",
      "image/png": "[encoded data removed]"
     },
     "metadata": {},
     "output_type": "display_data"
    }
   ],
   "source": [
    "# 무게와 길이에 대한 시각화\n",
    "plt.plot(perchDF.Weight, perchDF.Length, 'g', marker='o')\n",
    "plt.xlabel('Weight')\n",
    "plt.ylabel('Length')\n",
    "plt.show()"
   ],
   "metadata": {
    "collapsed": false,
    "ExecuteTime": {
     "end_time": "2024-02-27T04:54:39.826461700Z",
     "start_time": "2024-02-27T04:54:39.651147Z"
    }
   },
   "id": "8c11ac480af14f27",
   "execution_count": 71
  },
  {
   "cell_type": "code",
   "outputs": [
    {
     "data": {
      "text/plain": "          Weight    Length\nWeight  1.000000  0.958656\nLength  0.958656  1.000000",
      "text/html": "<div>\n<style scoped>\n    .dataframe tbody tr th:only-of-type {\n        vertical-align: middle;\n    }\n\n    .dataframe tbody tr th {\n        vertical-align: top;\n    }\n\n    .dataframe thead th {\n        text-align: right;\n    }\n</style>\n<table border=\"1\" class=\"dataframe\">\n  <thead>\n    <tr style=\"text-align: right;\">\n      <th></th>\n      <th>Weight</th>\n      <th>Length</th>\n    </tr>\n  </thead>\n  <tbody>\n    <tr>\n      <th>Weight</th>\n      <td>1.000000</td>\n      <td>0.958656</td>\n    </tr>\n    <tr>\n      <th>Length</th>\n      <td>0.958656</td>\n      <td>1.000000</td>\n    </tr>\n  </tbody>\n</table>\n</div>"
     },
     "execution_count": 72,
     "metadata": {},
     "output_type": "execute_result"
    }
   ],
   "source": [
    "# 무게와 길이에 대한 상관계수\n",
    "perchDF.corr(numeric_only=True)"
   ],
   "metadata": {
    "collapsed": false,
    "ExecuteTime": {
     "end_time": "2024-02-27T04:54:39.828440300Z",
     "start_time": "2024-02-27T04:54:39.774949700Z"
    }
   },
   "id": "ea49f3f3ea2ed7b5",
   "execution_count": 72
  },
  {
   "cell_type": "code",
   "outputs": [
    {
     "data": {
      "text/plain": "  Species  Weight  Length\n0   Perch     5.9     8.4\n1   Perch    32.0    13.7\n2   Perch    40.0    15.0\n3   Perch    51.5    16.2\n4   Perch    70.0    17.4\n5   Perch   100.0    18.0\n6   Perch    78.0    18.7\n7   Perch    80.0    19.0\n8   Perch    85.0    19.6\n9   Perch    85.0    20.0",
      "text/html": "<div>\n<style scoped>\n    .dataframe tbody tr th:only-of-type {\n        vertical-align: middle;\n    }\n\n    .dataframe tbody tr th {\n        vertical-align: top;\n    }\n\n    .dataframe thead th {\n        text-align: right;\n    }\n</style>\n<table border=\"1\" class=\"dataframe\">\n  <thead>\n    <tr style=\"text-align: right;\">\n      <th></th>\n      <th>Species</th>\n      <th>Weight</th>\n      <th>Length</th>\n    </tr>\n  </thead>\n  <tbody>\n    <tr>\n      <th>0</th>\n      <td>Perch</td>\n      <td>5.9</td>\n      <td>8.4</td>\n    </tr>\n    <tr>\n      <th>1</th>\n      <td>Perch</td>\n      <td>32.0</td>\n      <td>13.7</td>\n    </tr>\n    <tr>\n      <th>2</th>\n      <td>Perch</td>\n      <td>40.0</td>\n      <td>15.0</td>\n    </tr>\n    <tr>\n      <th>3</th>\n      <td>Perch</td>\n      <td>51.5</td>\n      <td>16.2</td>\n    </tr>\n    <tr>\n      <th>4</th>\n      <td>Perch</td>\n      <td>70.0</td>\n      <td>17.4</td>\n    </tr>\n    <tr>\n      <th>5</th>\n      <td>Perch</td>\n      <td>100.0</td>\n      <td>18.0</td>\n    </tr>\n    <tr>\n      <th>6</th>\n      <td>Perch</td>\n      <td>78.0</td>\n      <td>18.7</td>\n    </tr>\n    <tr>\n      <th>7</th>\n      <td>Perch</td>\n      <td>80.0</td>\n      <td>19.0</td>\n    </tr>\n    <tr>\n      <th>8</th>\n      <td>Perch</td>\n      <td>85.0</td>\n      <td>19.6</td>\n    </tr>\n    <tr>\n      <th>9</th>\n      <td>Perch</td>\n      <td>85.0</td>\n      <td>20.0</td>\n    </tr>\n  </tbody>\n</table>\n</div>"
     },
     "execution_count": 73,
     "metadata": {},
     "output_type": "execute_result"
    }
   ],
   "source": [
    "## [분석 결과] 무게에 따른 길이는 비례관계\n",
    "# 무게 + 연산 ===> 길이\n",
    "perchDF.iloc[:10]"
   ],
   "metadata": {
    "collapsed": false,
    "ExecuteTime": {
     "end_time": "2024-02-27T04:54:39.829436200Z",
     "start_time": "2024-02-27T04:54:39.788904300Z"
    }
   },
   "id": "43d3efa926e6316",
   "execution_count": 73
  },
  {
   "cell_type": "code",
   "outputs": [
    {
     "data": {
      "text/plain": "0     8.18\n1    13.40\n2    15.00\n3    17.30\n4    21.00\n5    27.00\n6    22.60\n7    23.00\n8    24.00\n9    24.00\nName: Weight, dtype: float64"
     },
     "execution_count": 74,
     "metadata": {},
     "output_type": "execute_result"
    }
   ],
   "source": [
    "model = (perchDF.Weight*1/5)+7\n",
    "model[:10]"
   ],
   "metadata": {
    "collapsed": false,
    "ExecuteTime": {
     "end_time": "2024-02-27T04:54:39.829436200Z",
     "start_time": "2024-02-27T04:54:39.804516400Z"
    }
   },
   "id": "7e34d785ead07544",
   "execution_count": 74
  },
  {
   "cell_type": "code",
   "outputs": [
    {
     "data": {
      "text/plain": "3112.12"
     },
     "execution_count": 75,
     "metadata": {},
     "output_type": "execute_result"
    }
   ],
   "source": [
    "(model-perchDF.Length).abs().sum()"
   ],
   "metadata": {
    "collapsed": false,
    "ExecuteTime": {
     "end_time": "2024-02-27T04:54:39.887653100Z",
     "start_time": "2024-02-27T04:54:39.830432300Z"
    }
   },
   "id": "bbd090ae037f2891",
   "execution_count": 75
  },
  {
   "cell_type": "markdown",
   "source": [
    "(4) 학습 진행\n",
    "- 학습 방법 : 지도학습 + 회귀(예측) => 선형회귀 LinearRegression"
   ],
   "metadata": {
    "collapsed": false
   },
   "id": "cdf18679173bd63"
  },
  {
   "cell_type": "code",
   "outputs": [],
   "source": [
    "# 모델 인스턴스 생성\n",
    "model = LinearRegression()"
   ],
   "metadata": {
    "collapsed": false,
    "ExecuteTime": {
     "end_time": "2024-02-27T04:54:39.932494200Z",
     "start_time": "2024-02-27T04:54:39.849770500Z"
    }
   },
   "id": "8bde3f613b24e161",
   "execution_count": 76
  },
  {
   "cell_type": "code",
   "outputs": [
    {
     "data": {
      "text/plain": "LinearRegression()",
      "text/html": "<style>#sk-container-id-3 {color: black;}#sk-container-id-3 pre{padding: 0;}#sk-container-id-3 div.sk-toggleable {background-color: white;}#sk-container-id-3 label.sk-toggleable__label {cursor: pointer;display: block;width: 100%;margin-bottom: 0;padding: 0.3em;box-sizing: border-box;text-align: center;}#sk-container-id-3 label.sk-toggleable__label-arrow:before {content: \"▸\";float: left;margin-right: 0.25em;color: #696969;}#sk-container-id-3 label.sk-toggleable__label-arrow:hover:before {color: black;}#sk-container-id-3 div.sk-estimator:hover label.sk-toggleable__label-arrow:before {color: black;}#sk-container-id-3 div.sk-toggleable__content {max-height: 0;max-width: 0;overflow: hidden;text-align: left;background-color: #f0f8ff;}#sk-container-id-3 div.sk-toggleable__content pre {margin: 0.2em;color: black;border-radius: 0.25em;background-color: #f0f8ff;}#sk-container-id-3 input.sk-toggleable__control:checked~div.sk-toggleable__content {max-height: 200px;max-width: 100%;overflow: auto;}#sk-container-id-3 input.sk-toggleable__control:checked~label.sk-toggleable__label-arrow:before {content: \"▾\";}#sk-container-id-3 div.sk-estimator input.sk-toggleable__control:checked~label.sk-toggleable__label {background-color: #d4ebff;}#sk-container-id-3 div.sk-label input.sk-toggleable__control:checked~label.sk-toggleable__label {background-color: #d4ebff;}#sk-container-id-3 input.sk-hidden--visually {border: 0;clip: rect(1px 1px 1px 1px);clip: rect(1px, 1px, 1px, 1px);height: 1px;margin: -1px;overflow: hidden;padding: 0;position: absolute;width: 1px;}#sk-container-id-3 div.sk-estimator {font-family: monospace;background-color: #f0f8ff;border: 1px dotted black;border-radius: 0.25em;box-sizing: border-box;margin-bottom: 0.5em;}#sk-container-id-3 div.sk-estimator:hover {background-color: #d4ebff;}#sk-container-id-3 div.sk-parallel-item::after {content: \"\";width: 100%;border-bottom: 1px solid gray;flex-grow: 1;}#sk-container-id-3 div.sk-label:hover label.sk-toggleable__label {background-color: #d4ebff;}#sk-container-id-3 div.sk-serial::before {content: \"\";position: absolute;border-left: 1px solid gray;box-sizing: border-box;top: 0;bottom: 0;left: 50%;z-index: 0;}#sk-container-id-3 div.sk-serial {display: flex;flex-direction: column;align-items: center;background-color: white;padding-right: 0.2em;padding-left: 0.2em;position: relative;}#sk-container-id-3 div.sk-item {position: relative;z-index: 1;}#sk-container-id-3 div.sk-parallel {display: flex;align-items: stretch;justify-content: center;background-color: white;position: relative;}#sk-container-id-3 div.sk-item::before, #sk-container-id-3 div.sk-parallel-item::before {content: \"\";position: absolute;border-left: 1px solid gray;box-sizing: border-box;top: 0;bottom: 0;left: 50%;z-index: -1;}#sk-container-id-3 div.sk-parallel-item {display: flex;flex-direction: column;z-index: 1;position: relative;background-color: white;}#sk-container-id-3 div.sk-parallel-item:first-child::after {align-self: flex-end;width: 50%;}#sk-container-id-3 div.sk-parallel-item:last-child::after {align-self: flex-start;width: 50%;}#sk-container-id-3 div.sk-parallel-item:only-child::after {width: 0;}#sk-container-id-3 div.sk-dashed-wrapped {border: 1px dashed gray;margin: 0 0.4em 0.5em 0.4em;box-sizing: border-box;padding-bottom: 0.4em;background-color: white;}#sk-container-id-3 div.sk-label label {font-family: monospace;font-weight: bold;display: inline-block;line-height: 1.2em;}#sk-container-id-3 div.sk-label-container {text-align: center;}#sk-container-id-3 div.sk-container {/* jupyter's `normalize.less` sets `[hidden] { display: none; }` but bootstrap.min.css set `[hidden] { display: none !important; }` so we also need the `!important` here to be able to override the default hidden behavior on the sphinx rendered scikit-learn.org. See: https://github.com/scikit-learn/scikit-learn/issues/21755 */display: inline-block !important;position: relative;}#sk-container-id-3 div.sk-text-repr-fallback {display: none;}</style><div id=\"sk-container-id-3\" class=\"sk-top-container\"><div class=\"sk-text-repr-fallback\"><pre>LinearRegression()</pre><b>In a Jupyter environment, please rerun this cell to show the HTML representation or trust the notebook. <br />On GitHub, the HTML representation is unable to render, please try loading this page with nbviewer.org.</b></div><div class=\"sk-container\" hidden><div class=\"sk-item\"><div class=\"sk-estimator sk-toggleable\"><input class=\"sk-toggleable__control sk-hidden--visually\" id=\"sk-estimator-id-3\" type=\"checkbox\" checked><label for=\"sk-estimator-id-3\" class=\"sk-toggleable__label sk-toggleable__label-arrow\">LinearRegression</label><div class=\"sk-toggleable__content\"><pre>LinearRegression()</pre></div></div></div></div></div>"
     },
     "execution_count": 77,
     "metadata": {},
     "output_type": "execute_result"
    }
   ],
   "source": [
    "# 학습\n",
    "model.fit(perchDF[['Weight']], perchDF['Length'])"
   ],
   "metadata": {
    "collapsed": false,
    "ExecuteTime": {
     "end_time": "2024-02-27T04:54:40.015362800Z",
     "start_time": "2024-02-27T04:54:39.895617100Z"
    }
   },
   "id": "11da1cf662b32c47",
   "execution_count": 77
  },
  {
   "cell_type": "code",
   "outputs": [
    {
     "name": "stdout",
     "output_type": "stream",
     "text": [
      "피쳐에 할당되는 가중치 계수 : [0.02487985]\n",
      "수식에 사용되는 절편 계수  : 18.382802913636723\n"
     ]
    }
   ],
   "source": [
    "# 학습 후 속성 확인\n",
    "print(f'피쳐에 할당되는 가중치 계수 : {model.coef_}')\n",
    "print(f'수식에 사용되는 절편 계수  : {model.intercept_}')"
   ],
   "metadata": {
    "collapsed": false,
    "ExecuteTime": {
     "end_time": "2024-02-27T04:54:40.038286300Z",
     "start_time": "2024-02-27T04:54:39.937618700Z"
    }
   },
   "id": "5fdae0e53ec49a38",
   "execution_count": 78
  },
  {
   "cell_type": "code",
   "outputs": [
    {
     "data": {
      "text/plain": "0     18.529594\n1     19.178958\n2     19.377997\n3     19.664115\n4     20.124392\n5     20.870787\n6     20.323431\n7     20.373191\n8     20.497590\n9     20.497590\n10    21.119586\n11    21.243985\n12    21.492784\n13    21.617183\n14    21.368384\n15    21.368384\n16    21.617183\n17    21.741582\n18    21.119586\n19    21.617183\n20    22.114780\n21    21.990380\n22    22.114780\n23    22.612377\n24    23.980768\n25    21.990380\n26    23.060214\n27    22.861175\n28    23.284132\n29    23.806609\n30    25.846756\n31    24.851563\n32    24.975962\n33    24.602764\n34    24.602764\n35    25.846756\n36    26.344353\n37    31.171043\n38    32.215997\n39    39.281873\n40    35.425497\n41    35.798695\n42    35.798695\n43    35.549896\n44    40.774664\n45    34.554702\n46    38.784276\n47    39.530671\n48    40.774664\n49    43.635846\n50    38.784276\n51    45.750633\n52    43.262648\n53    45.750633\n54    43.262648\n55    43.262648\nName: Weight, dtype: float64"
     },
     "execution_count": 79,
     "metadata": {},
     "output_type": "execute_result"
    }
   ],
   "source": [
    "perchDF.Weight * model.coef_ + model.intercept_"
   ],
   "metadata": {
    "collapsed": false,
    "ExecuteTime": {
     "end_time": "2024-02-27T04:54:40.076290700Z",
     "start_time": "2024-02-27T04:54:40.040281400Z"
    }
   },
   "id": "2245d87de61a9665",
   "execution_count": 79
  },
  {
   "cell_type": "markdown",
   "source": [
    "(5) 테스트"
   ],
   "metadata": {
    "collapsed": false
   },
   "id": "daa7547c1ec50276"
  },
  {
   "cell_type": "code",
   "outputs": [
    {
     "data": {
      "text/plain": "0.919021073244782"
     },
     "execution_count": 80,
     "metadata": {},
     "output_type": "execute_result"
    }
   ],
   "source": [
    "model.score(perchDF[['Weight']], perchDF.Length)"
   ],
   "metadata": {
    "collapsed": false,
    "ExecuteTime": {
     "end_time": "2024-02-27T04:54:40.133090400Z",
     "start_time": "2024-02-27T04:54:40.080267Z"
    }
   },
   "id": "cb3c331be2b5066f",
   "execution_count": 80
  },
  {
   "cell_type": "code",
   "outputs": [
    {
     "data": {
      "text/plain": "0.919021073244782"
     },
     "execution_count": 81,
     "metadata": {},
     "output_type": "execute_result"
    }
   ],
   "source": [
    "# 결정계수 R2 즉, 얼마나 정답에 가깝게 근사하게 결과를 예측해내는지를 나타내는 계수값\n",
    "# 범위 : 0.0 ~ 1.0\n",
    "# 1.0에 가까울수록 잘 만들어진 모델\n",
    "model.score(perchDF[['Weight']], perchDF.Length)"
   ],
   "metadata": {
    "collapsed": false,
    "ExecuteTime": {
     "end_time": "2024-02-27T04:54:40.136093100Z",
     "start_time": "2024-02-27T04:54:40.101197500Z"
    }
   },
   "id": "61289be763fee3c4",
   "execution_count": 81
  },
  {
   "cell_type": "code",
   "outputs": [
    {
     "data": {
      "text/plain": "array([18.5, 19.2, 19.4, 19.7, 20.1, 20.9, 20.3, 20.4, 20.5, 20.5, 21.1,\n       21.2, 21.5, 21.6, 21.4, 21.4, 21.6, 21.7, 21.1, 21.6, 22.1, 22. ,\n       22.1, 22.6, 24. , 22. , 23.1, 22.9, 23.3, 23.8, 25.8, 24.9, 25. ,\n       24.6, 24.6, 25.8, 26.3, 31.2, 32.2, 39.3, 35.4, 35.8, 35.8, 35.5,\n       40.8, 34.6, 38.8, 39.5, 40.8, 43.6, 38.8, 45.8, 43.3, 45.8, 43.3,\n       43.3])"
     },
     "execution_count": 82,
     "metadata": {},
     "output_type": "execute_result"
    }
   ],
   "source": [
    "y_pre = model.predict(perchDF[['Weight']])\n",
    "np.round(y_pre, 1)"
   ],
   "metadata": {
    "collapsed": false,
    "ExecuteTime": {
     "end_time": "2024-02-27T04:54:40.136093100Z",
     "start_time": "2024-02-27T04:54:40.116148Z"
    }
   },
   "id": "6c008db045104d9a",
   "execution_count": 82
  },
  {
   "cell_type": "code",
   "outputs": [
    {
     "data": {
      "text/plain": "0     10.129594\n1      5.478958\n2      4.377997\n3      3.464115\n4      2.724392\n5      2.870787\n6      1.623431\n7      1.373191\n8      0.897590\n9      0.497590\n10     0.119586\n11     0.243985\n12     0.492784\n13     0.317183\n14    -0.631616\n15    -0.631616\n16    -0.382817\n17    -0.258418\n18    -0.880414\n19    -0.882817\n20    -0.385220\n21    -0.709620\n22    -0.885220\n23    -0.887623\n24    -0.019232\n25    -2.009620\n26    -1.539786\n27    -2.138825\n28    -2.315868\n29    -2.693391\n30    -1.453244\n31    -2.648437\n32    -2.524038\n33    -2.897236\n34    -3.397236\n35    -2.853244\n36    -3.655647\n37    -1.628957\n38    -2.284003\n39     4.281873\n40    -1.074503\n41    -0.201305\n42    -1.201305\n43    -1.450104\n44     1.774664\n45    -4.445298\n46    -0.215724\n47    -0.469329\n48     0.774664\n49     3.635846\n50    -1.215724\n51     3.750633\n52     0.262648\n53     2.750633\n54    -0.237352\n55    -0.737352\nName: Length, dtype: float64"
     },
     "execution_count": 83,
     "metadata": {},
     "output_type": "execute_result"
    }
   ],
   "source": [
    "# 오차 계산 => 예측값 - 정답\n",
    "errorSr = y_pre - perchDF.Length\n",
    "errorSr"
   ],
   "metadata": {
    "collapsed": false,
    "ExecuteTime": {
     "end_time": "2024-02-27T04:54:40.185243600Z",
     "start_time": "2024-02-27T04:54:40.131097400Z"
    }
   },
   "id": "df045b9fee38b3c5",
   "execution_count": 83
  },
  {
   "cell_type": "code",
   "outputs": [
    {
     "data": {
      "text/plain": "6.473219904872075"
     },
     "execution_count": 84,
     "metadata": {},
     "output_type": "execute_result"
    }
   ],
   "source": [
    "(errorSr**2).sum()/errorSr.shape[0]"
   ],
   "metadata": {
    "collapsed": false,
    "ExecuteTime": {
     "end_time": "2024-02-27T04:54:40.186228Z",
     "start_time": "2024-02-27T04:54:40.146047100Z"
    }
   },
   "id": "856b879930272e13",
   "execution_count": 84
  },
  {
   "cell_type": "code",
   "outputs": [
    {
     "data": {
      "text/plain": "Series([], Name: Length, dtype: float64)"
     },
     "execution_count": 85,
     "metadata": {},
     "output_type": "execute_result"
    }
   ],
   "source": [
    "# 정답과 완벽하게 똑같은 갯수 찾기\n",
    "errorSr[(y_pre - perchDF.Length)==0]"
   ],
   "metadata": {
    "collapsed": false,
    "ExecuteTime": {
     "end_time": "2024-02-27T04:54:40.187235700Z",
     "start_time": "2024-02-27T04:54:40.161994500Z"
    }
   },
   "id": "ff2aecc1ea3154d5",
   "execution_count": 85
  },
  {
   "cell_type": "markdown",
   "source": [
    "(6) 성능평가\n",
    "- 결정계수 값 : 1.0애 가까울 수록 좋음\n",
    "- 오차평균 값 : 낮을 수록 좋음\n",
    "- 활용 모듈 : sklearn.merics"
   ],
   "metadata": {
    "collapsed": false
   },
   "id": "23c1f7621e0fbb2"
  },
  {
   "cell_type": "code",
   "outputs": [],
   "source": [
    "from sklearn.metrics import mean_absolute_error, mean_squared_error, r2_score"
   ],
   "metadata": {
    "collapsed": false,
    "ExecuteTime": {
     "end_time": "2024-02-27T04:54:40.246038200Z",
     "start_time": "2024-02-27T04:54:40.177257900Z"
    }
   },
   "id": "86472012d5e3a32e",
   "execution_count": 86
  },
  {
   "cell_type": "code",
   "outputs": [
    {
     "data": {
      "text/plain": "0.919021073244782"
     },
     "execution_count": 87,
     "metadata": {},
     "output_type": "execute_result"
    }
   ],
   "source": [
    "# 결정 계수 값\n",
    "r2_score(perchDF.Length, y_pre)"
   ],
   "metadata": {
    "collapsed": false,
    "ExecuteTime": {
     "end_time": "2024-02-27T04:54:40.248031200Z",
     "start_time": "2024-02-27T04:54:40.195199100Z"
    }
   },
   "id": "72edfd8ede2bd1fd",
   "execution_count": 87
  },
  {
   "cell_type": "code",
   "outputs": [
    {
     "data": {
      "text/plain": "6.473219904872075"
     },
     "execution_count": 88,
     "metadata": {},
     "output_type": "execute_result"
    }
   ],
   "source": [
    "# 평균제곱오차\n",
    "mean_squared_error(perchDF.Length, y_pre)"
   ],
   "metadata": {
    "collapsed": false,
    "ExecuteTime": {
     "end_time": "2024-02-27T04:55:01.592129Z",
     "start_time": "2024-02-27T04:55:01.555804400Z"
    }
   },
   "id": "65e4dcc48203651f",
   "execution_count": 88
  },
  {
   "cell_type": "code",
   "outputs": [
    {
     "data": {
      "text/plain": "2.5442523272804674"
     },
     "execution_count": 92,
     "metadata": {},
     "output_type": "execute_result"
    }
   ],
   "source": [
    "# 루트평균제곱오차\n",
    "mean_squared_error(perchDF.Length, y_pre, squared=False)"
   ],
   "metadata": {
    "collapsed": false,
    "ExecuteTime": {
     "end_time": "2024-02-27T05:19:15.137560200Z",
     "start_time": "2024-02-27T05:19:15.120606100Z"
    }
   },
   "id": "a500e5bb2d479b3d",
   "execution_count": 92
  },
  {
   "cell_type": "code",
   "outputs": [
    {
     "data": {
      "text/plain": "2.5442523272804674"
     },
     "execution_count": 93,
     "metadata": {},
     "output_type": "execute_result"
    }
   ],
   "source": [
    "mean_squared_error(perchDF.Length, y_pre)**(1/2)"
   ],
   "metadata": {
    "collapsed": false,
    "ExecuteTime": {
     "end_time": "2024-02-27T05:19:25.869098500Z",
     "start_time": "2024-02-27T05:19:25.842413600Z"
    }
   },
   "id": "c38e2026715f27b5",
   "execution_count": 93
  },
  {
   "cell_type": "code",
   "outputs": [
    {
     "data": {
      "text/plain": "1.851505000314426"
     },
     "execution_count": 89,
     "metadata": {},
     "output_type": "execute_result"
    }
   ],
   "source": [
    "# 평균절대값오차\n",
    "mean_absolute_error(perchDF.Length, y_pre)"
   ],
   "metadata": {
    "collapsed": false,
    "ExecuteTime": {
     "end_time": "2024-02-27T04:55:24.059573500Z",
     "start_time": "2024-02-27T04:55:24.024355900Z"
    }
   },
   "id": "530efa3f83826aea",
   "execution_count": 89
  },
  {
   "cell_type": "code",
   "outputs": [],
   "source": [],
   "metadata": {
    "collapsed": false
   },
   "id": "f190e48f40e11896"
  }
 ],
 "metadata": {
  "kernelspec": {
   "display_name": "Python 3",
   "language": "python",
   "name": "python3"
  },
  "language_info": {
   "codemirror_mode": {
    "name": "ipython",
    "version": 2
   },
   "file_extension": ".py",
   "mimetype": "text/x-python",
   "name": "python",
   "nbconvert_exporter": "python",
   "pygments_lexer": "ipython2",
   "version": "2.7.6"
  }
 },
 "nbformat": 4,
 "nbformat_minor": 5
}
