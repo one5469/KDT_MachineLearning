{
 "cells": [
  {
   "cell_type": "markdown",
   "source": [
    "### 이상치 데이터 처리\n",
    "- 피쳐/특성에 데이터 값의 범위를 벗어나는 데이터를 의미\n",
    "- 종류 : 잘못 입력된 경우, 자연으로 생성된 데이터\n",
    "    * 잘못 입력된 데이터 : 입력 시 오타 ==> 제거 또는 대체\n",
    "    * 자연 생성 데이터 : 연봉, 키, 몸무게, 나이 ==> 분리해서 전용 모델 / 식별용 피쳐\n",
    "- 탐지\n",
    "    * 시각화 확인\n",
    "    * 데이터의 분포를 확인 : Z-score / IQR(Turkey Fences)\n",
    "- 처리\n",
    "    * 삭제 / 대체 / 분리 모델 / 파생변수 추가"
   ],
   "metadata": {
    "collapsed": false
   },
   "id": "a2bce024e1c14162"
  },
  {
   "cell_type": "markdown",
   "source": [
    "(1) 모듈 로딩 및 데이터 준비"
   ],
   "metadata": {
    "collapsed": false
   },
   "id": "9417a96b6d8cb101"
  },
  {
   "cell_type": "code",
   "outputs": [],
   "source": [
    "import pandas as pd\n",
    "import matplotlib.pyplot as plt"
   ],
   "metadata": {
    "collapsed": false,
    "ExecuteTime": {
     "end_time": "2024-02-28T01:50:40.529984100Z",
     "start_time": "2024-02-28T01:50:40.505633400Z"
    }
   },
   "id": "2cfb4261cbce42eb",
   "execution_count": 62
  },
  {
   "cell_type": "code",
   "outputs": [
    {
     "name": "stdout",
     "output_type": "stream",
     "text": [
      "<class 'pandas.core.frame.DataFrame'>\n",
      "RangeIndex: 10 entries, 0 to 9\n",
      "Data columns (total 1 columns):\n",
      " #   Column  Non-Null Count  Dtype\n",
      "---  ------  --------------  -----\n",
      " 0   num     10 non-null     int64\n",
      "dtypes: int64(1)\n",
      "memory usage: 208.0 bytes\n"
     ]
    }
   ],
   "source": [
    "# 임의의 데이터\n",
    "dataDF = pd.DataFrame({'num':[1,4,3,2,4,5,-14,2,1,15]})\n",
    "dataDF.info()"
   ],
   "metadata": {
    "collapsed": false,
    "ExecuteTime": {
     "end_time": "2024-02-28T01:50:40.580271400Z",
     "start_time": "2024-02-28T01:50:40.537886600Z"
    }
   },
   "id": "486477b1e2a3784b",
   "execution_count": 63
  },
  {
   "cell_type": "markdown",
   "source": [
    "(2) 데이터 전처리"
   ],
   "metadata": {
    "collapsed": false
   },
   "id": "2173f7364ae447c7"
  },
  {
   "cell_type": "markdown",
   "source": [
    "(2-1) 데이터 확인"
   ],
   "metadata": {
    "collapsed": false
   },
   "id": "a798761654aac1ef"
  },
  {
   "cell_type": "code",
   "outputs": [
    {
     "data": {
      "text/plain": "<Figure size 640x480 with 1 Axes>",
      "image/png": "[encoded data removed]"
     },
     "metadata": {},
     "output_type": "display_data"
    }
   ],
   "source": [
    "# 시각화로 데이터 분포 확인\n",
    "plt.plot(dataDF, 'bo')\n",
    "plt.title('[ Data Distribution ]')\n",
    "plt.show()"
   ],
   "metadata": {
    "collapsed": false,
    "ExecuteTime": {
     "end_time": "2024-02-28T01:50:40.712391Z",
     "start_time": "2024-02-28T01:50:40.593228500Z"
    }
   },
   "id": "3140008827f38a34",
   "execution_count": 64
  },
  {
   "cell_type": "code",
   "outputs": [
    {
     "data": {
      "text/plain": "<Figure size 640x480 with 1 Axes>",
      "image/png": "[encoded data removed]"
     },
     "metadata": {},
     "output_type": "display_data"
    }
   ],
   "source": [
    "plt.hist(dataDF)\n",
    "plt.show()"
   ],
   "metadata": {
    "collapsed": false,
    "ExecuteTime": {
     "end_time": "2024-02-28T01:50:40.799669500Z",
     "start_time": "2024-02-28T01:50:40.696443500Z"
    }
   },
   "id": "492d2b1fd0f76697",
   "execution_count": 65
  },
  {
   "cell_type": "markdown",
   "source": [
    "(2-2) 불필요 데이터 체크 => 결측치, 이상치"
   ],
   "metadata": {
    "collapsed": false
   },
   "id": "fb20517ece763dd0"
  },
  {
   "cell_type": "code",
   "outputs": [
    {
     "data": {
      "text/plain": "num    0\ndtype: int64"
     },
     "execution_count": 66,
     "metadata": {},
     "output_type": "execute_result"
    }
   ],
   "source": [
    "# 결측치\n",
    "dataDF.isnull().sum()"
   ],
   "metadata": {
    "collapsed": false,
    "ExecuteTime": {
     "end_time": "2024-02-28T01:50:40.808633200Z",
     "start_time": "2024-02-28T01:50:40.788697500Z"
    }
   },
   "id": "9602ddf4c8218353",
   "execution_count": 66
  },
  {
   "cell_type": "code",
   "outputs": [
    {
     "data": {
      "text/plain": "        num\n0 -0.185065\n1  0.242008\n2  0.099650\n3 -0.042707\n4  0.242008\n5  0.384366\n6 -2.320430\n7 -0.042707\n8 -0.185065\n9  1.807942",
      "text/html": "<div>\n<style scoped>\n    .dataframe tbody tr th:only-of-type {\n        vertical-align: middle;\n    }\n\n    .dataframe tbody tr th {\n        vertical-align: top;\n    }\n\n    .dataframe thead th {\n        text-align: right;\n    }\n</style>\n<table border=\"1\" class=\"dataframe\">\n  <thead>\n    <tr style=\"text-align: right;\">\n      <th></th>\n      <th>num</th>\n    </tr>\n  </thead>\n  <tbody>\n    <tr>\n      <th>0</th>\n      <td>-0.185065</td>\n    </tr>\n    <tr>\n      <th>1</th>\n      <td>0.242008</td>\n    </tr>\n    <tr>\n      <th>2</th>\n      <td>0.099650</td>\n    </tr>\n    <tr>\n      <th>3</th>\n      <td>-0.042707</td>\n    </tr>\n    <tr>\n      <th>4</th>\n      <td>0.242008</td>\n    </tr>\n    <tr>\n      <th>5</th>\n      <td>0.384366</td>\n    </tr>\n    <tr>\n      <th>6</th>\n      <td>-2.320430</td>\n    </tr>\n    <tr>\n      <th>7</th>\n      <td>-0.042707</td>\n    </tr>\n    <tr>\n      <th>8</th>\n      <td>-0.185065</td>\n    </tr>\n    <tr>\n      <th>9</th>\n      <td>1.807942</td>\n    </tr>\n  </tbody>\n</table>\n</div>"
     },
     "execution_count": 67,
     "metadata": {},
     "output_type": "execute_result"
    }
   ],
   "source": [
    "# 이상치 탐지 - 방법(1) 평균과 편차를 이용한 탐지 Z-score\n",
    "# Z-score = 데이터 - 평균/표준편차\n",
    "mean_value = dataDF.mean()\n",
    "std_value = dataDF.std()\n",
    "\n",
    "z_data = (dataDF - mean_value) / std_value\n",
    "z_data"
   ],
   "metadata": {
    "collapsed": false,
    "ExecuteTime": {
     "end_time": "2024-02-28T01:50:40.826572200Z",
     "start_time": "2024-02-28T01:50:40.810623300Z"
    }
   },
   "id": "3acecae276a30b91",
   "execution_count": 67
  },
  {
   "cell_type": "code",
   "outputs": [
    {
     "data": {
      "text/plain": "     num\n0  False\n1  False\n2  False\n3  False\n4  False\n5  False\n6   True\n7  False\n8  False\n9   True",
      "text/html": "<div>\n<style scoped>\n    .dataframe tbody tr th:only-of-type {\n        vertical-align: middle;\n    }\n\n    .dataframe tbody tr th {\n        vertical-align: top;\n    }\n\n    .dataframe thead th {\n        text-align: right;\n    }\n</style>\n<table border=\"1\" class=\"dataframe\">\n  <thead>\n    <tr style=\"text-align: right;\">\n      <th></th>\n      <th>num</th>\n    </tr>\n  </thead>\n  <tbody>\n    <tr>\n      <th>0</th>\n      <td>False</td>\n    </tr>\n    <tr>\n      <th>1</th>\n      <td>False</td>\n    </tr>\n    <tr>\n      <th>2</th>\n      <td>False</td>\n    </tr>\n    <tr>\n      <th>3</th>\n      <td>False</td>\n    </tr>\n    <tr>\n      <th>4</th>\n      <td>False</td>\n    </tr>\n    <tr>\n      <th>5</th>\n      <td>False</td>\n    </tr>\n    <tr>\n      <th>6</th>\n      <td>True</td>\n    </tr>\n    <tr>\n      <th>7</th>\n      <td>False</td>\n    </tr>\n    <tr>\n      <th>8</th>\n      <td>False</td>\n    </tr>\n    <tr>\n      <th>9</th>\n      <td>True</td>\n    </tr>\n  </tbody>\n</table>\n</div>"
     },
     "execution_count": 68,
     "metadata": {},
     "output_type": "execute_result"
    }
   ],
   "source": [
    "# 양끝단 제거를 위한 기준값 => 1.0\n",
    "base = 1.0\n",
    "mask = z_data.abs() > 1.0\n",
    "mask"
   ],
   "metadata": {
    "collapsed": false,
    "ExecuteTime": {
     "end_time": "2024-02-28T01:50:40.857467700Z",
     "start_time": "2024-02-28T01:50:40.821587Z"
    }
   },
   "id": "9ae80835604f8fa6",
   "execution_count": 68
  },
  {
   "cell_type": "code",
   "outputs": [
    {
     "data": {
      "text/plain": "   num\n0  1.0\n1  4.0\n2  3.0\n3  2.0\n4  4.0\n5  5.0\n6  NaN\n7  2.0\n8  1.0\n9  NaN",
      "text/html": "<div>\n<style scoped>\n    .dataframe tbody tr th:only-of-type {\n        vertical-align: middle;\n    }\n\n    .dataframe tbody tr th {\n        vertical-align: top;\n    }\n\n    .dataframe thead th {\n        text-align: right;\n    }\n</style>\n<table border=\"1\" class=\"dataframe\">\n  <thead>\n    <tr style=\"text-align: right;\">\n      <th></th>\n      <th>num</th>\n    </tr>\n  </thead>\n  <tbody>\n    <tr>\n      <th>0</th>\n      <td>1.0</td>\n    </tr>\n    <tr>\n      <th>1</th>\n      <td>4.0</td>\n    </tr>\n    <tr>\n      <th>2</th>\n      <td>3.0</td>\n    </tr>\n    <tr>\n      <th>3</th>\n      <td>2.0</td>\n    </tr>\n    <tr>\n      <th>4</th>\n      <td>4.0</td>\n    </tr>\n    <tr>\n      <th>5</th>\n      <td>5.0</td>\n    </tr>\n    <tr>\n      <th>6</th>\n      <td>NaN</td>\n    </tr>\n    <tr>\n      <th>7</th>\n      <td>2.0</td>\n    </tr>\n    <tr>\n      <th>8</th>\n      <td>1.0</td>\n    </tr>\n    <tr>\n      <th>9</th>\n      <td>NaN</td>\n    </tr>\n  </tbody>\n</table>\n</div>"
     },
     "execution_count": 69,
     "metadata": {},
     "output_type": "execute_result"
    }
   ],
   "source": [
    "dataDF[~mask]"
   ],
   "metadata": {
    "collapsed": false,
    "ExecuteTime": {
     "end_time": "2024-02-28T01:50:40.909805800Z",
     "start_time": "2024-02-28T01:50:40.839526400Z"
    }
   },
   "id": "282df163a9fc5826",
   "execution_count": 69
  },
  {
   "cell_type": "code",
   "outputs": [
    {
     "data": {
      "text/plain": "   num\n0  1.0\n1  4.0\n2  3.0\n3  2.0\n4  4.0\n5  5.0\n7  2.0\n8  1.0",
      "text/html": "<div>\n<style scoped>\n    .dataframe tbody tr th:only-of-type {\n        vertical-align: middle;\n    }\n\n    .dataframe tbody tr th {\n        vertical-align: top;\n    }\n\n    .dataframe thead th {\n        text-align: right;\n    }\n</style>\n<table border=\"1\" class=\"dataframe\">\n  <thead>\n    <tr style=\"text-align: right;\">\n      <th></th>\n      <th>num</th>\n    </tr>\n  </thead>\n  <tbody>\n    <tr>\n      <th>0</th>\n      <td>1.0</td>\n    </tr>\n    <tr>\n      <th>1</th>\n      <td>4.0</td>\n    </tr>\n    <tr>\n      <th>2</th>\n      <td>3.0</td>\n    </tr>\n    <tr>\n      <th>3</th>\n      <td>2.0</td>\n    </tr>\n    <tr>\n      <th>4</th>\n      <td>4.0</td>\n    </tr>\n    <tr>\n      <th>5</th>\n      <td>5.0</td>\n    </tr>\n    <tr>\n      <th>7</th>\n      <td>2.0</td>\n    </tr>\n    <tr>\n      <th>8</th>\n      <td>1.0</td>\n    </tr>\n  </tbody>\n</table>\n</div>"
     },
     "execution_count": 70,
     "metadata": {},
     "output_type": "execute_result"
    }
   ],
   "source": [
    "z_dataDF = dataDF[~mask].dropna()\n",
    "z_dataDF"
   ],
   "metadata": {
    "collapsed": false,
    "ExecuteTime": {
     "end_time": "2024-02-28T01:50:40.956647400Z",
     "start_time": "2024-02-28T01:50:40.850489500Z"
    }
   },
   "id": "8d8b17abc67aa568",
   "execution_count": 70
  },
  {
   "cell_type": "code",
   "outputs": [
    {
     "name": "stdout",
     "output_type": "stream",
     "text": [
      "q1:num    1.25\n",
      "Name: 0.25, dtype: float64\n",
      "q3:num    4.0\n",
      "Name: 0.75, dtype: float64\n",
      "iqr:num    2.75\n",
      "dtype: float64\n",
      "lower:num   -2.875\n",
      "dtype: float64\n",
      "upper:num    8.125\n",
      "dtype: float64\n"
     ]
    }
   ],
   "source": [
    "# 이상치 탐지 - 방법(2) 데이터를 4등분해서 가운데 데이터를 기준으로 이상치 탐지\n",
    "q1 = dataDF.quantile(0.25)\n",
    "q3 = dataDF.quantile(0.75)\n",
    "iqr = q3-q1\n",
    "\n",
    "# 이상치로 판단할 기준되는 값\n",
    "lower = q1-(iqr*1.5)\n",
    "upper = q3+(iqr*1.5)\n",
    "\n",
    "print(f'q1:{q1}\\nq3:{q3}\\niqr:{iqr}')\n",
    "print(f'lower:{lower}\\nupper:{upper}')"
   ],
   "metadata": {
    "collapsed": false,
    "ExecuteTime": {
     "end_time": "2024-02-28T01:50:40.965620400Z",
     "start_time": "2024-02-28T01:50:40.872420200Z"
    }
   },
   "id": "c7a10ee3d4eaf7ab",
   "execution_count": 71
  },
  {
   "cell_type": "code",
   "outputs": [
    {
     "data": {
      "text/plain": "<Figure size 640x480 with 1 Axes>",
      "image/png": "[encoded data removed]"
     },
     "metadata": {},
     "output_type": "display_data"
    }
   ],
   "source": [
    "# 시각화\n",
    "bp_obj = plt.boxplot(dataDF)\n",
    "plt.show()"
   ],
   "metadata": {
    "collapsed": false,
    "ExecuteTime": {
     "end_time": "2024-02-28T01:50:41.054102400Z",
     "start_time": "2024-02-28T01:50:40.881899600Z"
    }
   },
   "id": "882365c5402a77d6",
   "execution_count": 72
  },
  {
   "cell_type": "code",
   "outputs": [
    {
     "data": {
      "text/plain": "     num\n0  False\n1  False\n2  False\n3  False\n4  False\n5  False\n6   True\n7  False\n8  False\n9  False",
      "text/html": "<div>\n<style scoped>\n    .dataframe tbody tr th:only-of-type {\n        vertical-align: middle;\n    }\n\n    .dataframe tbody tr th {\n        vertical-align: top;\n    }\n\n    .dataframe thead th {\n        text-align: right;\n    }\n</style>\n<table border=\"1\" class=\"dataframe\">\n  <thead>\n    <tr style=\"text-align: right;\">\n      <th></th>\n      <th>num</th>\n    </tr>\n  </thead>\n  <tbody>\n    <tr>\n      <th>0</th>\n      <td>False</td>\n    </tr>\n    <tr>\n      <th>1</th>\n      <td>False</td>\n    </tr>\n    <tr>\n      <th>2</th>\n      <td>False</td>\n    </tr>\n    <tr>\n      <th>3</th>\n      <td>False</td>\n    </tr>\n    <tr>\n      <th>4</th>\n      <td>False</td>\n    </tr>\n    <tr>\n      <th>5</th>\n      <td>False</td>\n    </tr>\n    <tr>\n      <th>6</th>\n      <td>True</td>\n    </tr>\n    <tr>\n      <th>7</th>\n      <td>False</td>\n    </tr>\n    <tr>\n      <th>8</th>\n      <td>False</td>\n    </tr>\n    <tr>\n      <th>9</th>\n      <td>False</td>\n    </tr>\n  </tbody>\n</table>\n</div>"
     },
     "execution_count": 73,
     "metadata": {},
     "output_type": "execute_result"
    }
   ],
   "source": [
    "dataDF<lower"
   ],
   "metadata": {
    "collapsed": false,
    "ExecuteTime": {
     "end_time": "2024-02-28T01:50:41.055097900Z",
     "start_time": "2024-02-28T01:50:40.960634600Z"
    }
   },
   "id": "45cccb33b5ee90f5",
   "execution_count": 73
  },
  {
   "cell_type": "code",
   "outputs": [
    {
     "data": {
      "text/plain": "     num\n0  False\n1  False\n2  False\n3  False\n4  False\n5  False\n6  False\n7  False\n8  False\n9   True",
      "text/html": "<div>\n<style scoped>\n    .dataframe tbody tr th:only-of-type {\n        vertical-align: middle;\n    }\n\n    .dataframe tbody tr th {\n        vertical-align: top;\n    }\n\n    .dataframe thead th {\n        text-align: right;\n    }\n</style>\n<table border=\"1\" class=\"dataframe\">\n  <thead>\n    <tr style=\"text-align: right;\">\n      <th></th>\n      <th>num</th>\n    </tr>\n  </thead>\n  <tbody>\n    <tr>\n      <th>0</th>\n      <td>False</td>\n    </tr>\n    <tr>\n      <th>1</th>\n      <td>False</td>\n    </tr>\n    <tr>\n      <th>2</th>\n      <td>False</td>\n    </tr>\n    <tr>\n      <th>3</th>\n      <td>False</td>\n    </tr>\n    <tr>\n      <th>4</th>\n      <td>False</td>\n    </tr>\n    <tr>\n      <th>5</th>\n      <td>False</td>\n    </tr>\n    <tr>\n      <th>6</th>\n      <td>False</td>\n    </tr>\n    <tr>\n      <th>7</th>\n      <td>False</td>\n    </tr>\n    <tr>\n      <th>8</th>\n      <td>False</td>\n    </tr>\n    <tr>\n      <th>9</th>\n      <td>True</td>\n    </tr>\n  </tbody>\n</table>\n</div>"
     },
     "execution_count": 74,
     "metadata": {},
     "output_type": "execute_result"
    }
   ],
   "source": [
    "dataDF>upper"
   ],
   "metadata": {
    "collapsed": false,
    "ExecuteTime": {
     "end_time": "2024-02-28T01:50:41.098472Z",
     "start_time": "2024-02-28T01:50:40.976836800Z"
    }
   },
   "id": "e324b557237edcc1",
   "execution_count": 74
  },
  {
   "cell_type": "code",
   "outputs": [
    {
     "data": {
      "text/plain": "{'whiskers': [<matplotlib.lines.Line2D at 0x279c30e5580>,\n  <matplotlib.lines.Line2D at 0x279c30e5820>],\n 'caps': [<matplotlib.lines.Line2D at 0x279c30e5ac0>,\n  <matplotlib.lines.Line2D at 0x279c30e5c40>],\n 'boxes': [<matplotlib.lines.Line2D at 0x279c30e52e0>],\n 'medians': [<matplotlib.lines.Line2D at 0x279c30e5ee0>],\n 'fliers': [<matplotlib.lines.Line2D at 0x279c30f31c0>],\n 'means': []}"
     },
     "execution_count": 75,
     "metadata": {},
     "output_type": "execute_result"
    }
   ],
   "source": [
    "bp_obj"
   ],
   "metadata": {
    "collapsed": false,
    "ExecuteTime": {
     "end_time": "2024-02-28T01:50:41.099479400Z",
     "start_time": "2024-02-28T01:50:40.990303300Z"
    }
   },
   "id": "b2de5bdad07816ea",
   "execution_count": 75
  },
  {
   "cell_type": "code",
   "outputs": [
    {
     "data": {
      "text/plain": "[<matplotlib.lines.Line2D at 0x279c30e5580>,\n <matplotlib.lines.Line2D at 0x279c30e5820>]"
     },
     "execution_count": 80,
     "metadata": {},
     "output_type": "execute_result"
    }
   ],
   "source": [
    "bp_obj['whiskers']"
   ],
   "metadata": {
    "collapsed": false,
    "ExecuteTime": {
     "end_time": "2024-02-28T01:55:26.967514600Z",
     "start_time": "2024-02-28T01:55:26.946581400Z"
    }
   },
   "id": "2a19716ebbe7261e",
   "execution_count": 80
  },
  {
   "cell_type": "code",
   "outputs": [
    {
     "data": {
      "text/plain": "(array([1.25, 1.  ]), array([4., 5.]))"
     },
     "execution_count": 79,
     "metadata": {},
     "output_type": "execute_result"
    }
   ],
   "source": [
    "bp_obj['whiskers'][0].get_ydata(), bp_obj['whiskers'][1].get_ydata()"
   ],
   "metadata": {
    "collapsed": false,
    "ExecuteTime": {
     "end_time": "2024-02-28T01:55:25.067658900Z",
     "start_time": "2024-02-28T01:55:25.040563900Z"
    }
   },
   "id": "20289d6d7aef5857",
   "execution_count": 79
  },
  {
   "cell_type": "code",
   "outputs": [],
   "source": [],
   "metadata": {
    "collapsed": false
   },
   "id": "aa6429998b1214b9"
  }
 ],
 "metadata": {
  "kernelspec": {
   "display_name": "Python 3",
   "language": "python",
   "name": "python3"
  },
  "language_info": {
   "codemirror_mode": {
    "name": "ipython",
    "version": 2
   },
   "file_extension": ".py",
   "mimetype": "text/x-python",
   "name": "python",
   "nbconvert_exporter": "python",
   "pygments_lexer": "ipython2",
   "version": "2.7.6"
  }
 },
 "nbformat": 4,
 "nbformat_minor": 5
}
