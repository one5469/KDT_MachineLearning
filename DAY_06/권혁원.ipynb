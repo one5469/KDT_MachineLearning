{
 "cells": [
  {
   "cell_type": "markdown",
   "source": [
    "1번"
   ],
   "metadata": {
    "collapsed": false
   },
   "id": "2b4de9cf13288350"
  },
  {
   "cell_type": "markdown",
   "source": [
    "- 먼저 어떤 분석을 할 것인지에 대한 프로젝트를 정의한다. 프로젝트가 정의되면 프로젝트에 맞는 데이터를 수집하고, 이를 모델에 사용하기 적합하도록 전처리를 해준다. 데이터 전처리까지 끝나면 회귀 분석을 할 것인지, 분류를 할 것인지 등 목적에 따라 기계학습 모델을 형성하고 데이터를 학습시킨다. 이후, 성능 평가를 해보고 만약 문제가 있다고 판단되면 세부적인 모델 튜닝을 통해 모델을 개선한다. 이후 성능 평가에서 만족스러운 결과가 나왔다면 이를 실제 현장에서 적용해볼 수 있다."
   ],
   "metadata": {
    "collapsed": false
   },
   "id": "ac8b3174ccbc5d04"
  },
  {
   "cell_type": "markdown",
   "source": [
    "2번"
   ],
   "metadata": {
    "collapsed": false
   },
   "id": "7e187ed4bf87a9e1"
  },
  {
   "cell_type": "markdown",
   "source": [
    "- 데이터셋은 기계학습 모델을 학습시키는데 사용하는 train set과 성능 평가를 위해 사용되는 test set으로 나뉜다. 여기서 모델의 검증을 위해서 train set에서 validation set을 별도로 구분하기도 한다."
   ],
   "metadata": {
    "collapsed": false
   },
   "id": "107a3a5dd1bff6c2"
  },
  {
   "cell_type": "markdown",
   "source": [
    "3번"
   ],
   "metadata": {
    "collapsed": false
   },
   "id": "936f4a8d2b96c944"
  },
  {
   "cell_type": "markdown",
   "source": [
    "- 지도학습과 비지도학습을 구분하는 가장 큰 특징은 데이터 라벨링의 여부로 라벨링이 되어있는 데이터셋을 사용한다면 지도학습에 속한다. 따라서 지도학습을 사용한 기계학습 모델을 평가할 때 모델이 예측한 값과 실제 라벨링된 값을 비교하게 된다."
   ],
   "metadata": {
    "collapsed": false
   },
   "id": "442a015c2e0b6441"
  },
  {
   "cell_type": "markdown",
   "source": [
    "4번"
   ],
   "metadata": {
    "collapsed": false
   },
   "id": "f4210bcb17254f6c"
  },
  {
   "cell_type": "markdown",
   "source": [
    "- 데이터 전처리 방법 중 하나로 스케일링이 있다. 데이터 특성마다 최대값, 최소값, 평균값 등 통계치가 모두 달라 이를 그대로 모델에 사용하면 데이터 특성을 제대로 반영하지 못한다는 문제가 있으므로 이를 특정 기준을 이용해 특정 범주로 스케일링 함으로써 범위를 맞춘다."
   ],
   "metadata": {
    "collapsed": false
   },
   "id": "1c60352a463f39c1"
  },
  {
   "cell_type": "markdown",
   "source": [
    "5번"
   ],
   "metadata": {
    "collapsed": false
   },
   "id": "673530dc00f7f0e2"
  },
  {
   "cell_type": "markdown",
   "source": [
    "- 특정 데이터값을 이용해 회귀분석이나 분류를 할 때 모든 데이터의 특성을 반영하는 최적의 식을 만들어서 예측이나 분류를 하게 된다. 기계학습 모델은 데이터셋이 주어졌을 때 최적의 식을 생성하고 이를 이용해 회귀나 분류를 할 수 있게 해준다."
   ],
   "metadata": {
    "collapsed": false
   },
   "id": "c468aea4507f6d7e"
  },
  {
   "cell_type": "markdown",
   "source": [
    "6번"
   ],
   "metadata": {
    "collapsed": false
   },
   "id": "bb0d1faf3df053a"
  },
  {
   "cell_type": "markdown",
   "source": [
    "- 모델을 통해 수치를 예측하는 기계학습은 회귀에 해당한다"
   ],
   "metadata": {
    "collapsed": false
   },
   "id": "74749ed00a52967b"
  },
  {
   "cell_type": "markdown",
   "source": [
    "7번"
   ],
   "metadata": {
    "collapsed": false
   },
   "id": "4adf9774fcc6e610"
  },
  {
   "cell_type": "markdown",
   "source": [
    "- 모델 파라미터는 회귀 등 기계학습 모델에 사용되는 식에 포함되며 특정 특성에 곱해지는 가중치와 전체 식에 더해지는 값이 해당된다."
   ],
   "metadata": {
    "collapsed": false
   },
   "id": "8148b2815e0cd5d"
  },
  {
   "cell_type": "markdown",
   "source": [
    "8번"
   ],
   "metadata": {
    "collapsed": false
   },
   "id": "8b911757f8202944"
  },
  {
   "cell_type": "markdown",
   "source": [
    "- KNN 알고리즘은 어떤 데이터셋에서 특정 데이터와 인접하는 데이터들을 이용하여 모델을 형성하는 알고리즘으로 회귀 모델, 분류 모델에 사용할 수 있다. 회귀 모델의 경우 인접하는 K개의 데이터들의 수치들을 종합하며 분류 모델의 경우 인접하는 K개의 모델들이 분류된 범주들을 분석하여 가장 연관성이 높은 범주에 분류하는 방식이다."
   ],
   "metadata": {
    "collapsed": false
   },
   "id": "3a019992c48c1d8"
  },
  {
   "cell_type": "markdown",
   "source": [
    "9번"
   ],
   "metadata": {
    "collapsed": false
   },
   "id": "d4449baea3d12e0c"
  },
  {
   "cell_type": "markdown",
   "source": [
    "- 하이퍼 파라미터는 모델을 형성할 때 전달하는 일종의 매게 인자로 KNN 알고리즘의 n_neighbor(k값)등이 해당된다."
   ],
   "metadata": {
    "collapsed": false
   },
   "id": "633d4a0c1d025e40"
  },
  {
   "cell_type": "markdown",
   "source": [
    "10번"
   ],
   "metadata": {
    "collapsed": false
   },
   "id": "326c691c4fdee96c"
  },
  {
   "cell_type": "markdown",
   "source": [
    "- 회귀 모델의 성능평가 지표는 결정계수, 평균오차제곱(Mean Square Error;MSE), 평균오차절대값(Mean Absoluate Error;MAE) 등이 있다. 결정계수는 해당 모델이 예측한 값이 실제 값과 얼마나 유사한지에 대한 지표로 높을 수록 모델 성능이 좋다. MSE와 MAE는 모델의 예측값과 실제 값의 오차를 각각 제곱하거나 절대값으로 변환하여 평균낸 수치로 낮을 수록 모델 성능이 좋다."
   ],
   "metadata": {
    "collapsed": false
   },
   "id": "53900f56cdd7b42a"
  },
  {
   "cell_type": "markdown",
   "source": [
    "11번"
   ],
   "metadata": {
    "collapsed": false
   },
   "id": "b2147046e7a78494"
  },
  {
   "cell_type": "markdown",
   "source": [
    "- 선형회귀는 가장 간단한 회귀 모델로 주어진 데이터값을 이용해 모든 데이터의 특성을 최대한 반영할 수 있는 최적의 직선의 방정식을 만들고, 이 직선의 방정식을 이용하여 예측하는 방식이다."
   ],
   "metadata": {
    "collapsed": false
   },
   "id": "7ab50942c6f1c81d"
  },
  {
   "cell_type": "markdown",
   "source": [
    "12번"
   ],
   "metadata": {
    "collapsed": false
   },
   "id": "db3c6671c823b994"
  },
  {
   "cell_type": "markdown",
   "source": [
    "- 분류 모델의 성능평가 지표는 정밀도, 재현율, F1-score, confusion matrix 등이 있다. 정밀도는 모델이 예측한 결과 중에 True Positive와 False Positive를 합한 값에서 True Positive에 해당하는 비율을 나타내며 모델이 양성으로 예측한 값 중 실제 양성값이 얼마나 있는지를 나타낸다. 재현율은 모델이 예측한 결과 중에 True Positive와 False Negative를 합한 값에서 True Positive에 해당하는 비율을 나타내며 모델이 실제 양성값 중에서 얼마나 맞췄는지를 나타낸다. 데이터와 모델의 특성에 따라 두 지표의 중요도가 다르고 각각의 지표만 사용해서는 모든 특성을 보여줄 수 없으므로 이 두 지표를 융합한 F1-score를 사용하기도 한다. confusion matrix는 실제 모델이 각 데이터마다 예측한 결과값의 총합을 실제값과 비교해서 행렬의 형태로 보여준 것이다."
   ],
   "metadata": {
    "collapsed": false
   },
   "id": "981fc04dc92d743a"
  },
  {
   "cell_type": "markdown",
   "source": [
    "13번"
   ],
   "metadata": {
    "collapsed": false
   },
   "id": "237c399a3bb9e416"
  },
  {
   "cell_type": "markdown",
   "source": [
    "- 특성공학은 기존의 특성을 이용해서 새로운 특성을 추가하는 기법으로 기존의 특성만으로는 예측하기 어려울 때 사용한다."
   ],
   "metadata": {
    "collapsed": false
   },
   "id": "270110526715f490"
  },
  {
   "cell_type": "markdown",
   "source": [
    "14번"
   ],
   "metadata": {
    "collapsed": false
   },
   "id": "fe7e1e80efdcd1b3"
  },
  {
   "cell_type": "markdown",
   "source": [
    "- 로지스틱 회귀는 기본적으로 이진 분류에서 사용되는 모델이며 타겟 범주가 3가지 이상일 경우는 로지스틱 회귀 모델을 여러개 사용하는 식으로 이용한다. 로지스틱 회귀는 직선의 방정식을 아용하는 선형회귀와 달리 로지스틱 함수를 이용하는데, 데이터셋에서 어떤 데이터가 특정 범주에 속할 확률을 따지고 가장 확률이 높은 범주로 분류하는 방식을 사용한다."
   ],
   "metadata": {
    "collapsed": false
   },
   "id": "684fbcce835ab9bd"
  },
  {
   "cell_type": "markdown",
   "source": [
    "15번"
   ],
   "metadata": {
    "collapsed": false
   },
   "id": "e981563c666f7cce"
  },
  {
   "cell_type": "markdown",
   "source": [
    "- 과대적합(Overfitting)은 모델이 train dataset의 특성을 너무 과하게 반영된 상태로 새로운 입력값이 주어졌을 때 성능이 크게 떨어질 수 있다는 문제가 있다. 과소적합(Underfitting)은 모델의 학습 수준이 지나치게 낮아서 생기는 문제이다."
   ],
   "metadata": {
    "collapsed": false
   },
   "id": "8326b3f1acac0a96"
  },
  {
   "cell_type": "markdown",
   "source": [
    "16번"
   ],
   "metadata": {
    "collapsed": false
   },
   "id": "160b9425df4e520f"
  },
  {
   "cell_type": "code",
   "outputs": [],
   "source": [
    "import pandas as pd\n",
    "from sklearn.model_selection import train_test_split\n",
    "from sklearn.linear_model import LogisticRegression, LinearRegression\n",
    "from sklearn.metrics import r2_score, mean_squared_error, mean_absolute_error\n",
    "from sklearn.metrics import classification_report, confusion_matrix"
   ],
   "metadata": {
    "collapsed": false,
    "ExecuteTime": {
     "end_time": "2024-03-04T02:21:36.476457400Z",
     "start_time": "2024-03-04T02:21:36.415971600Z"
    }
   },
   "id": "1155f2df2c7b457d",
   "execution_count": 13
  },
  {
   "cell_type": "code",
   "outputs": [],
   "source": [
    "file = '../data/iris.csv'"
   ],
   "metadata": {
    "collapsed": false,
    "ExecuteTime": {
     "end_time": "2024-03-04T02:21:36.490432600Z",
     "start_time": "2024-03-04T02:21:36.458972200Z"
    }
   },
   "id": "ed87a725680c6ae3",
   "execution_count": 14
  },
  {
   "cell_type": "code",
   "outputs": [
    {
     "data": {
      "text/plain": "     sepal_length  sepal_width  petal_length  petal_width    species\n0             5.1          3.5           1.4          0.2     setosa\n1             4.9          3.0           1.4          0.2     setosa\n2             4.7          3.2           1.3          0.2     setosa\n3             4.6          3.1           1.5          0.2     setosa\n4             5.0          3.6           1.4          0.2     setosa\n..            ...          ...           ...          ...        ...\n145           6.7          3.0           5.2          2.3  virginica\n146           6.3          2.5           5.0          1.9  virginica\n147           6.5          3.0           5.2          2.0  virginica\n148           6.2          3.4           5.4          2.3  virginica\n149           5.9          3.0           5.1          1.8  virginica\n\n[150 rows x 5 columns]",
      "text/html": "<div>\n<style scoped>\n    .dataframe tbody tr th:only-of-type {\n        vertical-align: middle;\n    }\n\n    .dataframe tbody tr th {\n        vertical-align: top;\n    }\n\n    .dataframe thead th {\n        text-align: right;\n    }\n</style>\n<table border=\"1\" class=\"dataframe\">\n  <thead>\n    <tr style=\"text-align: right;\">\n      <th></th>\n      <th>sepal_length</th>\n      <th>sepal_width</th>\n      <th>petal_length</th>\n      <th>petal_width</th>\n      <th>species</th>\n    </tr>\n  </thead>\n  <tbody>\n    <tr>\n      <th>0</th>\n      <td>5.1</td>\n      <td>3.5</td>\n      <td>1.4</td>\n      <td>0.2</td>\n      <td>setosa</td>\n    </tr>\n    <tr>\n      <th>1</th>\n      <td>4.9</td>\n      <td>3.0</td>\n      <td>1.4</td>\n      <td>0.2</td>\n      <td>setosa</td>\n    </tr>\n    <tr>\n      <th>2</th>\n      <td>4.7</td>\n      <td>3.2</td>\n      <td>1.3</td>\n      <td>0.2</td>\n      <td>setosa</td>\n    </tr>\n    <tr>\n      <th>3</th>\n      <td>4.6</td>\n      <td>3.1</td>\n      <td>1.5</td>\n      <td>0.2</td>\n      <td>setosa</td>\n    </tr>\n    <tr>\n      <th>4</th>\n      <td>5.0</td>\n      <td>3.6</td>\n      <td>1.4</td>\n      <td>0.2</td>\n      <td>setosa</td>\n    </tr>\n    <tr>\n      <th>...</th>\n      <td>...</td>\n      <td>...</td>\n      <td>...</td>\n      <td>...</td>\n      <td>...</td>\n    </tr>\n    <tr>\n      <th>145</th>\n      <td>6.7</td>\n      <td>3.0</td>\n      <td>5.2</td>\n      <td>2.3</td>\n      <td>virginica</td>\n    </tr>\n    <tr>\n      <th>146</th>\n      <td>6.3</td>\n      <td>2.5</td>\n      <td>5.0</td>\n      <td>1.9</td>\n      <td>virginica</td>\n    </tr>\n    <tr>\n      <th>147</th>\n      <td>6.5</td>\n      <td>3.0</td>\n      <td>5.2</td>\n      <td>2.0</td>\n      <td>virginica</td>\n    </tr>\n    <tr>\n      <th>148</th>\n      <td>6.2</td>\n      <td>3.4</td>\n      <td>5.4</td>\n      <td>2.3</td>\n      <td>virginica</td>\n    </tr>\n    <tr>\n      <th>149</th>\n      <td>5.9</td>\n      <td>3.0</td>\n      <td>5.1</td>\n      <td>1.8</td>\n      <td>virginica</td>\n    </tr>\n  </tbody>\n</table>\n<p>150 rows × 5 columns</p>\n</div>"
     },
     "execution_count": 15,
     "metadata": {},
     "output_type": "execute_result"
    }
   ],
   "source": [
    "DF = pd.read_csv(file)\n",
    "DF"
   ],
   "metadata": {
    "collapsed": false,
    "ExecuteTime": {
     "end_time": "2024-03-04T02:21:36.556472400Z",
     "start_time": "2024-03-04T02:21:36.497496300Z"
    }
   },
   "id": "807e932276fe8ad2",
   "execution_count": 15
  },
  {
   "cell_type": "markdown",
   "source": [
    "분류 모델"
   ],
   "metadata": {
    "collapsed": false
   },
   "id": "4d3b94cfa08715d7"
  },
  {
   "cell_type": "code",
   "outputs": [],
   "source": [
    "novirDF = DF[DF['species'] != 'virginica']"
   ],
   "metadata": {
    "collapsed": false,
    "ExecuteTime": {
     "end_time": "2024-03-04T02:23:01.662159600Z",
     "start_time": "2024-03-04T02:23:01.639124500Z"
    }
   },
   "id": "173735ec46a8ece4",
   "execution_count": 25
  },
  {
   "cell_type": "code",
   "outputs": [],
   "source": [
    "X_train, X_test, y_train, y_test = train_test_split(novirDF[['sepal_length', 'sepal_width']], novirDF['species'], stratify=novirDF['species'])"
   ],
   "metadata": {
    "collapsed": false,
    "ExecuteTime": {
     "end_time": "2024-03-04T02:23:01.966461600Z",
     "start_time": "2024-03-04T02:23:01.934176200Z"
    }
   },
   "id": "991b1b4736766e45",
   "execution_count": 26
  },
  {
   "cell_type": "code",
   "outputs": [
    {
     "data": {
      "text/plain": "LogisticRegression(solver='liblinear')",
      "text/html": "<style>#sk-container-id-2 {color: black;}#sk-container-id-2 pre{padding: 0;}#sk-container-id-2 div.sk-toggleable {background-color: white;}#sk-container-id-2 label.sk-toggleable__label {cursor: pointer;display: block;width: 100%;margin-bottom: 0;padding: 0.3em;box-sizing: border-box;text-align: center;}#sk-container-id-2 label.sk-toggleable__label-arrow:before {content: \"▸\";float: left;margin-right: 0.25em;color: #696969;}#sk-container-id-2 label.sk-toggleable__label-arrow:hover:before {color: black;}#sk-container-id-2 div.sk-estimator:hover label.sk-toggleable__label-arrow:before {color: black;}#sk-container-id-2 div.sk-toggleable__content {max-height: 0;max-width: 0;overflow: hidden;text-align: left;background-color: #f0f8ff;}#sk-container-id-2 div.sk-toggleable__content pre {margin: 0.2em;color: black;border-radius: 0.25em;background-color: #f0f8ff;}#sk-container-id-2 input.sk-toggleable__control:checked~div.sk-toggleable__content {max-height: 200px;max-width: 100%;overflow: auto;}#sk-container-id-2 input.sk-toggleable__control:checked~label.sk-toggleable__label-arrow:before {content: \"▾\";}#sk-container-id-2 div.sk-estimator input.sk-toggleable__control:checked~label.sk-toggleable__label {background-color: #d4ebff;}#sk-container-id-2 div.sk-label input.sk-toggleable__control:checked~label.sk-toggleable__label {background-color: #d4ebff;}#sk-container-id-2 input.sk-hidden--visually {border: 0;clip: rect(1px 1px 1px 1px);clip: rect(1px, 1px, 1px, 1px);height: 1px;margin: -1px;overflow: hidden;padding: 0;position: absolute;width: 1px;}#sk-container-id-2 div.sk-estimator {font-family: monospace;background-color: #f0f8ff;border: 1px dotted black;border-radius: 0.25em;box-sizing: border-box;margin-bottom: 0.5em;}#sk-container-id-2 div.sk-estimator:hover {background-color: #d4ebff;}#sk-container-id-2 div.sk-parallel-item::after {content: \"\";width: 100%;border-bottom: 1px solid gray;flex-grow: 1;}#sk-container-id-2 div.sk-label:hover label.sk-toggleable__label {background-color: #d4ebff;}#sk-container-id-2 div.sk-serial::before {content: \"\";position: absolute;border-left: 1px solid gray;box-sizing: border-box;top: 0;bottom: 0;left: 50%;z-index: 0;}#sk-container-id-2 div.sk-serial {display: flex;flex-direction: column;align-items: center;background-color: white;padding-right: 0.2em;padding-left: 0.2em;position: relative;}#sk-container-id-2 div.sk-item {position: relative;z-index: 1;}#sk-container-id-2 div.sk-parallel {display: flex;align-items: stretch;justify-content: center;background-color: white;position: relative;}#sk-container-id-2 div.sk-item::before, #sk-container-id-2 div.sk-parallel-item::before {content: \"\";position: absolute;border-left: 1px solid gray;box-sizing: border-box;top: 0;bottom: 0;left: 50%;z-index: -1;}#sk-container-id-2 div.sk-parallel-item {display: flex;flex-direction: column;z-index: 1;position: relative;background-color: white;}#sk-container-id-2 div.sk-parallel-item:first-child::after {align-self: flex-end;width: 50%;}#sk-container-id-2 div.sk-parallel-item:last-child::after {align-self: flex-start;width: 50%;}#sk-container-id-2 div.sk-parallel-item:only-child::after {width: 0;}#sk-container-id-2 div.sk-dashed-wrapped {border: 1px dashed gray;margin: 0 0.4em 0.5em 0.4em;box-sizing: border-box;padding-bottom: 0.4em;background-color: white;}#sk-container-id-2 div.sk-label label {font-family: monospace;font-weight: bold;display: inline-block;line-height: 1.2em;}#sk-container-id-2 div.sk-label-container {text-align: center;}#sk-container-id-2 div.sk-container {/* jupyter's `normalize.less` sets `[hidden] { display: none; }` but bootstrap.min.css set `[hidden] { display: none !important; }` so we also need the `!important` here to be able to override the default hidden behavior on the sphinx rendered scikit-learn.org. See: https://github.com/scikit-learn/scikit-learn/issues/21755 */display: inline-block !important;position: relative;}#sk-container-id-2 div.sk-text-repr-fallback {display: none;}</style><div id=\"sk-container-id-2\" class=\"sk-top-container\"><div class=\"sk-text-repr-fallback\"><pre>LogisticRegression(solver=&#x27;liblinear&#x27;)</pre><b>In a Jupyter environment, please rerun this cell to show the HTML representation or trust the notebook. <br />On GitHub, the HTML representation is unable to render, please try loading this page with nbviewer.org.</b></div><div class=\"sk-container\" hidden><div class=\"sk-item\"><div class=\"sk-estimator sk-toggleable\"><input class=\"sk-toggleable__control sk-hidden--visually\" id=\"sk-estimator-id-2\" type=\"checkbox\" checked><label for=\"sk-estimator-id-2\" class=\"sk-toggleable__label sk-toggleable__label-arrow\">LogisticRegression</label><div class=\"sk-toggleable__content\"><pre>LogisticRegression(solver=&#x27;liblinear&#x27;)</pre></div></div></div></div></div>"
     },
     "execution_count": 27,
     "metadata": {},
     "output_type": "execute_result"
    }
   ],
   "source": [
    "Log_model = LogisticRegression(solver='liblinear')\n",
    "Log_model.fit(X_train, y_train)"
   ],
   "metadata": {
    "collapsed": false,
    "ExecuteTime": {
     "end_time": "2024-03-04T02:23:02.355311Z",
     "start_time": "2024-03-04T02:23:02.317941200Z"
    }
   },
   "id": "27b60a67095fb49f",
   "execution_count": 27
  },
  {
   "cell_type": "code",
   "outputs": [
    {
     "data": {
      "text/plain": "(0.9866666666666667, 1.0)"
     },
     "execution_count": 28,
     "metadata": {},
     "output_type": "execute_result"
    }
   ],
   "source": [
    "Log_model.score(X_train, y_train), Log_model.score(X_test, y_test)"
   ],
   "metadata": {
    "collapsed": false,
    "ExecuteTime": {
     "end_time": "2024-03-04T02:23:02.997224400Z",
     "start_time": "2024-03-04T02:23:02.990682100Z"
    }
   },
   "id": "1d4a6c96ec5ceabd",
   "execution_count": 28
  },
  {
   "cell_type": "code",
   "outputs": [
    {
     "name": "stdout",
     "output_type": "stream",
     "text": [
      "              precision    recall  f1-score   support\n",
      "\n",
      "      setosa       1.00      1.00      1.00        12\n",
      "  versicolor       1.00      1.00      1.00        13\n",
      "\n",
      "    accuracy                           1.00        25\n",
      "   macro avg       1.00      1.00      1.00        25\n",
      "weighted avg       1.00      1.00      1.00        25\n"
     ]
    }
   ],
   "source": [
    "print(classification_report(y_test, Log_model.predict(X_test)))"
   ],
   "metadata": {
    "collapsed": false,
    "ExecuteTime": {
     "end_time": "2024-03-04T02:23:06.378369300Z",
     "start_time": "2024-03-04T02:23:06.357262700Z"
    }
   },
   "id": "bce2f5e621c7709e",
   "execution_count": 29
  },
  {
   "cell_type": "code",
   "outputs": [
    {
     "name": "stdout",
     "output_type": "stream",
     "text": [
      "[[12  0]\n",
      " [ 0 13]]\n"
     ]
    }
   ],
   "source": [
    "print(confusion_matrix(y_test, Log_model.predict(X_test)))"
   ],
   "metadata": {
    "collapsed": false,
    "ExecuteTime": {
     "end_time": "2024-03-04T02:23:07.132807100Z",
     "start_time": "2024-03-04T02:23:07.126494900Z"
    }
   },
   "id": "6c313d0868fe1aae",
   "execution_count": 30
  },
  {
   "cell_type": "markdown",
   "source": [
    "회귀 모델"
   ],
   "metadata": {
    "collapsed": false
   },
   "id": "d575341d5d190508"
  },
  {
   "cell_type": "code",
   "outputs": [],
   "source": [
    "setosaDF = novirDF = DF[DF['species'] == 'setosa']"
   ],
   "metadata": {
    "collapsed": false,
    "ExecuteTime": {
     "end_time": "2024-03-04T02:26:22.838154Z",
     "start_time": "2024-03-04T02:26:22.810355100Z"
    }
   },
   "id": "693162326722e39d",
   "execution_count": 36
  },
  {
   "cell_type": "code",
   "outputs": [],
   "source": [
    "# 어떤게 꽃잎이더라...\n",
    "X_train, X_test, y_train, y_test = train_test_split(setosaDF[['petal_width']], setosaDF['petal_length'])"
   ],
   "metadata": {
    "collapsed": false,
    "ExecuteTime": {
     "end_time": "2024-03-04T02:26:23.147598600Z",
     "start_time": "2024-03-04T02:26:23.125534500Z"
    }
   },
   "id": "81f3b847bef18238",
   "execution_count": 37
  },
  {
   "cell_type": "code",
   "outputs": [
    {
     "data": {
      "text/plain": "LinearRegression()",
      "text/html": "<style>#sk-container-id-4 {color: black;}#sk-container-id-4 pre{padding: 0;}#sk-container-id-4 div.sk-toggleable {background-color: white;}#sk-container-id-4 label.sk-toggleable__label {cursor: pointer;display: block;width: 100%;margin-bottom: 0;padding: 0.3em;box-sizing: border-box;text-align: center;}#sk-container-id-4 label.sk-toggleable__label-arrow:before {content: \"▸\";float: left;margin-right: 0.25em;color: #696969;}#sk-container-id-4 label.sk-toggleable__label-arrow:hover:before {color: black;}#sk-container-id-4 div.sk-estimator:hover label.sk-toggleable__label-arrow:before {color: black;}#sk-container-id-4 div.sk-toggleable__content {max-height: 0;max-width: 0;overflow: hidden;text-align: left;background-color: #f0f8ff;}#sk-container-id-4 div.sk-toggleable__content pre {margin: 0.2em;color: black;border-radius: 0.25em;background-color: #f0f8ff;}#sk-container-id-4 input.sk-toggleable__control:checked~div.sk-toggleable__content {max-height: 200px;max-width: 100%;overflow: auto;}#sk-container-id-4 input.sk-toggleable__control:checked~label.sk-toggleable__label-arrow:before {content: \"▾\";}#sk-container-id-4 div.sk-estimator input.sk-toggleable__control:checked~label.sk-toggleable__label {background-color: #d4ebff;}#sk-container-id-4 div.sk-label input.sk-toggleable__control:checked~label.sk-toggleable__label {background-color: #d4ebff;}#sk-container-id-4 input.sk-hidden--visually {border: 0;clip: rect(1px 1px 1px 1px);clip: rect(1px, 1px, 1px, 1px);height: 1px;margin: -1px;overflow: hidden;padding: 0;position: absolute;width: 1px;}#sk-container-id-4 div.sk-estimator {font-family: monospace;background-color: #f0f8ff;border: 1px dotted black;border-radius: 0.25em;box-sizing: border-box;margin-bottom: 0.5em;}#sk-container-id-4 div.sk-estimator:hover {background-color: #d4ebff;}#sk-container-id-4 div.sk-parallel-item::after {content: \"\";width: 100%;border-bottom: 1px solid gray;flex-grow: 1;}#sk-container-id-4 div.sk-label:hover label.sk-toggleable__label {background-color: #d4ebff;}#sk-container-id-4 div.sk-serial::before {content: \"\";position: absolute;border-left: 1px solid gray;box-sizing: border-box;top: 0;bottom: 0;left: 50%;z-index: 0;}#sk-container-id-4 div.sk-serial {display: flex;flex-direction: column;align-items: center;background-color: white;padding-right: 0.2em;padding-left: 0.2em;position: relative;}#sk-container-id-4 div.sk-item {position: relative;z-index: 1;}#sk-container-id-4 div.sk-parallel {display: flex;align-items: stretch;justify-content: center;background-color: white;position: relative;}#sk-container-id-4 div.sk-item::before, #sk-container-id-4 div.sk-parallel-item::before {content: \"\";position: absolute;border-left: 1px solid gray;box-sizing: border-box;top: 0;bottom: 0;left: 50%;z-index: -1;}#sk-container-id-4 div.sk-parallel-item {display: flex;flex-direction: column;z-index: 1;position: relative;background-color: white;}#sk-container-id-4 div.sk-parallel-item:first-child::after {align-self: flex-end;width: 50%;}#sk-container-id-4 div.sk-parallel-item:last-child::after {align-self: flex-start;width: 50%;}#sk-container-id-4 div.sk-parallel-item:only-child::after {width: 0;}#sk-container-id-4 div.sk-dashed-wrapped {border: 1px dashed gray;margin: 0 0.4em 0.5em 0.4em;box-sizing: border-box;padding-bottom: 0.4em;background-color: white;}#sk-container-id-4 div.sk-label label {font-family: monospace;font-weight: bold;display: inline-block;line-height: 1.2em;}#sk-container-id-4 div.sk-label-container {text-align: center;}#sk-container-id-4 div.sk-container {/* jupyter's `normalize.less` sets `[hidden] { display: none; }` but bootstrap.min.css set `[hidden] { display: none !important; }` so we also need the `!important` here to be able to override the default hidden behavior on the sphinx rendered scikit-learn.org. See: https://github.com/scikit-learn/scikit-learn/issues/21755 */display: inline-block !important;position: relative;}#sk-container-id-4 div.sk-text-repr-fallback {display: none;}</style><div id=\"sk-container-id-4\" class=\"sk-top-container\"><div class=\"sk-text-repr-fallback\"><pre>LinearRegression()</pre><b>In a Jupyter environment, please rerun this cell to show the HTML representation or trust the notebook. <br />On GitHub, the HTML representation is unable to render, please try loading this page with nbviewer.org.</b></div><div class=\"sk-container\" hidden><div class=\"sk-item\"><div class=\"sk-estimator sk-toggleable\"><input class=\"sk-toggleable__control sk-hidden--visually\" id=\"sk-estimator-id-4\" type=\"checkbox\" checked><label for=\"sk-estimator-id-4\" class=\"sk-toggleable__label sk-toggleable__label-arrow\">LinearRegression</label><div class=\"sk-toggleable__content\"><pre>LinearRegression()</pre></div></div></div></div></div>"
     },
     "execution_count": 38,
     "metadata": {},
     "output_type": "execute_result"
    }
   ],
   "source": [
    "Linear_model = LinearRegression()\n",
    "Linear_model.fit(X_train, y_train)"
   ],
   "metadata": {
    "collapsed": false,
    "ExecuteTime": {
     "end_time": "2024-03-04T02:26:23.812783Z",
     "start_time": "2024-03-04T02:26:23.804298600Z"
    }
   },
   "id": "9f1e40298ed07d9f",
   "execution_count": 38
  },
  {
   "cell_type": "code",
   "outputs": [
    {
     "data": {
      "text/plain": "(0.11917488094301298, -0.3564324153952674)"
     },
     "execution_count": 39,
     "metadata": {},
     "output_type": "execute_result"
    }
   ],
   "source": [
    "Linear_model.score(X_train, y_train), Linear_model.score(X_test, y_test)"
   ],
   "metadata": {
    "collapsed": false,
    "ExecuteTime": {
     "end_time": "2024-03-04T02:26:24.546455800Z",
     "start_time": "2024-03-04T02:26:24.526808600Z"
    }
   },
   "id": "a38583ea83966ef9",
   "execution_count": 39
  },
  {
   "cell_type": "code",
   "outputs": [],
   "source": [],
   "metadata": {
    "collapsed": false,
    "ExecuteTime": {
     "end_time": "2024-03-04T02:26:25.129552500Z",
     "start_time": "2024-03-04T02:26:25.113333700Z"
    }
   },
   "id": "310f539c550f92c0",
   "execution_count": 39
  },
  {
   "cell_type": "code",
   "outputs": [
    {
     "data": {
      "text/plain": "-0.3564324153952674"
     },
     "execution_count": 40,
     "metadata": {},
     "output_type": "execute_result"
    }
   ],
   "source": [
    "r2_score(y_test, Linear_model.predict(X_test))"
   ],
   "metadata": {
    "collapsed": false,
    "ExecuteTime": {
     "end_time": "2024-03-04T02:26:59.281685600Z",
     "start_time": "2024-03-04T02:26:59.225348900Z"
    }
   },
   "id": "f7214b7f02019d4b",
   "execution_count": 40
  },
  {
   "cell_type": "code",
   "outputs": [
    {
     "data": {
      "text/plain": "0.03130228650912155"
     },
     "execution_count": 41,
     "metadata": {},
     "output_type": "execute_result"
    }
   ],
   "source": [
    "mean_squared_error(y_test, Linear_model.predict(X_test))"
   ],
   "metadata": {
    "collapsed": false,
    "ExecuteTime": {
     "end_time": "2024-03-04T02:27:07.104803700Z",
     "start_time": "2024-03-04T02:27:07.070579500Z"
    }
   },
   "id": "6b062e4eadc27f01",
   "execution_count": 41
  },
  {
   "cell_type": "code",
   "outputs": [
    {
     "data": {
      "text/plain": "0.1388132383443053"
     },
     "execution_count": 42,
     "metadata": {},
     "output_type": "execute_result"
    }
   ],
   "source": [
    "mean_absolute_error(y_test, Linear_model.predict(X_test))"
   ],
   "metadata": {
    "collapsed": false,
    "ExecuteTime": {
     "end_time": "2024-03-04T02:27:22.547008400Z",
     "start_time": "2024-03-04T02:27:22.512836700Z"
    }
   },
   "id": "c96ec0dbe67a8a59",
   "execution_count": 42
  },
  {
   "cell_type": "code",
   "outputs": [],
   "source": [],
   "metadata": {
    "collapsed": false
   },
   "id": "2d55effea7c3a070"
  }
 ],
 "metadata": {
  "kernelspec": {
   "display_name": "Python 3",
   "language": "python",
   "name": "python3"
  },
  "language_info": {
   "codemirror_mode": {
    "name": "ipython",
    "version": 2
   },
   "file_extension": ".py",
   "mimetype": "text/x-python",
   "name": "python",
   "nbconvert_exporter": "python",
   "pygments_lexer": "ipython2",
   "version": "2.7.6"
  }
 },
 "nbformat": 4,
 "nbformat_minor": 5
}
