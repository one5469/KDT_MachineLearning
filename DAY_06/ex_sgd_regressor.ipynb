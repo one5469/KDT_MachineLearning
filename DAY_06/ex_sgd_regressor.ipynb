{
 "cells": [
  {
   "cell_type": "markdown",
   "source": [
    "### 목표 : 미니배치기반 기계학습 진행 실습\n",
    "- 확률적경사하강법 기반의 알고리즘 적용 모델\n",
    "- 데이터의 처음부터 끝까지(에포크) 학습 후 가중치(W)와 절편(b) 업데이트 하는 방식에서 에포크를 미니배치 크기만큼 나누어서 학습 후 가중치(W)와 절편(b) 업데이트 진행 함\n",
    "- 장점\n",
    "    * 온라인 학습 즉, 점진적 학습 가능 => partial_fit() : 기존 모델에 추가로 1에포크 학습\n",
    "    * 기존의 다른 모델보다 속도 빠름 => 랜덤으로 한개 데이터 추출 후 학습 진행\n",
    "    * 조기 학습 중단 설정 가능\n",
    "- 단점\n",
    "    * 전체 학습보다 정확도는 떨어질 수 있음"
   ],
   "metadata": {
    "collapsed": false
   },
   "id": "bec0475c314f81f8"
  },
  {
   "cell_type": "markdown",
   "source": [
    "[1] 모듈 로딩 및 데이터 준비"
   ],
   "metadata": {
    "collapsed": false
   },
   "id": "e765a23a3931313a"
  },
  {
   "cell_type": "code",
   "outputs": [],
   "source": [
    "# 모듈 로딩\n",
    "import pandas as pd\n",
    "\n",
    "data = '../data/fish.csv'"
   ],
   "metadata": {
    "collapsed": false,
    "ExecuteTime": {
     "end_time": "2024-03-04T11:22:53.780065200Z",
     "start_time": "2024-03-04T11:22:53.727629800Z"
    }
   },
   "id": "871576f974265ce",
   "execution_count": 49
  },
  {
   "cell_type": "code",
   "outputs": [
    {
     "data": {
      "text/plain": "    Species  Weight  Length  Diagonal   Height   Width\n0     Bream   242.0    25.4      30.0  11.5200  4.0200\n1     Bream   290.0    26.3      31.2  12.4800  4.3056\n2     Bream   340.0    26.5      31.1  12.3778  4.6961\n3     Bream   363.0    29.0      33.5  12.7300  4.4555\n4     Bream   430.0    29.0      34.0  12.4440  5.1340\n..      ...     ...     ...       ...      ...     ...\n154   Smelt    12.2    12.2      13.4   2.0904  1.3936\n155   Smelt    13.4    12.4      13.5   2.4300  1.2690\n156   Smelt    12.2    13.0      13.8   2.2770  1.2558\n157   Smelt    19.7    14.3      15.2   2.8728  2.0672\n158   Smelt    19.9    15.0      16.2   2.9322  1.8792\n\n[159 rows x 6 columns]",
      "text/html": "<div>\n<style scoped>\n    .dataframe tbody tr th:only-of-type {\n        vertical-align: middle;\n    }\n\n    .dataframe tbody tr th {\n        vertical-align: top;\n    }\n\n    .dataframe thead th {\n        text-align: right;\n    }\n</style>\n<table border=\"1\" class=\"dataframe\">\n  <thead>\n    <tr style=\"text-align: right;\">\n      <th></th>\n      <th>Species</th>\n      <th>Weight</th>\n      <th>Length</th>\n      <th>Diagonal</th>\n      <th>Height</th>\n      <th>Width</th>\n    </tr>\n  </thead>\n  <tbody>\n    <tr>\n      <th>0</th>\n      <td>Bream</td>\n      <td>242.0</td>\n      <td>25.4</td>\n      <td>30.0</td>\n      <td>11.5200</td>\n      <td>4.0200</td>\n    </tr>\n    <tr>\n      <th>1</th>\n      <td>Bream</td>\n      <td>290.0</td>\n      <td>26.3</td>\n      <td>31.2</td>\n      <td>12.4800</td>\n      <td>4.3056</td>\n    </tr>\n    <tr>\n      <th>2</th>\n      <td>Bream</td>\n      <td>340.0</td>\n      <td>26.5</td>\n      <td>31.1</td>\n      <td>12.3778</td>\n      <td>4.6961</td>\n    </tr>\n    <tr>\n      <th>3</th>\n      <td>Bream</td>\n      <td>363.0</td>\n      <td>29.0</td>\n      <td>33.5</td>\n      <td>12.7300</td>\n      <td>4.4555</td>\n    </tr>\n    <tr>\n      <th>4</th>\n      <td>Bream</td>\n      <td>430.0</td>\n      <td>29.0</td>\n      <td>34.0</td>\n      <td>12.4440</td>\n      <td>5.1340</td>\n    </tr>\n    <tr>\n      <th>...</th>\n      <td>...</td>\n      <td>...</td>\n      <td>...</td>\n      <td>...</td>\n      <td>...</td>\n      <td>...</td>\n    </tr>\n    <tr>\n      <th>154</th>\n      <td>Smelt</td>\n      <td>12.2</td>\n      <td>12.2</td>\n      <td>13.4</td>\n      <td>2.0904</td>\n      <td>1.3936</td>\n    </tr>\n    <tr>\n      <th>155</th>\n      <td>Smelt</td>\n      <td>13.4</td>\n      <td>12.4</td>\n      <td>13.5</td>\n      <td>2.4300</td>\n      <td>1.2690</td>\n    </tr>\n    <tr>\n      <th>156</th>\n      <td>Smelt</td>\n      <td>12.2</td>\n      <td>13.0</td>\n      <td>13.8</td>\n      <td>2.2770</td>\n      <td>1.2558</td>\n    </tr>\n    <tr>\n      <th>157</th>\n      <td>Smelt</td>\n      <td>19.7</td>\n      <td>14.3</td>\n      <td>15.2</td>\n      <td>2.8728</td>\n      <td>2.0672</td>\n    </tr>\n    <tr>\n      <th>158</th>\n      <td>Smelt</td>\n      <td>19.9</td>\n      <td>15.0</td>\n      <td>16.2</td>\n      <td>2.9322</td>\n      <td>1.8792</td>\n    </tr>\n  </tbody>\n</table>\n<p>159 rows × 6 columns</p>\n</div>"
     },
     "execution_count": 50,
     "metadata": {},
     "output_type": "execute_result"
    }
   ],
   "source": [
    "# 데이터 로딩\n",
    "fishDF = pd.read_csv(data)\n",
    "fishDF"
   ],
   "metadata": {
    "collapsed": false,
    "ExecuteTime": {
     "end_time": "2024-03-04T11:22:53.782100300Z",
     "start_time": "2024-03-04T11:22:53.761082900Z"
    }
   },
   "id": "79bc897a5b9b6c26",
   "execution_count": 50
  },
  {
   "cell_type": "markdown",
   "source": [
    "[2] 데이터 전처리 => 학습을 위한 가공"
   ],
   "metadata": {
    "collapsed": false
   },
   "id": "f8d14e5edcb9a015"
  },
  {
   "cell_type": "markdown",
   "source": [
    "[2-1] 피쳐 / 타겟 분리"
   ],
   "metadata": {
    "collapsed": false
   },
   "id": "5ce47fc80bee2bf3"
  },
  {
   "cell_type": "code",
   "outputs": [
    {
     "name": "stdout",
     "output_type": "stream",
     "text": [
      "피쳐 => (159, 5), 타겟 => (159,)\n"
     ]
    }
   ],
   "source": [
    "featureDF = fishDF[fishDF.columns[1:]]\n",
    "targetDF = fishDF['Species']\n",
    "\n",
    "print(f'피쳐 => {featureDF.shape}, 타겟 => {targetDF.shape}')"
   ],
   "metadata": {
    "collapsed": false,
    "ExecuteTime": {
     "end_time": "2024-03-04T11:22:53.814991400Z",
     "start_time": "2024-03-04T11:22:53.787270700Z"
    }
   },
   "id": "fa4bb953b462b9fe",
   "execution_count": 51
  },
  {
   "cell_type": "markdown",
   "source": [
    "[2-2] 학습/테스트용 데이터셋 분리"
   ],
   "metadata": {
    "collapsed": false
   },
   "id": "e9038081ff9b144a"
  },
  {
   "cell_type": "code",
   "outputs": [],
   "source": [
    "from sklearn.model_selection import train_test_split\n",
    "\n",
    "X_train, X_test, y_train, y_test = train_test_split(featureDF, targetDF,\n",
    "                                                    stratify=targetDF,\n",
    "                                                    random_state=41)"
   ],
   "metadata": {
    "collapsed": false,
    "ExecuteTime": {
     "end_time": "2024-03-04T11:22:53.892217700Z",
     "start_time": "2024-03-04T11:22:53.806911200Z"
    }
   },
   "id": "47a1d815785563b3",
   "execution_count": 52
  },
  {
   "cell_type": "code",
   "outputs": [
    {
     "name": "stdout",
     "output_type": "stream",
     "text": [
      "훈련용 => (119, 5), (119,)\n",
      "테스트용 => (40, 5), (40,)\n"
     ]
    }
   ],
   "source": [
    "print(f'훈련용 => {X_train.shape}, {y_train.shape}')\n",
    "print(f'테스트용 => {X_test.shape}, {y_test.shape}')"
   ],
   "metadata": {
    "collapsed": false,
    "ExecuteTime": {
     "end_time": "2024-03-04T11:22:53.893287200Z",
     "start_time": "2024-03-04T11:22:53.825954Z"
    }
   },
   "id": "b1361d1c6edac1a1",
   "execution_count": 53
  },
  {
   "cell_type": "markdown",
   "source": [
    "[2-2] 피쳐 => 스케일링"
   ],
   "metadata": {
    "collapsed": false
   },
   "id": "fd31e8852bd60c4c"
  },
  {
   "cell_type": "code",
   "outputs": [
    {
     "data": {
      "text/plain": "StandardScaler()",
      "text/html": "<style>#sk-container-id-10 {color: black;}#sk-container-id-10 pre{padding: 0;}#sk-container-id-10 div.sk-toggleable {background-color: white;}#sk-container-id-10 label.sk-toggleable__label {cursor: pointer;display: block;width: 100%;margin-bottom: 0;padding: 0.3em;box-sizing: border-box;text-align: center;}#sk-container-id-10 label.sk-toggleable__label-arrow:before {content: \"▸\";float: left;margin-right: 0.25em;color: #696969;}#sk-container-id-10 label.sk-toggleable__label-arrow:hover:before {color: black;}#sk-container-id-10 div.sk-estimator:hover label.sk-toggleable__label-arrow:before {color: black;}#sk-container-id-10 div.sk-toggleable__content {max-height: 0;max-width: 0;overflow: hidden;text-align: left;background-color: #f0f8ff;}#sk-container-id-10 div.sk-toggleable__content pre {margin: 0.2em;color: black;border-radius: 0.25em;background-color: #f0f8ff;}#sk-container-id-10 input.sk-toggleable__control:checked~div.sk-toggleable__content {max-height: 200px;max-width: 100%;overflow: auto;}#sk-container-id-10 input.sk-toggleable__control:checked~label.sk-toggleable__label-arrow:before {content: \"▾\";}#sk-container-id-10 div.sk-estimator input.sk-toggleable__control:checked~label.sk-toggleable__label {background-color: #d4ebff;}#sk-container-id-10 div.sk-label input.sk-toggleable__control:checked~label.sk-toggleable__label {background-color: #d4ebff;}#sk-container-id-10 input.sk-hidden--visually {border: 0;clip: rect(1px 1px 1px 1px);clip: rect(1px, 1px, 1px, 1px);height: 1px;margin: -1px;overflow: hidden;padding: 0;position: absolute;width: 1px;}#sk-container-id-10 div.sk-estimator {font-family: monospace;background-color: #f0f8ff;border: 1px dotted black;border-radius: 0.25em;box-sizing: border-box;margin-bottom: 0.5em;}#sk-container-id-10 div.sk-estimator:hover {background-color: #d4ebff;}#sk-container-id-10 div.sk-parallel-item::after {content: \"\";width: 100%;border-bottom: 1px solid gray;flex-grow: 1;}#sk-container-id-10 div.sk-label:hover label.sk-toggleable__label {background-color: #d4ebff;}#sk-container-id-10 div.sk-serial::before {content: \"\";position: absolute;border-left: 1px solid gray;box-sizing: border-box;top: 0;bottom: 0;left: 50%;z-index: 0;}#sk-container-id-10 div.sk-serial {display: flex;flex-direction: column;align-items: center;background-color: white;padding-right: 0.2em;padding-left: 0.2em;position: relative;}#sk-container-id-10 div.sk-item {position: relative;z-index: 1;}#sk-container-id-10 div.sk-parallel {display: flex;align-items: stretch;justify-content: center;background-color: white;position: relative;}#sk-container-id-10 div.sk-item::before, #sk-container-id-10 div.sk-parallel-item::before {content: \"\";position: absolute;border-left: 1px solid gray;box-sizing: border-box;top: 0;bottom: 0;left: 50%;z-index: -1;}#sk-container-id-10 div.sk-parallel-item {display: flex;flex-direction: column;z-index: 1;position: relative;background-color: white;}#sk-container-id-10 div.sk-parallel-item:first-child::after {align-self: flex-end;width: 50%;}#sk-container-id-10 div.sk-parallel-item:last-child::after {align-self: flex-start;width: 50%;}#sk-container-id-10 div.sk-parallel-item:only-child::after {width: 0;}#sk-container-id-10 div.sk-dashed-wrapped {border: 1px dashed gray;margin: 0 0.4em 0.5em 0.4em;box-sizing: border-box;padding-bottom: 0.4em;background-color: white;}#sk-container-id-10 div.sk-label label {font-family: monospace;font-weight: bold;display: inline-block;line-height: 1.2em;}#sk-container-id-10 div.sk-label-container {text-align: center;}#sk-container-id-10 div.sk-container {/* jupyter's `normalize.less` sets `[hidden] { display: none; }` but bootstrap.min.css set `[hidden] { display: none !important; }` so we also need the `!important` here to be able to override the default hidden behavior on the sphinx rendered scikit-learn.org. See: https://github.com/scikit-learn/scikit-learn/issues/21755 */display: inline-block !important;position: relative;}#sk-container-id-10 div.sk-text-repr-fallback {display: none;}</style><div id=\"sk-container-id-10\" class=\"sk-top-container\"><div class=\"sk-text-repr-fallback\"><pre>StandardScaler()</pre><b>In a Jupyter environment, please rerun this cell to show the HTML representation or trust the notebook. <br />On GitHub, the HTML representation is unable to render, please try loading this page with nbviewer.org.</b></div><div class=\"sk-container\" hidden><div class=\"sk-item\"><div class=\"sk-estimator sk-toggleable\"><input class=\"sk-toggleable__control sk-hidden--visually\" id=\"sk-estimator-id-10\" type=\"checkbox\" checked><label for=\"sk-estimator-id-10\" class=\"sk-toggleable__label sk-toggleable__label-arrow\">StandardScaler</label><div class=\"sk-toggleable__content\"><pre>StandardScaler()</pre></div></div></div></div></div>"
     },
     "execution_count": 54,
     "metadata": {},
     "output_type": "execute_result"
    }
   ],
   "source": [
    "# 스케일러 생성\n",
    "from sklearn.preprocessing import StandardScaler\n",
    "\n",
    "sdScaler = StandardScaler()\n",
    "sdScaler.fit(X_train)"
   ],
   "metadata": {
    "collapsed": false,
    "ExecuteTime": {
     "end_time": "2024-03-04T11:22:53.895208400Z",
     "start_time": "2024-03-04T11:22:53.862087200Z"
    }
   },
   "id": "5f36de613d657653",
   "execution_count": 54
  },
  {
   "cell_type": "code",
   "outputs": [],
   "source": [
    "# 훈련용 데이터셋 스케일링\n",
    "scaled_X_train = sdScaler.transform(X_train)\n",
    "\n",
    "# 테스트용 데이터셋 스케일링\n",
    "scaled_X_test = sdScaler.transform(X_test)"
   ],
   "metadata": {
    "collapsed": false,
    "ExecuteTime": {
     "end_time": "2024-03-04T11:22:53.940387700Z",
     "start_time": "2024-03-04T11:22:53.898772400Z"
    }
   },
   "id": "77d0e115cd3b464e",
   "execution_count": 55
  },
  {
   "cell_type": "markdown",
   "source": [
    "[3] 학습 진행\n",
    "- 학습 방법 : 확률적경사하강법(SGD) 기반의 분류"
   ],
   "metadata": {
    "collapsed": false
   },
   "id": "d13b762d36b0d52f"
  },
  {
   "cell_type": "code",
   "outputs": [
    {
     "data": {
      "text/plain": "SGDClassifier(loss='log_loss', n_iter_no_change=100, random_state=41)",
      "text/html": "<style>#sk-container-id-11 {color: black;}#sk-container-id-11 pre{padding: 0;}#sk-container-id-11 div.sk-toggleable {background-color: white;}#sk-container-id-11 label.sk-toggleable__label {cursor: pointer;display: block;width: 100%;margin-bottom: 0;padding: 0.3em;box-sizing: border-box;text-align: center;}#sk-container-id-11 label.sk-toggleable__label-arrow:before {content: \"▸\";float: left;margin-right: 0.25em;color: #696969;}#sk-container-id-11 label.sk-toggleable__label-arrow:hover:before {color: black;}#sk-container-id-11 div.sk-estimator:hover label.sk-toggleable__label-arrow:before {color: black;}#sk-container-id-11 div.sk-toggleable__content {max-height: 0;max-width: 0;overflow: hidden;text-align: left;background-color: #f0f8ff;}#sk-container-id-11 div.sk-toggleable__content pre {margin: 0.2em;color: black;border-radius: 0.25em;background-color: #f0f8ff;}#sk-container-id-11 input.sk-toggleable__control:checked~div.sk-toggleable__content {max-height: 200px;max-width: 100%;overflow: auto;}#sk-container-id-11 input.sk-toggleable__control:checked~label.sk-toggleable__label-arrow:before {content: \"▾\";}#sk-container-id-11 div.sk-estimator input.sk-toggleable__control:checked~label.sk-toggleable__label {background-color: #d4ebff;}#sk-container-id-11 div.sk-label input.sk-toggleable__control:checked~label.sk-toggleable__label {background-color: #d4ebff;}#sk-container-id-11 input.sk-hidden--visually {border: 0;clip: rect(1px 1px 1px 1px);clip: rect(1px, 1px, 1px, 1px);height: 1px;margin: -1px;overflow: hidden;padding: 0;position: absolute;width: 1px;}#sk-container-id-11 div.sk-estimator {font-family: monospace;background-color: #f0f8ff;border: 1px dotted black;border-radius: 0.25em;box-sizing: border-box;margin-bottom: 0.5em;}#sk-container-id-11 div.sk-estimator:hover {background-color: #d4ebff;}#sk-container-id-11 div.sk-parallel-item::after {content: \"\";width: 100%;border-bottom: 1px solid gray;flex-grow: 1;}#sk-container-id-11 div.sk-label:hover label.sk-toggleable__label {background-color: #d4ebff;}#sk-container-id-11 div.sk-serial::before {content: \"\";position: absolute;border-left: 1px solid gray;box-sizing: border-box;top: 0;bottom: 0;left: 50%;z-index: 0;}#sk-container-id-11 div.sk-serial {display: flex;flex-direction: column;align-items: center;background-color: white;padding-right: 0.2em;padding-left: 0.2em;position: relative;}#sk-container-id-11 div.sk-item {position: relative;z-index: 1;}#sk-container-id-11 div.sk-parallel {display: flex;align-items: stretch;justify-content: center;background-color: white;position: relative;}#sk-container-id-11 div.sk-item::before, #sk-container-id-11 div.sk-parallel-item::before {content: \"\";position: absolute;border-left: 1px solid gray;box-sizing: border-box;top: 0;bottom: 0;left: 50%;z-index: -1;}#sk-container-id-11 div.sk-parallel-item {display: flex;flex-direction: column;z-index: 1;position: relative;background-color: white;}#sk-container-id-11 div.sk-parallel-item:first-child::after {align-self: flex-end;width: 50%;}#sk-container-id-11 div.sk-parallel-item:last-child::after {align-self: flex-start;width: 50%;}#sk-container-id-11 div.sk-parallel-item:only-child::after {width: 0;}#sk-container-id-11 div.sk-dashed-wrapped {border: 1px dashed gray;margin: 0 0.4em 0.5em 0.4em;box-sizing: border-box;padding-bottom: 0.4em;background-color: white;}#sk-container-id-11 div.sk-label label {font-family: monospace;font-weight: bold;display: inline-block;line-height: 1.2em;}#sk-container-id-11 div.sk-label-container {text-align: center;}#sk-container-id-11 div.sk-container {/* jupyter's `normalize.less` sets `[hidden] { display: none; }` but bootstrap.min.css set `[hidden] { display: none !important; }` so we also need the `!important` here to be able to override the default hidden behavior on the sphinx rendered scikit-learn.org. See: https://github.com/scikit-learn/scikit-learn/issues/21755 */display: inline-block !important;position: relative;}#sk-container-id-11 div.sk-text-repr-fallback {display: none;}</style><div id=\"sk-container-id-11\" class=\"sk-top-container\"><div class=\"sk-text-repr-fallback\"><pre>SGDClassifier(loss=&#x27;log_loss&#x27;, n_iter_no_change=100, random_state=41)</pre><b>In a Jupyter environment, please rerun this cell to show the HTML representation or trust the notebook. <br />On GitHub, the HTML representation is unable to render, please try loading this page with nbviewer.org.</b></div><div class=\"sk-container\" hidden><div class=\"sk-item\"><div class=\"sk-estimator sk-toggleable\"><input class=\"sk-toggleable__control sk-hidden--visually\" id=\"sk-estimator-id-11\" type=\"checkbox\" checked><label for=\"sk-estimator-id-11\" class=\"sk-toggleable__label sk-toggleable__label-arrow\">SGDClassifier</label><div class=\"sk-toggleable__content\"><pre>SGDClassifier(loss=&#x27;log_loss&#x27;, n_iter_no_change=100, random_state=41)</pre></div></div></div></div></div>"
     },
     "execution_count": 56,
     "metadata": {},
     "output_type": "execute_result"
    }
   ],
   "source": [
    "# 모델 인스턴스 생성\n",
    "from sklearn.linear_model import SGDClassifier\n",
    "\n",
    "model1 = SGDClassifier(random_state=41, verbose=0, loss='log_loss', n_iter_no_change=100)\n",
    "model1.fit(scaled_X_train, y_train)"
   ],
   "metadata": {
    "collapsed": false,
    "ExecuteTime": {
     "end_time": "2024-03-04T11:22:53.985495400Z",
     "start_time": "2024-03-04T11:22:53.919860Z"
    }
   },
   "id": "640725473bd71ac4",
   "execution_count": 56
  },
  {
   "cell_type": "code",
   "outputs": [],
   "source": [
    "train_score1 = model1.score(scaled_X_train, y_train)\n",
    "test_score1 = model1.score(scaled_X_test, y_test)"
   ],
   "metadata": {
    "collapsed": false,
    "ExecuteTime": {
     "end_time": "2024-03-04T11:22:53.987494800Z",
     "start_time": "2024-03-04T11:22:53.948369Z"
    }
   },
   "id": "cfd40e2ac615ac0c",
   "execution_count": 57
  },
  {
   "cell_type": "code",
   "outputs": [
    {
     "name": "stdout",
     "output_type": "stream",
     "text": [
      "[기본 SGD] 학습 점수 : 0.9495798319327731, 테스트 점수 : 0.95\n"
     ]
    }
   ],
   "source": [
    "print(f'[기본 SGD] 학습 점수 : {train_score1}, 테스트 점수 : {test_score1}')"
   ],
   "metadata": {
    "collapsed": false,
    "ExecuteTime": {
     "end_time": "2024-03-04T11:22:54.019728300Z",
     "start_time": "2024-03-04T11:22:53.964442600Z"
    }
   },
   "id": "92ae9f772d920233",
   "execution_count": 58
  },
  {
   "cell_type": "code",
   "outputs": [
    {
     "name": "stdout",
     "output_type": "stream",
     "text": [
      "273\n"
     ]
    }
   ],
   "source": [
    "# 학습 후 설정된 파라미터 즉 모델 파라미터\n",
    "print(f'{model1.n_iter_}')"
   ],
   "metadata": {
    "collapsed": false,
    "ExecuteTime": {
     "end_time": "2024-03-04T11:22:54.023233200Z",
     "start_time": "2024-03-04T11:22:53.978939700Z"
    }
   },
   "id": "9ea3f1db671c5cbb",
   "execution_count": 59
  },
  {
   "cell_type": "markdown",
   "source": [
    "- 1에포크씩 점진적으로 학습 진행 => partial_fit()"
   ],
   "metadata": {
    "collapsed": false
   },
   "id": "c44202317278a6d2"
  },
  {
   "cell_type": "code",
   "outputs": [
    {
     "data": {
      "text/plain": "SGDClassifier(loss='log_loss', random_state=41)",
      "text/html": "<style>#sk-container-id-12 {color: black;}#sk-container-id-12 pre{padding: 0;}#sk-container-id-12 div.sk-toggleable {background-color: white;}#sk-container-id-12 label.sk-toggleable__label {cursor: pointer;display: block;width: 100%;margin-bottom: 0;padding: 0.3em;box-sizing: border-box;text-align: center;}#sk-container-id-12 label.sk-toggleable__label-arrow:before {content: \"▸\";float: left;margin-right: 0.25em;color: #696969;}#sk-container-id-12 label.sk-toggleable__label-arrow:hover:before {color: black;}#sk-container-id-12 div.sk-estimator:hover label.sk-toggleable__label-arrow:before {color: black;}#sk-container-id-12 div.sk-toggleable__content {max-height: 0;max-width: 0;overflow: hidden;text-align: left;background-color: #f0f8ff;}#sk-container-id-12 div.sk-toggleable__content pre {margin: 0.2em;color: black;border-radius: 0.25em;background-color: #f0f8ff;}#sk-container-id-12 input.sk-toggleable__control:checked~div.sk-toggleable__content {max-height: 200px;max-width: 100%;overflow: auto;}#sk-container-id-12 input.sk-toggleable__control:checked~label.sk-toggleable__label-arrow:before {content: \"▾\";}#sk-container-id-12 div.sk-estimator input.sk-toggleable__control:checked~label.sk-toggleable__label {background-color: #d4ebff;}#sk-container-id-12 div.sk-label input.sk-toggleable__control:checked~label.sk-toggleable__label {background-color: #d4ebff;}#sk-container-id-12 input.sk-hidden--visually {border: 0;clip: rect(1px 1px 1px 1px);clip: rect(1px, 1px, 1px, 1px);height: 1px;margin: -1px;overflow: hidden;padding: 0;position: absolute;width: 1px;}#sk-container-id-12 div.sk-estimator {font-family: monospace;background-color: #f0f8ff;border: 1px dotted black;border-radius: 0.25em;box-sizing: border-box;margin-bottom: 0.5em;}#sk-container-id-12 div.sk-estimator:hover {background-color: #d4ebff;}#sk-container-id-12 div.sk-parallel-item::after {content: \"\";width: 100%;border-bottom: 1px solid gray;flex-grow: 1;}#sk-container-id-12 div.sk-label:hover label.sk-toggleable__label {background-color: #d4ebff;}#sk-container-id-12 div.sk-serial::before {content: \"\";position: absolute;border-left: 1px solid gray;box-sizing: border-box;top: 0;bottom: 0;left: 50%;z-index: 0;}#sk-container-id-12 div.sk-serial {display: flex;flex-direction: column;align-items: center;background-color: white;padding-right: 0.2em;padding-left: 0.2em;position: relative;}#sk-container-id-12 div.sk-item {position: relative;z-index: 1;}#sk-container-id-12 div.sk-parallel {display: flex;align-items: stretch;justify-content: center;background-color: white;position: relative;}#sk-container-id-12 div.sk-item::before, #sk-container-id-12 div.sk-parallel-item::before {content: \"\";position: absolute;border-left: 1px solid gray;box-sizing: border-box;top: 0;bottom: 0;left: 50%;z-index: -1;}#sk-container-id-12 div.sk-parallel-item {display: flex;flex-direction: column;z-index: 1;position: relative;background-color: white;}#sk-container-id-12 div.sk-parallel-item:first-child::after {align-self: flex-end;width: 50%;}#sk-container-id-12 div.sk-parallel-item:last-child::after {align-self: flex-start;width: 50%;}#sk-container-id-12 div.sk-parallel-item:only-child::after {width: 0;}#sk-container-id-12 div.sk-dashed-wrapped {border: 1px dashed gray;margin: 0 0.4em 0.5em 0.4em;box-sizing: border-box;padding-bottom: 0.4em;background-color: white;}#sk-container-id-12 div.sk-label label {font-family: monospace;font-weight: bold;display: inline-block;line-height: 1.2em;}#sk-container-id-12 div.sk-label-container {text-align: center;}#sk-container-id-12 div.sk-container {/* jupyter's `normalize.less` sets `[hidden] { display: none; }` but bootstrap.min.css set `[hidden] { display: none !important; }` so we also need the `!important` here to be able to override the default hidden behavior on the sphinx rendered scikit-learn.org. See: https://github.com/scikit-learn/scikit-learn/issues/21755 */display: inline-block !important;position: relative;}#sk-container-id-12 div.sk-text-repr-fallback {display: none;}</style><div id=\"sk-container-id-12\" class=\"sk-top-container\"><div class=\"sk-text-repr-fallback\"><pre>SGDClassifier(loss=&#x27;log_loss&#x27;, random_state=41)</pre><b>In a Jupyter environment, please rerun this cell to show the HTML representation or trust the notebook. <br />On GitHub, the HTML representation is unable to render, please try loading this page with nbviewer.org.</b></div><div class=\"sk-container\" hidden><div class=\"sk-item\"><div class=\"sk-estimator sk-toggleable\"><input class=\"sk-toggleable__control sk-hidden--visually\" id=\"sk-estimator-id-12\" type=\"checkbox\" checked><label for=\"sk-estimator-id-12\" class=\"sk-toggleable__label sk-toggleable__label-arrow\">SGDClassifier</label><div class=\"sk-toggleable__content\"><pre>SGDClassifier(loss=&#x27;log_loss&#x27;, random_state=41)</pre></div></div></div></div></div>"
     },
     "execution_count": 60,
     "metadata": {},
     "output_type": "execute_result"
    }
   ],
   "source": [
    "# 모델 인스턴스 생성\n",
    "model2 = SGDClassifier(random_state=41, verbose=0, loss='log_loss')\n",
    "\n",
    "model2.partial_fit(scaled_X_train, y_train, y_train.unique())"
   ],
   "metadata": {
    "collapsed": false,
    "ExecuteTime": {
     "end_time": "2024-03-04T11:22:54.048588Z",
     "start_time": "2024-03-04T11:22:54.025225Z"
    }
   },
   "id": "738ee8d96cd608d2",
   "execution_count": 60
  },
  {
   "cell_type": "code",
   "outputs": [],
   "source": [
    "train_score2 = model2.score(scaled_X_train, y_train)\n",
    "test_score2 = model2.score(scaled_X_test, y_test)"
   ],
   "metadata": {
    "collapsed": false,
    "ExecuteTime": {
     "end_time": "2024-03-04T11:22:54.074130600Z",
     "start_time": "2024-03-04T11:22:54.043605100Z"
    }
   },
   "id": "76bec5c419d0cdae",
   "execution_count": 61
  },
  {
   "cell_type": "code",
   "outputs": [
    {
     "name": "stdout",
     "output_type": "stream",
     "text": [
      "[기본 SGD] 학습 점수 : 0.7226890756302521, 테스트 점수 : 0.7\n"
     ]
    }
   ],
   "source": [
    "print(f'[기본 SGD] 학습 점수 : {train_score2}, 테스트 점수 : {test_score2}')"
   ],
   "metadata": {
    "collapsed": false,
    "ExecuteTime": {
     "end_time": "2024-03-04T11:22:54.086270300Z",
     "start_time": "2024-03-04T11:22:54.056866900Z"
    }
   },
   "id": "7aeafc25ac9241a0",
   "execution_count": 62
  },
  {
   "cell_type": "code",
   "outputs": [
    {
     "name": "stdout",
     "output_type": "stream",
     "text": [
      "[0번 학습] 학습 점수 : 0.7058823529411765, 테스트 점수 : 0.65\n",
      "[1번 학습] 학습 점수 : 0.6638655462184874, 테스트 점수 : 0.6\n",
      "[2번 학습] 학습 점수 : 0.6302521008403361, 테스트 점수 : 0.525\n",
      "[3번 학습] 학습 점수 : 0.8067226890756303, 테스트 점수 : 0.8\n",
      "[4번 학습] 학습 점수 : 0.8151260504201681, 테스트 점수 : 0.8\n",
      "[5번 학습] 학습 점수 : 0.680672268907563, 테스트 점수 : 0.65\n",
      "[6번 학습] 학습 점수 : 0.7142857142857143, 테스트 점수 : 0.65\n",
      "[7번 학습] 학습 점수 : 0.7563025210084033, 테스트 점수 : 0.675\n",
      "[8번 학습] 학습 점수 : 0.7647058823529411, 테스트 점수 : 0.675\n",
      "[9번 학습] 학습 점수 : 0.7983193277310925, 테스트 점수 : 0.725\n",
      "[10번 학습] 학습 점수 : 0.7815126050420168, 테스트 점수 : 0.775\n",
      "[11번 학습] 학습 점수 : 0.7983193277310925, 테스트 점수 : 0.775\n",
      "[12번 학습] 학습 점수 : 0.8067226890756303, 테스트 점수 : 0.775\n",
      "[13번 학습] 학습 점수 : 0.7983193277310925, 테스트 점수 : 0.775\n",
      "[14번 학습] 학습 점수 : 0.8067226890756303, 테스트 점수 : 0.775\n",
      "[15번 학습] 학습 점수 : 0.7983193277310925, 테스트 점수 : 0.775\n",
      "[16번 학습] 학습 점수 : 0.8403361344537815, 테스트 점수 : 0.775\n",
      "[17번 학습] 학습 점수 : 0.8151260504201681, 테스트 점수 : 0.775\n",
      "[18번 학습] 학습 점수 : 0.8487394957983193, 테스트 점수 : 0.8\n",
      "[19번 학습] 학습 점수 : 0.8403361344537815, 테스트 점수 : 0.775\n",
      "[20번 학습] 학습 점수 : 0.8235294117647058, 테스트 점수 : 0.775\n",
      "[21번 학습] 학습 점수 : 0.8151260504201681, 테스트 점수 : 0.8\n",
      "[22번 학습] 학습 점수 : 0.8403361344537815, 테스트 점수 : 0.775\n",
      "[23번 학습] 학습 점수 : 0.8403361344537815, 테스트 점수 : 0.775\n",
      "[24번 학습] 학습 점수 : 0.8487394957983193, 테스트 점수 : 0.775\n",
      "[25번 학습] 학습 점수 : 0.8487394957983193, 테스트 점수 : 0.775\n",
      "[26번 학습] 학습 점수 : 0.8571428571428571, 테스트 점수 : 0.775\n",
      "[27번 학습] 학습 점수 : 0.8571428571428571, 테스트 점수 : 0.775\n",
      "[28번 학습] 학습 점수 : 0.865546218487395, 테스트 점수 : 0.775\n",
      "[29번 학습] 학습 점수 : 0.8739495798319328, 테스트 점수 : 0.775\n",
      "[30번 학습] 학습 점수 : 0.8823529411764706, 테스트 점수 : 0.775\n",
      "[31번 학습] 학습 점수 : 0.8739495798319328, 테스트 점수 : 0.8\n",
      "[32번 학습] 학습 점수 : 0.8739495798319328, 테스트 점수 : 0.8\n",
      "[33번 학습] 학습 점수 : 0.8823529411764706, 테스트 점수 : 0.8\n",
      "[34번 학습] 학습 점수 : 0.8907563025210085, 테스트 점수 : 0.825\n",
      "[35번 학습] 학습 점수 : 0.907563025210084, 테스트 점수 : 0.85\n",
      "[36번 학습] 학습 점수 : 0.907563025210084, 테스트 점수 : 0.85\n",
      "[37번 학습] 학습 점수 : 0.8991596638655462, 테스트 점수 : 0.85\n",
      "[38번 학습] 학습 점수 : 0.8907563025210085, 테스트 점수 : 0.85\n",
      "[39번 학습] 학습 점수 : 0.8907563025210085, 테스트 점수 : 0.85\n",
      "[40번 학습] 학습 점수 : 0.8991596638655462, 테스트 점수 : 0.85\n",
      "[41번 학습] 학습 점수 : 0.8823529411764706, 테스트 점수 : 0.825\n",
      "[42번 학습] 학습 점수 : 0.8739495798319328, 테스트 점수 : 0.825\n",
      "[43번 학습] 학습 점수 : 0.8739495798319328, 테스트 점수 : 0.825\n",
      "[44번 학습] 학습 점수 : 0.8739495798319328, 테스트 점수 : 0.825\n",
      "[45번 학습] 학습 점수 : 0.8739495798319328, 테스트 점수 : 0.825\n",
      "[46번 학습] 학습 점수 : 0.8823529411764706, 테스트 점수 : 0.825\n",
      "[47번 학습] 학습 점수 : 0.8823529411764706, 테스트 점수 : 0.825\n",
      "[48번 학습] 학습 점수 : 0.8823529411764706, 테스트 점수 : 0.825\n",
      "[49번 학습] 학습 점수 : 0.8907563025210085, 테스트 점수 : 0.825\n",
      "[50번 학습] 학습 점수 : 0.8907563025210085, 테스트 점수 : 0.825\n",
      "[51번 학습] 학습 점수 : 0.8907563025210085, 테스트 점수 : 0.825\n",
      "[52번 학습] 학습 점수 : 0.8907563025210085, 테스트 점수 : 0.825\n",
      "[53번 학습] 학습 점수 : 0.8991596638655462, 테스트 점수 : 0.825\n",
      "[54번 학습] 학습 점수 : 0.907563025210084, 테스트 점수 : 0.825\n",
      "[55번 학습] 학습 점수 : 0.907563025210084, 테스트 점수 : 0.825\n",
      "[56번 학습] 학습 점수 : 0.907563025210084, 테스트 점수 : 0.825\n",
      "[57번 학습] 학습 점수 : 0.907563025210084, 테스트 점수 : 0.825\n",
      "[58번 학습] 학습 점수 : 0.907563025210084, 테스트 점수 : 0.825\n",
      "[59번 학습] 학습 점수 : 0.907563025210084, 테스트 점수 : 0.825\n",
      "[60번 학습] 학습 점수 : 0.907563025210084, 테스트 점수 : 0.825\n",
      "[61번 학습] 학습 점수 : 0.907563025210084, 테스트 점수 : 0.825\n",
      "[62번 학습] 학습 점수 : 0.907563025210084, 테스트 점수 : 0.825\n",
      "[63번 학습] 학습 점수 : 0.907563025210084, 테스트 점수 : 0.825\n",
      "[64번 학습] 학습 점수 : 0.907563025210084, 테스트 점수 : 0.825\n",
      "[65번 학습] 학습 점수 : 0.907563025210084, 테스트 점수 : 0.825\n",
      "[66번 학습] 학습 점수 : 0.907563025210084, 테스트 점수 : 0.825\n",
      "[67번 학습] 학습 점수 : 0.907563025210084, 테스트 점수 : 0.825\n",
      "[68번 학습] 학습 점수 : 0.907563025210084, 테스트 점수 : 0.825\n",
      "[69번 학습] 학습 점수 : 0.907563025210084, 테스트 점수 : 0.825\n",
      "[70번 학습] 학습 점수 : 0.907563025210084, 테스트 점수 : 0.825\n",
      "[71번 학습] 학습 점수 : 0.9159663865546218, 테스트 점수 : 0.825\n",
      "[72번 학습] 학습 점수 : 0.9159663865546218, 테스트 점수 : 0.825\n",
      "[73번 학습] 학습 점수 : 0.9159663865546218, 테스트 점수 : 0.825\n",
      "[74번 학습] 학습 점수 : 0.9159663865546218, 테스트 점수 : 0.825\n",
      "[75번 학습] 학습 점수 : 0.9159663865546218, 테스트 점수 : 0.825\n",
      "[76번 학습] 학습 점수 : 0.9159663865546218, 테스트 점수 : 0.825\n",
      "[77번 학습] 학습 점수 : 0.9159663865546218, 테스트 점수 : 0.825\n",
      "[78번 학습] 학습 점수 : 0.9159663865546218, 테스트 점수 : 0.85\n",
      "[79번 학습] 학습 점수 : 0.9159663865546218, 테스트 점수 : 0.85\n",
      "[80번 학습] 학습 점수 : 0.9159663865546218, 테스트 점수 : 0.85\n",
      "[81번 학습] 학습 점수 : 0.9159663865546218, 테스트 점수 : 0.85\n",
      "[82번 학습] 학습 점수 : 0.9159663865546218, 테스트 점수 : 0.85\n",
      "[83번 학습] 학습 점수 : 0.9159663865546218, 테스트 점수 : 0.85\n",
      "[84번 학습] 학습 점수 : 0.9159663865546218, 테스트 점수 : 0.85\n",
      "[85번 학습] 학습 점수 : 0.9159663865546218, 테스트 점수 : 0.85\n",
      "[86번 학습] 학습 점수 : 0.9159663865546218, 테스트 점수 : 0.85\n",
      "[87번 학습] 학습 점수 : 0.9243697478991597, 테스트 점수 : 0.85\n",
      "[88번 학습] 학습 점수 : 0.9243697478991597, 테스트 점수 : 0.85\n",
      "[89번 학습] 학습 점수 : 0.9243697478991597, 테스트 점수 : 0.85\n",
      "[90번 학습] 학습 점수 : 0.9243697478991597, 테스트 점수 : 0.875\n",
      "[91번 학습] 학습 점수 : 0.9243697478991597, 테스트 점수 : 0.875\n",
      "[92번 학습] 학습 점수 : 0.9243697478991597, 테스트 점수 : 0.875\n",
      "[93번 학습] 학습 점수 : 0.9243697478991597, 테스트 점수 : 0.875\n",
      "[94번 학습] 학습 점수 : 0.9243697478991597, 테스트 점수 : 0.875\n",
      "[95번 학습] 학습 점수 : 0.9243697478991597, 테스트 점수 : 0.875\n",
      "[96번 학습] 학습 점수 : 0.9243697478991597, 테스트 점수 : 0.875\n",
      "[97번 학습] 학습 점수 : 0.9243697478991597, 테스트 점수 : 0.875\n",
      "[98번 학습] 학습 점수 : 0.9243697478991597, 테스트 점수 : 0.85\n",
      "[99번 학습] 학습 점수 : 0.9243697478991597, 테스트 점수 : 0.85\n"
     ]
    }
   ],
   "source": [
    "train_score = []\n",
    "test_score = []\n",
    "for n in range(100):\n",
    "    model2.partial_fit(scaled_X_train, y_train, y_train.unique())\n",
    "    train_score2 = model2.score(scaled_X_train, y_train)\n",
    "    test_score2 = model2.score(scaled_X_test, y_test)\n",
    "    train_score.append(train_score2)\n",
    "    test_score.append(test_score2)\n",
    "    print(f'[{n}번 학습] 학습 점수 : {train_score2}, 테스트 점수 : {test_score2}')"
   ],
   "metadata": {
    "collapsed": false,
    "ExecuteTime": {
     "end_time": "2024-03-04T11:22:54.460999300Z",
     "start_time": "2024-03-04T11:22:54.076121700Z"
    }
   },
   "id": "3ba2e2ab56e26f8f",
   "execution_count": 63
  },
  {
   "cell_type": "code",
   "outputs": [
    {
     "data": {
      "text/plain": "<Figure size 640x480 with 1 Axes>",
      "image/png": "[encoded data removed]"
     },
     "metadata": {},
     "output_type": "display_data"
    }
   ],
   "source": [
    "# 시각화\n",
    "import matplotlib.pyplot as plt\n",
    "\n",
    "plt.plot(range(100), train_score, label='train')\n",
    "plt.plot(range(100), test_score, label='test')\n",
    "plt.show()"
   ],
   "metadata": {
    "collapsed": false,
    "ExecuteTime": {
     "end_time": "2024-03-04T11:22:54.555878600Z",
     "start_time": "2024-03-04T11:22:54.460999300Z"
    }
   },
   "id": "aab4e0f7857d7c1c",
   "execution_count": 64
  },
  {
   "cell_type": "code",
   "outputs": [],
   "source": [],
   "metadata": {
    "collapsed": false,
    "ExecuteTime": {
     "end_time": "2024-03-04T11:22:54.567386600Z",
     "start_time": "2024-03-04T11:22:54.552889500Z"
    }
   },
   "id": "ad18facbba9496bc",
   "execution_count": 64
  }
 ],
 "metadata": {
  "kernelspec": {
   "display_name": "Python 3",
   "language": "python",
   "name": "python3"
  },
  "language_info": {
   "codemirror_mode": {
    "name": "ipython",
    "version": 2
   },
   "file_extension": ".py",
   "mimetype": "text/x-python",
   "name": "python",
   "nbconvert_exporter": "python",
   "pygments_lexer": "ipython2",
   "version": "2.7.6"
  }
 },
 "nbformat": 4,
 "nbformat_minor": 5
}
