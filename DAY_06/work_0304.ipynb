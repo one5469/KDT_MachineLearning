{
 "cells": [
  {
   "cell_type": "code",
   "execution_count": 1,
   "id": "initial_id",
   "metadata": {
    "collapsed": true,
    "ExecuteTime": {
     "end_time": "2024-03-04T11:24:00.638078300Z",
     "start_time": "2024-03-04T11:23:28.633396500Z"
    }
   },
   "outputs": [
    {
     "name": "stderr",
     "output_type": "stream",
     "text": [
      "C:\\Users\\kdp\\anaconda3\\envs\\EXAM_ML\\lib\\site-packages\\sklearn\\datasets\\_openml.py:1002: FutureWarning: The default value of `parser` will change from `'liac-arff'` to `'auto'` in 1.4. You can set `parser='auto'` to silence this warning. Therefore, an `ImportError` will be raised from 1.4 if the dataset is dense and pandas is not installed. Note that the pandas parser may return different data types. See the Notes Section in fetch_openml's API doc for details.\n",
      "  warn(\n"
     ]
    }
   ],
   "source": [
    "import pandas as pd\n",
    "from sklearn.datasets import fetch_openml\n",
    "\n",
    "mnist = fetch_openml('mnist_784', as_frame=True)"
   ]
  },
  {
   "cell_type": "code",
   "outputs": [
    {
     "data": {
      "text/plain": "{'data':        pixel1  pixel2  pixel3  pixel4  pixel5  pixel6  pixel7  pixel8  pixel9  \\\n 0         0.0     0.0     0.0     0.0     0.0     0.0     0.0     0.0     0.0   \n 1         0.0     0.0     0.0     0.0     0.0     0.0     0.0     0.0     0.0   \n 2         0.0     0.0     0.0     0.0     0.0     0.0     0.0     0.0     0.0   \n 3         0.0     0.0     0.0     0.0     0.0     0.0     0.0     0.0     0.0   \n 4         0.0     0.0     0.0     0.0     0.0     0.0     0.0     0.0     0.0   \n ...       ...     ...     ...     ...     ...     ...     ...     ...     ...   \n 69995     0.0     0.0     0.0     0.0     0.0     0.0     0.0     0.0     0.0   \n 69996     0.0     0.0     0.0     0.0     0.0     0.0     0.0     0.0     0.0   \n 69997     0.0     0.0     0.0     0.0     0.0     0.0     0.0     0.0     0.0   \n 69998     0.0     0.0     0.0     0.0     0.0     0.0     0.0     0.0     0.0   \n 69999     0.0     0.0     0.0     0.0     0.0     0.0     0.0     0.0     0.0   \n \n        pixel10  ...  pixel775  pixel776  pixel777  pixel778  pixel779  \\\n 0          0.0  ...       0.0       0.0       0.0       0.0       0.0   \n 1          0.0  ...       0.0       0.0       0.0       0.0       0.0   \n 2          0.0  ...       0.0       0.0       0.0       0.0       0.0   \n 3          0.0  ...       0.0       0.0       0.0       0.0       0.0   \n 4          0.0  ...       0.0       0.0       0.0       0.0       0.0   \n ...        ...  ...       ...       ...       ...       ...       ...   \n 69995      0.0  ...       0.0       0.0       0.0       0.0       0.0   \n 69996      0.0  ...       0.0       0.0       0.0       0.0       0.0   \n 69997      0.0  ...       0.0       0.0       0.0       0.0       0.0   \n 69998      0.0  ...       0.0       0.0       0.0       0.0       0.0   \n 69999      0.0  ...       0.0       0.0       0.0       0.0       0.0   \n \n        pixel780  pixel781  pixel782  pixel783  pixel784  \n 0           0.0       0.0       0.0       0.0       0.0  \n 1           0.0       0.0       0.0       0.0       0.0  \n 2           0.0       0.0       0.0       0.0       0.0  \n 3           0.0       0.0       0.0       0.0       0.0  \n 4           0.0       0.0       0.0       0.0       0.0  \n ...         ...       ...       ...       ...       ...  \n 69995       0.0       0.0       0.0       0.0       0.0  \n 69996       0.0       0.0       0.0       0.0       0.0  \n 69997       0.0       0.0       0.0       0.0       0.0  \n 69998       0.0       0.0       0.0       0.0       0.0  \n 69999       0.0       0.0       0.0       0.0       0.0  \n \n [70000 rows x 784 columns],\n 'target': 0        5\n 1        0\n 2        4\n 3        1\n 4        9\n         ..\n 69995    2\n 69996    3\n 69997    4\n 69998    5\n 69999    6\n Name: class, Length: 70000, dtype: category\n Categories (10, object): ['0', '1', '2', '3', ..., '6', '7', '8', '9'],\n 'frame':        pixel1  pixel2  pixel3  pixel4  pixel5  pixel6  pixel7  pixel8  pixel9  \\\n 0         0.0     0.0     0.0     0.0     0.0     0.0     0.0     0.0     0.0   \n 1         0.0     0.0     0.0     0.0     0.0     0.0     0.0     0.0     0.0   \n 2         0.0     0.0     0.0     0.0     0.0     0.0     0.0     0.0     0.0   \n 3         0.0     0.0     0.0     0.0     0.0     0.0     0.0     0.0     0.0   \n 4         0.0     0.0     0.0     0.0     0.0     0.0     0.0     0.0     0.0   \n ...       ...     ...     ...     ...     ...     ...     ...     ...     ...   \n 69995     0.0     0.0     0.0     0.0     0.0     0.0     0.0     0.0     0.0   \n 69996     0.0     0.0     0.0     0.0     0.0     0.0     0.0     0.0     0.0   \n 69997     0.0     0.0     0.0     0.0     0.0     0.0     0.0     0.0     0.0   \n 69998     0.0     0.0     0.0     0.0     0.0     0.0     0.0     0.0     0.0   \n 69999     0.0     0.0     0.0     0.0     0.0     0.0     0.0     0.0     0.0   \n \n        pixel10  ...  pixel776  pixel777  pixel778  pixel779  pixel780  \\\n 0          0.0  ...       0.0       0.0       0.0       0.0       0.0   \n 1          0.0  ...       0.0       0.0       0.0       0.0       0.0   \n 2          0.0  ...       0.0       0.0       0.0       0.0       0.0   \n 3          0.0  ...       0.0       0.0       0.0       0.0       0.0   \n 4          0.0  ...       0.0       0.0       0.0       0.0       0.0   \n ...        ...  ...       ...       ...       ...       ...       ...   \n 69995      0.0  ...       0.0       0.0       0.0       0.0       0.0   \n 69996      0.0  ...       0.0       0.0       0.0       0.0       0.0   \n 69997      0.0  ...       0.0       0.0       0.0       0.0       0.0   \n 69998      0.0  ...       0.0       0.0       0.0       0.0       0.0   \n 69999      0.0  ...       0.0       0.0       0.0       0.0       0.0   \n \n        pixel781  pixel782  pixel783  pixel784  class  \n 0           0.0       0.0       0.0       0.0      5  \n 1           0.0       0.0       0.0       0.0      0  \n 2           0.0       0.0       0.0       0.0      4  \n 3           0.0       0.0       0.0       0.0      1  \n 4           0.0       0.0       0.0       0.0      9  \n ...         ...       ...       ...       ...    ...  \n 69995       0.0       0.0       0.0       0.0      2  \n 69996       0.0       0.0       0.0       0.0      3  \n 69997       0.0       0.0       0.0       0.0      4  \n 69998       0.0       0.0       0.0       0.0      5  \n 69999       0.0       0.0       0.0       0.0      6  \n \n [70000 rows x 785 columns],\n 'categories': None,\n 'feature_names': ['pixel1',\n  'pixel2',\n  'pixel3',\n  'pixel4',\n  'pixel5',\n  'pixel6',\n  'pixel7',\n  'pixel8',\n  'pixel9',\n  'pixel10',\n  'pixel11',\n  'pixel12',\n  'pixel13',\n  'pixel14',\n  'pixel15',\n  'pixel16',\n  'pixel17',\n  'pixel18',\n  'pixel19',\n  'pixel20',\n  'pixel21',\n  'pixel22',\n  'pixel23',\n  'pixel24',\n  'pixel25',\n  'pixel26',\n  'pixel27',\n  'pixel28',\n  'pixel29',\n  'pixel30',\n  'pixel31',\n  'pixel32',\n  'pixel33',\n  'pixel34',\n  'pixel35',\n  'pixel36',\n  'pixel37',\n  'pixel38',\n  'pixel39',\n  'pixel40',\n  'pixel41',\n  'pixel42',\n  'pixel43',\n  'pixel44',\n  'pixel45',\n  'pixel46',\n  'pixel47',\n  'pixel48',\n  'pixel49',\n  'pixel50',\n  'pixel51',\n  'pixel52',\n  'pixel53',\n  'pixel54',\n  'pixel55',\n  'pixel56',\n  'pixel57',\n  'pixel58',\n  'pixel59',\n  'pixel60',\n  'pixel61',\n  'pixel62',\n  'pixel63',\n  'pixel64',\n  'pixel65',\n  'pixel66',\n  'pixel67',\n  'pixel68',\n  'pixel69',\n  'pixel70',\n  'pixel71',\n  'pixel72',\n  'pixel73',\n  'pixel74',\n  'pixel75',\n  'pixel76',\n  'pixel77',\n  'pixel78',\n  'pixel79',\n  'pixel80',\n  'pixel81',\n  'pixel82',\n  'pixel83',\n  'pixel84',\n  'pixel85',\n  'pixel86',\n  'pixel87',\n  'pixel88',\n  'pixel89',\n  'pixel90',\n  'pixel91',\n  'pixel92',\n  'pixel93',\n  'pixel94',\n  'pixel95',\n  'pixel96',\n  'pixel97',\n  'pixel98',\n  'pixel99',\n  'pixel100',\n  'pixel101',\n  'pixel102',\n  'pixel103',\n  'pixel104',\n  'pixel105',\n  'pixel106',\n  'pixel107',\n  'pixel108',\n  'pixel109',\n  'pixel110',\n  'pixel111',\n  'pixel112',\n  'pixel113',\n  'pixel114',\n  'pixel115',\n  'pixel116',\n  'pixel117',\n  'pixel118',\n  'pixel119',\n  'pixel120',\n  'pixel121',\n  'pixel122',\n  'pixel123',\n  'pixel124',\n  'pixel125',\n  'pixel126',\n  'pixel127',\n  'pixel128',\n  'pixel129',\n  'pixel130',\n  'pixel131',\n  'pixel132',\n  'pixel133',\n  'pixel134',\n  'pixel135',\n  'pixel136',\n  'pixel137',\n  'pixel138',\n  'pixel139',\n  'pixel140',\n  'pixel141',\n  'pixel142',\n  'pixel143',\n  'pixel144',\n  'pixel145',\n  'pixel146',\n  'pixel147',\n  'pixel148',\n  'pixel149',\n  'pixel150',\n  'pixel151',\n  'pixel152',\n  'pixel153',\n  'pixel154',\n  'pixel155',\n  'pixel156',\n  'pixel157',\n  'pixel158',\n  'pixel159',\n  'pixel160',\n  'pixel161',\n  'pixel162',\n  'pixel163',\n  'pixel164',\n  'pixel165',\n  'pixel166',\n  'pixel167',\n  'pixel168',\n  'pixel169',\n  'pixel170',\n  'pixel171',\n  'pixel172',\n  'pixel173',\n  'pixel174',\n  'pixel175',\n  'pixel176',\n  'pixel177',\n  'pixel178',\n  'pixel179',\n  'pixel180',\n  'pixel181',\n  'pixel182',\n  'pixel183',\n  'pixel184',\n  'pixel185',\n  'pixel186',\n  'pixel187',\n  'pixel188',\n  'pixel189',\n  'pixel190',\n  'pixel191',\n  'pixel192',\n  'pixel193',\n  'pixel194',\n  'pixel195',\n  'pixel196',\n  'pixel197',\n  'pixel198',\n  'pixel199',\n  'pixel200',\n  'pixel201',\n  'pixel202',\n  'pixel203',\n  'pixel204',\n  'pixel205',\n  'pixel206',\n  'pixel207',\n  'pixel208',\n  'pixel209',\n  'pixel210',\n  'pixel211',\n  'pixel212',\n  'pixel213',\n  'pixel214',\n  'pixel215',\n  'pixel216',\n  'pixel217',\n  'pixel218',\n  'pixel219',\n  'pixel220',\n  'pixel221',\n  'pixel222',\n  'pixel223',\n  'pixel224',\n  'pixel225',\n  'pixel226',\n  'pixel227',\n  'pixel228',\n  'pixel229',\n  'pixel230',\n  'pixel231',\n  'pixel232',\n  'pixel233',\n  'pixel234',\n  'pixel235',\n  'pixel236',\n  'pixel237',\n  'pixel238',\n  'pixel239',\n  'pixel240',\n  'pixel241',\n  'pixel242',\n  'pixel243',\n  'pixel244',\n  'pixel245',\n  'pixel246',\n  'pixel247',\n  'pixel248',\n  'pixel249',\n  'pixel250',\n  'pixel251',\n  'pixel252',\n  'pixel253',\n  'pixel254',\n  'pixel255',\n  'pixel256',\n  'pixel257',\n  'pixel258',\n  'pixel259',\n  'pixel260',\n  'pixel261',\n  'pixel262',\n  'pixel263',\n  'pixel264',\n  'pixel265',\n  'pixel266',\n  'pixel267',\n  'pixel268',\n  'pixel269',\n  'pixel270',\n  'pixel271',\n  'pixel272',\n  'pixel273',\n  'pixel274',\n  'pixel275',\n  'pixel276',\n  'pixel277',\n  'pixel278',\n  'pixel279',\n  'pixel280',\n  'pixel281',\n  'pixel282',\n  'pixel283',\n  'pixel284',\n  'pixel285',\n  'pixel286',\n  'pixel287',\n  'pixel288',\n  'pixel289',\n  'pixel290',\n  'pixel291',\n  'pixel292',\n  'pixel293',\n  'pixel294',\n  'pixel295',\n  'pixel296',\n  'pixel297',\n  'pixel298',\n  'pixel299',\n  'pixel300',\n  'pixel301',\n  'pixel302',\n  'pixel303',\n  'pixel304',\n  'pixel305',\n  'pixel306',\n  'pixel307',\n  'pixel308',\n  'pixel309',\n  'pixel310',\n  'pixel311',\n  'pixel312',\n  'pixel313',\n  'pixel314',\n  'pixel315',\n  'pixel316',\n  'pixel317',\n  'pixel318',\n  'pixel319',\n  'pixel320',\n  'pixel321',\n  'pixel322',\n  'pixel323',\n  'pixel324',\n  'pixel325',\n  'pixel326',\n  'pixel327',\n  'pixel328',\n  'pixel329',\n  'pixel330',\n  'pixel331',\n  'pixel332',\n  'pixel333',\n  'pixel334',\n  'pixel335',\n  'pixel336',\n  'pixel337',\n  'pixel338',\n  'pixel339',\n  'pixel340',\n  'pixel341',\n  'pixel342',\n  'pixel343',\n  'pixel344',\n  'pixel345',\n  'pixel346',\n  'pixel347',\n  'pixel348',\n  'pixel349',\n  'pixel350',\n  'pixel351',\n  'pixel352',\n  'pixel353',\n  'pixel354',\n  'pixel355',\n  'pixel356',\n  'pixel357',\n  'pixel358',\n  'pixel359',\n  'pixel360',\n  'pixel361',\n  'pixel362',\n  'pixel363',\n  'pixel364',\n  'pixel365',\n  'pixel366',\n  'pixel367',\n  'pixel368',\n  'pixel369',\n  'pixel370',\n  'pixel371',\n  'pixel372',\n  'pixel373',\n  'pixel374',\n  'pixel375',\n  'pixel376',\n  'pixel377',\n  'pixel378',\n  'pixel379',\n  'pixel380',\n  'pixel381',\n  'pixel382',\n  'pixel383',\n  'pixel384',\n  'pixel385',\n  'pixel386',\n  'pixel387',\n  'pixel388',\n  'pixel389',\n  'pixel390',\n  'pixel391',\n  'pixel392',\n  'pixel393',\n  'pixel394',\n  'pixel395',\n  'pixel396',\n  'pixel397',\n  'pixel398',\n  'pixel399',\n  'pixel400',\n  'pixel401',\n  'pixel402',\n  'pixel403',\n  'pixel404',\n  'pixel405',\n  'pixel406',\n  'pixel407',\n  'pixel408',\n  'pixel409',\n  'pixel410',\n  'pixel411',\n  'pixel412',\n  'pixel413',\n  'pixel414',\n  'pixel415',\n  'pixel416',\n  'pixel417',\n  'pixel418',\n  'pixel419',\n  'pixel420',\n  'pixel421',\n  'pixel422',\n  'pixel423',\n  'pixel424',\n  'pixel425',\n  'pixel426',\n  'pixel427',\n  'pixel428',\n  'pixel429',\n  'pixel430',\n  'pixel431',\n  'pixel432',\n  'pixel433',\n  'pixel434',\n  'pixel435',\n  'pixel436',\n  'pixel437',\n  'pixel438',\n  'pixel439',\n  'pixel440',\n  'pixel441',\n  'pixel442',\n  'pixel443',\n  'pixel444',\n  'pixel445',\n  'pixel446',\n  'pixel447',\n  'pixel448',\n  'pixel449',\n  'pixel450',\n  'pixel451',\n  'pixel452',\n  'pixel453',\n  'pixel454',\n  'pixel455',\n  'pixel456',\n  'pixel457',\n  'pixel458',\n  'pixel459',\n  'pixel460',\n  'pixel461',\n  'pixel462',\n  'pixel463',\n  'pixel464',\n  'pixel465',\n  'pixel466',\n  'pixel467',\n  'pixel468',\n  'pixel469',\n  'pixel470',\n  'pixel471',\n  'pixel472',\n  'pixel473',\n  'pixel474',\n  'pixel475',\n  'pixel476',\n  'pixel477',\n  'pixel478',\n  'pixel479',\n  'pixel480',\n  'pixel481',\n  'pixel482',\n  'pixel483',\n  'pixel484',\n  'pixel485',\n  'pixel486',\n  'pixel487',\n  'pixel488',\n  'pixel489',\n  'pixel490',\n  'pixel491',\n  'pixel492',\n  'pixel493',\n  'pixel494',\n  'pixel495',\n  'pixel496',\n  'pixel497',\n  'pixel498',\n  'pixel499',\n  'pixel500',\n  'pixel501',\n  'pixel502',\n  'pixel503',\n  'pixel504',\n  'pixel505',\n  'pixel506',\n  'pixel507',\n  'pixel508',\n  'pixel509',\n  'pixel510',\n  'pixel511',\n  'pixel512',\n  'pixel513',\n  'pixel514',\n  'pixel515',\n  'pixel516',\n  'pixel517',\n  'pixel518',\n  'pixel519',\n  'pixel520',\n  'pixel521',\n  'pixel522',\n  'pixel523',\n  'pixel524',\n  'pixel525',\n  'pixel526',\n  'pixel527',\n  'pixel528',\n  'pixel529',\n  'pixel530',\n  'pixel531',\n  'pixel532',\n  'pixel533',\n  'pixel534',\n  'pixel535',\n  'pixel536',\n  'pixel537',\n  'pixel538',\n  'pixel539',\n  'pixel540',\n  'pixel541',\n  'pixel542',\n  'pixel543',\n  'pixel544',\n  'pixel545',\n  'pixel546',\n  'pixel547',\n  'pixel548',\n  'pixel549',\n  'pixel550',\n  'pixel551',\n  'pixel552',\n  'pixel553',\n  'pixel554',\n  'pixel555',\n  'pixel556',\n  'pixel557',\n  'pixel558',\n  'pixel559',\n  'pixel560',\n  'pixel561',\n  'pixel562',\n  'pixel563',\n  'pixel564',\n  'pixel565',\n  'pixel566',\n  'pixel567',\n  'pixel568',\n  'pixel569',\n  'pixel570',\n  'pixel571',\n  'pixel572',\n  'pixel573',\n  'pixel574',\n  'pixel575',\n  'pixel576',\n  'pixel577',\n  'pixel578',\n  'pixel579',\n  'pixel580',\n  'pixel581',\n  'pixel582',\n  'pixel583',\n  'pixel584',\n  'pixel585',\n  'pixel586',\n  'pixel587',\n  'pixel588',\n  'pixel589',\n  'pixel590',\n  'pixel591',\n  'pixel592',\n  'pixel593',\n  'pixel594',\n  'pixel595',\n  'pixel596',\n  'pixel597',\n  'pixel598',\n  'pixel599',\n  'pixel600',\n  'pixel601',\n  'pixel602',\n  'pixel603',\n  'pixel604',\n  'pixel605',\n  'pixel606',\n  'pixel607',\n  'pixel608',\n  'pixel609',\n  'pixel610',\n  'pixel611',\n  'pixel612',\n  'pixel613',\n  'pixel614',\n  'pixel615',\n  'pixel616',\n  'pixel617',\n  'pixel618',\n  'pixel619',\n  'pixel620',\n  'pixel621',\n  'pixel622',\n  'pixel623',\n  'pixel624',\n  'pixel625',\n  'pixel626',\n  'pixel627',\n  'pixel628',\n  'pixel629',\n  'pixel630',\n  'pixel631',\n  'pixel632',\n  'pixel633',\n  'pixel634',\n  'pixel635',\n  'pixel636',\n  'pixel637',\n  'pixel638',\n  'pixel639',\n  'pixel640',\n  'pixel641',\n  'pixel642',\n  'pixel643',\n  'pixel644',\n  'pixel645',\n  'pixel646',\n  'pixel647',\n  'pixel648',\n  'pixel649',\n  'pixel650',\n  'pixel651',\n  'pixel652',\n  'pixel653',\n  'pixel654',\n  'pixel655',\n  'pixel656',\n  'pixel657',\n  'pixel658',\n  'pixel659',\n  'pixel660',\n  'pixel661',\n  'pixel662',\n  'pixel663',\n  'pixel664',\n  'pixel665',\n  'pixel666',\n  'pixel667',\n  'pixel668',\n  'pixel669',\n  'pixel670',\n  'pixel671',\n  'pixel672',\n  'pixel673',\n  'pixel674',\n  'pixel675',\n  'pixel676',\n  'pixel677',\n  'pixel678',\n  'pixel679',\n  'pixel680',\n  'pixel681',\n  'pixel682',\n  'pixel683',\n  'pixel684',\n  'pixel685',\n  'pixel686',\n  'pixel687',\n  'pixel688',\n  'pixel689',\n  'pixel690',\n  'pixel691',\n  'pixel692',\n  'pixel693',\n  'pixel694',\n  'pixel695',\n  'pixel696',\n  'pixel697',\n  'pixel698',\n  'pixel699',\n  'pixel700',\n  'pixel701',\n  'pixel702',\n  'pixel703',\n  'pixel704',\n  'pixel705',\n  'pixel706',\n  'pixel707',\n  'pixel708',\n  'pixel709',\n  'pixel710',\n  'pixel711',\n  'pixel712',\n  'pixel713',\n  'pixel714',\n  'pixel715',\n  'pixel716',\n  'pixel717',\n  'pixel718',\n  'pixel719',\n  'pixel720',\n  'pixel721',\n  'pixel722',\n  'pixel723',\n  'pixel724',\n  'pixel725',\n  'pixel726',\n  'pixel727',\n  'pixel728',\n  'pixel729',\n  'pixel730',\n  'pixel731',\n  'pixel732',\n  'pixel733',\n  'pixel734',\n  'pixel735',\n  'pixel736',\n  'pixel737',\n  'pixel738',\n  'pixel739',\n  'pixel740',\n  'pixel741',\n  'pixel742',\n  'pixel743',\n  'pixel744',\n  'pixel745',\n  'pixel746',\n  'pixel747',\n  'pixel748',\n  'pixel749',\n  'pixel750',\n  'pixel751',\n  'pixel752',\n  'pixel753',\n  'pixel754',\n  'pixel755',\n  'pixel756',\n  'pixel757',\n  'pixel758',\n  'pixel759',\n  'pixel760',\n  'pixel761',\n  'pixel762',\n  'pixel763',\n  'pixel764',\n  'pixel765',\n  'pixel766',\n  'pixel767',\n  'pixel768',\n  'pixel769',\n  'pixel770',\n  'pixel771',\n  'pixel772',\n  'pixel773',\n  'pixel774',\n  'pixel775',\n  'pixel776',\n  'pixel777',\n  'pixel778',\n  'pixel779',\n  'pixel780',\n  'pixel781',\n  'pixel782',\n  'pixel783',\n  'pixel784'],\n 'target_names': ['class'],\n 'DESCR': \"**Author**: Yann LeCun, Corinna Cortes, Christopher J.C. Burges  \\n**Source**: [MNIST Website](http://yann.lecun.com/exdb/mnist/) - Date unknown  \\n**Please cite**:  \\n\\nThe MNIST database of handwritten digits with 784 features, raw data available at: http://yann.lecun.com/exdb/mnist/. It can be split in a training set of the first 60,000 examples, and a test set of 10,000 examples  \\n\\nIt is a subset of a larger set available from NIST. The digits have been size-normalized and centered in a fixed-size image. It is a good database for people who want to try learning techniques and pattern recognition methods on real-world data while spending minimal efforts on preprocessing and formatting. The original black and white (bilevel) images from NIST were size normalized to fit in a 20x20 pixel box while preserving their aspect ratio. The resulting images contain grey levels as a result of the anti-aliasing technique used by the normalization algorithm. the images were centered in a 28x28 image by computing the center of mass of the pixels, and translating the image so as to position this point at the center of the 28x28 field.  \\n\\nWith some classification methods (particularly template-based methods, such as SVM and K-nearest neighbors), the error rate improves when the digits are centered by bounding box rather than center of mass. If you do this kind of pre-processing, you should report it in your publications. The MNIST database was constructed from NIST's NIST originally designated SD-3 as their training set and SD-1 as their test set. However, SD-3 is much cleaner and easier to recognize than SD-1. The reason for this can be found on the fact that SD-3 was collected among Census Bureau employees, while SD-1 was collected among high-school students. Drawing sensible conclusions from learning experiments requires that the result be independent of the choice of training set and test among the complete set of samples. Therefore it was necessary to build a new database by mixing NIST's datasets.  \\n\\nThe MNIST training set is composed of 30,000 patterns from SD-3 and 30,000 patterns from SD-1. Our test set was composed of 5,000 patterns from SD-3 and 5,000 patterns from SD-1. The 60,000 pattern training set contained examples from approximately 250 writers. We made sure that the sets of writers of the training set and test set were disjoint. SD-1 contains 58,527 digit images written by 500 different writers. In contrast to SD-3, where blocks of data from each writer appeared in sequence, the data in SD-1 is scrambled. Writer identities for SD-1 is available and we used this information to unscramble the writers. We then split SD-1 in two: characters written by the first 250 writers went into our new training set. The remaining 250 writers were placed in our test set. Thus we had two sets with nearly 30,000 examples each. The new training set was completed with enough examples from SD-3, starting at pattern # 0, to make a full set of 60,000 training patterns. Similarly, the new test set was completed with SD-3 examples starting at pattern # 35,000 to make a full set with 60,000 test patterns. Only a subset of 10,000 test images (5,000 from SD-1 and 5,000 from SD-3) is available on this site. The full 60,000 sample training set is available.\\n\\nDownloaded from openml.org.\",\n 'details': {'id': '554',\n  'name': 'mnist_784',\n  'version': '1',\n  'description_version': '2',\n  'format': 'ARFF',\n  'creator': ['Yann LeCun', 'Corinna Cortes', 'Christopher J.C. Burges'],\n  'upload_date': '2014-09-29T03:28:38',\n  'language': 'English',\n  'licence': 'Public',\n  'url': 'https://api.openml.org/data/v1/download/52667/mnist_784.arff',\n  'parquet_url': 'https://openml1.win.tue.nl/datasets/0000/0554/dataset_554.pq',\n  'file_id': '52667',\n  'default_target_attribute': 'class',\n  'tag': ['AzurePilot',\n   'OpenML-CC18',\n   'OpenML100',\n   'study_1',\n   'study_123',\n   'study_41',\n   'study_99',\n   'vision'],\n  'visibility': 'public',\n  'minio_url': 'https://openml1.win.tue.nl/datasets/0000/0554/dataset_554.pq',\n  'status': 'active',\n  'processing_date': '2020-11-20 20:12:09',\n  'md5_checksum': '0298d579eb1b86163de7723944c7e495'},\n 'url': 'https://www.openml.org/d/554'}"
     },
     "execution_count": 2,
     "metadata": {},
     "output_type": "execute_result"
    }
   ],
   "source": [
    "mnist"
   ],
   "metadata": {
    "collapsed": false,
    "ExecuteTime": {
     "end_time": "2024-03-04T11:24:00.753922600Z",
     "start_time": "2024-03-04T11:24:00.640071Z"
    }
   },
   "id": "1e96b1dd8cc99724",
   "execution_count": 2
  },
  {
   "cell_type": "code",
   "outputs": [
    {
     "data": {
      "text/plain": "((70000, 784),\n (70000,),\n ['5', '0', '4', '1', '9', '2', '3', '6', '7', '8']\n Categories (10, object): ['0', '1', '2', '3', ..., '6', '7', '8', '9'])"
     },
     "execution_count": 3,
     "metadata": {},
     "output_type": "execute_result"
    }
   ],
   "source": [
    "data = mnist['data']\n",
    "target = mnist['target']\n",
    "\n",
    "data.shape, target.shape, target.unique()"
   ],
   "metadata": {
    "collapsed": false,
    "ExecuteTime": {
     "end_time": "2024-03-04T11:24:00.803317100Z",
     "start_time": "2024-03-04T11:24:00.750880700Z"
    }
   },
   "id": "e67d11bb799a6220",
   "execution_count": 3
  },
  {
   "cell_type": "code",
   "outputs": [],
   "source": [
    "import numpy as np\n",
    "import matplotlib.pyplot as plt\n",
    "from sklearn.linear_model import LogisticRegression, SGDClassifier\n",
    "from sklearn.model_selection import train_test_split\n",
    "from sklearn.metrics import classification_report, confusion_matrix"
   ],
   "metadata": {
    "collapsed": false,
    "ExecuteTime": {
     "end_time": "2024-03-04T11:24:01.650956600Z",
     "start_time": "2024-03-04T11:24:00.766876Z"
    }
   },
   "id": "6241c916351b322d",
   "execution_count": 4
  },
  {
   "cell_type": "code",
   "outputs": [
    {
     "data": {
      "text/plain": "Index(['pixel1', 'pixel2', 'pixel3', 'pixel4', 'pixel5', 'pixel6', 'pixel7',\n       'pixel8', 'pixel9', 'pixel10',\n       ...\n       'pixel775', 'pixel776', 'pixel777', 'pixel778', 'pixel779', 'pixel780',\n       'pixel781', 'pixel782', 'pixel783', 'pixel784'],\n      dtype='object', length=784)"
     },
     "execution_count": 5,
     "metadata": {},
     "output_type": "execute_result"
    }
   ],
   "source": [
    "data.columns"
   ],
   "metadata": {
    "collapsed": false,
    "ExecuteTime": {
     "end_time": "2024-03-04T11:24:01.666266400Z",
     "start_time": "2024-03-04T11:24:01.652023Z"
    }
   },
   "id": "7f4047752eee00b8",
   "execution_count": 5
  },
  {
   "cell_type": "code",
   "outputs": [],
   "source": [
    "X_train,X_test,y_train,y_test = train_test_split(data, target,\n",
    "                                                 test_size=0.2,\n",
    "                                                 random_state=0,\n",
    "                                                 stratify=target)"
   ],
   "metadata": {
    "collapsed": false,
    "ExecuteTime": {
     "end_time": "2024-03-04T11:24:02.346277600Z",
     "start_time": "2024-03-04T11:24:01.672726200Z"
    }
   },
   "id": "25143e3aca1f3da4",
   "execution_count": 6
  },
  {
   "cell_type": "code",
   "outputs": [
    {
     "data": {
      "text/plain": "((56000, 784), (56000,), (14000, 784), (14000,))"
     },
     "execution_count": 7,
     "metadata": {},
     "output_type": "execute_result"
    }
   ],
   "source": [
    "X_train.shape, y_train.shape, X_test.shape, y_test.shape"
   ],
   "metadata": {
    "collapsed": false,
    "ExecuteTime": {
     "end_time": "2024-03-04T11:24:02.361806Z",
     "start_time": "2024-03-04T11:24:02.348270800Z"
    }
   },
   "id": "81feda7279f89c5b",
   "execution_count": 7
  },
  {
   "cell_type": "code",
   "outputs": [
    {
     "data": {
      "text/plain": "LogisticRegression(max_iter=2000, random_state=40, solver='sag')",
      "text/html": "<style>#sk-container-id-1 {color: black;}#sk-container-id-1 pre{padding: 0;}#sk-container-id-1 div.sk-toggleable {background-color: white;}#sk-container-id-1 label.sk-toggleable__label {cursor: pointer;display: block;width: 100%;margin-bottom: 0;padding: 0.3em;box-sizing: border-box;text-align: center;}#sk-container-id-1 label.sk-toggleable__label-arrow:before {content: \"▸\";float: left;margin-right: 0.25em;color: #696969;}#sk-container-id-1 label.sk-toggleable__label-arrow:hover:before {color: black;}#sk-container-id-1 div.sk-estimator:hover label.sk-toggleable__label-arrow:before {color: black;}#sk-container-id-1 div.sk-toggleable__content {max-height: 0;max-width: 0;overflow: hidden;text-align: left;background-color: #f0f8ff;}#sk-container-id-1 div.sk-toggleable__content pre {margin: 0.2em;color: black;border-radius: 0.25em;background-color: #f0f8ff;}#sk-container-id-1 input.sk-toggleable__control:checked~div.sk-toggleable__content {max-height: 200px;max-width: 100%;overflow: auto;}#sk-container-id-1 input.sk-toggleable__control:checked~label.sk-toggleable__label-arrow:before {content: \"▾\";}#sk-container-id-1 div.sk-estimator input.sk-toggleable__control:checked~label.sk-toggleable__label {background-color: #d4ebff;}#sk-container-id-1 div.sk-label input.sk-toggleable__control:checked~label.sk-toggleable__label {background-color: #d4ebff;}#sk-container-id-1 input.sk-hidden--visually {border: 0;clip: rect(1px 1px 1px 1px);clip: rect(1px, 1px, 1px, 1px);height: 1px;margin: -1px;overflow: hidden;padding: 0;position: absolute;width: 1px;}#sk-container-id-1 div.sk-estimator {font-family: monospace;background-color: #f0f8ff;border: 1px dotted black;border-radius: 0.25em;box-sizing: border-box;margin-bottom: 0.5em;}#sk-container-id-1 div.sk-estimator:hover {background-color: #d4ebff;}#sk-container-id-1 div.sk-parallel-item::after {content: \"\";width: 100%;border-bottom: 1px solid gray;flex-grow: 1;}#sk-container-id-1 div.sk-label:hover label.sk-toggleable__label {background-color: #d4ebff;}#sk-container-id-1 div.sk-serial::before {content: \"\";position: absolute;border-left: 1px solid gray;box-sizing: border-box;top: 0;bottom: 0;left: 50%;z-index: 0;}#sk-container-id-1 div.sk-serial {display: flex;flex-direction: column;align-items: center;background-color: white;padding-right: 0.2em;padding-left: 0.2em;position: relative;}#sk-container-id-1 div.sk-item {position: relative;z-index: 1;}#sk-container-id-1 div.sk-parallel {display: flex;align-items: stretch;justify-content: center;background-color: white;position: relative;}#sk-container-id-1 div.sk-item::before, #sk-container-id-1 div.sk-parallel-item::before {content: \"\";position: absolute;border-left: 1px solid gray;box-sizing: border-box;top: 0;bottom: 0;left: 50%;z-index: -1;}#sk-container-id-1 div.sk-parallel-item {display: flex;flex-direction: column;z-index: 1;position: relative;background-color: white;}#sk-container-id-1 div.sk-parallel-item:first-child::after {align-self: flex-end;width: 50%;}#sk-container-id-1 div.sk-parallel-item:last-child::after {align-self: flex-start;width: 50%;}#sk-container-id-1 div.sk-parallel-item:only-child::after {width: 0;}#sk-container-id-1 div.sk-dashed-wrapped {border: 1px dashed gray;margin: 0 0.4em 0.5em 0.4em;box-sizing: border-box;padding-bottom: 0.4em;background-color: white;}#sk-container-id-1 div.sk-label label {font-family: monospace;font-weight: bold;display: inline-block;line-height: 1.2em;}#sk-container-id-1 div.sk-label-container {text-align: center;}#sk-container-id-1 div.sk-container {/* jupyter's `normalize.less` sets `[hidden] { display: none; }` but bootstrap.min.css set `[hidden] { display: none !important; }` so we also need the `!important` here to be able to override the default hidden behavior on the sphinx rendered scikit-learn.org. See: https://github.com/scikit-learn/scikit-learn/issues/21755 */display: inline-block !important;position: relative;}#sk-container-id-1 div.sk-text-repr-fallback {display: none;}</style><div id=\"sk-container-id-1\" class=\"sk-top-container\"><div class=\"sk-text-repr-fallback\"><pre>LogisticRegression(max_iter=2000, random_state=40, solver=&#x27;sag&#x27;)</pre><b>In a Jupyter environment, please rerun this cell to show the HTML representation or trust the notebook. <br />On GitHub, the HTML representation is unable to render, please try loading this page with nbviewer.org.</b></div><div class=\"sk-container\" hidden><div class=\"sk-item\"><div class=\"sk-estimator sk-toggleable\"><input class=\"sk-toggleable__control sk-hidden--visually\" id=\"sk-estimator-id-1\" type=\"checkbox\" checked><label for=\"sk-estimator-id-1\" class=\"sk-toggleable__label sk-toggleable__label-arrow\">LogisticRegression</label><div class=\"sk-toggleable__content\"><pre>LogisticRegression(max_iter=2000, random_state=40, solver=&#x27;sag&#x27;)</pre></div></div></div></div></div>"
     },
     "execution_count": 8,
     "metadata": {},
     "output_type": "execute_result"
    }
   ],
   "source": [
    "# 로지스틱 회귀 먼저 시도\n",
    "# 모든 데이터를 다할려고 하니까 커널이 터질려해서 포기\n",
    "logModel = LogisticRegression(max_iter=2000, solver='sag', random_state=40)\n",
    "logModel.fit(X_train[:1000],y_train[:1000])"
   ],
   "metadata": {
    "collapsed": false,
    "ExecuteTime": {
     "end_time": "2024-03-04T11:24:44.112335Z",
     "start_time": "2024-03-04T11:24:02.374313700Z"
    }
   },
   "id": "16987406b033a06d",
   "execution_count": 8
  },
  {
   "cell_type": "code",
   "outputs": [
    {
     "data": {
      "text/plain": "(1.0, 0.856)"
     },
     "execution_count": 9,
     "metadata": {},
     "output_type": "execute_result"
    }
   ],
   "source": [
    "# 과적합난다.\n",
    "logModel.score(X_train[:1000],y_train[:1000]), logModel.score(X_test[:250],y_test[:250])"
   ],
   "metadata": {
    "collapsed": false,
    "ExecuteTime": {
     "end_time": "2024-03-04T11:24:44.170696200Z",
     "start_time": "2024-03-04T11:24:44.122409300Z"
    }
   },
   "id": "26d172f6586badc4",
   "execution_count": 9
  },
  {
   "cell_type": "code",
   "outputs": [
    {
     "data": {
      "text/plain": "SGDClassifier(max_iter=2000, random_state=40)",
      "text/html": "<style>#sk-container-id-2 {color: black;}#sk-container-id-2 pre{padding: 0;}#sk-container-id-2 div.sk-toggleable {background-color: white;}#sk-container-id-2 label.sk-toggleable__label {cursor: pointer;display: block;width: 100%;margin-bottom: 0;padding: 0.3em;box-sizing: border-box;text-align: center;}#sk-container-id-2 label.sk-toggleable__label-arrow:before {content: \"▸\";float: left;margin-right: 0.25em;color: #696969;}#sk-container-id-2 label.sk-toggleable__label-arrow:hover:before {color: black;}#sk-container-id-2 div.sk-estimator:hover label.sk-toggleable__label-arrow:before {color: black;}#sk-container-id-2 div.sk-toggleable__content {max-height: 0;max-width: 0;overflow: hidden;text-align: left;background-color: #f0f8ff;}#sk-container-id-2 div.sk-toggleable__content pre {margin: 0.2em;color: black;border-radius: 0.25em;background-color: #f0f8ff;}#sk-container-id-2 input.sk-toggleable__control:checked~div.sk-toggleable__content {max-height: 200px;max-width: 100%;overflow: auto;}#sk-container-id-2 input.sk-toggleable__control:checked~label.sk-toggleable__label-arrow:before {content: \"▾\";}#sk-container-id-2 div.sk-estimator input.sk-toggleable__control:checked~label.sk-toggleable__label {background-color: #d4ebff;}#sk-container-id-2 div.sk-label input.sk-toggleable__control:checked~label.sk-toggleable__label {background-color: #d4ebff;}#sk-container-id-2 input.sk-hidden--visually {border: 0;clip: rect(1px 1px 1px 1px);clip: rect(1px, 1px, 1px, 1px);height: 1px;margin: -1px;overflow: hidden;padding: 0;position: absolute;width: 1px;}#sk-container-id-2 div.sk-estimator {font-family: monospace;background-color: #f0f8ff;border: 1px dotted black;border-radius: 0.25em;box-sizing: border-box;margin-bottom: 0.5em;}#sk-container-id-2 div.sk-estimator:hover {background-color: #d4ebff;}#sk-container-id-2 div.sk-parallel-item::after {content: \"\";width: 100%;border-bottom: 1px solid gray;flex-grow: 1;}#sk-container-id-2 div.sk-label:hover label.sk-toggleable__label {background-color: #d4ebff;}#sk-container-id-2 div.sk-serial::before {content: \"\";position: absolute;border-left: 1px solid gray;box-sizing: border-box;top: 0;bottom: 0;left: 50%;z-index: 0;}#sk-container-id-2 div.sk-serial {display: flex;flex-direction: column;align-items: center;background-color: white;padding-right: 0.2em;padding-left: 0.2em;position: relative;}#sk-container-id-2 div.sk-item {position: relative;z-index: 1;}#sk-container-id-2 div.sk-parallel {display: flex;align-items: stretch;justify-content: center;background-color: white;position: relative;}#sk-container-id-2 div.sk-item::before, #sk-container-id-2 div.sk-parallel-item::before {content: \"\";position: absolute;border-left: 1px solid gray;box-sizing: border-box;top: 0;bottom: 0;left: 50%;z-index: -1;}#sk-container-id-2 div.sk-parallel-item {display: flex;flex-direction: column;z-index: 1;position: relative;background-color: white;}#sk-container-id-2 div.sk-parallel-item:first-child::after {align-self: flex-end;width: 50%;}#sk-container-id-2 div.sk-parallel-item:last-child::after {align-self: flex-start;width: 50%;}#sk-container-id-2 div.sk-parallel-item:only-child::after {width: 0;}#sk-container-id-2 div.sk-dashed-wrapped {border: 1px dashed gray;margin: 0 0.4em 0.5em 0.4em;box-sizing: border-box;padding-bottom: 0.4em;background-color: white;}#sk-container-id-2 div.sk-label label {font-family: monospace;font-weight: bold;display: inline-block;line-height: 1.2em;}#sk-container-id-2 div.sk-label-container {text-align: center;}#sk-container-id-2 div.sk-container {/* jupyter's `normalize.less` sets `[hidden] { display: none; }` but bootstrap.min.css set `[hidden] { display: none !important; }` so we also need the `!important` here to be able to override the default hidden behavior on the sphinx rendered scikit-learn.org. See: https://github.com/scikit-learn/scikit-learn/issues/21755 */display: inline-block !important;position: relative;}#sk-container-id-2 div.sk-text-repr-fallback {display: none;}</style><div id=\"sk-container-id-2\" class=\"sk-top-container\"><div class=\"sk-text-repr-fallback\"><pre>SGDClassifier(max_iter=2000, random_state=40)</pre><b>In a Jupyter environment, please rerun this cell to show the HTML representation or trust the notebook. <br />On GitHub, the HTML representation is unable to render, please try loading this page with nbviewer.org.</b></div><div class=\"sk-container\" hidden><div class=\"sk-item\"><div class=\"sk-estimator sk-toggleable\"><input class=\"sk-toggleable__control sk-hidden--visually\" id=\"sk-estimator-id-2\" type=\"checkbox\" checked><label for=\"sk-estimator-id-2\" class=\"sk-toggleable__label sk-toggleable__label-arrow\">SGDClassifier</label><div class=\"sk-toggleable__content\"><pre>SGDClassifier(max_iter=2000, random_state=40)</pre></div></div></div></div></div>"
     },
     "execution_count": 10,
     "metadata": {},
     "output_type": "execute_result"
    }
   ],
   "source": [
    "# SGD를 사용해보자\n",
    "# 뭔가 속도가 훨씬 빠르다.\n",
    "SGDModel = SGDClassifier(max_iter=2000, random_state=40)\n",
    "SGDModel.fit(X_train[:1000],y_train[:1000])"
   ],
   "metadata": {
    "collapsed": false,
    "ExecuteTime": {
     "end_time": "2024-03-04T11:24:44.473703600Z",
     "start_time": "2024-03-04T11:24:44.174777400Z"
    }
   },
   "id": "3a0ff390a6031e0f",
   "execution_count": 10
  },
  {
   "cell_type": "code",
   "outputs": [
    {
     "data": {
      "text/plain": "(0.996, 0.836)"
     },
     "execution_count": 11,
     "metadata": {},
     "output_type": "execute_result"
    }
   ],
   "source": [
    "# 하지만 성능은 되려 떨어졌다.\n",
    "# 과적합 문제도 여전히 발생한다.\n",
    "SGDModel.score(X_train[:1000],y_train[:1000]), SGDModel.score(X_test[:250],y_test[:250])"
   ],
   "metadata": {
    "collapsed": false,
    "ExecuteTime": {
     "end_time": "2024-03-04T11:24:44.529214700Z",
     "start_time": "2024-03-04T11:24:44.473703600Z"
    }
   },
   "id": "2eacc8cfe22512e2",
   "execution_count": 11
  },
  {
   "cell_type": "code",
   "outputs": [
    {
     "name": "stdout",
     "output_type": "stream",
     "text": [
      "              precision    recall  f1-score   support\n",
      "\n",
      "           0       1.00      0.96      0.98        25\n",
      "           1       0.96      0.96      0.96        27\n",
      "           2       0.75      0.75      0.75        20\n",
      "           3       0.75      0.83      0.79        29\n",
      "           4       1.00      0.81      0.89        21\n",
      "           5       0.81      0.79      0.80        28\n",
      "           6       0.91      0.89      0.90        35\n",
      "           7       0.86      0.86      0.86        14\n",
      "           8       0.81      0.81      0.81        27\n",
      "           9       0.75      0.88      0.81        24\n",
      "\n",
      "    accuracy                           0.86       250\n",
      "   macro avg       0.86      0.85      0.86       250\n",
      "weighted avg       0.86      0.86      0.86       250\n"
     ]
    }
   ],
   "source": [
    "# 숫자마다 성능 지표가 크게 차이가 난다.\n",
    "print(classification_report(y_test[:250], logModel.predict(X_test[:250])))"
   ],
   "metadata": {
    "collapsed": false,
    "ExecuteTime": {
     "end_time": "2024-03-04T11:24:44.560005Z",
     "start_time": "2024-03-04T11:24:44.522228500Z"
    }
   },
   "id": "b8177b3a60c51831",
   "execution_count": 12
  },
  {
   "cell_type": "code",
   "outputs": [
    {
     "name": "stdout",
     "output_type": "stream",
     "text": [
      "[[24  0  0  1  0  0  0  0  0  0]\n",
      " [ 0 26  0  0  0  1  0  0  0  0]\n",
      " [ 0  0 15  3  0  0  1  0  1  0]\n",
      " [ 0  0  0 24  0  1  1  0  2  1]\n",
      " [ 0  0  0  0 17  0  0  0  0  4]\n",
      " [ 0  0  0  3  0 22  1  0  1  1]\n",
      " [ 0  0  2  0  0  2 31  0  0  0]\n",
      " [ 0  0  1  0  0  0  0 12  0  1]\n",
      " [ 0  1  1  1  0  1  0  1 22  0]\n",
      " [ 0  0  1  0  0  0  0  1  1 21]]\n"
     ]
    }
   ],
   "source": [
    "# 혼동행렬을 그려보니 뭔가 납득할 결과가 나온거 같긴 하다.\n",
    "# 이건 사람이 봐도 이렇게 판단할 거 같긴 한데 글씨를 어떻게 휘갈겨 쓴거야 싯팔\n",
    "print(confusion_matrix(y_test[:250], logModel.predict(X_test[:250])))"
   ],
   "metadata": {
    "collapsed": false,
    "ExecuteTime": {
     "end_time": "2024-03-04T11:48:57.874746900Z",
     "start_time": "2024-03-04T11:48:57.857278600Z"
    }
   },
   "id": "9a074968db560875",
   "execution_count": 42
  },
  {
   "cell_type": "code",
   "outputs": [
    {
     "name": "stdout",
     "output_type": "stream",
     "text": [
      "loss_function : hinge\n",
      "train_score = 0.996\n",
      "test_score = 0.836\n",
      "\n",
      "loss_function : log_loss\n",
      "train_score = 0.993\n",
      "test_score = 0.848\n",
      "\n",
      "loss_function : modified_huber\n",
      "train_score = 0.993\n",
      "test_score = 0.848\n",
      "\n",
      "loss_function : squared_hinge\n",
      "train_score = 1.0\n",
      "test_score = 0.808\n",
      "\n",
      "loss_function : perceptron\n",
      "train_score = 0.996\n",
      "test_score = 0.836\n"
     ]
    }
   ],
   "source": [
    "# 이번엔 모델을 튜닝해보자.\n",
    "# 손실 함수를 바꿔가면서 해보자.\n",
    "for func in ['hinge', 'log_loss', 'modified_huber', 'squared_hinge', 'perceptron']:\n",
    "    SGDModel = SGDClassifier(max_iter=2000, random_state=40,\n",
    "                             loss=func)\n",
    "    SGDModel.fit(X_train[:1000],y_train[:1000])\n",
    "    print(f'loss_function : {func}')\n",
    "    print('train_score =', SGDModel.score(X_train[:1000],y_train[:1000]))\n",
    "    print('test_score =', SGDModel.score(X_test[:250],y_test[:250]))\n",
    "    print('\\n')"
   ],
   "metadata": {
    "collapsed": false,
    "ExecuteTime": {
     "end_time": "2024-03-04T11:24:46.132915400Z",
     "start_time": "2024-03-04T11:24:44.569479600Z"
    }
   },
   "id": "e8a7f10208abcbb1",
   "execution_count": 13
  },
  {
   "cell_type": "markdown",
   "source": [
    "log_loss와 modified_huber에서 test score가 가장 높았다. log_loss를 중심으로 튜닝을 해보자."
   ],
   "metadata": {
    "collapsed": false
   },
   "id": "11e52b05055a785"
  },
  {
   "cell_type": "code",
   "outputs": [],
   "source": [
    "def make_model(change=5, alpha=0.0001):\n",
    "    SGDModel = SGDClassifier(max_iter=2000, random_state=40,\n",
    "                             loss='log_loss',\n",
    "                             n_iter_no_change=change,\n",
    "                             alpha=alpha)\n",
    "    \n",
    "    return SGDModel"
   ],
   "metadata": {
    "collapsed": false,
    "ExecuteTime": {
     "end_time": "2024-03-04T11:24:46.141659500Z",
     "start_time": "2024-03-04T11:24:46.129090100Z"
    }
   },
   "id": "9bb836221170c1da",
   "execution_count": 14
  },
  {
   "cell_type": "code",
   "outputs": [],
   "source": [
    "# ㅋ\n",
    "# 아니 언제 다돼\n",
    "# train_dict = {}\n",
    "# test_dict = {}\n",
    "# for alpha in [0.1**(1/i) for i in range(1, 8)]:\n",
    "#     train_list = []\n",
    "#     test_list = []\n",
    "#     for change in range(1, 2001):\n",
    "#         SGDModel = make_model(change, alpha)\n",
    "#         SGDModel.fit(X_train[:1000],y_train[:1000])\n",
    "#         \n",
    "#         train_list.append(SGDModel.score(X_train[:1000],y_train[:1000]))\n",
    "#         test_list.append(SGDModel.score(X_test[:1000], y_test[:1000]))\n",
    "#     train_dict[alpha] = train_list\n",
    "#     test_dict[alpha] = test_list"
   ],
   "metadata": {
    "collapsed": false,
    "ExecuteTime": {
     "end_time": "2024-03-04T11:24:46.163118300Z",
     "start_time": "2024-03-04T11:24:46.144213500Z"
    }
   },
   "id": "966c7d9826086740",
   "execution_count": 15
  },
  {
   "cell_type": "markdown",
   "source": [
    "이건 좀 뇌절인거 같다. 저거 돌리다가 집에 못간다."
   ],
   "metadata": {
    "collapsed": false
   },
   "id": "d3bff4a3136b50d"
  },
  {
   "cell_type": "code",
   "outputs": [],
   "source": [
    "train_dict = {}\n",
    "test_dict = {}"
   ],
   "metadata": {
    "collapsed": false,
    "ExecuteTime": {
     "end_time": "2024-03-04T11:24:46.193087800Z",
     "start_time": "2024-03-04T11:24:46.159402400Z"
    }
   },
   "id": "b29ad2593cf6071f",
   "execution_count": 16
  },
  {
   "cell_type": "code",
   "outputs": [],
   "source": [
    "train_list = []\n",
    "test_list = []\n",
    "# for change in range(5, 101):\n",
    "#     SGDModel = make_model(change)\n",
    "#     SGDModel.fit(X_train[:1000],y_train[:1000])\n",
    "# \n",
    "#     train_list.append(SGDModel.score(X_train[:1000],y_train[:1000]))\n",
    "#     test_list.append(SGDModel.score(X_test[:1000], y_test[:1000]))\n",
    "# train_dict[0.0001] = train_list\n",
    "# test_dict[0.0001] = test_list"
   ],
   "metadata": {
    "collapsed": false,
    "ExecuteTime": {
     "end_time": "2024-03-04T11:26:07.267492500Z",
     "start_time": "2024-03-04T11:24:46.180360200Z"
    }
   },
   "id": "79798b9b3fcb78e8",
   "execution_count": 17
  },
  {
   "cell_type": "code",
   "outputs": [],
   "source": [
    "trainScoreDF = pd.DataFrame(train_dict)\n",
    "testScoreDF = pd.DataFrame(test_dict)\n",
    "\n",
    "trainScoreDF.to_csv('train_score.csv')\n",
    "testScoreDF.to_csv('test_score.csv')"
   ],
   "metadata": {
    "collapsed": false,
    "ExecuteTime": {
     "end_time": "2024-03-04T11:26:07.289206100Z",
     "start_time": "2024-03-04T11:26:07.270474800Z"
    }
   },
   "id": "f9e88e61133189e0",
   "execution_count": 18
  },
  {
   "cell_type": "code",
   "outputs": [
    {
     "data": {
      "text/plain": "<Figure size 640x480 with 1 Axes>",
      "image/png": "[encoded data removed]"
     },
     "metadata": {},
     "output_type": "display_data"
    }
   ],
   "source": [
    "plt.plot(trainScoreDF)\n",
    "plt.plot(testScoreDF)\n",
    "plt.show()"
   ],
   "metadata": {
    "collapsed": false,
    "ExecuteTime": {
     "end_time": "2024-03-04T11:32:23.625724500Z",
     "start_time": "2024-03-04T11:32:23.503929200Z"
    }
   },
   "id": "4627b4ecee20ea5d",
   "execution_count": 21
  },
  {
   "cell_type": "code",
   "outputs": [],
   "source": [
    "# trainScoreDF = pd.read_csv('train_score.csv')\n",
    "# testScoreDF = pd.read_csv('test_score.csv')"
   ],
   "metadata": {
    "collapsed": false,
    "ExecuteTime": {
     "end_time": "2024-03-04T11:26:07.303861200Z",
     "start_time": "2024-03-04T11:26:07.285714900Z"
    }
   },
   "id": "c067a256db50fcb4",
   "execution_count": 19
  },
  {
   "cell_type": "code",
   "outputs": [],
   "source": [
    "train_dict = {}\n",
    "test_dict = {}\n",
    "for alpha in [round(0.1**i, i+1) for i in range(1, 8)]:\n",
    "    train_list = []\n",
    "    test_list = []\n",
    "    SGDModel = make_model(alpha=alpha)\n",
    "    SGDModel.fit(X_train[:1000],y_train[:1000])\n",
    "\n",
    "    train_list.append(SGDModel.score(X_train[:1000],y_train[:1000]))\n",
    "    test_list.append(SGDModel.score(X_test[:1000], y_test[:1000]))\n",
    "    train_dict[alpha] = train_list\n",
    "    test_dict[alpha] = test_list"
   ],
   "metadata": {
    "collapsed": false,
    "ExecuteTime": {
     "end_time": "2024-03-04T11:44:06.941975900Z",
     "start_time": "2024-03-04T11:44:04.821896200Z"
    }
   },
   "id": "1c8bf95ad2de4bcf",
   "execution_count": 36
  },
  {
   "cell_type": "code",
   "outputs": [
    {
     "data": {
      "text/plain": "({0.1: [0.989],\n  0.01: [0.992],\n  0.001: [0.993],\n  0.0001: [0.993],\n  1e-05: [0.993],\n  1e-06: [0.993],\n  1e-07: [0.991]},\n {0.1: [0.817],\n  0.01: [0.822],\n  0.001: [0.827],\n  0.0001: [0.828],\n  1e-05: [0.831],\n  1e-06: [0.828],\n  1e-07: [0.825]})"
     },
     "execution_count": 41,
     "metadata": {},
     "output_type": "execute_result"
    }
   ],
   "source": [
    "# 유의미한 차이를 모르겠다.\n",
    "train_dict, test_dict"
   ],
   "metadata": {
    "collapsed": false,
    "ExecuteTime": {
     "end_time": "2024-03-04T11:45:57.881220600Z",
     "start_time": "2024-03-04T11:45:57.857620700Z"
    }
   },
   "id": "ce8fbb7fe48cebfa",
   "execution_count": 41
  },
  {
   "cell_type": "code",
   "outputs": [],
   "source": [
    "trainScoreDF = pd.DataFrame(train_dict)\n",
    "testScoreDF = pd.DataFrame(test_dict)\n",
    "\n",
    "trainScoreDF.to_csv('train_score2.csv')\n",
    "testScoreDF.to_csv('test_score2.csv')"
   ],
   "metadata": {
    "collapsed": false,
    "ExecuteTime": {
     "end_time": "2024-03-04T11:44:45.032906900Z",
     "start_time": "2024-03-04T11:44:45.025254100Z"
    }
   },
   "id": "8f19d432f666f078",
   "execution_count": 39
  },
  {
   "cell_type": "code",
   "outputs": [
    {
     "data": {
      "text/plain": "SGDClassifier(max_iter=2000, random_state=40)",
      "text/html": "<style>#sk-container-id-3 {color: black;}#sk-container-id-3 pre{padding: 0;}#sk-container-id-3 div.sk-toggleable {background-color: white;}#sk-container-id-3 label.sk-toggleable__label {cursor: pointer;display: block;width: 100%;margin-bottom: 0;padding: 0.3em;box-sizing: border-box;text-align: center;}#sk-container-id-3 label.sk-toggleable__label-arrow:before {content: \"▸\";float: left;margin-right: 0.25em;color: #696969;}#sk-container-id-3 label.sk-toggleable__label-arrow:hover:before {color: black;}#sk-container-id-3 div.sk-estimator:hover label.sk-toggleable__label-arrow:before {color: black;}#sk-container-id-3 div.sk-toggleable__content {max-height: 0;max-width: 0;overflow: hidden;text-align: left;background-color: #f0f8ff;}#sk-container-id-3 div.sk-toggleable__content pre {margin: 0.2em;color: black;border-radius: 0.25em;background-color: #f0f8ff;}#sk-container-id-3 input.sk-toggleable__control:checked~div.sk-toggleable__content {max-height: 200px;max-width: 100%;overflow: auto;}#sk-container-id-3 input.sk-toggleable__control:checked~label.sk-toggleable__label-arrow:before {content: \"▾\";}#sk-container-id-3 div.sk-estimator input.sk-toggleable__control:checked~label.sk-toggleable__label {background-color: #d4ebff;}#sk-container-id-3 div.sk-label input.sk-toggleable__control:checked~label.sk-toggleable__label {background-color: #d4ebff;}#sk-container-id-3 input.sk-hidden--visually {border: 0;clip: rect(1px 1px 1px 1px);clip: rect(1px, 1px, 1px, 1px);height: 1px;margin: -1px;overflow: hidden;padding: 0;position: absolute;width: 1px;}#sk-container-id-3 div.sk-estimator {font-family: monospace;background-color: #f0f8ff;border: 1px dotted black;border-radius: 0.25em;box-sizing: border-box;margin-bottom: 0.5em;}#sk-container-id-3 div.sk-estimator:hover {background-color: #d4ebff;}#sk-container-id-3 div.sk-parallel-item::after {content: \"\";width: 100%;border-bottom: 1px solid gray;flex-grow: 1;}#sk-container-id-3 div.sk-label:hover label.sk-toggleable__label {background-color: #d4ebff;}#sk-container-id-3 div.sk-serial::before {content: \"\";position: absolute;border-left: 1px solid gray;box-sizing: border-box;top: 0;bottom: 0;left: 50%;z-index: 0;}#sk-container-id-3 div.sk-serial {display: flex;flex-direction: column;align-items: center;background-color: white;padding-right: 0.2em;padding-left: 0.2em;position: relative;}#sk-container-id-3 div.sk-item {position: relative;z-index: 1;}#sk-container-id-3 div.sk-parallel {display: flex;align-items: stretch;justify-content: center;background-color: white;position: relative;}#sk-container-id-3 div.sk-item::before, #sk-container-id-3 div.sk-parallel-item::before {content: \"\";position: absolute;border-left: 1px solid gray;box-sizing: border-box;top: 0;bottom: 0;left: 50%;z-index: -1;}#sk-container-id-3 div.sk-parallel-item {display: flex;flex-direction: column;z-index: 1;position: relative;background-color: white;}#sk-container-id-3 div.sk-parallel-item:first-child::after {align-self: flex-end;width: 50%;}#sk-container-id-3 div.sk-parallel-item:last-child::after {align-self: flex-start;width: 50%;}#sk-container-id-3 div.sk-parallel-item:only-child::after {width: 0;}#sk-container-id-3 div.sk-dashed-wrapped {border: 1px dashed gray;margin: 0 0.4em 0.5em 0.4em;box-sizing: border-box;padding-bottom: 0.4em;background-color: white;}#sk-container-id-3 div.sk-label label {font-family: monospace;font-weight: bold;display: inline-block;line-height: 1.2em;}#sk-container-id-3 div.sk-label-container {text-align: center;}#sk-container-id-3 div.sk-container {/* jupyter's `normalize.less` sets `[hidden] { display: none; }` but bootstrap.min.css set `[hidden] { display: none !important; }` so we also need the `!important` here to be able to override the default hidden behavior on the sphinx rendered scikit-learn.org. See: https://github.com/scikit-learn/scikit-learn/issues/21755 */display: inline-block !important;position: relative;}#sk-container-id-3 div.sk-text-repr-fallback {display: none;}</style><div id=\"sk-container-id-3\" class=\"sk-top-container\"><div class=\"sk-text-repr-fallback\"><pre>SGDClassifier(max_iter=2000, random_state=40)</pre><b>In a Jupyter environment, please rerun this cell to show the HTML representation or trust the notebook. <br />On GitHub, the HTML representation is unable to render, please try loading this page with nbviewer.org.</b></div><div class=\"sk-container\" hidden><div class=\"sk-item\"><div class=\"sk-estimator sk-toggleable\"><input class=\"sk-toggleable__control sk-hidden--visually\" id=\"sk-estimator-id-3\" type=\"checkbox\" checked><label for=\"sk-estimator-id-3\" class=\"sk-toggleable__label sk-toggleable__label-arrow\">SGDClassifier</label><div class=\"sk-toggleable__content\"><pre>SGDClassifier(max_iter=2000, random_state=40)</pre></div></div></div></div></div>"
     },
     "execution_count": 43,
     "metadata": {},
     "output_type": "execute_result"
    }
   ],
   "source": [
    "# 더 이상 못참겠디. 모든 데이터를 학습시켜보자.\n",
    "# 좀 걸리긴 하지만 확실히 그냥 로지스틱 회귀보다 훨씬 빠르다.\n",
    "SGDModel = SGDClassifier(max_iter=2000, random_state=40)\n",
    "SGDModel.fit(X_train, y_train)"
   ],
   "metadata": {
    "collapsed": false,
    "ExecuteTime": {
     "end_time": "2024-03-04T11:55:27.719895600Z",
     "start_time": "2024-03-04T11:53:34.391443300Z"
    }
   },
   "id": "fd185e7dcb97df19",
   "execution_count": 43
  },
  {
   "cell_type": "code",
   "outputs": [
    {
     "data": {
      "text/plain": "(0.8803928571428571, 0.87)"
     },
     "execution_count": 44,
     "metadata": {},
     "output_type": "execute_result"
    }
   ],
   "source": [
    "# 어... 데이터를 다 때려박으니 문제점이 해결된거 같기도 하다.\n",
    "SGDModel.score(X_train, y_train), SGDModel.score(X_test, y_test)"
   ],
   "metadata": {
    "collapsed": false,
    "ExecuteTime": {
     "end_time": "2024-03-04T11:56:39.645072100Z",
     "start_time": "2024-03-04T11:56:39.350614500Z"
    }
   },
   "id": "539a095b57b2aaa9",
   "execution_count": 44
  },
  {
   "cell_type": "code",
   "outputs": [
    {
     "name": "stdout",
     "output_type": "stream",
     "text": [
      "              precision    recall  f1-score   support\n",
      "\n",
      "           0       0.91      0.98      0.94      1381\n",
      "           1       0.94      0.97      0.95      1575\n",
      "           2       0.83      0.91      0.87      1398\n",
      "           3       0.96      0.62      0.76      1428\n",
      "           4       0.90      0.93      0.91      1365\n",
      "           5       0.68      0.90      0.78      1263\n",
      "           6       0.91      0.95      0.93      1375\n",
      "           7       0.97      0.84      0.90      1459\n",
      "           8       0.77      0.83      0.80      1365\n",
      "           9       0.91      0.77      0.83      1391\n",
      "\n",
      "    accuracy                           0.87     14000\n",
      "   macro avg       0.88      0.87      0.87     14000\n",
      "weighted avg       0.88      0.87      0.87     14000\n"
     ]
    }
   ],
   "source": [
    "# 숫자 3의 경이로운 재현율이 눈에 띄는데..?\n",
    "print(classification_report(y_test, SGDModel.predict(X_test)))"
   ],
   "metadata": {
    "collapsed": false,
    "ExecuteTime": {
     "end_time": "2024-03-04T11:57:57.106458100Z",
     "start_time": "2024-03-04T11:57:56.881270700Z"
    }
   },
   "id": "bf93ba630a5d7bad",
   "execution_count": 45
  },
  {
   "cell_type": "code",
   "outputs": [
    {
     "name": "stdout",
     "output_type": "stream",
     "text": [
      "[[1350    0    4    0    2    7    7    2    9    0]\n",
      " [   1 1535    4    1    0   10    6    2   14    2]\n",
      " [  21   15 1271    5   10   11   30    8   26    1]\n",
      " [  34    9   78  886    0  319    9    7   70   16]\n",
      " [   8    2   20    3 1268    7   16    1   14   26]\n",
      " [  12    6   10    5   12 1142   34    2   30   10]\n",
      " [  17    7   12    1    4   25 1303    0    5    1]\n",
      " [   6   10   68    5   23   27    0 1219   53   48]\n",
      " [  23   45   31   10    3   92   20    1 1136    4]\n",
      " [  18   11   29    3   86   39    1   19  115 1070]]\n"
     ]
    }
   ],
   "source": [
    "# 모델이 3과 5를 많이 헷갈려 하는거 같다.\n",
    "print(confusion_matrix(y_test, SGDModel.predict(X_test)))"
   ],
   "metadata": {
    "collapsed": false,
    "ExecuteTime": {
     "end_time": "2024-03-04T11:58:59.204874500Z",
     "start_time": "2024-03-04T11:58:59.124696Z"
    }
   },
   "id": "5e3326e17bf8a65c",
   "execution_count": 46
  },
  {
   "cell_type": "markdown",
   "source": [
    "- 혹시 과적합이 의심된다면 데이터의 양이 충분했는지 생각해보자..\n",
    "- 글씨좀 싯팔 똑바로 써라"
   ],
   "metadata": {
    "collapsed": false
   },
   "id": "5b38102fbd2fe825"
  },
  {
   "cell_type": "code",
   "outputs": [],
   "source": [],
   "metadata": {
    "collapsed": false
   },
   "id": "d06d6e4218884539"
  }
 ],
 "metadata": {
  "kernelspec": {
   "display_name": "Python 3",
   "language": "python",
   "name": "python3"
  },
  "language_info": {
   "codemirror_mode": {
    "name": "ipython",
    "version": 2
   },
   "file_extension": ".py",
   "mimetype": "text/x-python",
   "name": "python",
   "nbconvert_exporter": "python",
   "pygments_lexer": "ipython2",
   "version": "2.7.6"
  }
 },
 "nbformat": 4,
 "nbformat_minor": 5
}
