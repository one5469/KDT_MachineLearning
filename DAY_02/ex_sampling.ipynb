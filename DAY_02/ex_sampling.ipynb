{
 "cells": [
  {
   "cell_type": "markdown",
   "source": [
    "### 표본추출/샘플링\n",
    "- 전체 데이터에서 일부 데이터를 추출\n",
    "- pandas.DataFrame.sample 메소드\n",
    "- 복원추출 : 추출된 데이터를 다시 추가해서 추출하는 방식\n",
    "- 비복원추출 : 추출된 데이터를 제거 후 남은 데이터에서 추출하는 방식"
   ],
   "metadata": {
    "collapsed": false
   },
   "id": "a645ff767c233740"
  },
  {
   "cell_type": "code",
   "outputs": [],
   "source": [
    "import pandas as pd"
   ],
   "metadata": {
    "collapsed": false,
    "ExecuteTime": {
     "end_time": "2024-02-26T01:17:29.721801200Z",
     "start_time": "2024-02-26T01:17:29.706848500Z"
    }
   },
   "id": "339d99d1a01768fc",
   "execution_count": 2
  },
  {
   "cell_type": "code",
   "outputs": [
    {
     "data": {
      "text/plain": "   kor  math  eng\n0   10    11  111\n1   20    22  222\n2   30    33  333",
      "text/html": "<div>\n<style scoped>\n    .dataframe tbody tr th:only-of-type {\n        vertical-align: middle;\n    }\n\n    .dataframe tbody tr th {\n        vertical-align: top;\n    }\n\n    .dataframe thead th {\n        text-align: right;\n    }\n</style>\n<table border=\"1\" class=\"dataframe\">\n  <thead>\n    <tr style=\"text-align: right;\">\n      <th></th>\n      <th>kor</th>\n      <th>math</th>\n      <th>eng</th>\n    </tr>\n  </thead>\n  <tbody>\n    <tr>\n      <th>0</th>\n      <td>10</td>\n      <td>11</td>\n      <td>111</td>\n    </tr>\n    <tr>\n      <th>1</th>\n      <td>20</td>\n      <td>22</td>\n      <td>222</td>\n    </tr>\n    <tr>\n      <th>2</th>\n      <td>30</td>\n      <td>33</td>\n      <td>333</td>\n    </tr>\n  </tbody>\n</table>\n</div>"
     },
     "execution_count": 3,
     "metadata": {},
     "output_type": "execute_result"
    }
   ],
   "source": [
    "# 임의의 데이터 생성\n",
    "dataDF = pd.DataFrame({'kor':[10,20,30],\n",
    "                       'math':[11,22,33],\n",
    "                       'eng':[111,222,333]})\n",
    "dataDF"
   ],
   "metadata": {
    "collapsed": false,
    "ExecuteTime": {
     "end_time": "2024-02-26T01:17:34.802092400Z",
     "start_time": "2024-02-26T01:17:34.778973300Z"
    }
   },
   "id": "e26a4aa0fb4af75a",
   "execution_count": 3
  },
  {
   "cell_type": "code",
   "outputs": [
    {
     "name": "stdout",
     "output_type": "stream",
     "text": [
      "[0번]\n",
      "   kor  math  eng\n",
      "2   30    33  333\n",
      "[1번]\n",
      "   kor  math  eng\n",
      "0   10    11  111\n",
      "[2번]\n",
      "   kor  math  eng\n",
      "0   10    11  111\n",
      "[3번]\n",
      "   kor  math  eng\n",
      "0   10    11  111\n",
      "[4번]\n",
      "   kor  math  eng\n",
      "2   30    33  333\n"
     ]
    }
   ],
   "source": [
    "# 1개의 샘플/표본 데이터 추출\n",
    "for cnt in range(5):\n",
    "    print(f'[{cnt}번]')\n",
    "    print(dataDF.sample(n=1))"
   ],
   "metadata": {
    "collapsed": false,
    "ExecuteTime": {
     "end_time": "2024-02-26T01:19:23.841307400Z",
     "start_time": "2024-02-26T01:19:23.806208300Z"
    }
   },
   "id": "148dae6361dd39e3",
   "execution_count": 5
  },
  {
   "cell_type": "code",
   "outputs": [
    {
     "name": "stdout",
     "output_type": "stream",
     "text": [
      "[0번]\n",
      "   kor  math\n",
      "0   10    11\n",
      "1   20    22\n",
      "2   30    33\n",
      "[1번]\n",
      "   kor  math\n",
      "0   10    11\n",
      "1   20    22\n",
      "2   30    33\n",
      "[2번]\n",
      "   eng  kor\n",
      "0  111   10\n",
      "1  222   20\n",
      "2  333   30\n",
      "[3번]\n",
      "   math  eng\n",
      "0    11  111\n",
      "1    22  222\n",
      "2    33  333\n",
      "[4번]\n",
      "   eng  math\n",
      "0  111    11\n",
      "1  222    22\n",
      "2  333    33\n"
     ]
    }
   ],
   "source": [
    "# 1개의 샘플/표본 데이터 추출 => [기본] 비복원 - 전체 데이터 수 초과 불가\n",
    "# 추출 기준 축(axis)로 설정\n",
    "for cnt in range(5):\n",
    "    print(f'[{cnt}번]')\n",
    "    print(dataDF.sample(n=2, axis='columns'))"
   ],
   "metadata": {
    "collapsed": false,
    "ExecuteTime": {
     "end_time": "2024-02-26T01:20:50.253698100Z",
     "start_time": "2024-02-26T01:20:50.223230200Z"
    }
   },
   "id": "4aa71098086b3052",
   "execution_count": 7
  },
  {
   "cell_type": "code",
   "outputs": [
    {
     "name": "stdout",
     "output_type": "stream",
     "text": [
      "[0번]\n",
      "   kor  kor  math  math\n",
      "0   10   10    11    11\n",
      "1   20   20    22    22\n",
      "2   30   30    33    33\n",
      "[1번]\n",
      "   math  eng  eng  kor\n",
      "0    11  111  111   10\n",
      "1    22  222  222   20\n",
      "2    33  333  333   30\n",
      "[2번]\n",
      "   math  eng  kor  kor\n",
      "0    11  111   10   10\n",
      "1    22  222   20   20\n",
      "2    33  333   30   30\n",
      "[3번]\n",
      "   math  eng  math  eng\n",
      "0    11  111    11  111\n",
      "1    22  222    22  222\n",
      "2    33  333    33  333\n",
      "[4번]\n",
      "   eng  kor  kor  eng\n",
      "0  111   10   10  111\n",
      "1  222   20   20  222\n",
      "2  333   30   30  333\n"
     ]
    }
   ],
   "source": [
    "# 1개의 샘플/표본 데이터 추출 => [설정] 복원 : replace 매개변수 True 설정\n",
    "# 추출 기준 축(axis)로 설정\n",
    "for cnt in range(5):\n",
    "    print(f'[{cnt}번]')\n",
    "    print(dataDF.sample(n=4, axis='columns', replace=True))"
   ],
   "metadata": {
    "collapsed": false,
    "ExecuteTime": {
     "end_time": "2024-02-26T01:23:27.723826100Z",
     "start_time": "2024-02-26T01:23:27.705127800Z"
    }
   },
   "id": "9e3b87abe87aefc6",
   "execution_count": 8
  },
  {
   "cell_type": "code",
   "outputs": [],
   "source": [],
   "metadata": {
    "collapsed": false
   },
   "id": "5f3e912fe3b190b0"
  }
 ],
 "metadata": {
  "kernelspec": {
   "display_name": "Python 3",
   "language": "python",
   "name": "python3"
  },
  "language_info": {
   "codemirror_mode": {
    "name": "ipython",
    "version": 2
   },
   "file_extension": ".py",
   "mimetype": "text/x-python",
   "name": "python",
   "nbconvert_exporter": "python",
   "pygments_lexer": "ipython2",
   "version": "2.7.6"
  }
 },
 "nbformat": 4,
 "nbformat_minor": 5
}
