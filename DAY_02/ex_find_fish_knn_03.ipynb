{
 "cells": [
  {
   "cell_type": "markdown",
   "source": [
    "#### 목표 : 생선 품종 분류 모델\n",
    "- 데이터 : fish.csv\n",
    "- 피쳐 : Weight, Length\n",
    "- 타겟 : Species\n",
    "- 유형 : 지도학습 / 분류"
   ],
   "metadata": {
    "collapsed": false
   },
   "id": "ea66e93dc0d8fc49"
  },
  {
   "cell_type": "markdown",
   "source": [
    "(1) 모듈 로딩 & 데이터 준비"
   ],
   "metadata": {
    "collapsed": false
   },
   "id": "a3b6b1ced2be47b9"
  },
  {
   "cell_type": "code",
   "outputs": [],
   "source": [
    "import matplotlib.pyplot as plt\n",
    "import pandas as pd                                     # 데이터 파일 관련 모듈\n",
    "from sklearn.neighbors import KNeighborsClassifier      # 기계학습 관련 모듈\n",
    "import matplotlib.pyplot as plt"
   ],
   "metadata": {
    "collapsed": false,
    "ExecuteTime": {
     "end_time": "2024-02-26T07:10:42.597370800Z",
     "start_time": "2024-02-26T07:10:41.057209200Z"
    }
   },
   "id": "3063db27ddbe71cf",
   "execution_count": 2
  },
  {
   "cell_type": "code",
   "outputs": [],
   "source": [
    "data_file = '../data/fish.csv'"
   ],
   "metadata": {
    "collapsed": false,
    "ExecuteTime": {
     "end_time": "2024-02-26T07:10:42.629265Z",
     "start_time": "2024-02-26T07:10:42.600359700Z"
    }
   },
   "id": "4baa04001b372901",
   "execution_count": 3
  },
  {
   "cell_type": "code",
   "outputs": [
    {
     "name": "stdout",
     "output_type": "stream",
     "text": [
      "<class 'pandas.core.frame.DataFrame'>\n",
      "RangeIndex: 159 entries, 0 to 158\n",
      "Data columns (total 3 columns):\n",
      " #   Column   Non-Null Count  Dtype  \n",
      "---  ------   --------------  -----  \n",
      " 0   Species  159 non-null    object \n",
      " 1   Weight   159 non-null    float64\n",
      " 2   Length   159 non-null    float64\n",
      "dtypes: float64(2), object(1)\n",
      "memory usage: 3.9+ KB\n"
     ]
    }
   ],
   "source": [
    "# 5개 피쳐/특성 중 2개 피쳐/특성 선택\n",
    "fishDF = pd.read_csv(data_file, usecols=[0,1,2])\n",
    "fishDF.info()"
   ],
   "metadata": {
    "collapsed": false,
    "ExecuteTime": {
     "end_time": "2024-02-26T07:10:42.652186500Z",
     "start_time": "2024-02-26T07:10:42.616307700Z"
    }
   },
   "id": "57574389e4ac7c8b",
   "execution_count": 4
  },
  {
   "cell_type": "code",
   "outputs": [
    {
     "data": {
      "text/plain": "   Species  Weight  Length\n0    Bream   242.0    25.4\n1    Bream   290.0    26.3\n2    Bream   340.0    26.5\n3    Bream   363.0    29.0\n4    Bream   430.0    29.0\n5    Bream   450.0    29.7\n6    Bream   500.0    29.7\n7    Bream   390.0    30.0\n8    Bream   450.0    30.0\n9    Bream   500.0    30.7\n10   Bream   475.0    31.0\n11   Bream   500.0    31.0\n12   Bream   500.0    31.5\n13   Bream   340.0    32.0\n14   Bream   600.0    32.0\n15   Bream   600.0    32.0\n16   Bream   700.0    33.0\n17   Bream   700.0    33.0\n18   Bream   610.0    33.5\n19   Bream   650.0    33.5\n20   Bream   575.0    34.0\n21   Bream   685.0    34.0\n22   Bream   620.0    34.5\n23   Bream   680.0    35.0\n24   Bream   700.0    35.0\n25   Bream   725.0    35.0\n26   Bream   720.0    35.0\n27   Bream   714.0    36.0\n28   Bream   850.0    36.0\n29   Bream  1000.0    37.0\n30   Bream   920.0    38.5\n31   Bream   955.0    38.5\n32   Bream   925.0    39.5\n33   Bream   975.0    41.0\n34   Bream   950.0    41.0\n35   Smelt     6.7     9.8\n36   Smelt     7.5    10.5\n37   Smelt     7.0    10.6\n38   Smelt     9.7    11.0\n39   Smelt     9.8    11.2\n40   Smelt     8.7    11.3\n41   Smelt    10.0    11.8\n42   Smelt     9.9    11.8\n43   Smelt     9.8    12.0\n44   Smelt    12.2    12.2\n45   Smelt    13.4    12.4\n46   Smelt    12.2    13.0\n47   Smelt    19.7    14.3\n48   Smelt    19.9    15.0",
      "text/html": "<div>\n<style scoped>\n    .dataframe tbody tr th:only-of-type {\n        vertical-align: middle;\n    }\n\n    .dataframe tbody tr th {\n        vertical-align: top;\n    }\n\n    .dataframe thead th {\n        text-align: right;\n    }\n</style>\n<table border=\"1\" class=\"dataframe\">\n  <thead>\n    <tr style=\"text-align: right;\">\n      <th></th>\n      <th>Species</th>\n      <th>Weight</th>\n      <th>Length</th>\n    </tr>\n  </thead>\n  <tbody>\n    <tr>\n      <th>0</th>\n      <td>Bream</td>\n      <td>242.0</td>\n      <td>25.4</td>\n    </tr>\n    <tr>\n      <th>1</th>\n      <td>Bream</td>\n      <td>290.0</td>\n      <td>26.3</td>\n    </tr>\n    <tr>\n      <th>2</th>\n      <td>Bream</td>\n      <td>340.0</td>\n      <td>26.5</td>\n    </tr>\n    <tr>\n      <th>3</th>\n      <td>Bream</td>\n      <td>363.0</td>\n      <td>29.0</td>\n    </tr>\n    <tr>\n      <th>4</th>\n      <td>Bream</td>\n      <td>430.0</td>\n      <td>29.0</td>\n    </tr>\n    <tr>\n      <th>5</th>\n      <td>Bream</td>\n      <td>450.0</td>\n      <td>29.7</td>\n    </tr>\n    <tr>\n      <th>6</th>\n      <td>Bream</td>\n      <td>500.0</td>\n      <td>29.7</td>\n    </tr>\n    <tr>\n      <th>7</th>\n      <td>Bream</td>\n      <td>390.0</td>\n      <td>30.0</td>\n    </tr>\n    <tr>\n      <th>8</th>\n      <td>Bream</td>\n      <td>450.0</td>\n      <td>30.0</td>\n    </tr>\n    <tr>\n      <th>9</th>\n      <td>Bream</td>\n      <td>500.0</td>\n      <td>30.7</td>\n    </tr>\n    <tr>\n      <th>10</th>\n      <td>Bream</td>\n      <td>475.0</td>\n      <td>31.0</td>\n    </tr>\n    <tr>\n      <th>11</th>\n      <td>Bream</td>\n      <td>500.0</td>\n      <td>31.0</td>\n    </tr>\n    <tr>\n      <th>12</th>\n      <td>Bream</td>\n      <td>500.0</td>\n      <td>31.5</td>\n    </tr>\n    <tr>\n      <th>13</th>\n      <td>Bream</td>\n      <td>340.0</td>\n      <td>32.0</td>\n    </tr>\n    <tr>\n      <th>14</th>\n      <td>Bream</td>\n      <td>600.0</td>\n      <td>32.0</td>\n    </tr>\n    <tr>\n      <th>15</th>\n      <td>Bream</td>\n      <td>600.0</td>\n      <td>32.0</td>\n    </tr>\n    <tr>\n      <th>16</th>\n      <td>Bream</td>\n      <td>700.0</td>\n      <td>33.0</td>\n    </tr>\n    <tr>\n      <th>17</th>\n      <td>Bream</td>\n      <td>700.0</td>\n      <td>33.0</td>\n    </tr>\n    <tr>\n      <th>18</th>\n      <td>Bream</td>\n      <td>610.0</td>\n      <td>33.5</td>\n    </tr>\n    <tr>\n      <th>19</th>\n      <td>Bream</td>\n      <td>650.0</td>\n      <td>33.5</td>\n    </tr>\n    <tr>\n      <th>20</th>\n      <td>Bream</td>\n      <td>575.0</td>\n      <td>34.0</td>\n    </tr>\n    <tr>\n      <th>21</th>\n      <td>Bream</td>\n      <td>685.0</td>\n      <td>34.0</td>\n    </tr>\n    <tr>\n      <th>22</th>\n      <td>Bream</td>\n      <td>620.0</td>\n      <td>34.5</td>\n    </tr>\n    <tr>\n      <th>23</th>\n      <td>Bream</td>\n      <td>680.0</td>\n      <td>35.0</td>\n    </tr>\n    <tr>\n      <th>24</th>\n      <td>Bream</td>\n      <td>700.0</td>\n      <td>35.0</td>\n    </tr>\n    <tr>\n      <th>25</th>\n      <td>Bream</td>\n      <td>725.0</td>\n      <td>35.0</td>\n    </tr>\n    <tr>\n      <th>26</th>\n      <td>Bream</td>\n      <td>720.0</td>\n      <td>35.0</td>\n    </tr>\n    <tr>\n      <th>27</th>\n      <td>Bream</td>\n      <td>714.0</td>\n      <td>36.0</td>\n    </tr>\n    <tr>\n      <th>28</th>\n      <td>Bream</td>\n      <td>850.0</td>\n      <td>36.0</td>\n    </tr>\n    <tr>\n      <th>29</th>\n      <td>Bream</td>\n      <td>1000.0</td>\n      <td>37.0</td>\n    </tr>\n    <tr>\n      <th>30</th>\n      <td>Bream</td>\n      <td>920.0</td>\n      <td>38.5</td>\n    </tr>\n    <tr>\n      <th>31</th>\n      <td>Bream</td>\n      <td>955.0</td>\n      <td>38.5</td>\n    </tr>\n    <tr>\n      <th>32</th>\n      <td>Bream</td>\n      <td>925.0</td>\n      <td>39.5</td>\n    </tr>\n    <tr>\n      <th>33</th>\n      <td>Bream</td>\n      <td>975.0</td>\n      <td>41.0</td>\n    </tr>\n    <tr>\n      <th>34</th>\n      <td>Bream</td>\n      <td>950.0</td>\n      <td>41.0</td>\n    </tr>\n    <tr>\n      <th>35</th>\n      <td>Smelt</td>\n      <td>6.7</td>\n      <td>9.8</td>\n    </tr>\n    <tr>\n      <th>36</th>\n      <td>Smelt</td>\n      <td>7.5</td>\n      <td>10.5</td>\n    </tr>\n    <tr>\n      <th>37</th>\n      <td>Smelt</td>\n      <td>7.0</td>\n      <td>10.6</td>\n    </tr>\n    <tr>\n      <th>38</th>\n      <td>Smelt</td>\n      <td>9.7</td>\n      <td>11.0</td>\n    </tr>\n    <tr>\n      <th>39</th>\n      <td>Smelt</td>\n      <td>9.8</td>\n      <td>11.2</td>\n    </tr>\n    <tr>\n      <th>40</th>\n      <td>Smelt</td>\n      <td>8.7</td>\n      <td>11.3</td>\n    </tr>\n    <tr>\n      <th>41</th>\n      <td>Smelt</td>\n      <td>10.0</td>\n      <td>11.8</td>\n    </tr>\n    <tr>\n      <th>42</th>\n      <td>Smelt</td>\n      <td>9.9</td>\n      <td>11.8</td>\n    </tr>\n    <tr>\n      <th>43</th>\n      <td>Smelt</td>\n      <td>9.8</td>\n      <td>12.0</td>\n    </tr>\n    <tr>\n      <th>44</th>\n      <td>Smelt</td>\n      <td>12.2</td>\n      <td>12.2</td>\n    </tr>\n    <tr>\n      <th>45</th>\n      <td>Smelt</td>\n      <td>13.4</td>\n      <td>12.4</td>\n    </tr>\n    <tr>\n      <th>46</th>\n      <td>Smelt</td>\n      <td>12.2</td>\n      <td>13.0</td>\n    </tr>\n    <tr>\n      <th>47</th>\n      <td>Smelt</td>\n      <td>19.7</td>\n      <td>14.3</td>\n    </tr>\n    <tr>\n      <th>48</th>\n      <td>Smelt</td>\n      <td>19.9</td>\n      <td>15.0</td>\n    </tr>\n  </tbody>\n</table>\n</div>"
     },
     "execution_count": 5,
     "metadata": {},
     "output_type": "execute_result"
    }
   ],
   "source": [
    "# Bream, Smelt 품종 행만 추출\n",
    "mask = fishDF['Species'].isin(['Bream', 'Smelt'])   # Boolean Indexing\n",
    "\n",
    "# 해당 행만 도출\n",
    "twofishDF = fishDF[mask]\n",
    "twofishDF.index\n",
    "\n",
    "# 인덱스 정리\n",
    "twofishDF.reset_index(drop=True, inplace=True)\n",
    "twofishDF"
   ],
   "metadata": {
    "collapsed": false,
    "ExecuteTime": {
     "end_time": "2024-02-26T07:10:42.692603500Z",
     "start_time": "2024-02-26T07:10:42.647205500Z"
    }
   },
   "id": "81f0b312024bb04b",
   "execution_count": 5
  },
  {
   "cell_type": "code",
   "outputs": [
    {
     "name": "stderr",
     "output_type": "stream",
     "text": [
      "C:\\Users\\kdp\\AppData\\Local\\Temp\\ipykernel_25180\\1337506430.py:4: SettingWithCopyWarning: \n",
      "A value is trying to be set on a copy of a slice from a DataFrame.\n",
      "Try using .loc[row_indexer,col_indexer] = value instead\n",
      "\n",
      "See the caveats in the documentation: https://pandas.pydata.org/pandas-docs/stable/user_guide/indexing.html#returning-a-view-versus-a-copy\n",
      "  twofishDF['Species'] = twofishDF['Species'].astype('int32').copy()\n"
     ]
    }
   ],
   "source": [
    "# Bream, Smelt 품종명을 수치화\n",
    "# twofishDF.Species = twofishDF.Species.replace({'Bream':0, 'Smelt':1}).copy()\n",
    "twofishDF.loc[:, 'Species'] = twofishDF.Species.replace({'Bream':0, 'Smelt':1}).copy()\n",
    "twofishDF['Species'] = twofishDF['Species'].astype('int32').copy()"
   ],
   "metadata": {
    "collapsed": false,
    "ExecuteTime": {
     "end_time": "2024-02-26T07:10:42.693600400Z",
     "start_time": "2024-02-26T07:10:42.679104300Z"
    }
   },
   "id": "6f0ec38295c2ee47",
   "execution_count": 6
  },
  {
   "cell_type": "code",
   "outputs": [
    {
     "name": "stdout",
     "output_type": "stream",
     "text": [
      "<class 'pandas.core.frame.DataFrame'>\n",
      "RangeIndex: 49 entries, 0 to 48\n",
      "Data columns (total 3 columns):\n",
      " #   Column   Non-Null Count  Dtype  \n",
      "---  ------   --------------  -----  \n",
      " 0   Species  49 non-null     int32  \n",
      " 1   Weight   49 non-null     float64\n",
      " 2   Length   49 non-null     float64\n",
      "dtypes: float64(2), int32(1)\n",
      "memory usage: 1.1 KB\n"
     ]
    }
   ],
   "source": [
    "twofishDF.info()"
   ],
   "metadata": {
    "collapsed": false,
    "ExecuteTime": {
     "end_time": "2024-02-26T07:10:42.752404400Z",
     "start_time": "2024-02-26T07:10:42.695594400Z"
    }
   },
   "id": "49086cfa0293150d",
   "execution_count": 7
  },
  {
   "cell_type": "markdown",
   "source": [
    "#(2) 데이터 전처리\n",
    "- 정제 : 결측치, 중복데이터, 이상치 처리\n",
    "- 정규화 : 피쳐 스케일링"
   ],
   "metadata": {
    "collapsed": false
   },
   "id": "a5d33d4d1a29b7f4"
  },
  {
   "cell_type": "code",
   "outputs": [
    {
     "data": {
      "text/plain": "(444.5, 328.1432328267642)"
     },
     "execution_count": 8,
     "metadata": {},
     "output_type": "execute_result"
    }
   ],
   "source": [
    "# 표준 정규분포 => 평균 0, 표준편차 1 =>  Z-score = (피쳐 - 평균) / 표준편차\n",
    "# Weight 컬럼\n",
    "twofishDF.Weight.mean(), twofishDF.Weight.std()"
   ],
   "metadata": {
    "collapsed": false,
    "ExecuteTime": {
     "end_time": "2024-02-26T07:10:42.771341100Z",
     "start_time": "2024-02-26T07:10:42.711540300Z"
    }
   },
   "id": "efa98d6488a85489",
   "execution_count": 8
  },
  {
   "cell_type": "code",
   "outputs": [],
   "source": [
    "ret1 = twofishDF.Weight - twofishDF.Weight.mean()\n",
    "ret1 = ret1/twofishDF.Weight.std()"
   ],
   "metadata": {
    "collapsed": false,
    "ExecuteTime": {
     "end_time": "2024-02-26T07:10:42.773337200Z",
     "start_time": "2024-02-26T07:10:42.723502200Z"
    }
   },
   "id": "41e3f6abb9c26139",
   "execution_count": 9
  },
  {
   "cell_type": "code",
   "outputs": [],
   "source": [
    "twofishDF.loc[:, 'Weight'] = ret1"
   ],
   "metadata": {
    "collapsed": false,
    "ExecuteTime": {
     "end_time": "2024-02-26T07:10:42.811723Z",
     "start_time": "2024-02-26T07:10:42.738449700Z"
    }
   },
   "id": "651e593554e673ac",
   "execution_count": 10
  },
  {
   "cell_type": "code",
   "outputs": [],
   "source": [
    "# Length 컬럼\n",
    "ret2 = twofishDF.Length - twofishDF.Length.mean()\n",
    "ret2 = ret2 / twofishDF.Length.std()\n",
    "\n",
    "twofishDF.loc[:, 'Length'] = ret2"
   ],
   "metadata": {
    "collapsed": false,
    "ExecuteTime": {
     "end_time": "2024-02-26T07:10:42.842956600Z",
     "start_time": "2024-02-26T07:10:42.754400Z"
    }
   },
   "id": "8aa7c51309a414c",
   "execution_count": 11
  },
  {
   "cell_type": "code",
   "outputs": [
    {
     "data": {
      "text/plain": "    Species    Weight    Length\n0         0 -0.617109 -0.161587\n1         0 -0.470831 -0.073720\n2         0 -0.318458 -0.054194\n3         0 -0.248367  0.189879\n4         0 -0.044188  0.189879\n5         0  0.016761  0.258220\n6         0  0.169133  0.258220\n7         0 -0.166086  0.287509\n8         0  0.016761  0.287509\n9         0  0.169133  0.355850\n10        0  0.092947  0.385138\n11        0  0.169133  0.385138\n12        0  0.169133  0.433953\n13        0 -0.318458  0.482768\n14        0  0.473878  0.482768\n15        0  0.473878  0.482768\n16        0  0.778623  0.580398\n17        0  0.778623  0.580398\n18        0  0.504353  0.629212\n19        0  0.626251  0.629212\n20        0  0.397692  0.678027\n21        0  0.732912  0.678027\n22        0  0.534827  0.726842\n23        0  0.717674  0.775657\n24        0  0.778623  0.775657\n25        0  0.854810  0.775657\n26        0  0.839572  0.775657\n27        0  0.821288  0.873286\n28        0  1.235741  0.873286\n29        0  1.692858  0.970916\n30        0  1.449062  1.117360\n31        0  1.555723  1.117360\n32        0  1.464300  1.214989\n33        0  1.616672  1.361434\n34        0  1.540486  1.361434\n35        1 -1.334173 -1.684607\n36        1 -1.331736 -1.616267\n37        1 -1.333259 -1.606504\n38        1 -1.325031 -1.567452\n39        1 -1.324726 -1.547926\n40        1 -1.328079 -1.538163\n41        1 -1.324117 -1.489348\n42        1 -1.324422 -1.489348\n43        1 -1.324726 -1.469822\n44        1 -1.317413 -1.450296\n45        1 -1.313756 -1.430771\n46        1 -1.317413 -1.372193\n47        1 -1.294557 -1.245274\n48        1 -1.293947 -1.176934",
      "text/html": "<div>\n<style scoped>\n    .dataframe tbody tr th:only-of-type {\n        vertical-align: middle;\n    }\n\n    .dataframe tbody tr th {\n        vertical-align: top;\n    }\n\n    .dataframe thead th {\n        text-align: right;\n    }\n</style>\n<table border=\"1\" class=\"dataframe\">\n  <thead>\n    <tr style=\"text-align: right;\">\n      <th></th>\n      <th>Species</th>\n      <th>Weight</th>\n      <th>Length</th>\n    </tr>\n  </thead>\n  <tbody>\n    <tr>\n      <th>0</th>\n      <td>0</td>\n      <td>-0.617109</td>\n      <td>-0.161587</td>\n    </tr>\n    <tr>\n      <th>1</th>\n      <td>0</td>\n      <td>-0.470831</td>\n      <td>-0.073720</td>\n    </tr>\n    <tr>\n      <th>2</th>\n      <td>0</td>\n      <td>-0.318458</td>\n      <td>-0.054194</td>\n    </tr>\n    <tr>\n      <th>3</th>\n      <td>0</td>\n      <td>-0.248367</td>\n      <td>0.189879</td>\n    </tr>\n    <tr>\n      <th>4</th>\n      <td>0</td>\n      <td>-0.044188</td>\n      <td>0.189879</td>\n    </tr>\n    <tr>\n      <th>5</th>\n      <td>0</td>\n      <td>0.016761</td>\n      <td>0.258220</td>\n    </tr>\n    <tr>\n      <th>6</th>\n      <td>0</td>\n      <td>0.169133</td>\n      <td>0.258220</td>\n    </tr>\n    <tr>\n      <th>7</th>\n      <td>0</td>\n      <td>-0.166086</td>\n      <td>0.287509</td>\n    </tr>\n    <tr>\n      <th>8</th>\n      <td>0</td>\n      <td>0.016761</td>\n      <td>0.287509</td>\n    </tr>\n    <tr>\n      <th>9</th>\n      <td>0</td>\n      <td>0.169133</td>\n      <td>0.355850</td>\n    </tr>\n    <tr>\n      <th>10</th>\n      <td>0</td>\n      <td>0.092947</td>\n      <td>0.385138</td>\n    </tr>\n    <tr>\n      <th>11</th>\n      <td>0</td>\n      <td>0.169133</td>\n      <td>0.385138</td>\n    </tr>\n    <tr>\n      <th>12</th>\n      <td>0</td>\n      <td>0.169133</td>\n      <td>0.433953</td>\n    </tr>\n    <tr>\n      <th>13</th>\n      <td>0</td>\n      <td>-0.318458</td>\n      <td>0.482768</td>\n    </tr>\n    <tr>\n      <th>14</th>\n      <td>0</td>\n      <td>0.473878</td>\n      <td>0.482768</td>\n    </tr>\n    <tr>\n      <th>15</th>\n      <td>0</td>\n      <td>0.473878</td>\n      <td>0.482768</td>\n    </tr>\n    <tr>\n      <th>16</th>\n      <td>0</td>\n      <td>0.778623</td>\n      <td>0.580398</td>\n    </tr>\n    <tr>\n      <th>17</th>\n      <td>0</td>\n      <td>0.778623</td>\n      <td>0.580398</td>\n    </tr>\n    <tr>\n      <th>18</th>\n      <td>0</td>\n      <td>0.504353</td>\n      <td>0.629212</td>\n    </tr>\n    <tr>\n      <th>19</th>\n      <td>0</td>\n      <td>0.626251</td>\n      <td>0.629212</td>\n    </tr>\n    <tr>\n      <th>20</th>\n      <td>0</td>\n      <td>0.397692</td>\n      <td>0.678027</td>\n    </tr>\n    <tr>\n      <th>21</th>\n      <td>0</td>\n      <td>0.732912</td>\n      <td>0.678027</td>\n    </tr>\n    <tr>\n      <th>22</th>\n      <td>0</td>\n      <td>0.534827</td>\n      <td>0.726842</td>\n    </tr>\n    <tr>\n      <th>23</th>\n      <td>0</td>\n      <td>0.717674</td>\n      <td>0.775657</td>\n    </tr>\n    <tr>\n      <th>24</th>\n      <td>0</td>\n      <td>0.778623</td>\n      <td>0.775657</td>\n    </tr>\n    <tr>\n      <th>25</th>\n      <td>0</td>\n      <td>0.854810</td>\n      <td>0.775657</td>\n    </tr>\n    <tr>\n      <th>26</th>\n      <td>0</td>\n      <td>0.839572</td>\n      <td>0.775657</td>\n    </tr>\n    <tr>\n      <th>27</th>\n      <td>0</td>\n      <td>0.821288</td>\n      <td>0.873286</td>\n    </tr>\n    <tr>\n      <th>28</th>\n      <td>0</td>\n      <td>1.235741</td>\n      <td>0.873286</td>\n    </tr>\n    <tr>\n      <th>29</th>\n      <td>0</td>\n      <td>1.692858</td>\n      <td>0.970916</td>\n    </tr>\n    <tr>\n      <th>30</th>\n      <td>0</td>\n      <td>1.449062</td>\n      <td>1.117360</td>\n    </tr>\n    <tr>\n      <th>31</th>\n      <td>0</td>\n      <td>1.555723</td>\n      <td>1.117360</td>\n    </tr>\n    <tr>\n      <th>32</th>\n      <td>0</td>\n      <td>1.464300</td>\n      <td>1.214989</td>\n    </tr>\n    <tr>\n      <th>33</th>\n      <td>0</td>\n      <td>1.616672</td>\n      <td>1.361434</td>\n    </tr>\n    <tr>\n      <th>34</th>\n      <td>0</td>\n      <td>1.540486</td>\n      <td>1.361434</td>\n    </tr>\n    <tr>\n      <th>35</th>\n      <td>1</td>\n      <td>-1.334173</td>\n      <td>-1.684607</td>\n    </tr>\n    <tr>\n      <th>36</th>\n      <td>1</td>\n      <td>-1.331736</td>\n      <td>-1.616267</td>\n    </tr>\n    <tr>\n      <th>37</th>\n      <td>1</td>\n      <td>-1.333259</td>\n      <td>-1.606504</td>\n    </tr>\n    <tr>\n      <th>38</th>\n      <td>1</td>\n      <td>-1.325031</td>\n      <td>-1.567452</td>\n    </tr>\n    <tr>\n      <th>39</th>\n      <td>1</td>\n      <td>-1.324726</td>\n      <td>-1.547926</td>\n    </tr>\n    <tr>\n      <th>40</th>\n      <td>1</td>\n      <td>-1.328079</td>\n      <td>-1.538163</td>\n    </tr>\n    <tr>\n      <th>41</th>\n      <td>1</td>\n      <td>-1.324117</td>\n      <td>-1.489348</td>\n    </tr>\n    <tr>\n      <th>42</th>\n      <td>1</td>\n      <td>-1.324422</td>\n      <td>-1.489348</td>\n    </tr>\n    <tr>\n      <th>43</th>\n      <td>1</td>\n      <td>-1.324726</td>\n      <td>-1.469822</td>\n    </tr>\n    <tr>\n      <th>44</th>\n      <td>1</td>\n      <td>-1.317413</td>\n      <td>-1.450296</td>\n    </tr>\n    <tr>\n      <th>45</th>\n      <td>1</td>\n      <td>-1.313756</td>\n      <td>-1.430771</td>\n    </tr>\n    <tr>\n      <th>46</th>\n      <td>1</td>\n      <td>-1.317413</td>\n      <td>-1.372193</td>\n    </tr>\n    <tr>\n      <th>47</th>\n      <td>1</td>\n      <td>-1.294557</td>\n      <td>-1.245274</td>\n    </tr>\n    <tr>\n      <th>48</th>\n      <td>1</td>\n      <td>-1.293947</td>\n      <td>-1.176934</td>\n    </tr>\n  </tbody>\n</table>\n</div>"
     },
     "execution_count": 12,
     "metadata": {},
     "output_type": "execute_result"
    }
   ],
   "source": [
    "twofishDF"
   ],
   "metadata": {
    "collapsed": false,
    "ExecuteTime": {
     "end_time": "2024-02-26T07:10:42.851924500Z",
     "start_time": "2024-02-26T07:10:42.769347900Z"
    }
   },
   "id": "3c037198aa210fd1",
   "execution_count": 12
  },
  {
   "cell_type": "markdown",
   "source": [
    "(3) 기계학습 데이터셋 준비 => 피쳐와 타겟 분리"
   ],
   "metadata": {
    "collapsed": false
   },
   "id": "16dc836a63edbf5e"
  },
  {
   "cell_type": "code",
   "outputs": [
    {
     "data": {
      "text/plain": "     Weight    Length\n0 -0.617109 -0.161587\n1 -0.470831 -0.073720",
      "text/html": "<div>\n<style scoped>\n    .dataframe tbody tr th:only-of-type {\n        vertical-align: middle;\n    }\n\n    .dataframe tbody tr th {\n        vertical-align: top;\n    }\n\n    .dataframe thead th {\n        text-align: right;\n    }\n</style>\n<table border=\"1\" class=\"dataframe\">\n  <thead>\n    <tr style=\"text-align: right;\">\n      <th></th>\n      <th>Weight</th>\n      <th>Length</th>\n    </tr>\n  </thead>\n  <tbody>\n    <tr>\n      <th>0</th>\n      <td>-0.617109</td>\n      <td>-0.161587</td>\n    </tr>\n    <tr>\n      <th>1</th>\n      <td>-0.470831</td>\n      <td>-0.073720</td>\n    </tr>\n  </tbody>\n</table>\n</div>"
     },
     "execution_count": 13,
     "metadata": {},
     "output_type": "execute_result"
    }
   ],
   "source": [
    "# 피쳐/특성/속성 데이터 추출\n",
    "featureDF=twofishDF[twofishDF.columns[1:]]\n",
    "featureDF.head(2)"
   ],
   "metadata": {
    "collapsed": false,
    "ExecuteTime": {
     "end_time": "2024-02-26T07:10:42.852932100Z",
     "start_time": "2024-02-26T07:10:42.787804100Z"
    }
   },
   "id": "d5f7e160fa29d7bb",
   "execution_count": 13
  },
  {
   "cell_type": "code",
   "outputs": [
    {
     "data": {
      "text/plain": "0    0\n1    0\nName: Species, dtype: int32"
     },
     "execution_count": 14,
     "metadata": {},
     "output_type": "execute_result"
    }
   ],
   "source": [
    "# 클래스/타겟/라벨 데이터 추출 ==> 수치화 즉 정수인코딩\n",
    "targetDF = twofishDF['Species']\n",
    "targetDF.head(2)"
   ],
   "metadata": {
    "collapsed": false,
    "ExecuteTime": {
     "end_time": "2024-02-26T07:10:42.897330Z",
     "start_time": "2024-02-26T07:10:42.799764100Z"
    }
   },
   "id": "671421085f126c7d",
   "execution_count": 14
  },
  {
   "cell_type": "code",
   "outputs": [
    {
     "data": {
      "text/plain": "(dtype('int32'),\n 0    0\n 1    0\n Name: Species, dtype: int32)"
     },
     "execution_count": 15,
     "metadata": {},
     "output_type": "execute_result"
    }
   ],
   "source": [
    "targetDF = targetDF.replace({'Bream':0, 'Smelt':1})\n",
    "targetDF.dtype, targetDF.head(2)"
   ],
   "metadata": {
    "collapsed": false,
    "ExecuteTime": {
     "end_time": "2024-02-26T07:10:42.898325800Z",
     "start_time": "2024-02-26T07:10:42.821028800Z"
    }
   },
   "id": "eb603c94b8183e8d",
   "execution_count": 15
  },
  {
   "cell_type": "markdown",
   "source": [
    "(3-1) 학습/테스트 데이터셋 분리\n",
    "- 지도학습 중 분류 => [고려] 타겟의 비율\n",
    "- 학습 : 테스트 = 80:20"
   ],
   "metadata": {
    "collapsed": false
   },
   "id": "a6ce720f69023e4e"
  },
  {
   "cell_type": "code",
   "outputs": [],
   "source": [
    "# 모듈 로딩\n",
    "from sklearn.model_selection import train_test_split"
   ],
   "metadata": {
    "collapsed": false,
    "ExecuteTime": {
     "end_time": "2024-02-26T07:10:42.900319100Z",
     "start_time": "2024-02-26T07:10:42.830994900Z"
    }
   },
   "id": "58082890c8f7c0f5",
   "execution_count": 16
  },
  {
   "cell_type": "code",
   "outputs": [],
   "source": [
    "X_train, X_test, y_train, y_test = train_test_split(featureDF, targetDF,\n",
    "                                                    test_size=0.2, \n",
    "                                                    stratify=targetDF)"
   ],
   "metadata": {
    "collapsed": false,
    "ExecuteTime": {
     "end_time": "2024-02-26T07:10:42.934196400Z",
     "start_time": "2024-02-26T07:10:42.847937800Z"
    }
   },
   "id": "59369ba9fcc3fd4e",
   "execution_count": 17
  },
  {
   "cell_type": "code",
   "outputs": [
    {
     "name": "stdout",
     "output_type": "stream",
     "text": [
      "학습용 데이터셋 ---->\n",
      "(39, 2), (39,)\n",
      "\n",
      "Species\n",
      "0    0.717949\n",
      "1    0.282051\n",
      "Name: count, dtype: float64\n",
      "테스트용 데이터셋 ---->\n",
      "(10, 2), (10,)\n",
      "\n",
      "Species\n",
      "0    0.7\n",
      "1    0.3\n",
      "Name: count, dtype: float64\n"
     ]
    }
   ],
   "source": [
    "# 학습 및 테스트 데이터셋 확인\n",
    "print(f'학습용 데이터셋 ---->\\n{X_train.shape}, {y_train.shape}')\n",
    "print(f'\\n{y_train.value_counts()/y_train.shape[0]}')\n",
    "\n",
    "print(f'테스트용 데이터셋 ---->\\n{X_test.shape}, {y_test.shape}')\n",
    "print(f'\\n{y_test.value_counts()/y_test.shape[0]}')"
   ],
   "metadata": {
    "collapsed": false,
    "ExecuteTime": {
     "end_time": "2024-02-26T07:10:42.968083Z",
     "start_time": "2024-02-26T07:10:42.863886400Z"
    }
   },
   "id": "e12638dc80629afe",
   "execution_count": 18
  },
  {
   "cell_type": "code",
   "outputs": [],
   "source": [],
   "metadata": {
    "collapsed": false,
    "ExecuteTime": {
     "end_time": "2024-02-26T07:10:43.016440400Z",
     "start_time": "2024-02-26T07:10:42.877856200Z"
    }
   },
   "id": "80c9c5bbae0446b9",
   "execution_count": 18
  },
  {
   "cell_type": "code",
   "outputs": [],
   "source": [],
   "metadata": {
    "collapsed": false,
    "ExecuteTime": {
     "end_time": "2024-02-26T07:10:43.038365600Z",
     "start_time": "2024-02-26T07:10:42.893334300Z"
    }
   },
   "id": "1cedd18b79643a43",
   "execution_count": 18
  },
  {
   "cell_type": "markdown",
   "source": [
    "(3-2) 피쳐 데이터의 스케일링\n",
    "- 피쳐들의 값의 범위가 다른 것을 통일 시켜줌\n",
    "- scikit-learn의 preprocessing 모듈 활용"
   ],
   "metadata": {
    "collapsed": false
   },
   "id": "57296166d516872e"
  },
  {
   "cell_type": "code",
   "outputs": [],
   "source": [
    "# 모듈 로딩\n",
    "from sklearn.preprocessing import StandardScaler"
   ],
   "metadata": {
    "collapsed": false,
    "ExecuteTime": {
     "end_time": "2024-02-26T07:10:43.061290Z",
     "start_time": "2024-02-26T07:10:42.910276500Z"
    }
   },
   "id": "81041ef3a94e198a",
   "execution_count": 19
  },
  {
   "cell_type": "code",
   "outputs": [],
   "source": [
    "# 표준정규분포 스케일링 : 평균 0, 편차 1\n",
    "# (1) 스케일러 인스턴스 생성\n",
    "# (2) 데이터에 대한 평균, 표준편차 계산 진행 : fit() 메소드\n",
    "# (3) 데이터에 대한 스케일링 진행 : transfrom() 메소드"
   ],
   "metadata": {
    "collapsed": false,
    "ExecuteTime": {
     "end_time": "2024-02-26T07:10:43.096762900Z",
     "start_time": "2024-02-26T07:10:42.927219400Z"
    }
   },
   "id": "b32736ed12f4a63e",
   "execution_count": 20
  },
  {
   "cell_type": "code",
   "outputs": [],
   "source": [
    "scaler = StandardScaler()"
   ],
   "metadata": {
    "collapsed": false,
    "ExecuteTime": {
     "end_time": "2024-02-26T07:10:43.119659600Z",
     "start_time": "2024-02-26T07:10:42.941172400Z"
    }
   },
   "id": "ce3816919c7577c7",
   "execution_count": 21
  },
  {
   "cell_type": "code",
   "outputs": [
    {
     "data": {
      "text/plain": "StandardScaler()",
      "text/html": "<style>#sk-container-id-1 {color: black;}#sk-container-id-1 pre{padding: 0;}#sk-container-id-1 div.sk-toggleable {background-color: white;}#sk-container-id-1 label.sk-toggleable__label {cursor: pointer;display: block;width: 100%;margin-bottom: 0;padding: 0.3em;box-sizing: border-box;text-align: center;}#sk-container-id-1 label.sk-toggleable__label-arrow:before {content: \"▸\";float: left;margin-right: 0.25em;color: #696969;}#sk-container-id-1 label.sk-toggleable__label-arrow:hover:before {color: black;}#sk-container-id-1 div.sk-estimator:hover label.sk-toggleable__label-arrow:before {color: black;}#sk-container-id-1 div.sk-toggleable__content {max-height: 0;max-width: 0;overflow: hidden;text-align: left;background-color: #f0f8ff;}#sk-container-id-1 div.sk-toggleable__content pre {margin: 0.2em;color: black;border-radius: 0.25em;background-color: #f0f8ff;}#sk-container-id-1 input.sk-toggleable__control:checked~div.sk-toggleable__content {max-height: 200px;max-width: 100%;overflow: auto;}#sk-container-id-1 input.sk-toggleable__control:checked~label.sk-toggleable__label-arrow:before {content: \"▾\";}#sk-container-id-1 div.sk-estimator input.sk-toggleable__control:checked~label.sk-toggleable__label {background-color: #d4ebff;}#sk-container-id-1 div.sk-label input.sk-toggleable__control:checked~label.sk-toggleable__label {background-color: #d4ebff;}#sk-container-id-1 input.sk-hidden--visually {border: 0;clip: rect(1px 1px 1px 1px);clip: rect(1px, 1px, 1px, 1px);height: 1px;margin: -1px;overflow: hidden;padding: 0;position: absolute;width: 1px;}#sk-container-id-1 div.sk-estimator {font-family: monospace;background-color: #f0f8ff;border: 1px dotted black;border-radius: 0.25em;box-sizing: border-box;margin-bottom: 0.5em;}#sk-container-id-1 div.sk-estimator:hover {background-color: #d4ebff;}#sk-container-id-1 div.sk-parallel-item::after {content: \"\";width: 100%;border-bottom: 1px solid gray;flex-grow: 1;}#sk-container-id-1 div.sk-label:hover label.sk-toggleable__label {background-color: #d4ebff;}#sk-container-id-1 div.sk-serial::before {content: \"\";position: absolute;border-left: 1px solid gray;box-sizing: border-box;top: 0;bottom: 0;left: 50%;z-index: 0;}#sk-container-id-1 div.sk-serial {display: flex;flex-direction: column;align-items: center;background-color: white;padding-right: 0.2em;padding-left: 0.2em;position: relative;}#sk-container-id-1 div.sk-item {position: relative;z-index: 1;}#sk-container-id-1 div.sk-parallel {display: flex;align-items: stretch;justify-content: center;background-color: white;position: relative;}#sk-container-id-1 div.sk-item::before, #sk-container-id-1 div.sk-parallel-item::before {content: \"\";position: absolute;border-left: 1px solid gray;box-sizing: border-box;top: 0;bottom: 0;left: 50%;z-index: -1;}#sk-container-id-1 div.sk-parallel-item {display: flex;flex-direction: column;z-index: 1;position: relative;background-color: white;}#sk-container-id-1 div.sk-parallel-item:first-child::after {align-self: flex-end;width: 50%;}#sk-container-id-1 div.sk-parallel-item:last-child::after {align-self: flex-start;width: 50%;}#sk-container-id-1 div.sk-parallel-item:only-child::after {width: 0;}#sk-container-id-1 div.sk-dashed-wrapped {border: 1px dashed gray;margin: 0 0.4em 0.5em 0.4em;box-sizing: border-box;padding-bottom: 0.4em;background-color: white;}#sk-container-id-1 div.sk-label label {font-family: monospace;font-weight: bold;display: inline-block;line-height: 1.2em;}#sk-container-id-1 div.sk-label-container {text-align: center;}#sk-container-id-1 div.sk-container {/* jupyter's `normalize.less` sets `[hidden] { display: none; }` but bootstrap.min.css set `[hidden] { display: none !important; }` so we also need the `!important` here to be able to override the default hidden behavior on the sphinx rendered scikit-learn.org. See: https://github.com/scikit-learn/scikit-learn/issues/21755 */display: inline-block !important;position: relative;}#sk-container-id-1 div.sk-text-repr-fallback {display: none;}</style><div id=\"sk-container-id-1\" class=\"sk-top-container\"><div class=\"sk-text-repr-fallback\"><pre>StandardScaler()</pre><b>In a Jupyter environment, please rerun this cell to show the HTML representation or trust the notebook. <br />On GitHub, the HTML representation is unable to render, please try loading this page with nbviewer.org.</b></div><div class=\"sk-container\" hidden><div class=\"sk-item\"><div class=\"sk-estimator sk-toggleable\"><input class=\"sk-toggleable__control sk-hidden--visually\" id=\"sk-estimator-id-1\" type=\"checkbox\" checked><label for=\"sk-estimator-id-1\" class=\"sk-toggleable__label sk-toggleable__label-arrow\">StandardScaler</label><div class=\"sk-toggleable__content\"><pre>StandardScaler()</pre></div></div></div></div></div>"
     },
     "execution_count": 22,
     "metadata": {},
     "output_type": "execute_result"
    }
   ],
   "source": [
    "scaler.fit(X_train)"
   ],
   "metadata": {
    "collapsed": false,
    "ExecuteTime": {
     "end_time": "2024-02-26T07:10:43.122808600Z",
     "start_time": "2024-02-26T07:10:42.957119600Z"
    }
   },
   "id": "8f7b7b917468cf2b",
   "execution_count": 22
  },
  {
   "cell_type": "code",
   "outputs": [
    {
     "data": {
      "text/plain": "array([0.04475844, 0.04568816])"
     },
     "execution_count": 23,
     "metadata": {},
     "output_type": "execute_result"
    }
   ],
   "source": [
    "scaler.mean_"
   ],
   "metadata": {
    "collapsed": false,
    "ExecuteTime": {
     "end_time": "2024-02-26T07:10:43.123899100Z",
     "start_time": "2024-02-26T07:10:42.971073900Z"
    }
   },
   "id": "341ce3b8709defa8",
   "execution_count": 23
  },
  {
   "cell_type": "code",
   "outputs": [
    {
     "data": {
      "text/plain": "(39, 2)"
     },
     "execution_count": 24,
     "metadata": {},
     "output_type": "execute_result"
    }
   ],
   "source": [
    "# 학습용 데이터 피쳐 스케일링\n",
    "scaled_X_train = scaler.transform(X_train)\n",
    "scaled_X_train.shape"
   ],
   "metadata": {
    "collapsed": false,
    "ExecuteTime": {
     "end_time": "2024-02-26T07:10:43.166684900Z",
     "start_time": "2024-02-26T07:10:42.989529900Z"
    }
   },
   "id": "84caf05ed7ace90e",
   "execution_count": 24
  },
  {
   "cell_type": "code",
   "outputs": [
    {
     "data": {
      "text/plain": "(10, 2)"
     },
     "execution_count": 25,
     "metadata": {},
     "output_type": "execute_result"
    }
   ],
   "source": [
    "scaled_X_test = scaler.transform(X_test)\n",
    "scaled_X_test.shape"
   ],
   "metadata": {
    "collapsed": false,
    "ExecuteTime": {
     "end_time": "2024-02-26T07:10:43.168678200Z",
     "start_time": "2024-02-26T07:10:43.004482700Z"
    }
   },
   "id": "d2b45e5788ef8474",
   "execution_count": 25
  },
  {
   "cell_type": "markdown",
   "source": [
    "(3-3) 시각화"
   ],
   "metadata": {
    "collapsed": false
   },
   "id": "7ce81e96e10901af"
  },
  {
   "cell_type": "code",
   "outputs": [],
   "source": [
    "# 모듈 로딩\n",
    "import matplotlib.pyplot as plt"
   ],
   "metadata": {
    "collapsed": false,
    "ExecuteTime": {
     "end_time": "2024-02-26T07:10:43.170672100Z",
     "start_time": "2024-02-26T07:10:43.018431800Z"
    }
   },
   "id": "e266901fbf5da59a",
   "execution_count": 26
  },
  {
   "cell_type": "code",
   "outputs": [
    {
     "data": {
      "text/plain": "<Axes: xlabel='Weight', ylabel='Length'>"
     },
     "execution_count": 27,
     "metadata": {},
     "output_type": "execute_result"
    },
    {
     "data": {
      "text/plain": "<Figure size 640x480 with 1 Axes>",
      "image/png": "[encoded data removed]"
     },
     "metadata": {},
     "output_type": "display_data"
    }
   ],
   "source": [
    "# => 원본 데이터 시각화\n",
    "twofishDF.plot(kind='scatter', x='Weight', y='Length')"
   ],
   "metadata": {
    "collapsed": false,
    "ExecuteTime": {
     "end_time": "2024-02-26T07:10:43.266659Z",
     "start_time": "2024-02-26T07:10:43.034378700Z"
    }
   },
   "id": "f3b3c4c9258c05fb",
   "execution_count": 27
  },
  {
   "cell_type": "code",
   "outputs": [
    {
     "name": "stdout",
     "output_type": "stream",
     "text": [
      "[[ 0.04747296  0.34075435]\n",
      " [-1.35754796 -1.65853889]\n",
      " [-1.34914185 -1.52133249]\n",
      " [ 0.72296378  0.5367635 ]\n",
      " [ 0.12252749  0.38975664]\n",
      " [-1.338334   -1.48213066]\n",
      " [-0.02758158  0.24274978]\n",
      " [ 0.76499432  0.83077721]\n",
      " [ 0.72296378  0.73277264]\n",
      " [-0.20771247  0.24274978]\n",
      " [ 0.12252749  0.34075435]\n",
      " [ 1.54856368  1.32080006]\n",
      " [-0.02758158  0.21334841]\n",
      " [-0.65203532 -0.20807124]\n",
      " [-1.34884163 -1.5409334 ]\n",
      " [ 1.39845461  1.1737932 ]\n",
      " [ 0.79801832  0.73277264]\n",
      " [ 1.47350914  1.32080006]\n",
      " [-1.31942026 -1.29592198]\n",
      " [ 1.62361822  0.92878178]\n",
      " [ 0.48278927  0.68377035]\n",
      " [ 1.173291    0.83077721]\n",
      " [ 1.48852005  1.07578863]\n",
      " [-1.34193662 -1.50173158]\n",
      " [-0.28877137  0.14474521]\n",
      " [-0.35782154  0.43875892]\n",
      " [ 1.3834437   1.07578863]\n",
      " [ 0.66292015  0.73277264]\n",
      " [ 0.57285471  0.58576578]\n",
      " [-1.34193662 -1.42332792]\n",
      " [-1.35244425 -1.58993569]\n",
      " [ 0.42274564  0.43875892]\n",
      " [ 0.42274564  0.43875892]\n",
      " [ 0.3476911   0.63476807]\n",
      " [-1.34914185 -1.59973615]\n",
      " [-1.31881982 -1.22731878]\n",
      " [ 0.12252749  0.21334841]\n",
      " [-0.08762521  0.14474521]\n",
      " [-1.35844862 -1.73694255]]\n"
     ]
    }
   ],
   "source": [
    "print(scaled_X_train)"
   ],
   "metadata": {
    "collapsed": false,
    "ExecuteTime": {
     "end_time": "2024-02-26T07:10:43.267718400Z",
     "start_time": "2024-02-26T07:10:43.249791900Z"
    }
   },
   "id": "c770fac02a500b16",
   "execution_count": 28
  },
  {
   "cell_type": "code",
   "outputs": [
    {
     "data": {
      "text/plain": "<matplotlib.collections.PathCollection at 0x153c77eaf40>"
     },
     "execution_count": 29,
     "metadata": {},
     "output_type": "execute_result"
    },
    {
     "data": {
      "text/plain": "<Figure size 640x480 with 1 Axes>",
      "image/png": "[encoded data removed]"
     },
     "metadata": {},
     "output_type": "display_data"
    }
   ],
   "source": [
    "# => 스케일된 데이터 시각화\n",
    "plt.scatter(scaled_X_train[:, 0], scaled_X_train[:, 1], c=y_train)"
   ],
   "metadata": {
    "collapsed": false,
    "ExecuteTime": {
     "end_time": "2024-02-26T07:10:43.379193100Z",
     "start_time": "2024-02-26T07:10:43.265661Z"
    }
   },
   "id": "284937494aff020e",
   "execution_count": 29
  },
  {
   "cell_type": "markdown",
   "source": [
    "(4) 학습 진행"
   ],
   "metadata": {
    "collapsed": false
   },
   "id": "db4a7b8b09e40238"
  },
  {
   "cell_type": "code",
   "outputs": [],
   "source": [
    "# 방법 (1) : KNN 알고리즘\n",
    "# 모델 성능 좌우하는 매개변수 => 하이퍼파라미터 : n_neighbors\n",
    "# n_neighbors 즉 k 갯수 : 1 ~ 전체 데이터 수\n",
    "max_k = scaled_X_train.shape[0]\n",
    "\n",
    "test_scoreList = []\n",
    "train_scoreList = []\n",
    "for k in range(1, max_k+1):\n",
    "    model = KNeighborsClassifier(n_neighbors=k)\n",
    "    model.fit(scaled_X_train, y_train)\n",
    "    train_scoreList.append(model.score(scaled_X_train, y_train))\n",
    "    test_scoreList.append(model.score(scaled_X_test, y_test))"
   ],
   "metadata": {
    "collapsed": false,
    "ExecuteTime": {
     "end_time": "2024-02-26T07:10:44.450021700Z",
     "start_time": "2024-02-26T07:10:43.380279500Z"
    }
   },
   "id": "ea0acd5ea9144eef",
   "execution_count": 30
  },
  {
   "cell_type": "code",
   "outputs": [
    {
     "name": "stdout",
     "output_type": "stream",
     "text": [
      "Train Score : [1.0, 1.0, 1.0, 1.0, 1.0, 1.0, 1.0, 1.0, 1.0, 1.0, 1.0, 1.0, 1.0, 1.0, 1.0, 1.0, 1.0, 1.0, 1.0, 1.0, 1.0, 0.717948717948718, 0.717948717948718, 0.717948717948718, 0.717948717948718, 0.717948717948718, 0.717948717948718, 0.717948717948718, 0.717948717948718, 0.717948717948718, 0.717948717948718, 0.717948717948718, 0.717948717948718, 0.717948717948718, 0.717948717948718, 0.717948717948718, 0.717948717948718, 0.717948717948718, 0.717948717948718]\n",
      "Test  Score : [1.0, 1.0, 1.0, 1.0, 1.0, 1.0, 1.0, 1.0, 1.0, 1.0, 1.0, 1.0, 1.0, 1.0, 1.0, 1.0, 1.0, 1.0, 1.0, 1.0, 1.0, 0.7, 0.7, 0.7, 0.7, 0.7, 0.7, 0.7, 0.7, 0.7, 0.7, 0.7, 0.7, 0.7, 0.7, 0.7, 0.7, 0.7, 0.7]\n"
     ]
    }
   ],
   "source": [
    "# 학습 및 테스트 데이터에 대한 점수 확인\n",
    "print(f'Train Score : {train_scoreList}')\n",
    "print(f'Test  Score : {test_scoreList}')"
   ],
   "metadata": {
    "collapsed": false,
    "ExecuteTime": {
     "end_time": "2024-02-26T07:10:44.465970700Z",
     "start_time": "2024-02-26T07:10:44.452014900Z"
    }
   },
   "id": "80744987fa0e23dd",
   "execution_count": 31
  },
  {
   "cell_type": "code",
   "outputs": [
    {
     "data": {
      "text/plain": "<Figure size 640x480 with 1 Axes>",
      "image/png": "[encoded data removed]"
     },
     "metadata": {},
     "output_type": "display_data"
    }
   ],
   "source": [
    "# K 갯수에 따른 학습용/테스트용 점수 시각화\n",
    "plt.plot(train_scoreList, 'b--', label='Train score')\n",
    "plt.plot(test_scoreList, 'r-', label='Test Score')\n",
    "plt.title('K & Score')\n",
    "plt.xlabel('K')\n",
    "plt.ylabel('Score')\n",
    "plt.legend()\n",
    "plt.show()"
   ],
   "metadata": {
    "collapsed": false,
    "ExecuteTime": {
     "end_time": "2024-02-26T07:13:09.668820Z",
     "start_time": "2024-02-26T07:13:09.569968100Z"
    }
   },
   "id": "d81b6188f6239ea3",
   "execution_count": 34
  },
  {
   "cell_type": "code",
   "outputs": [],
   "source": [
    "# 방법 2 : SVC\n",
    "from sklearn.svm import SVC\n",
    "\n",
    "fishmodel2 = SVC()\n",
    "fishmodel2.fit(scaled_X_train, y_train)"
   ],
   "metadata": {
    "collapsed": false,
    "ExecuteTime": {
     "end_time": "2024-02-26T07:10:44.626794800Z",
     "start_time": "2024-02-26T07:10:44.625789100Z"
    }
   },
   "id": "5f6193bd43214764",
   "execution_count": null
  },
  {
   "cell_type": "code",
   "outputs": [],
   "source": [
    "# 방법 3 : \n",
    "from sklearn.linear_model import LogisticRegression\n",
    "\n",
    "fishmodel3 = LogisticRegression()\n",
    "fishmodel3.fit(scaled_X_train, y_train)"
   ],
   "metadata": {
    "collapsed": false,
    "ExecuteTime": {
     "start_time": "2024-02-26T07:10:44.626794800Z"
    }
   },
   "id": "bfa3ef890830f724"
  }
 ],
 "metadata": {
  "kernelspec": {
   "display_name": "Python 3",
   "language": "python",
   "name": "python3"
  },
  "language_info": {
   "codemirror_mode": {
    "name": "ipython",
    "version": 2
   },
   "file_extension": ".py",
   "mimetype": "text/x-python",
   "name": "python",
   "nbconvert_exporter": "python",
   "pygments_lexer": "ipython2",
   "version": "2.7.6"
  }
 },
 "nbformat": 4,
 "nbformat_minor": 5
}
