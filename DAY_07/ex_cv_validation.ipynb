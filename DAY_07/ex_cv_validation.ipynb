{
 "cells": [
  {
   "cell_type": "markdown",
   "source": [
    "### 교차 검증 단순화\n",
    "- scikit-learn의 model_selection 모듈 내에 모델 검증관련 기능 활용\n",
    "- 교차 검증 데이터기반 검증 결과 처리"
   ],
   "metadata": {
    "collapsed": false
   },
   "id": "a51804c32d5f8e17"
  },
  {
   "cell_type": "markdown",
   "source": [
    "[1] 모듈 로딩 및 데이터 준비"
   ],
   "metadata": {
    "collapsed": false
   },
   "id": "bda73b5516243e34"
  },
  {
   "cell_type": "code",
   "outputs": [],
   "source": [
    "# 모듈 로딩\n",
    "import pandas as pd\n",
    "\n",
    "# 생선 데이터 준비\n",
    "fishDF = pd.read_csv('../data/fish.csv')\n",
    "\n",
    "# 붓꽃 데이터 준비\n",
    "irisDF = pd.read_csv('../data/iris.csv')"
   ],
   "metadata": {
    "collapsed": false,
    "ExecuteTime": {
     "end_time": "2024-03-05T07:46:38.230595200Z",
     "start_time": "2024-03-05T07:46:38.221627Z"
    }
   },
   "id": "dbb2c1b9b9e12cc4",
   "execution_count": 9
  },
  {
   "cell_type": "code",
   "outputs": [
    {
     "data": {
      "text/plain": "    Species  Weight  Length  Diagonal   Height   Width\n0     Bream   242.0    25.4      30.0  11.5200  4.0200\n1     Bream   290.0    26.3      31.2  12.4800  4.3056\n2     Bream   340.0    26.5      31.1  12.3778  4.6961\n3     Bream   363.0    29.0      33.5  12.7300  4.4555\n4     Bream   430.0    29.0      34.0  12.4440  5.1340\n..      ...     ...     ...       ...      ...     ...\n154   Smelt    12.2    12.2      13.4   2.0904  1.3936\n155   Smelt    13.4    12.4      13.5   2.4300  1.2690\n156   Smelt    12.2    13.0      13.8   2.2770  1.2558\n157   Smelt    19.7    14.3      15.2   2.8728  2.0672\n158   Smelt    19.9    15.0      16.2   2.9322  1.8792\n\n[159 rows x 6 columns]",
      "text/html": "<div>\n<style scoped>\n    .dataframe tbody tr th:only-of-type {\n        vertical-align: middle;\n    }\n\n    .dataframe tbody tr th {\n        vertical-align: top;\n    }\n\n    .dataframe thead th {\n        text-align: right;\n    }\n</style>\n<table border=\"1\" class=\"dataframe\">\n  <thead>\n    <tr style=\"text-align: right;\">\n      <th></th>\n      <th>Species</th>\n      <th>Weight</th>\n      <th>Length</th>\n      <th>Diagonal</th>\n      <th>Height</th>\n      <th>Width</th>\n    </tr>\n  </thead>\n  <tbody>\n    <tr>\n      <th>0</th>\n      <td>Bream</td>\n      <td>242.0</td>\n      <td>25.4</td>\n      <td>30.0</td>\n      <td>11.5200</td>\n      <td>4.0200</td>\n    </tr>\n    <tr>\n      <th>1</th>\n      <td>Bream</td>\n      <td>290.0</td>\n      <td>26.3</td>\n      <td>31.2</td>\n      <td>12.4800</td>\n      <td>4.3056</td>\n    </tr>\n    <tr>\n      <th>2</th>\n      <td>Bream</td>\n      <td>340.0</td>\n      <td>26.5</td>\n      <td>31.1</td>\n      <td>12.3778</td>\n      <td>4.6961</td>\n    </tr>\n    <tr>\n      <th>3</th>\n      <td>Bream</td>\n      <td>363.0</td>\n      <td>29.0</td>\n      <td>33.5</td>\n      <td>12.7300</td>\n      <td>4.4555</td>\n    </tr>\n    <tr>\n      <th>4</th>\n      <td>Bream</td>\n      <td>430.0</td>\n      <td>29.0</td>\n      <td>34.0</td>\n      <td>12.4440</td>\n      <td>5.1340</td>\n    </tr>\n    <tr>\n      <th>...</th>\n      <td>...</td>\n      <td>...</td>\n      <td>...</td>\n      <td>...</td>\n      <td>...</td>\n      <td>...</td>\n    </tr>\n    <tr>\n      <th>154</th>\n      <td>Smelt</td>\n      <td>12.2</td>\n      <td>12.2</td>\n      <td>13.4</td>\n      <td>2.0904</td>\n      <td>1.3936</td>\n    </tr>\n    <tr>\n      <th>155</th>\n      <td>Smelt</td>\n      <td>13.4</td>\n      <td>12.4</td>\n      <td>13.5</td>\n      <td>2.4300</td>\n      <td>1.2690</td>\n    </tr>\n    <tr>\n      <th>156</th>\n      <td>Smelt</td>\n      <td>12.2</td>\n      <td>13.0</td>\n      <td>13.8</td>\n      <td>2.2770</td>\n      <td>1.2558</td>\n    </tr>\n    <tr>\n      <th>157</th>\n      <td>Smelt</td>\n      <td>19.7</td>\n      <td>14.3</td>\n      <td>15.2</td>\n      <td>2.8728</td>\n      <td>2.0672</td>\n    </tr>\n    <tr>\n      <th>158</th>\n      <td>Smelt</td>\n      <td>19.9</td>\n      <td>15.0</td>\n      <td>16.2</td>\n      <td>2.9322</td>\n      <td>1.8792</td>\n    </tr>\n  </tbody>\n</table>\n<p>159 rows × 6 columns</p>\n</div>"
     },
     "execution_count": 10,
     "metadata": {},
     "output_type": "execute_result"
    }
   ],
   "source": [
    "fishDF"
   ],
   "metadata": {
    "collapsed": false,
    "ExecuteTime": {
     "end_time": "2024-03-05T07:46:38.270461900Z",
     "start_time": "2024-03-05T07:46:38.229599900Z"
    }
   },
   "id": "3016215b2f20757b",
   "execution_count": 10
  },
  {
   "cell_type": "code",
   "outputs": [
    {
     "data": {
      "text/plain": "     sepal_length  sepal_width  petal_length  petal_width    species\n0             5.1          3.5           1.4          0.2     setosa\n1             4.9          3.0           1.4          0.2     setosa\n2             4.7          3.2           1.3          0.2     setosa\n3             4.6          3.1           1.5          0.2     setosa\n4             5.0          3.6           1.4          0.2     setosa\n..            ...          ...           ...          ...        ...\n145           6.7          3.0           5.2          2.3  virginica\n146           6.3          2.5           5.0          1.9  virginica\n147           6.5          3.0           5.2          2.0  virginica\n148           6.2          3.4           5.4          2.3  virginica\n149           5.9          3.0           5.1          1.8  virginica\n\n[150 rows x 5 columns]",
      "text/html": "<div>\n<style scoped>\n    .dataframe tbody tr th:only-of-type {\n        vertical-align: middle;\n    }\n\n    .dataframe tbody tr th {\n        vertical-align: top;\n    }\n\n    .dataframe thead th {\n        text-align: right;\n    }\n</style>\n<table border=\"1\" class=\"dataframe\">\n  <thead>\n    <tr style=\"text-align: right;\">\n      <th></th>\n      <th>sepal_length</th>\n      <th>sepal_width</th>\n      <th>petal_length</th>\n      <th>petal_width</th>\n      <th>species</th>\n    </tr>\n  </thead>\n  <tbody>\n    <tr>\n      <th>0</th>\n      <td>5.1</td>\n      <td>3.5</td>\n      <td>1.4</td>\n      <td>0.2</td>\n      <td>setosa</td>\n    </tr>\n    <tr>\n      <th>1</th>\n      <td>4.9</td>\n      <td>3.0</td>\n      <td>1.4</td>\n      <td>0.2</td>\n      <td>setosa</td>\n    </tr>\n    <tr>\n      <th>2</th>\n      <td>4.7</td>\n      <td>3.2</td>\n      <td>1.3</td>\n      <td>0.2</td>\n      <td>setosa</td>\n    </tr>\n    <tr>\n      <th>3</th>\n      <td>4.6</td>\n      <td>3.1</td>\n      <td>1.5</td>\n      <td>0.2</td>\n      <td>setosa</td>\n    </tr>\n    <tr>\n      <th>4</th>\n      <td>5.0</td>\n      <td>3.6</td>\n      <td>1.4</td>\n      <td>0.2</td>\n      <td>setosa</td>\n    </tr>\n    <tr>\n      <th>...</th>\n      <td>...</td>\n      <td>...</td>\n      <td>...</td>\n      <td>...</td>\n      <td>...</td>\n    </tr>\n    <tr>\n      <th>145</th>\n      <td>6.7</td>\n      <td>3.0</td>\n      <td>5.2</td>\n      <td>2.3</td>\n      <td>virginica</td>\n    </tr>\n    <tr>\n      <th>146</th>\n      <td>6.3</td>\n      <td>2.5</td>\n      <td>5.0</td>\n      <td>1.9</td>\n      <td>virginica</td>\n    </tr>\n    <tr>\n      <th>147</th>\n      <td>6.5</td>\n      <td>3.0</td>\n      <td>5.2</td>\n      <td>2.0</td>\n      <td>virginica</td>\n    </tr>\n    <tr>\n      <th>148</th>\n      <td>6.2</td>\n      <td>3.4</td>\n      <td>5.4</td>\n      <td>2.3</td>\n      <td>virginica</td>\n    </tr>\n    <tr>\n      <th>149</th>\n      <td>5.9</td>\n      <td>3.0</td>\n      <td>5.1</td>\n      <td>1.8</td>\n      <td>virginica</td>\n    </tr>\n  </tbody>\n</table>\n<p>150 rows × 5 columns</p>\n</div>"
     },
     "execution_count": 11,
     "metadata": {},
     "output_type": "execute_result"
    }
   ],
   "source": [
    "irisDF"
   ],
   "metadata": {
    "collapsed": false,
    "ExecuteTime": {
     "end_time": "2024-03-05T07:46:38.292921700Z",
     "start_time": "2024-03-05T07:46:38.250528700Z"
    }
   },
   "id": "ed19a0fca0c1a011",
   "execution_count": 11
  },
  {
   "cell_type": "markdown",
   "source": [
    "[2] 데이터 준비 => 피쳐 & 타겟 분리"
   ],
   "metadata": {
    "collapsed": false
   },
   "id": "8780295e05e0db0d"
  },
  {
   "cell_type": "code",
   "outputs": [],
   "source": [
    "# 타겟 : Weight, 피쳐 : Length Diagonal Height Width\n",
    "fish_target = fishDF[fishDF.columns[1]]\n",
    "fish_feature = fishDF[fishDF.columns[2:]]"
   ],
   "metadata": {
    "collapsed": false,
    "ExecuteTime": {
     "end_time": "2024-03-05T07:46:38.324816700Z",
     "start_time": "2024-03-05T07:46:38.261492200Z"
    }
   },
   "id": "3288c51cf1ff4471",
   "execution_count": 12
  },
  {
   "cell_type": "code",
   "outputs": [],
   "source": [
    "# 타겟 : 4번 컬럼, 피쳐 : 0~3번 컬럼\n",
    "iris_target = irisDF[irisDF.columns[4]]\n",
    "iris_feature = irisDF[irisDF.columns[:4]]"
   ],
   "metadata": {
    "collapsed": false,
    "ExecuteTime": {
     "end_time": "2024-03-05T07:46:38.363801200Z",
     "start_time": "2024-03-05T07:46:38.278438400Z"
    }
   },
   "id": "31826dd70ded6f14",
   "execution_count": 13
  },
  {
   "cell_type": "markdown",
   "source": [
    "[3] 데이터 전처리\n",
    "- 피쳐 스케일링"
   ],
   "metadata": {
    "collapsed": false
   },
   "id": "628138340dde60f"
  },
  {
   "cell_type": "code",
   "outputs": [],
   "source": [
    "# 학습용 테스트용 데이터 분리\n",
    "from sklearn.model_selection import train_test_split\n",
    "\n",
    "# 생선 데이터 => 학습용 데이터셋, 테스트용 데이터셋 ==> 회귀\n",
    "fish_X_train, fish_X_test, fish_y_train, fish_y_test = train_test_split(fish_feature, fish_target,\n",
    "                                                                        test_size=0.2,\n",
    "                                                                        random_state=5)\n",
    "\n",
    "# 붓꽃 데이터 => 학습용 데이터셋, 테스트용 데이터셋 ==> 분류\n",
    "iris_X_train, iris_X_test, iris_y_train, iris_y_test = train_test_split(iris_feature, iris_target,\n",
    "                                                                        test_size=0.2,\n",
    "                                                                        random_state=5,\n",
    "                                                                        stratify=iris_target)"
   ],
   "metadata": {
    "collapsed": false,
    "ExecuteTime": {
     "end_time": "2024-03-05T07:46:38.377754700Z",
     "start_time": "2024-03-05T07:46:38.298901600Z"
    }
   },
   "id": "468e1fc598772474",
   "execution_count": 14
  },
  {
   "cell_type": "code",
   "outputs": [],
   "source": [
    "from sklearn.preprocessing import StandardScaler\n",
    "\n",
    "# 생선 데이터셋 피쳐 스케일링\n",
    "fish_scaler = StandardScaler()\n",
    "fish_scaler.fit(fish_X_train)\n",
    "\n",
    "scaled_fish_X_train = fish_scaler.transform(fish_X_train)\n",
    "scaled_fish_X_test = fish_scaler.transform(fish_X_test)"
   ],
   "metadata": {
    "collapsed": false,
    "ExecuteTime": {
     "end_time": "2024-03-05T07:48:08.420151200Z",
     "start_time": "2024-03-05T07:48:08.399574100Z"
    }
   },
   "id": "6e38df632eeec431",
   "execution_count": 16
  },
  {
   "cell_type": "code",
   "outputs": [],
   "source": [
    "# 붓꽃 데이터셋 피쳐 스케일링\n",
    "iris_scaler = StandardScaler()\n",
    "iris_scaler.fit(iris_X_train)\n",
    "\n",
    "scaled_iris_X_train = iris_scaler.transform(iris_X_train)\n",
    "scaled_iris_X_test = iris_scaler.transform(iris_X_test)"
   ],
   "metadata": {
    "collapsed": false,
    "ExecuteTime": {
     "end_time": "2024-03-05T07:48:55.142746Z",
     "start_time": "2024-03-05T07:48:55.128793700Z"
    }
   },
   "id": "4b92cd434804cb81",
   "execution_count": 17
  },
  {
   "cell_type": "markdown",
   "source": [
    "[4] 학습"
   ],
   "metadata": {
    "collapsed": false
   },
   "id": "893b4b4c5febf743"
  },
  {
   "cell_type": "markdown",
   "source": [
    "[4-1] 생선 무게 예측 모델"
   ],
   "metadata": {
    "collapsed": false
   },
   "id": "740cf7e053826bed"
  },
  {
   "cell_type": "code",
   "outputs": [],
   "source": [
    "# 모듈 로딩\n",
    "from sklearn.linear_model import LinearRegression, Ridge, Lasso\n",
    "from sklearn.model_selection import cross_validate, cross_val_score, cross_val_predict"
   ],
   "metadata": {
    "collapsed": false,
    "ExecuteTime": {
     "end_time": "2024-03-05T07:52:32.800958800Z",
     "start_time": "2024-03-05T07:52:32.791978200Z"
    }
   },
   "id": "3cad5b26cf9e4160",
   "execution_count": 20
  },
  {
   "cell_type": "code",
   "outputs": [],
   "source": [
    "# 교차 검증으로 학습 진행\n",
    "# => 준비 : 모델 인스턴스, 학습용 피쳐 데이터, 학습용 라벨 데이터\n",
    "lr_model = LinearRegression()"
   ],
   "metadata": {
    "collapsed": false,
    "ExecuteTime": {
     "end_time": "2024-03-05T07:52:33.126276Z",
     "start_time": "2024-03-05T07:52:33.111307600Z"
    }
   },
   "id": "a6c434f96ecde628",
   "execution_count": 21
  },
  {
   "cell_type": "code",
   "outputs": [
    {
     "data": {
      "text/plain": "{'fit_time': array([0.00199127, 0.00099516, 0.0010612 , 0.00116205, 0.        ]),\n 'score_time': array([0.00099659, 0.00099659, 0.00099659, 0.00114989, 0.00108147]),\n 'estimator': [LinearRegression(),\n  LinearRegression(),\n  LinearRegression(),\n  LinearRegression(),\n  LinearRegression()],\n 'test_r2': array([0.92104683, 0.84385378, 0.88592423, 0.64671954, 0.79031905]),\n 'train_r2': array([0.87426416, 0.88779401, 0.88061108, 0.90297504, 0.89833592]),\n 'test_neg_mean_squared_error': array([ -8767.84902315, -17815.75093903, -12344.87825138, -22006.47049028,\n        -39450.52608702]),\n 'train_neg_mean_squared_error': array([-16078.44783606, -13972.57866943, -15268.42472495, -13223.98109532,\n        -10586.01039978])}"
     },
     "execution_count": 40,
     "metadata": {},
     "output_type": "execute_result"
    }
   ],
   "source": [
    "# 학습/검증에 대한 평가 모든 결과에 대한 처리\n",
    "result = cross_validate(lr_model,\n",
    "                        scaled_fish_X_train, \n",
    "                        fish_y_train,\n",
    "                        scoring=('r2', 'neg_mean_squared_error'),\n",
    "                        return_train_score=True,\n",
    "                        return_estimator=True)\n",
    "\n",
    "result"
   ],
   "metadata": {
    "collapsed": false,
    "ExecuteTime": {
     "end_time": "2024-03-05T08:07:46.596773400Z",
     "start_time": "2024-03-05T08:07:46.569390800Z"
    }
   },
   "id": "5a6278207ddef4de",
   "execution_count": 40
  },
  {
   "cell_type": "code",
   "outputs": [
    {
     "data": {
      "text/plain": "   fit_time  score_time           estimator   test_r2  train_r2  \\\n0  0.001991    0.000997  LinearRegression()  0.921047  0.874264   \n1  0.000995    0.000997  LinearRegression()  0.843854  0.887794   \n2  0.001061    0.000997  LinearRegression()  0.885924  0.880611   \n3  0.001162    0.001150  LinearRegression()  0.646720  0.902975   \n4  0.000000    0.001081  LinearRegression()  0.790319  0.898336   \n\n   test_neg_mean_squared_error  train_neg_mean_squared_error  \n0                 -8767.849023                 -16078.447836  \n1                -17815.750939                 -13972.578669  \n2                -12344.878251                 -15268.424725  \n3                -22006.470490                 -13223.981095  \n4                -39450.526087                 -10586.010400  ",
      "text/html": "<div>\n<style scoped>\n    .dataframe tbody tr th:only-of-type {\n        vertical-align: middle;\n    }\n\n    .dataframe tbody tr th {\n        vertical-align: top;\n    }\n\n    .dataframe thead th {\n        text-align: right;\n    }\n</style>\n<table border=\"1\" class=\"dataframe\">\n  <thead>\n    <tr style=\"text-align: right;\">\n      <th></th>\n      <th>fit_time</th>\n      <th>score_time</th>\n      <th>estimator</th>\n      <th>test_r2</th>\n      <th>train_r2</th>\n      <th>test_neg_mean_squared_error</th>\n      <th>train_neg_mean_squared_error</th>\n    </tr>\n  </thead>\n  <tbody>\n    <tr>\n      <th>0</th>\n      <td>0.001991</td>\n      <td>0.000997</td>\n      <td>LinearRegression()</td>\n      <td>0.921047</td>\n      <td>0.874264</td>\n      <td>-8767.849023</td>\n      <td>-16078.447836</td>\n    </tr>\n    <tr>\n      <th>1</th>\n      <td>0.000995</td>\n      <td>0.000997</td>\n      <td>LinearRegression()</td>\n      <td>0.843854</td>\n      <td>0.887794</td>\n      <td>-17815.750939</td>\n      <td>-13972.578669</td>\n    </tr>\n    <tr>\n      <th>2</th>\n      <td>0.001061</td>\n      <td>0.000997</td>\n      <td>LinearRegression()</td>\n      <td>0.885924</td>\n      <td>0.880611</td>\n      <td>-12344.878251</td>\n      <td>-15268.424725</td>\n    </tr>\n    <tr>\n      <th>3</th>\n      <td>0.001162</td>\n      <td>0.001150</td>\n      <td>LinearRegression()</td>\n      <td>0.646720</td>\n      <td>0.902975</td>\n      <td>-22006.470490</td>\n      <td>-13223.981095</td>\n    </tr>\n    <tr>\n      <th>4</th>\n      <td>0.000000</td>\n      <td>0.001081</td>\n      <td>LinearRegression()</td>\n      <td>0.790319</td>\n      <td>0.898336</td>\n      <td>-39450.526087</td>\n      <td>-10586.010400</td>\n    </tr>\n  </tbody>\n</table>\n</div>"
     },
     "execution_count": 41,
     "metadata": {},
     "output_type": "execute_result"
    }
   ],
   "source": [
    "resultDF = pd.DataFrame(result)\n",
    "resultDF"
   ],
   "metadata": {
    "collapsed": false,
    "ExecuteTime": {
     "end_time": "2024-03-05T08:07:46.944694100Z",
     "start_time": "2024-03-05T08:07:46.923807200Z"
    }
   },
   "id": "77b0a33a0350bf1",
   "execution_count": 41
  },
  {
   "cell_type": "code",
   "outputs": [
    {
     "data": {
      "text/plain": "(array([ 373.98470744, -159.77931033,   90.53431501,   50.22123874]),\n 408.52250924970195)"
     },
     "execution_count": 42,
     "metadata": {},
     "output_type": "execute_result"
    }
   ],
   "source": [
    "best_model = resultDF.iloc[0]['estimator']\n",
    "best_model.coef_, best_model.intercept_"
   ],
   "metadata": {
    "collapsed": false,
    "ExecuteTime": {
     "end_time": "2024-03-05T08:07:47.696857900Z",
     "start_time": "2024-03-05T08:07:47.657976900Z"
    }
   },
   "id": "a0341ed3a01908c8",
   "execution_count": 42
  },
  {
   "cell_type": "code",
   "outputs": [
    {
     "name": "stdout",
     "output_type": "stream",
     "text": [
      "[0.92104683 0.84385378 0.88592423 0.64671954 0.79031905]\n"
     ]
    }
   ],
   "source": [
    "### CV에 score만 추출\n",
    "print(cross_val_score(lr_model, scaled_fish_X_train, fish_y_train))"
   ],
   "metadata": {
    "collapsed": false,
    "ExecuteTime": {
     "end_time": "2024-03-05T08:07:47.716781Z",
     "start_time": "2024-03-05T08:07:47.704819900Z"
    }
   },
   "id": "bd934da2f635c1a2",
   "execution_count": 43
  },
  {
   "cell_type": "code",
   "outputs": [
    {
     "name": "stdout",
     "output_type": "stream",
     "text": [
      "[ 9.09792517e+01  9.85612151e+01  3.87029719e+02  1.13011547e+02\n",
      "  6.81676563e+02  2.82456988e+02  5.34379642e+02  3.61848302e+02\n",
      "  6.12934598e+02  1.70756130e+02  5.53222970e+02  1.69433076e+01\n",
      " -2.53895688e+01  8.14926155e+02  6.97225129e+01  3.38157931e+02\n",
      "  4.76306355e+02  7.67659158e+02  6.55686457e+02  1.80300946e+02\n",
      "  8.45315559e+02  2.92145322e+02  6.08539351e+02  9.02782406e+02\n",
      "  6.99788981e+02  9.40316876e+02  7.47628344e+02  3.28419355e+02\n",
      "  7.89622699e+02  9.09130831e+02 -1.98986854e+02  1.81089559e+02\n",
      "  6.36731679e+02 -1.09209894e+02  3.57087822e+02  7.88250361e+02\n",
      "  3.25180589e+02  6.56473977e+02 -2.37032025e+02  4.55882834e+01\n",
      "  9.57130255e+01 -2.10830505e+02  1.28969696e+02 -2.21199132e+02\n",
      " -1.10282630e+02  6.39911566e+02  2.12288357e+02  2.41098815e+02\n",
      "  2.61932359e+02 -2.58301758e+02  2.93250859e+01  8.87950700e+02\n",
      "  2.46460034e+02  5.55564851e+02  6.71006008e+02  7.04637891e+02\n",
      "  2.29677895e+02  8.49746634e+02  7.24031103e+02 -5.70994192e+01\n",
      "  2.22728797e+02  9.41173359e+02  5.25995612e+02  7.74853524e+02\n",
      "  2.17941892e+02  5.74873742e+02  2.17397906e+02  5.98772429e+02\n",
      "  8.13391991e+02  1.93602150e+02  2.00834243e+02  8.85719610e+02\n",
      "  7.94930726e+02  4.91188615e+02  1.11555582e+02  2.15505969e+02\n",
      "  4.55682558e+02  3.27230281e+02 -2.54736199e+02  2.14499169e+02\n",
      "  4.32295967e+02  5.29619314e+02  3.11672406e-01 -2.77216256e+02\n",
      "  6.55329442e+02  4.59082390e+02  3.18928562e+02 -2.27015547e+02\n",
      "  7.74464230e+02 -2.40117603e+02  6.37572206e+02  6.23647648e+02\n",
      "  1.58228119e+02  5.16093336e+02  8.12222679e+01  2.27883952e+02\n",
      "  3.92943741e+02  8.47396913e+02 -2.24559795e+02  3.94415997e+02\n",
      "  6.81290262e+02  5.82109256e+02  3.57665080e+02  5.94846811e+02\n",
      "  5.14375584e+02  3.62255513e+02  3.41676651e+02  1.69523793e+02\n",
      "  3.79453524e+02  5.85425213e+02  8.26535922e+02  8.65537588e+02\n",
      "  2.04176403e+02  8.17998531e+02  2.25074947e+02  2.07081163e+02\n",
      "  7.19337633e+02  1.31467393e+02  6.85638198e+02  9.06351710e+02\n",
      "  4.79431463e+02  7.01957458e+02  5.22269464e+02 -4.60942099e+01\n",
      "  1.04657155e+03  8.10571851e+02  2.69273973e+02]\n"
     ]
    }
   ],
   "source": [
    "## CV에 predict만 추출\n",
    "print(cross_val_predict(lr_model, scaled_fish_X_train, fish_y_train))"
   ],
   "metadata": {
    "collapsed": false,
    "ExecuteTime": {
     "end_time": "2024-03-05T08:07:48.468776100Z",
     "start_time": "2024-03-05T08:07:48.446563200Z"
    }
   },
   "id": "275356c49a020e86",
   "execution_count": 44
  },
  {
   "cell_type": "markdown",
   "source": [
    "### 교차검증과 튜닝까지 한꺼번에 진행\n",
    "- 단점 : 시간이 오래 걸림"
   ],
   "metadata": {
    "collapsed": false
   },
   "id": "7c11afb60c853a02"
  },
  {
   "cell_type": "code",
   "outputs": [],
   "source": [
    "from sklearn.model_selection import GridSearchCV, RandomizedSearchCV\n",
    "from sklearn.linear_model import LogisticRegression"
   ],
   "metadata": {
    "collapsed": false,
    "ExecuteTime": {
     "end_time": "2024-03-05T08:45:11.505989500Z",
     "start_time": "2024-03-05T08:45:11.487040300Z"
    }
   },
   "id": "6eeea62c98403345",
   "execution_count": 46
  },
  {
   "cell_type": "code",
   "outputs": [],
   "source": [
    "# 학습 모델 인스턴스와 하이퍼파라미터\n",
    "est = LogisticRegression(max_iter=10000, solver='liblinear')\n",
    "params = {'penalty':['l1', 'l2'],}"
   ],
   "metadata": {
    "collapsed": false,
    "ExecuteTime": {
     "end_time": "2024-03-05T08:53:01.712843900Z",
     "start_time": "2024-03-05T08:53:01.698380700Z"
    }
   },
   "id": "475ea0521d3babb5",
   "execution_count": 57
  },
  {
   "cell_type": "code",
   "outputs": [
    {
     "data": {
      "text/plain": "GridSearchCV(estimator=LogisticRegression(max_iter=10000, solver='liblinear'),\n             param_grid={'penalty': ['l1', 'l2']}, return_train_score=True)",
      "text/html": "<style>#sk-container-id-4 {color: black;}#sk-container-id-4 pre{padding: 0;}#sk-container-id-4 div.sk-toggleable {background-color: white;}#sk-container-id-4 label.sk-toggleable__label {cursor: pointer;display: block;width: 100%;margin-bottom: 0;padding: 0.3em;box-sizing: border-box;text-align: center;}#sk-container-id-4 label.sk-toggleable__label-arrow:before {content: \"▸\";float: left;margin-right: 0.25em;color: #696969;}#sk-container-id-4 label.sk-toggleable__label-arrow:hover:before {color: black;}#sk-container-id-4 div.sk-estimator:hover label.sk-toggleable__label-arrow:before {color: black;}#sk-container-id-4 div.sk-toggleable__content {max-height: 0;max-width: 0;overflow: hidden;text-align: left;background-color: #f0f8ff;}#sk-container-id-4 div.sk-toggleable__content pre {margin: 0.2em;color: black;border-radius: 0.25em;background-color: #f0f8ff;}#sk-container-id-4 input.sk-toggleable__control:checked~div.sk-toggleable__content {max-height: 200px;max-width: 100%;overflow: auto;}#sk-container-id-4 input.sk-toggleable__control:checked~label.sk-toggleable__label-arrow:before {content: \"▾\";}#sk-container-id-4 div.sk-estimator input.sk-toggleable__control:checked~label.sk-toggleable__label {background-color: #d4ebff;}#sk-container-id-4 div.sk-label input.sk-toggleable__control:checked~label.sk-toggleable__label {background-color: #d4ebff;}#sk-container-id-4 input.sk-hidden--visually {border: 0;clip: rect(1px 1px 1px 1px);clip: rect(1px, 1px, 1px, 1px);height: 1px;margin: -1px;overflow: hidden;padding: 0;position: absolute;width: 1px;}#sk-container-id-4 div.sk-estimator {font-family: monospace;background-color: #f0f8ff;border: 1px dotted black;border-radius: 0.25em;box-sizing: border-box;margin-bottom: 0.5em;}#sk-container-id-4 div.sk-estimator:hover {background-color: #d4ebff;}#sk-container-id-4 div.sk-parallel-item::after {content: \"\";width: 100%;border-bottom: 1px solid gray;flex-grow: 1;}#sk-container-id-4 div.sk-label:hover label.sk-toggleable__label {background-color: #d4ebff;}#sk-container-id-4 div.sk-serial::before {content: \"\";position: absolute;border-left: 1px solid gray;box-sizing: border-box;top: 0;bottom: 0;left: 50%;z-index: 0;}#sk-container-id-4 div.sk-serial {display: flex;flex-direction: column;align-items: center;background-color: white;padding-right: 0.2em;padding-left: 0.2em;position: relative;}#sk-container-id-4 div.sk-item {position: relative;z-index: 1;}#sk-container-id-4 div.sk-parallel {display: flex;align-items: stretch;justify-content: center;background-color: white;position: relative;}#sk-container-id-4 div.sk-item::before, #sk-container-id-4 div.sk-parallel-item::before {content: \"\";position: absolute;border-left: 1px solid gray;box-sizing: border-box;top: 0;bottom: 0;left: 50%;z-index: -1;}#sk-container-id-4 div.sk-parallel-item {display: flex;flex-direction: column;z-index: 1;position: relative;background-color: white;}#sk-container-id-4 div.sk-parallel-item:first-child::after {align-self: flex-end;width: 50%;}#sk-container-id-4 div.sk-parallel-item:last-child::after {align-self: flex-start;width: 50%;}#sk-container-id-4 div.sk-parallel-item:only-child::after {width: 0;}#sk-container-id-4 div.sk-dashed-wrapped {border: 1px dashed gray;margin: 0 0.4em 0.5em 0.4em;box-sizing: border-box;padding-bottom: 0.4em;background-color: white;}#sk-container-id-4 div.sk-label label {font-family: monospace;font-weight: bold;display: inline-block;line-height: 1.2em;}#sk-container-id-4 div.sk-label-container {text-align: center;}#sk-container-id-4 div.sk-container {/* jupyter's `normalize.less` sets `[hidden] { display: none; }` but bootstrap.min.css set `[hidden] { display: none !important; }` so we also need the `!important` here to be able to override the default hidden behavior on the sphinx rendered scikit-learn.org. See: https://github.com/scikit-learn/scikit-learn/issues/21755 */display: inline-block !important;position: relative;}#sk-container-id-4 div.sk-text-repr-fallback {display: none;}</style><div id=\"sk-container-id-4\" class=\"sk-top-container\"><div class=\"sk-text-repr-fallback\"><pre>GridSearchCV(estimator=LogisticRegression(max_iter=10000, solver=&#x27;liblinear&#x27;),\n             param_grid={&#x27;penalty&#x27;: [&#x27;l1&#x27;, &#x27;l2&#x27;]}, return_train_score=True)</pre><b>In a Jupyter environment, please rerun this cell to show the HTML representation or trust the notebook. <br />On GitHub, the HTML representation is unable to render, please try loading this page with nbviewer.org.</b></div><div class=\"sk-container\" hidden><div class=\"sk-item sk-dashed-wrapped\"><div class=\"sk-label-container\"><div class=\"sk-label sk-toggleable\"><input class=\"sk-toggleable__control sk-hidden--visually\" id=\"sk-estimator-id-10\" type=\"checkbox\" ><label for=\"sk-estimator-id-10\" class=\"sk-toggleable__label sk-toggleable__label-arrow\">GridSearchCV</label><div class=\"sk-toggleable__content\"><pre>GridSearchCV(estimator=LogisticRegression(max_iter=10000, solver=&#x27;liblinear&#x27;),\n             param_grid={&#x27;penalty&#x27;: [&#x27;l1&#x27;, &#x27;l2&#x27;]}, return_train_score=True)</pre></div></div></div><div class=\"sk-parallel\"><div class=\"sk-parallel-item\"><div class=\"sk-item\"><div class=\"sk-label-container\"><div class=\"sk-label sk-toggleable\"><input class=\"sk-toggleable__control sk-hidden--visually\" id=\"sk-estimator-id-11\" type=\"checkbox\" ><label for=\"sk-estimator-id-11\" class=\"sk-toggleable__label sk-toggleable__label-arrow\">estimator: LogisticRegression</label><div class=\"sk-toggleable__content\"><pre>LogisticRegression(max_iter=10000, solver=&#x27;liblinear&#x27;)</pre></div></div></div><div class=\"sk-serial\"><div class=\"sk-item\"><div class=\"sk-estimator sk-toggleable\"><input class=\"sk-toggleable__control sk-hidden--visually\" id=\"sk-estimator-id-12\" type=\"checkbox\" ><label for=\"sk-estimator-id-12\" class=\"sk-toggleable__label sk-toggleable__label-arrow\">LogisticRegression</label><div class=\"sk-toggleable__content\"><pre>LogisticRegression(max_iter=10000, solver=&#x27;liblinear&#x27;)</pre></div></div></div></div></div></div></div></div></div></div>"
     },
     "execution_count": 58,
     "metadata": {},
     "output_type": "execute_result"
    }
   ],
   "source": [
    "gscv = GridSearchCV(est, param_grid=params, return_train_score=True)\n",
    "\n",
    "gscv.fit(scaled_iris_X_train, iris_y_train)"
   ],
   "metadata": {
    "collapsed": false,
    "ExecuteTime": {
     "end_time": "2024-03-05T08:53:02.070318700Z",
     "start_time": "2024-03-05T08:53:02.035433Z"
    }
   },
   "id": "840521bf2865e888",
   "execution_count": 58
  },
  {
   "cell_type": "code",
   "outputs": [
    {
     "data": {
      "text/plain": "   mean_fit_time  std_fit_time  mean_score_time  std_score_time param_penalty  \\\n0       0.001200      0.000404         0.000597        0.000488            l1   \n1       0.000999      0.000007         0.000000        0.000000            l2   \n\n              params  split0_test_score  split1_test_score  split2_test_score  \\\n0  {'penalty': 'l1'}              0.875           1.000000           0.958333   \n1  {'penalty': 'l2'}              0.875           0.958333           0.958333   \n\n   split3_test_score  ...  mean_test_score  std_test_score  rank_test_score  \\\n0           0.958333  ...         0.941667        0.042492                1   \n1           0.958333  ...         0.908333        0.066667                2   \n\n   split0_train_score  split1_train_score  split2_train_score  \\\n0             0.93750            0.927083            0.937500   \n1             0.90625            0.916667            0.916667   \n\n   split3_train_score  split4_train_score  mean_train_score  std_train_score  \n0            0.947917             0.93750          0.937500         0.006588  \n1            0.927083             0.90625          0.914583         0.007795  \n\n[2 rows x 21 columns]",
      "text/html": "<div>\n<style scoped>\n    .dataframe tbody tr th:only-of-type {\n        vertical-align: middle;\n    }\n\n    .dataframe tbody tr th {\n        vertical-align: top;\n    }\n\n    .dataframe thead th {\n        text-align: right;\n    }\n</style>\n<table border=\"1\" class=\"dataframe\">\n  <thead>\n    <tr style=\"text-align: right;\">\n      <th></th>\n      <th>mean_fit_time</th>\n      <th>std_fit_time</th>\n      <th>mean_score_time</th>\n      <th>std_score_time</th>\n      <th>param_penalty</th>\n      <th>params</th>\n      <th>split0_test_score</th>\n      <th>split1_test_score</th>\n      <th>split2_test_score</th>\n      <th>split3_test_score</th>\n      <th>...</th>\n      <th>mean_test_score</th>\n      <th>std_test_score</th>\n      <th>rank_test_score</th>\n      <th>split0_train_score</th>\n      <th>split1_train_score</th>\n      <th>split2_train_score</th>\n      <th>split3_train_score</th>\n      <th>split4_train_score</th>\n      <th>mean_train_score</th>\n      <th>std_train_score</th>\n    </tr>\n  </thead>\n  <tbody>\n    <tr>\n      <th>0</th>\n      <td>0.001200</td>\n      <td>0.000404</td>\n      <td>0.000597</td>\n      <td>0.000488</td>\n      <td>l1</td>\n      <td>{'penalty': 'l1'}</td>\n      <td>0.875</td>\n      <td>1.000000</td>\n      <td>0.958333</td>\n      <td>0.958333</td>\n      <td>...</td>\n      <td>0.941667</td>\n      <td>0.042492</td>\n      <td>1</td>\n      <td>0.93750</td>\n      <td>0.927083</td>\n      <td>0.937500</td>\n      <td>0.947917</td>\n      <td>0.93750</td>\n      <td>0.937500</td>\n      <td>0.006588</td>\n    </tr>\n    <tr>\n      <th>1</th>\n      <td>0.000999</td>\n      <td>0.000007</td>\n      <td>0.000000</td>\n      <td>0.000000</td>\n      <td>l2</td>\n      <td>{'penalty': 'l2'}</td>\n      <td>0.875</td>\n      <td>0.958333</td>\n      <td>0.958333</td>\n      <td>0.958333</td>\n      <td>...</td>\n      <td>0.908333</td>\n      <td>0.066667</td>\n      <td>2</td>\n      <td>0.90625</td>\n      <td>0.916667</td>\n      <td>0.916667</td>\n      <td>0.927083</td>\n      <td>0.90625</td>\n      <td>0.914583</td>\n      <td>0.007795</td>\n    </tr>\n  </tbody>\n</table>\n<p>2 rows × 21 columns</p>\n</div>"
     },
     "execution_count": 59,
     "metadata": {},
     "output_type": "execute_result"
    }
   ],
   "source": [
    "cv_resultsDF = pd.DataFrame(gscv.cv_results_)\n",
    "cv_resultsDF"
   ],
   "metadata": {
    "collapsed": false,
    "ExecuteTime": {
     "end_time": "2024-03-05T08:54:41.280387900Z",
     "start_time": "2024-03-05T08:54:41.261786500Z"
    }
   },
   "id": "abb55c077d04a47d",
   "execution_count": 59
  },
  {
   "cell_type": "code",
   "outputs": [
    {
     "data": {
      "text/plain": "({'penalty': 'l1'},\n 0,\n 0.9416666666666668,\n LogisticRegression(max_iter=10000, penalty='l1', solver='liblinear'))"
     },
     "execution_count": 63,
     "metadata": {},
     "output_type": "execute_result"
    }
   ],
   "source": [
    "gscv.best_params_, gscv.best_index_, gscv.best_score_, gscv.best_estimator_"
   ],
   "metadata": {
    "collapsed": false,
    "ExecuteTime": {
     "end_time": "2024-03-05T08:55:25.951601300Z",
     "start_time": "2024-03-05T08:55:25.904225600Z"
    }
   },
   "id": "64347905ad9091cf",
   "execution_count": 63
  },
  {
   "cell_type": "markdown",
   "source": [
    "### 데이터에 적합한 모델 찾기"
   ],
   "metadata": {
    "collapsed": false
   },
   "id": "f7726ff35ea66d01"
  },
  {
   "cell_type": "code",
   "outputs": [],
   "source": [
    "from sklearn.utils.discovery import all_estimators"
   ],
   "metadata": {
    "collapsed": false,
    "ExecuteTime": {
     "end_time": "2024-03-05T08:58:33.515922600Z",
     "start_time": "2024-03-05T08:58:33.497879200Z"
    }
   },
   "id": "c22a1aa588bfdb42",
   "execution_count": 64
  },
  {
   "cell_type": "code",
   "outputs": [
    {
     "name": "stdout",
     "output_type": "stream",
     "text": [
      "AdaBoostClassifier()\n",
      "BaggingClassifier()\n",
      "BernoulliNB()\n",
      "CalibratedClassifierCV()\n",
      "Negative values in data passed to CategoricalNB (input X)\n",
      "__init__() missing 1 required positional argument: 'base_estimator'\n",
      "Negative values in data passed to ComplementNB (input X)\n",
      "DecisionTreeClassifier()\n",
      "DummyClassifier()\n",
      "ExtraTreeClassifier()\n",
      "ExtraTreesClassifier()\n",
      "GaussianNB()\n",
      "GaussianProcessClassifier()\n",
      "GradientBoostingClassifier()\n",
      "HistGradientBoostingClassifier()\n",
      "KNeighborsClassifier()\n",
      "LabelPropagation()\n",
      "LabelSpreading()\n",
      "LinearDiscriminantAnalysis()\n",
      "LinearSVC()\n",
      "LogisticRegression()\n",
      "LogisticRegressionCV()\n"
     ]
    },
    {
     "name": "stderr",
     "output_type": "stream",
     "text": [
      "C:\\Users\\kdp\\anaconda3\\envs\\EXAM_ML\\lib\\site-packages\\sklearn\\svm\\_classes.py:32: FutureWarning: The default value of `dual` will change from `True` to `'auto'` in 1.5. Set the value of `dual` explicitly to suppress the warning.\n",
      "  warnings.warn(\n"
     ]
    },
    {
     "name": "stdout",
     "output_type": "stream",
     "text": [
      "MLPClassifier()\n",
      "__init__() missing 1 required positional argument: 'estimator'\n",
      "Negative values in data passed to MultinomialNB (input X)\n",
      "NearestCentroid()\n",
      "NuSVC()\n",
      "__init__() missing 1 required positional argument: 'estimator'\n",
      "__init__() missing 1 required positional argument: 'estimator'\n",
      "__init__() missing 1 required positional argument: 'estimator'\n",
      "PassiveAggressiveClassifier()\n",
      "Perceptron()\n",
      "QuadraticDiscriminantAnalysis()\n",
      "RadiusNeighborsClassifier()\n",
      "RandomForestClassifier()\n",
      "RidgeClassifier()\n",
      "RidgeClassifierCV()\n",
      "SGDClassifier()\n",
      "SVC()\n",
      "__init__() missing 1 required positional argument: 'estimators'\n",
      "__init__() missing 1 required positional argument: 'estimators'\n"
     ]
    },
    {
     "name": "stderr",
     "output_type": "stream",
     "text": [
      "C:\\Users\\kdp\\anaconda3\\envs\\EXAM_ML\\lib\\site-packages\\sklearn\\neural_network\\_multilayer_perceptron.py:691: ConvergenceWarning: Stochastic Optimizer: Maximum iterations (200) reached and the optimization hasn't converged yet.\n",
      "  warnings.warn(\n"
     ]
    }
   ],
   "source": [
    "models = all_estimators('classifier')\n",
    "\n",
    "for model_name, model in models:\n",
    "    try:\n",
    "        print(model().fit(scaled_iris_X_train, iris_y_train))\n",
    "    except Exception as e:\n",
    "        print(e)"
   ],
   "metadata": {
    "collapsed": false,
    "ExecuteTime": {
     "end_time": "2024-03-05T09:01:51.837199400Z",
     "start_time": "2024-03-05T09:01:50.710227600Z"
    }
   },
   "id": "2622f2ada9b7a27c",
   "execution_count": 69
  },
  {
   "cell_type": "code",
   "outputs": [],
   "source": [],
   "metadata": {
    "collapsed": false
   },
   "id": "b3a55bdb8344d0f"
  }
 ],
 "metadata": {
  "kernelspec": {
   "display_name": "Python 3",
   "language": "python",
   "name": "python3"
  },
  "language_info": {
   "codemirror_mode": {
    "name": "ipython",
    "version": 2
   },
   "file_extension": ".py",
   "mimetype": "text/x-python",
   "name": "python",
   "nbconvert_exporter": "python",
   "pygments_lexer": "ipython2",
   "version": "2.7.6"
  }
 },
 "nbformat": 4,
 "nbformat_minor": 5
}
