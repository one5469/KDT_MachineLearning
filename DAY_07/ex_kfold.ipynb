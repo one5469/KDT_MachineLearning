{
 "cells": [
  {
   "cell_type": "markdown",
   "source": [
    "### 교차 검증\n",
    "- 부족한 데이터셋 및 특정 데이터에 과대적합되는 문제 해결하기 위한 방안\n",
    "- 학습 데이터셋을 일정 크기의 데이터로 n개 분리 후 1/n은 검증용, 나머지는 학습용으로 사용"
   ],
   "metadata": {
    "collapsed": false
   },
   "id": "81be1a36bf84b552"
  },
  {
   "cell_type": "markdown",
   "source": [
    "[1] 모듈 로딩 및 데이터 준비"
   ],
   "metadata": {
    "collapsed": false
   },
   "id": "5139acbf977e5cbd"
  },
  {
   "cell_type": "code",
   "outputs": [],
   "source": [
    "import numpy as np\n",
    "from sklearn.model_selection import KFold\n",
    "\n",
    "X = np.array([[1, 2], [3, 4], [1, 2], [3, 4]])\n",
    "y = np.array([1, 2, 3, 4])"
   ],
   "metadata": {
    "collapsed": false,
    "ExecuteTime": {
     "end_time": "2024-03-05T06:33:10.825984400Z",
     "start_time": "2024-03-05T06:33:10.782120900Z"
    }
   },
   "id": "7d5d102cca1e977a",
   "execution_count": 68
  },
  {
   "cell_type": "code",
   "outputs": [],
   "source": [
    "# KFold 인스턴스 생성 => 데이터를 2개로 분활해주는 객체\n",
    "kf = KFold(n_splits=2)"
   ],
   "metadata": {
    "collapsed": false,
    "ExecuteTime": {
     "end_time": "2024-03-05T06:33:10.826973500Z",
     "start_time": "2024-03-05T06:33:10.800062500Z"
    }
   },
   "id": "1d458a6f8f9f5dca",
   "execution_count": 69
  },
  {
   "cell_type": "code",
   "outputs": [
    {
     "name": "stdout",
     "output_type": "stream",
     "text": [
      "[2 3] [0 1]\n",
      "[0 1] [2 3]\n"
     ]
    }
   ],
   "source": [
    "# 데이터 분할\n",
    "datasets = kf.split(X)\n",
    "\n",
    "for train, test in datasets:\n",
    "    print(train, test)"
   ],
   "metadata": {
    "collapsed": false,
    "ExecuteTime": {
     "end_time": "2024-03-05T06:33:10.843915Z",
     "start_time": "2024-03-05T06:33:10.829962100Z"
    }
   },
   "id": "829b22879f1369b7",
   "execution_count": 70
  },
  {
   "cell_type": "code",
   "outputs": [
    {
     "name": "stdout",
     "output_type": "stream",
     "text": [
      "<class 'pandas.core.frame.DataFrame'>\n",
      "RangeIndex: 56 entries, 0 to 55\n",
      "Data columns (total 4 columns):\n",
      " #   Column  Non-Null Count  Dtype  \n",
      "---  ------  --------------  -----  \n",
      " 0   Weight  56 non-null     float64\n",
      " 1   Length  56 non-null     float64\n",
      " 2   Height  56 non-null     float64\n",
      " 3   Width   56 non-null     float64\n",
      "dtypes: float64(4)\n",
      "memory usage: 1.9 KB\n"
     ]
    }
   ],
   "source": [
    "### perch.csv 파일 데이터 기본 5등분\n",
    "import pandas as pd\n",
    "\n",
    "perchDF = pd.read_csv('../data/perch3.csv')\n",
    "perchDF.info()"
   ],
   "metadata": {
    "collapsed": false,
    "ExecuteTime": {
     "end_time": "2024-03-05T06:33:10.879345Z",
     "start_time": "2024-03-05T06:33:10.846336900Z"
    }
   },
   "id": "1f57714ecc91dca7",
   "execution_count": 71
  },
  {
   "cell_type": "code",
   "outputs": [
    {
     "name": "stdout",
     "output_type": "stream",
     "text": [
      "0 => (array([12, 13, 14, 15, 16, 17, 18, 19, 20, 21, 22, 23, 24, 25, 26, 27, 28,\n",
      "       29, 30, 31, 32, 33, 34, 35, 36, 37, 38, 39, 40, 41, 42, 43, 44, 45,\n",
      "       46, 47, 48, 49, 50, 51, 52, 53, 54, 55]), array([ 0,  1,  2,  3,  4,  5,  6,  7,  8,  9, 10, 11]))\n",
      "1 => (array([ 0,  1,  2,  3,  4,  5,  6,  7,  8,  9, 10, 11, 23, 24, 25, 26, 27,\n",
      "       28, 29, 30, 31, 32, 33, 34, 35, 36, 37, 38, 39, 40, 41, 42, 43, 44,\n",
      "       45, 46, 47, 48, 49, 50, 51, 52, 53, 54, 55]), array([12, 13, 14, 15, 16, 17, 18, 19, 20, 21, 22]))\n",
      "2 => (array([ 0,  1,  2,  3,  4,  5,  6,  7,  8,  9, 10, 11, 12, 13, 14, 15, 16,\n",
      "       17, 18, 19, 20, 21, 22, 34, 35, 36, 37, 38, 39, 40, 41, 42, 43, 44,\n",
      "       45, 46, 47, 48, 49, 50, 51, 52, 53, 54, 55]), array([23, 24, 25, 26, 27, 28, 29, 30, 31, 32, 33]))\n",
      "3 => (array([ 0,  1,  2,  3,  4,  5,  6,  7,  8,  9, 10, 11, 12, 13, 14, 15, 16,\n",
      "       17, 18, 19, 20, 21, 22, 23, 24, 25, 26, 27, 28, 29, 30, 31, 32, 33,\n",
      "       45, 46, 47, 48, 49, 50, 51, 52, 53, 54, 55]), array([34, 35, 36, 37, 38, 39, 40, 41, 42, 43, 44]))\n",
      "4 => (array([ 0,  1,  2,  3,  4,  5,  6,  7,  8,  9, 10, 11, 12, 13, 14, 15, 16,\n",
      "       17, 18, 19, 20, 21, 22, 23, 24, 25, 26, 27, 28, 29, 30, 31, 32, 33,\n",
      "       34, 35, 36, 37, 38, 39, 40, 41, 42, 43, 44]), array([45, 46, 47, 48, 49, 50, 51, 52, 53, 54, 55]))\n"
     ]
    }
   ],
   "source": [
    "# perchDF => 5등분\n",
    "fold_5 = KFold()\n",
    "datasets = fold_5.split(perchDF)\n",
    "\n",
    "for index, dataset in enumerate(datasets):\n",
    "    print(f'{index} => {dataset}')"
   ],
   "metadata": {
    "collapsed": false,
    "ExecuteTime": {
     "end_time": "2024-03-05T06:33:10.879345Z",
     "start_time": "2024-03-05T06:33:10.861294400Z"
    }
   },
   "id": "151a5a345a84c737",
   "execution_count": 72
  },
  {
   "cell_type": "code",
   "outputs": [
    {
     "name": "stdout",
     "output_type": "stream",
     "text": [
      "0 => (array([19, 20, 21, 22, 23, 24, 25, 26, 27, 28, 29, 30, 31, 32, 33, 34, 35,\n",
      "       36, 37, 38, 39, 40, 41, 42, 43, 44, 45, 46, 47, 48, 49, 50, 51, 52,\n",
      "       53, 54, 55]), array([ 0,  1,  2,  3,  4,  5,  6,  7,  8,  9, 10, 11, 12, 13, 14, 15, 16,\n",
      "       17, 18]))\n",
      "1 => (array([ 0,  1,  2,  3,  4,  5,  6,  7,  8,  9, 10, 11, 12, 13, 14, 15, 16,\n",
      "       17, 18, 38, 39, 40, 41, 42, 43, 44, 45, 46, 47, 48, 49, 50, 51, 52,\n",
      "       53, 54, 55]), array([19, 20, 21, 22, 23, 24, 25, 26, 27, 28, 29, 30, 31, 32, 33, 34, 35,\n",
      "       36, 37]))\n",
      "2 => (array([ 0,  1,  2,  3,  4,  5,  6,  7,  8,  9, 10, 11, 12, 13, 14, 15, 16,\n",
      "       17, 18, 19, 20, 21, 22, 23, 24, 25, 26, 27, 28, 29, 30, 31, 32, 33,\n",
      "       34, 35, 36, 37]), array([38, 39, 40, 41, 42, 43, 44, 45, 46, 47, 48, 49, 50, 51, 52, 53, 54,\n",
      "       55]))\n"
     ]
    }
   ],
   "source": [
    "# perchDF => 3등분\n",
    "fold_3 = KFold(n_splits=3)\n",
    "datasets = fold_3.split(perchDF)\n",
    "\n",
    "for index, dataset in enumerate(datasets):\n",
    "    print(f'{index} => {dataset}')"
   ],
   "metadata": {
    "collapsed": false,
    "ExecuteTime": {
     "end_time": "2024-03-05T06:33:10.931182900Z",
     "start_time": "2024-03-05T06:33:10.877350800Z"
    }
   },
   "id": "7bb18cabd1981e1a",
   "execution_count": 73
  },
  {
   "cell_type": "code",
   "outputs": [
    {
     "name": "stdout",
     "output_type": "stream",
     "text": [
      "0 => (44,) (12,)\n",
      "1 => (45,) (11,)\n",
      "2 => (45,) (11,)\n",
      "3 => (45,) (11,)\n",
      "4 => (45,) (11,)\n"
     ]
    }
   ],
   "source": [
    "# perchDF => 5등분\n",
    "fold_5 = KFold()\n",
    "datasets = fold_5.split(perchDF)\n",
    "\n",
    "for index, (train, test) in enumerate(datasets):\n",
    "    print(f'{index} => {train.shape} {test.shape}')"
   ],
   "metadata": {
    "collapsed": false,
    "ExecuteTime": {
     "end_time": "2024-03-05T06:33:10.932167600Z",
     "start_time": "2024-03-05T06:33:10.895294100Z"
    }
   },
   "id": "f7c72b2c10067d4d",
   "execution_count": 74
  },
  {
   "cell_type": "code",
   "outputs": [
    {
     "name": "stdout",
     "output_type": "stream",
     "text": [
      "<class 'pandas.core.frame.DataFrame'>\n",
      "RangeIndex: 150 entries, 0 to 149\n",
      "Data columns (total 5 columns):\n",
      " #   Column        Non-Null Count  Dtype  \n",
      "---  ------        --------------  -----  \n",
      " 0   sepal_length  150 non-null    float64\n",
      " 1   sepal_width   150 non-null    float64\n",
      " 2   petal_length  150 non-null    float64\n",
      " 3   petal_width   150 non-null    float64\n",
      " 4   species       150 non-null    object \n",
      "dtypes: float64(4), object(1)\n",
      "memory usage: 6.0+ KB\n"
     ]
    }
   ],
   "source": [
    "## 타겟이 분류인 경우\n",
    "irisDF = pd.read_csv('../data/iris.csv')\n",
    "irisDF.info()"
   ],
   "metadata": {
    "collapsed": false,
    "ExecuteTime": {
     "end_time": "2024-03-05T06:33:10.963067200Z",
     "start_time": "2024-03-05T06:33:10.907251100Z"
    }
   },
   "id": "493b677ad71ea38c",
   "execution_count": 75
  },
  {
   "cell_type": "code",
   "outputs": [],
   "source": [
    "k_fold = KFold(n_splits=3, shuffle=True)\n",
    "ret = k_fold.split(irisDF[irisDF.columns[:-1]])"
   ],
   "metadata": {
    "collapsed": false,
    "ExecuteTime": {
     "end_time": "2024-03-05T06:33:10.966064Z",
     "start_time": "2024-03-05T06:33:10.922202800Z"
    }
   },
   "id": "554bc34b28af022",
   "execution_count": 76
  },
  {
   "cell_type": "code",
   "outputs": [
    {
     "name": "stdout",
     "output_type": "stream",
     "text": [
      "0 [  0   1   2   3   4   5   6   7   8   9  10  11  14  16  17  18  19  20\n",
      "  21  22  23  25  26  27  29  31  33  34  35  36  37  38  39  42  43  44\n",
      "  46  49  51  52  54  55  56  57  59  60  61  64  65  68  70  73  76  77\n",
      "  79  80  82  83  84  85  88  92  93  94  96  97  98 102 104 105 106 107\n",
      " 108 109 110 111 113 114 115 116 117 118 121 122 124 126 129 130 133 134\n",
      " 135 138 139 142 143 144 146 147 148 149] [ 12  13  15  24  28  30  32  40  41  45  47  48  50  53  58  62  63  66\n",
      "  67  69  71  72  74  75  78  81  86  87  89  90  91  95  99 100 101 103\n",
      " 112 119 120 123 125 127 128 131 132 136 137 140 141 145]\n",
      "1 [  1   2   4   6   7   8  10  11  12  13  14  15  16  21  22  24  25  27\n",
      "  28  29  30  31  32  34  37  40  41  45  46  47  48  49  50  51  53  54\n",
      "  55  57  58  59  61  62  63  66  67  69  70  71  72  74  75  77  78  79\n",
      "  81  84  86  87  89  90  91  92  94  95  96  98  99 100 101 103 105 107\n",
      " 110 111 112 114 117 119 120 122 123 124 125 126 127 128 129 130 131 132\n",
      " 134 135 136 137 139 140 141 142 145 148] [  0   3   5   9  17  18  19  20  23  26  33  35  36  38  39  42  43  44\n",
      "  52  56  60  64  65  68  73  76  80  82  83  85  88  93  97 102 104 106\n",
      " 108 109 113 115 116 118 121 133 138 143 144 146 147 149]\n",
      "2 [  0   3   5   9  12  13  15  17  18  19  20  23  24  26  28  30  32  33\n",
      "  35  36  38  39  40  41  42  43  44  45  47  48  50  52  53  56  58  60\n",
      "  62  63  64  65  66  67  68  69  71  72  73  74  75  76  78  80  81  82\n",
      "  83  85  86  87  88  89  90  91  93  95  97  99 100 101 102 103 104 106\n",
      " 108 109 112 113 115 116 118 119 120 121 123 125 127 128 131 132 133 136\n",
      " 137 138 140 141 143 144 145 146 147 149] [  1   2   4   6   7   8  10  11  14  16  21  22  25  27  29  31  34  37\n",
      "  46  49  51  54  55  57  59  61  70  77  79  84  92  94  96  98 105 107\n",
      " 110 111 114 117 122 124 126 129 130 134 135 139 142 148]\n"
     ]
    }
   ],
   "source": [
    "for idx, (train, test) in enumerate(ret):\n",
    "    print(idx, train, test)"
   ],
   "metadata": {
    "collapsed": false,
    "ExecuteTime": {
     "end_time": "2024-03-05T06:33:10.967055Z",
     "start_time": "2024-03-05T06:33:10.941137500Z"
    }
   },
   "id": "629fe27815e568a0",
   "execution_count": 77
  },
  {
   "cell_type": "code",
   "outputs": [
    {
     "data": {
      "text/plain": "species\nsetosa        50\nversicolor    50\nvirginica     50\nName: count, dtype: int64"
     },
     "execution_count": 78,
     "metadata": {},
     "output_type": "execute_result"
    }
   ],
   "source": [
    "irisDF['species'].value_counts()"
   ],
   "metadata": {
    "collapsed": false,
    "ExecuteTime": {
     "end_time": "2024-03-05T06:33:10.995471300Z",
     "start_time": "2024-03-05T06:33:10.955091700Z"
    }
   },
   "id": "1e34b52e9b1ea5dd",
   "execution_count": 78
  },
  {
   "cell_type": "code",
   "outputs": [
    {
     "name": "stdout",
     "output_type": "stream",
     "text": [
      "species\n",
      "setosa        18\n",
      "versicolor    17\n",
      "virginica     15\n",
      "Name: count, dtype: int64\n"
     ]
    }
   ],
   "source": [
    "print(irisDF.iloc[map(int, '''0   2   3   7   9  11  17  19  20  21  22  30  32  37  39  46  48  49\n",
    "  50  58  61  65  68  74  76  77  78  79  81  82  83  84  88  91  97 103\n",
    " 117 121 125 126 129 130 131 132 134 135 136 144 148 149'''.split())]['species'].value_counts())"
   ],
   "metadata": {
    "collapsed": false,
    "ExecuteTime": {
     "end_time": "2024-03-05T06:33:10.996479700Z",
     "start_time": "2024-03-05T06:33:10.972037800Z"
    }
   },
   "id": "e5e8f2979436ff1b",
   "execution_count": 79
  },
  {
   "cell_type": "code",
   "outputs": [
    {
     "name": "stdout",
     "output_type": "stream",
     "text": [
      "species\n",
      "virginica     20\n",
      "setosa        16\n",
      "versicolor    14\n",
      "Name: count, dtype: int64\n"
     ]
    }
   ],
   "source": [
    "print(irisDF.iloc[map(int, '''1   6  10  13  16  24  25  28  33  34  35  40  42  43  44  47  52  53\n",
    "  54  55  57  60  63  66  67  73  85  89  92  93 101 106 108 114 116 118\n",
    " 119 122 123 124 127 128 133 137 138 139 141 142 143 147'''.split())]['species'].value_counts())"
   ],
   "metadata": {
    "collapsed": false,
    "ExecuteTime": {
     "end_time": "2024-03-05T06:33:11.026367800Z",
     "start_time": "2024-03-05T06:33:10.985506200Z"
    }
   },
   "id": "d1fd14147b10ec8c",
   "execution_count": 80
  },
  {
   "cell_type": "code",
   "outputs": [
    {
     "name": "stdout",
     "output_type": "stream",
     "text": [
      "species\n",
      "versicolor    19\n",
      "setosa        16\n",
      "virginica     15\n",
      "Name: count, dtype: int64\n"
     ]
    }
   ],
   "source": [
    "print(irisDF.iloc[map(int, '''4   5   8  12  14  15  18  23  26  27  29  31  36  38  41  45  51  56\n",
    "  59  62  64  69  70  71  72  75  80  86  87  90  94  95  96  98  99 100\n",
    " 102 104 105 107 109 110 111 112 113 115 120 140 145 146\n",
    "'''.split())]['species'].value_counts())"
   ],
   "metadata": {
    "collapsed": false,
    "ExecuteTime": {
     "end_time": "2024-03-05T06:33:11.027366Z",
     "start_time": "2024-03-05T06:33:11.000454600Z"
    }
   },
   "id": "758498be1e548935",
   "execution_count": 81
  },
  {
   "cell_type": "code",
   "outputs": [],
   "source": [
    "from sklearn.linear_model import LogisticRegression"
   ],
   "metadata": {
    "collapsed": false,
    "ExecuteTime": {
     "end_time": "2024-03-05T06:33:11.070224500Z",
     "start_time": "2024-03-05T06:33:11.018395600Z"
    }
   },
   "id": "d574cdea46313f0a",
   "execution_count": 82
  },
  {
   "cell_type": "code",
   "outputs": [],
   "source": [
    "k_fold = KFold(n_splits=3, shuffle=True)\n",
    "ret = k_fold.split(irisDF[irisDF.columns[:-1]])"
   ],
   "metadata": {
    "collapsed": false,
    "ExecuteTime": {
     "end_time": "2024-03-05T06:34:03.380422Z",
     "start_time": "2024-03-05T06:34:03.373444400Z"
    }
   },
   "id": "47109f7b51fe55ec",
   "execution_count": 89
  },
  {
   "cell_type": "code",
   "outputs": [
    {
     "name": "stdout",
     "output_type": "stream",
     "text": [
      "(100,) (50,)\n",
      "(100,) (50,)\n",
      "(100,) (50,)\n"
     ]
    }
   ],
   "source": [
    "train_score3 = []\n",
    "test_score3 = []\n",
    "for idx, (train, test) in enumerate(ret):\n",
    "    # 학습용, 테스트용 인덱스 반환\n",
    "    print(train.shape, test.shape)\n",
    "    train_idx = train.tolist()\n",
    "    test_idx = test.tolist()\n",
    "    \n",
    "    # 인덱스에 해당하는 데이터셋 추출\n",
    "    trainDF = irisDF.iloc[train_idx]\n",
    "    testDF = irisDF.iloc[test_idx]\n",
    "    \n",
    "    X_train = trainDF[trainDF.columns[:-1]]\n",
    "    y_train = trainDF[trainDF.columns[-1]]\n",
    "    \n",
    "    X_test = testDF[testDF.columns[:-1]]\n",
    "    y_test = testDF[testDF.columns[-1]]\n",
    "    \n",
    "    # 분류 모델 학습\n",
    "    log_model = LogisticRegression(solver='liblinear')\n",
    "    log_model.fit(X_train, y_train)\n",
    "    \n",
    "    # 훈련 및 검증용 성능\n",
    "    train_score = log_model.score(X_train, y_train)\n",
    "    test_score = log_model.score(X_test, y_test)\n",
    "    \n",
    "    train_score3.append(train_score)\n",
    "    test_score3.append(test_score)"
   ],
   "metadata": {
    "collapsed": false,
    "ExecuteTime": {
     "end_time": "2024-03-05T06:34:03.660957Z",
     "start_time": "2024-03-05T06:34:03.632199100Z"
    }
   },
   "id": "c6c098151668ad45",
   "execution_count": 90
  },
  {
   "cell_type": "code",
   "outputs": [
    {
     "data": {
      "text/plain": "([0.94, 0.97, 0.95], [0.98, 0.94, 0.96])"
     },
     "execution_count": 92,
     "metadata": {},
     "output_type": "execute_result"
    }
   ],
   "source": [
    "train_score3, test_score3"
   ],
   "metadata": {
    "collapsed": false,
    "ExecuteTime": {
     "end_time": "2024-03-05T06:34:14.978316700Z",
     "start_time": "2024-03-05T06:34:14.971339700Z"
    }
   },
   "id": "4712a6d58728d76f",
   "execution_count": 92
  },
  {
   "cell_type": "code",
   "outputs": [
    {
     "data": {
      "text/plain": "(0.9533333333333333, 0.96)"
     },
     "execution_count": 93,
     "metadata": {},
     "output_type": "execute_result"
    }
   ],
   "source": [
    "sum(train_score3)/3, sum(test_score3)/3"
   ],
   "metadata": {
    "collapsed": false,
    "ExecuteTime": {
     "end_time": "2024-03-05T06:34:25.873075500Z",
     "start_time": "2024-03-05T06:34:25.846133600Z"
    }
   },
   "id": "c47a5e6d7e09d8bd",
   "execution_count": 93
  },
  {
   "cell_type": "code",
   "outputs": [],
   "source": [],
   "metadata": {
    "collapsed": false
   },
   "id": "af47d3417762526a"
  }
 ],
 "metadata": {
  "kernelspec": {
   "display_name": "Python 3",
   "language": "python",
   "name": "python3"
  },
  "language_info": {
   "codemirror_mode": {
    "name": "ipython",
    "version": 2
   },
   "file_extension": ".py",
   "mimetype": "text/x-python",
   "name": "python",
   "nbconvert_exporter": "python",
   "pygments_lexer": "ipython2",
   "version": "2.7.6"
  }
 },
 "nbformat": 4,
 "nbformat_minor": 5
}
