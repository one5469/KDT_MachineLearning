{
 "cells": [
  {
   "cell_type": "markdown",
   "source": [
    "### OvR & OvO 모듈 활용"
   ],
   "metadata": {
    "collapsed": false
   },
   "id": "37016a46dec11918"
  },
  {
   "cell_type": "markdown",
   "source": [
    "(1) 모듈 로딩 & 데이터 준비"
   ],
   "metadata": {
    "collapsed": false
   },
   "id": "d092fdaea47a3a83"
  },
  {
   "cell_type": "code",
   "outputs": [],
   "source": [
    "# 모듈 로딩\n",
    "from sklearn.multiclass import OneVsOneClassifier, OneVsRestClassifier\n",
    "from sklearn.linear_model import LogisticRegression\n",
    "import pandas as pd\n",
    "import numpy as np"
   ],
   "metadata": {
    "collapsed": false,
    "ExecuteTime": {
     "end_time": "2024-02-29T05:19:48.594850100Z",
     "start_time": "2024-02-29T05:19:47.510270300Z"
    }
   },
   "id": "1dcbb2c3292bf128",
   "execution_count": 1
  },
  {
   "cell_type": "code",
   "outputs": [
    {
     "data": {
      "text/plain": "    Species  Weight  Length  Diagonal   Height   Width\n0     Bream   242.0    25.4      30.0  11.5200  4.0200\n1     Bream   290.0    26.3      31.2  12.4800  4.3056\n2     Bream   340.0    26.5      31.1  12.3778  4.6961\n3     Bream   363.0    29.0      33.5  12.7300  4.4555\n4     Bream   430.0    29.0      34.0  12.4440  5.1340\n..      ...     ...     ...       ...      ...     ...\n154   Smelt    12.2    12.2      13.4   2.0904  1.3936\n155   Smelt    13.4    12.4      13.5   2.4300  1.2690\n156   Smelt    12.2    13.0      13.8   2.2770  1.2558\n157   Smelt    19.7    14.3      15.2   2.8728  2.0672\n158   Smelt    19.9    15.0      16.2   2.9322  1.8792\n\n[159 rows x 6 columns]",
      "text/html": "<div>\n<style scoped>\n    .dataframe tbody tr th:only-of-type {\n        vertical-align: middle;\n    }\n\n    .dataframe tbody tr th {\n        vertical-align: top;\n    }\n\n    .dataframe thead th {\n        text-align: right;\n    }\n</style>\n<table border=\"1\" class=\"dataframe\">\n  <thead>\n    <tr style=\"text-align: right;\">\n      <th></th>\n      <th>Species</th>\n      <th>Weight</th>\n      <th>Length</th>\n      <th>Diagonal</th>\n      <th>Height</th>\n      <th>Width</th>\n    </tr>\n  </thead>\n  <tbody>\n    <tr>\n      <th>0</th>\n      <td>Bream</td>\n      <td>242.0</td>\n      <td>25.4</td>\n      <td>30.0</td>\n      <td>11.5200</td>\n      <td>4.0200</td>\n    </tr>\n    <tr>\n      <th>1</th>\n      <td>Bream</td>\n      <td>290.0</td>\n      <td>26.3</td>\n      <td>31.2</td>\n      <td>12.4800</td>\n      <td>4.3056</td>\n    </tr>\n    <tr>\n      <th>2</th>\n      <td>Bream</td>\n      <td>340.0</td>\n      <td>26.5</td>\n      <td>31.1</td>\n      <td>12.3778</td>\n      <td>4.6961</td>\n    </tr>\n    <tr>\n      <th>3</th>\n      <td>Bream</td>\n      <td>363.0</td>\n      <td>29.0</td>\n      <td>33.5</td>\n      <td>12.7300</td>\n      <td>4.4555</td>\n    </tr>\n    <tr>\n      <th>4</th>\n      <td>Bream</td>\n      <td>430.0</td>\n      <td>29.0</td>\n      <td>34.0</td>\n      <td>12.4440</td>\n      <td>5.1340</td>\n    </tr>\n    <tr>\n      <th>...</th>\n      <td>...</td>\n      <td>...</td>\n      <td>...</td>\n      <td>...</td>\n      <td>...</td>\n      <td>...</td>\n    </tr>\n    <tr>\n      <th>154</th>\n      <td>Smelt</td>\n      <td>12.2</td>\n      <td>12.2</td>\n      <td>13.4</td>\n      <td>2.0904</td>\n      <td>1.3936</td>\n    </tr>\n    <tr>\n      <th>155</th>\n      <td>Smelt</td>\n      <td>13.4</td>\n      <td>12.4</td>\n      <td>13.5</td>\n      <td>2.4300</td>\n      <td>1.2690</td>\n    </tr>\n    <tr>\n      <th>156</th>\n      <td>Smelt</td>\n      <td>12.2</td>\n      <td>13.0</td>\n      <td>13.8</td>\n      <td>2.2770</td>\n      <td>1.2558</td>\n    </tr>\n    <tr>\n      <th>157</th>\n      <td>Smelt</td>\n      <td>19.7</td>\n      <td>14.3</td>\n      <td>15.2</td>\n      <td>2.8728</td>\n      <td>2.0672</td>\n    </tr>\n    <tr>\n      <th>158</th>\n      <td>Smelt</td>\n      <td>19.9</td>\n      <td>15.0</td>\n      <td>16.2</td>\n      <td>2.9322</td>\n      <td>1.8792</td>\n    </tr>\n  </tbody>\n</table>\n<p>159 rows × 6 columns</p>\n</div>"
     },
     "execution_count": 2,
     "metadata": {},
     "output_type": "execute_result"
    }
   ],
   "source": [
    "# 데이터 준비\n",
    "data_file = '../data/fish.csv'\n",
    "\n",
    "fishDF = pd.read_csv(data_file)\n",
    "\n",
    "fishDF"
   ],
   "metadata": {
    "collapsed": false,
    "ExecuteTime": {
     "end_time": "2024-02-29T05:19:59.100199600Z",
     "start_time": "2024-02-29T05:19:59.081262300Z"
    }
   },
   "id": "cfb9d58aa879fae9",
   "execution_count": 2
  },
  {
   "cell_type": "markdown",
   "source": [
    "(2) 데이터셋 준비"
   ],
   "metadata": {
    "collapsed": false
   },
   "id": "1f23f417768f77cf"
  },
  {
   "cell_type": "markdown",
   "source": [
    "(2-1) 피쳐/타겟 분리"
   ],
   "metadata": {
    "collapsed": false
   },
   "id": "324bd293614cc8d9"
  },
  {
   "cell_type": "code",
   "outputs": [],
   "source": [
    "featureDF = fishDF[fishDF.columns[1:]]\n",
    "targetDF = fishDF[fishDF.columns[0]]"
   ],
   "metadata": {
    "collapsed": false,
    "ExecuteTime": {
     "end_time": "2024-02-29T05:21:23.650874100Z",
     "start_time": "2024-02-29T05:21:23.638885700Z"
    }
   },
   "id": "f9e19401e75bcf23",
   "execution_count": 3
  },
  {
   "cell_type": "markdown",
   "source": [
    "(2-2) 학습용/테스트용 데이터셋 준비"
   ],
   "metadata": {
    "collapsed": false
   },
   "id": "f9755ac1b992aa85"
  },
  {
   "cell_type": "code",
   "outputs": [],
   "source": [
    "from sklearn.model_selection import train_test_split"
   ],
   "metadata": {
    "collapsed": false,
    "ExecuteTime": {
     "end_time": "2024-02-29T05:22:17.454628800Z",
     "start_time": "2024-02-29T05:22:17.446655600Z"
    }
   },
   "id": "a30d2bbbab9cb9a",
   "execution_count": 4
  },
  {
   "cell_type": "code",
   "outputs": [],
   "source": [
    "X_train, X_test, y_train, y_test = train_test_split(featureDF, targetDF,\n",
    "                                                    stratify=targetDF,\n",
    "                                                    random_state=11)"
   ],
   "metadata": {
    "collapsed": false,
    "ExecuteTime": {
     "end_time": "2024-02-29T05:22:17.625676200Z",
     "start_time": "2024-02-29T05:22:17.619686700Z"
    }
   },
   "id": "c6830ec9be910abb",
   "execution_count": 5
  },
  {
   "cell_type": "markdown",
   "source": [
    "(3) 학습 진행"
   ],
   "metadata": {
    "collapsed": false
   },
   "id": "3249ca7b2459fed5"
  },
  {
   "cell_type": "code",
   "outputs": [],
   "source": [
    "# OvO/OvR에서 사용할 관측지(Estimator) 생성\n",
    "model = LogisticRegression(solver='liblinear')"
   ],
   "metadata": {
    "collapsed": false,
    "ExecuteTime": {
     "end_time": "2024-02-29T05:25:42.257289300Z",
     "start_time": "2024-02-29T05:25:42.236350700Z"
    }
   },
   "id": "8c92c84716af732c",
   "execution_count": 8
  },
  {
   "cell_type": "markdown",
   "source": [
    "(3-1) OvO 기반 학습 진행"
   ],
   "metadata": {
    "collapsed": false
   },
   "id": "e3eb0cd70d412546"
  },
  {
   "cell_type": "code",
   "outputs": [
    {
     "data": {
      "text/plain": "OneVsOneClassifier(estimator=LogisticRegression(solver='liblinear'))",
      "text/html": "<style>#sk-container-id-1 {color: black;}#sk-container-id-1 pre{padding: 0;}#sk-container-id-1 div.sk-toggleable {background-color: white;}#sk-container-id-1 label.sk-toggleable__label {cursor: pointer;display: block;width: 100%;margin-bottom: 0;padding: 0.3em;box-sizing: border-box;text-align: center;}#sk-container-id-1 label.sk-toggleable__label-arrow:before {content: \"▸\";float: left;margin-right: 0.25em;color: #696969;}#sk-container-id-1 label.sk-toggleable__label-arrow:hover:before {color: black;}#sk-container-id-1 div.sk-estimator:hover label.sk-toggleable__label-arrow:before {color: black;}#sk-container-id-1 div.sk-toggleable__content {max-height: 0;max-width: 0;overflow: hidden;text-align: left;background-color: #f0f8ff;}#sk-container-id-1 div.sk-toggleable__content pre {margin: 0.2em;color: black;border-radius: 0.25em;background-color: #f0f8ff;}#sk-container-id-1 input.sk-toggleable__control:checked~div.sk-toggleable__content {max-height: 200px;max-width: 100%;overflow: auto;}#sk-container-id-1 input.sk-toggleable__control:checked~label.sk-toggleable__label-arrow:before {content: \"▾\";}#sk-container-id-1 div.sk-estimator input.sk-toggleable__control:checked~label.sk-toggleable__label {background-color: #d4ebff;}#sk-container-id-1 div.sk-label input.sk-toggleable__control:checked~label.sk-toggleable__label {background-color: #d4ebff;}#sk-container-id-1 input.sk-hidden--visually {border: 0;clip: rect(1px 1px 1px 1px);clip: rect(1px, 1px, 1px, 1px);height: 1px;margin: -1px;overflow: hidden;padding: 0;position: absolute;width: 1px;}#sk-container-id-1 div.sk-estimator {font-family: monospace;background-color: #f0f8ff;border: 1px dotted black;border-radius: 0.25em;box-sizing: border-box;margin-bottom: 0.5em;}#sk-container-id-1 div.sk-estimator:hover {background-color: #d4ebff;}#sk-container-id-1 div.sk-parallel-item::after {content: \"\";width: 100%;border-bottom: 1px solid gray;flex-grow: 1;}#sk-container-id-1 div.sk-label:hover label.sk-toggleable__label {background-color: #d4ebff;}#sk-container-id-1 div.sk-serial::before {content: \"\";position: absolute;border-left: 1px solid gray;box-sizing: border-box;top: 0;bottom: 0;left: 50%;z-index: 0;}#sk-container-id-1 div.sk-serial {display: flex;flex-direction: column;align-items: center;background-color: white;padding-right: 0.2em;padding-left: 0.2em;position: relative;}#sk-container-id-1 div.sk-item {position: relative;z-index: 1;}#sk-container-id-1 div.sk-parallel {display: flex;align-items: stretch;justify-content: center;background-color: white;position: relative;}#sk-container-id-1 div.sk-item::before, #sk-container-id-1 div.sk-parallel-item::before {content: \"\";position: absolute;border-left: 1px solid gray;box-sizing: border-box;top: 0;bottom: 0;left: 50%;z-index: -1;}#sk-container-id-1 div.sk-parallel-item {display: flex;flex-direction: column;z-index: 1;position: relative;background-color: white;}#sk-container-id-1 div.sk-parallel-item:first-child::after {align-self: flex-end;width: 50%;}#sk-container-id-1 div.sk-parallel-item:last-child::after {align-self: flex-start;width: 50%;}#sk-container-id-1 div.sk-parallel-item:only-child::after {width: 0;}#sk-container-id-1 div.sk-dashed-wrapped {border: 1px dashed gray;margin: 0 0.4em 0.5em 0.4em;box-sizing: border-box;padding-bottom: 0.4em;background-color: white;}#sk-container-id-1 div.sk-label label {font-family: monospace;font-weight: bold;display: inline-block;line-height: 1.2em;}#sk-container-id-1 div.sk-label-container {text-align: center;}#sk-container-id-1 div.sk-container {/* jupyter's `normalize.less` sets `[hidden] { display: none; }` but bootstrap.min.css set `[hidden] { display: none !important; }` so we also need the `!important` here to be able to override the default hidden behavior on the sphinx rendered scikit-learn.org. See: https://github.com/scikit-learn/scikit-learn/issues/21755 */display: inline-block !important;position: relative;}#sk-container-id-1 div.sk-text-repr-fallback {display: none;}</style><div id=\"sk-container-id-1\" class=\"sk-top-container\"><div class=\"sk-text-repr-fallback\"><pre>OneVsOneClassifier(estimator=LogisticRegression(solver=&#x27;liblinear&#x27;))</pre><b>In a Jupyter environment, please rerun this cell to show the HTML representation or trust the notebook. <br />On GitHub, the HTML representation is unable to render, please try loading this page with nbviewer.org.</b></div><div class=\"sk-container\" hidden><div class=\"sk-item sk-dashed-wrapped\"><div class=\"sk-label-container\"><div class=\"sk-label sk-toggleable\"><input class=\"sk-toggleable__control sk-hidden--visually\" id=\"sk-estimator-id-1\" type=\"checkbox\" ><label for=\"sk-estimator-id-1\" class=\"sk-toggleable__label sk-toggleable__label-arrow\">OneVsOneClassifier</label><div class=\"sk-toggleable__content\"><pre>OneVsOneClassifier(estimator=LogisticRegression(solver=&#x27;liblinear&#x27;))</pre></div></div></div><div class=\"sk-parallel\"><div class=\"sk-parallel-item\"><div class=\"sk-item\"><div class=\"sk-label-container\"><div class=\"sk-label sk-toggleable\"><input class=\"sk-toggleable__control sk-hidden--visually\" id=\"sk-estimator-id-2\" type=\"checkbox\" ><label for=\"sk-estimator-id-2\" class=\"sk-toggleable__label sk-toggleable__label-arrow\">estimator: LogisticRegression</label><div class=\"sk-toggleable__content\"><pre>LogisticRegression(solver=&#x27;liblinear&#x27;)</pre></div></div></div><div class=\"sk-serial\"><div class=\"sk-item\"><div class=\"sk-estimator sk-toggleable\"><input class=\"sk-toggleable__control sk-hidden--visually\" id=\"sk-estimator-id-3\" type=\"checkbox\" ><label for=\"sk-estimator-id-3\" class=\"sk-toggleable__label sk-toggleable__label-arrow\">LogisticRegression</label><div class=\"sk-toggleable__content\"><pre>LogisticRegression(solver=&#x27;liblinear&#x27;)</pre></div></div></div></div></div></div></div></div></div></div>"
     },
     "execution_count": 9,
     "metadata": {},
     "output_type": "execute_result"
    }
   ],
   "source": [
    "ovoModel = OneVsOneClassifier(model)\n",
    "ovoModel.fit(X_train, y_train)"
   ],
   "metadata": {
    "collapsed": false,
    "ExecuteTime": {
     "end_time": "2024-02-29T05:25:42.919793900Z",
     "start_time": "2024-02-29T05:25:42.884053Z"
    }
   },
   "id": "50ae84acfca426b",
   "execution_count": 9
  },
  {
   "cell_type": "code",
   "outputs": [
    {
     "name": "stdout",
     "output_type": "stream",
     "text": [
      "classes_ : ['Bream' 'Parkki' 'Perch' 'Pike' 'Roach' 'Smelt' 'Whitefish']\n",
      "feature_names_in_ : ['Weight' 'Length' 'Diagonal' 'Height' 'Width']\n",
      "estimators_ : (LogisticRegression(solver='liblinear'), LogisticRegression(solver='liblinear'), LogisticRegression(solver='liblinear'), LogisticRegression(solver='liblinear'), LogisticRegression(solver='liblinear'), LogisticRegression(solver='liblinear'), LogisticRegression(solver='liblinear'), LogisticRegression(solver='liblinear'), LogisticRegression(solver='liblinear'), LogisticRegression(solver='liblinear'), LogisticRegression(solver='liblinear'), LogisticRegression(solver='liblinear'), LogisticRegression(solver='liblinear'), LogisticRegression(solver='liblinear'), LogisticRegression(solver='liblinear'), LogisticRegression(solver='liblinear'), LogisticRegression(solver='liblinear'), LogisticRegression(solver='liblinear'), LogisticRegression(solver='liblinear'), LogisticRegression(solver='liblinear'), LogisticRegression(solver='liblinear'))\n"
     ]
    }
   ],
   "source": [
    "# 모델 파라미터 확인\n",
    "print(f'classes_ : {ovoModel.classes_}')\n",
    "print(f'feature_names_in_ : {ovoModel.feature_names_in_}')\n",
    "print(f'estimators_ : {ovoModel.estimators_}')"
   ],
   "metadata": {
    "collapsed": false,
    "ExecuteTime": {
     "end_time": "2024-02-29T05:27:00.121999500Z",
     "start_time": "2024-02-29T05:27:00.111535600Z"
    }
   },
   "id": "2400b39fe6f0f95f",
   "execution_count": 10
  },
  {
   "cell_type": "code",
   "outputs": [
    {
     "name": "stdout",
     "output_type": "stream",
     "text": [
      "[Train Score] 0.957983193277311\n",
      "[Test Score] 0.925\n"
     ]
    }
   ],
   "source": [
    "# 평가\n",
    "print(f'[Train Score] {ovoModel.score(X_train, y_train)}\\n[Test Score] {ovoModel.score(X_test, y_test)}')"
   ],
   "metadata": {
    "collapsed": false,
    "ExecuteTime": {
     "end_time": "2024-02-29T05:28:45.428722Z",
     "start_time": "2024-02-29T05:28:45.402638500Z"
    }
   },
   "id": "6e571dd225d05ada",
   "execution_count": 11
  },
  {
   "cell_type": "code",
   "outputs": [
    {
     "data": {
      "text/plain": "array(['Bream', 'Parkki'], dtype=object)"
     },
     "execution_count": 12,
     "metadata": {},
     "output_type": "execute_result"
    }
   ],
   "source": [
    "# 예측\n",
    "ovoModel.predict(X_test[:2])"
   ],
   "metadata": {
    "collapsed": false,
    "ExecuteTime": {
     "end_time": "2024-02-29T05:29:50.689892200Z",
     "start_time": "2024-02-29T05:29:50.667078Z"
    }
   },
   "id": "7855d09965a4c1c1",
   "execution_count": 12
  },
  {
   "cell_type": "code",
   "outputs": [
    {
     "data": {
      "text/plain": "array([[ 6.32094951,  5.32872468,  2.32890163,  0.68506766,  3.322758  ,\n        -0.33168462,  4.3140798 ],\n       [ 4.26849104,  6.32543178,  2.3234672 ,  0.67951149,  5.319289  ,\n         0.67104504,  1.85564622]])"
     },
     "execution_count": 13,
     "metadata": {},
     "output_type": "execute_result"
    }
   ],
   "source": [
    "ovoModel.decision_function(X_test[:2])"
   ],
   "metadata": {
    "collapsed": false,
    "ExecuteTime": {
     "end_time": "2024-02-29T05:31:26.319925900Z",
     "start_time": "2024-02-29T05:31:26.292020100Z"
    }
   },
   "id": "9dad253289b092ad",
   "execution_count": 13
  },
  {
   "cell_type": "markdown",
   "source": [
    "(3-2) OvR 기반 학습 진행"
   ],
   "metadata": {
    "collapsed": false
   },
   "id": "c45e7cf643e20685"
  },
  {
   "cell_type": "code",
   "outputs": [
    {
     "data": {
      "text/plain": "OneVsRestClassifier(estimator=LogisticRegression(solver='liblinear'))",
      "text/html": "<style>#sk-container-id-2 {color: black;}#sk-container-id-2 pre{padding: 0;}#sk-container-id-2 div.sk-toggleable {background-color: white;}#sk-container-id-2 label.sk-toggleable__label {cursor: pointer;display: block;width: 100%;margin-bottom: 0;padding: 0.3em;box-sizing: border-box;text-align: center;}#sk-container-id-2 label.sk-toggleable__label-arrow:before {content: \"▸\";float: left;margin-right: 0.25em;color: #696969;}#sk-container-id-2 label.sk-toggleable__label-arrow:hover:before {color: black;}#sk-container-id-2 div.sk-estimator:hover label.sk-toggleable__label-arrow:before {color: black;}#sk-container-id-2 div.sk-toggleable__content {max-height: 0;max-width: 0;overflow: hidden;text-align: left;background-color: #f0f8ff;}#sk-container-id-2 div.sk-toggleable__content pre {margin: 0.2em;color: black;border-radius: 0.25em;background-color: #f0f8ff;}#sk-container-id-2 input.sk-toggleable__control:checked~div.sk-toggleable__content {max-height: 200px;max-width: 100%;overflow: auto;}#sk-container-id-2 input.sk-toggleable__control:checked~label.sk-toggleable__label-arrow:before {content: \"▾\";}#sk-container-id-2 div.sk-estimator input.sk-toggleable__control:checked~label.sk-toggleable__label {background-color: #d4ebff;}#sk-container-id-2 div.sk-label input.sk-toggleable__control:checked~label.sk-toggleable__label {background-color: #d4ebff;}#sk-container-id-2 input.sk-hidden--visually {border: 0;clip: rect(1px 1px 1px 1px);clip: rect(1px, 1px, 1px, 1px);height: 1px;margin: -1px;overflow: hidden;padding: 0;position: absolute;width: 1px;}#sk-container-id-2 div.sk-estimator {font-family: monospace;background-color: #f0f8ff;border: 1px dotted black;border-radius: 0.25em;box-sizing: border-box;margin-bottom: 0.5em;}#sk-container-id-2 div.sk-estimator:hover {background-color: #d4ebff;}#sk-container-id-2 div.sk-parallel-item::after {content: \"\";width: 100%;border-bottom: 1px solid gray;flex-grow: 1;}#sk-container-id-2 div.sk-label:hover label.sk-toggleable__label {background-color: #d4ebff;}#sk-container-id-2 div.sk-serial::before {content: \"\";position: absolute;border-left: 1px solid gray;box-sizing: border-box;top: 0;bottom: 0;left: 50%;z-index: 0;}#sk-container-id-2 div.sk-serial {display: flex;flex-direction: column;align-items: center;background-color: white;padding-right: 0.2em;padding-left: 0.2em;position: relative;}#sk-container-id-2 div.sk-item {position: relative;z-index: 1;}#sk-container-id-2 div.sk-parallel {display: flex;align-items: stretch;justify-content: center;background-color: white;position: relative;}#sk-container-id-2 div.sk-item::before, #sk-container-id-2 div.sk-parallel-item::before {content: \"\";position: absolute;border-left: 1px solid gray;box-sizing: border-box;top: 0;bottom: 0;left: 50%;z-index: -1;}#sk-container-id-2 div.sk-parallel-item {display: flex;flex-direction: column;z-index: 1;position: relative;background-color: white;}#sk-container-id-2 div.sk-parallel-item:first-child::after {align-self: flex-end;width: 50%;}#sk-container-id-2 div.sk-parallel-item:last-child::after {align-self: flex-start;width: 50%;}#sk-container-id-2 div.sk-parallel-item:only-child::after {width: 0;}#sk-container-id-2 div.sk-dashed-wrapped {border: 1px dashed gray;margin: 0 0.4em 0.5em 0.4em;box-sizing: border-box;padding-bottom: 0.4em;background-color: white;}#sk-container-id-2 div.sk-label label {font-family: monospace;font-weight: bold;display: inline-block;line-height: 1.2em;}#sk-container-id-2 div.sk-label-container {text-align: center;}#sk-container-id-2 div.sk-container {/* jupyter's `normalize.less` sets `[hidden] { display: none; }` but bootstrap.min.css set `[hidden] { display: none !important; }` so we also need the `!important` here to be able to override the default hidden behavior on the sphinx rendered scikit-learn.org. See: https://github.com/scikit-learn/scikit-learn/issues/21755 */display: inline-block !important;position: relative;}#sk-container-id-2 div.sk-text-repr-fallback {display: none;}</style><div id=\"sk-container-id-2\" class=\"sk-top-container\"><div class=\"sk-text-repr-fallback\"><pre>OneVsRestClassifier(estimator=LogisticRegression(solver=&#x27;liblinear&#x27;))</pre><b>In a Jupyter environment, please rerun this cell to show the HTML representation or trust the notebook. <br />On GitHub, the HTML representation is unable to render, please try loading this page with nbviewer.org.</b></div><div class=\"sk-container\" hidden><div class=\"sk-item sk-dashed-wrapped\"><div class=\"sk-label-container\"><div class=\"sk-label sk-toggleable\"><input class=\"sk-toggleable__control sk-hidden--visually\" id=\"sk-estimator-id-4\" type=\"checkbox\" ><label for=\"sk-estimator-id-4\" class=\"sk-toggleable__label sk-toggleable__label-arrow\">OneVsRestClassifier</label><div class=\"sk-toggleable__content\"><pre>OneVsRestClassifier(estimator=LogisticRegression(solver=&#x27;liblinear&#x27;))</pre></div></div></div><div class=\"sk-parallel\"><div class=\"sk-parallel-item\"><div class=\"sk-item\"><div class=\"sk-label-container\"><div class=\"sk-label sk-toggleable\"><input class=\"sk-toggleable__control sk-hidden--visually\" id=\"sk-estimator-id-5\" type=\"checkbox\" ><label for=\"sk-estimator-id-5\" class=\"sk-toggleable__label sk-toggleable__label-arrow\">estimator: LogisticRegression</label><div class=\"sk-toggleable__content\"><pre>LogisticRegression(solver=&#x27;liblinear&#x27;)</pre></div></div></div><div class=\"sk-serial\"><div class=\"sk-item\"><div class=\"sk-estimator sk-toggleable\"><input class=\"sk-toggleable__control sk-hidden--visually\" id=\"sk-estimator-id-6\" type=\"checkbox\" ><label for=\"sk-estimator-id-6\" class=\"sk-toggleable__label sk-toggleable__label-arrow\">LogisticRegression</label><div class=\"sk-toggleable__content\"><pre>LogisticRegression(solver=&#x27;liblinear&#x27;)</pre></div></div></div></div></div></div></div></div></div></div>"
     },
     "execution_count": 14,
     "metadata": {},
     "output_type": "execute_result"
    }
   ],
   "source": [
    "ovrModel = OneVsRestClassifier(model)\n",
    "ovrModel.fit(X_train, y_train)"
   ],
   "metadata": {
    "collapsed": false,
    "ExecuteTime": {
     "end_time": "2024-02-29T05:35:54.951105500Z",
     "start_time": "2024-02-29T05:35:54.926178300Z"
    }
   },
   "id": "b63eeb5460f74966",
   "execution_count": 14
  },
  {
   "cell_type": "code",
   "outputs": [
    {
     "name": "stdout",
     "output_type": "stream",
     "text": [
      "[Train Score] 0.9495798319327731\n",
      "[Test Score] 0.975\n"
     ]
    }
   ],
   "source": [
    "print(f'[Train Score] {ovrModel.score(X_train, y_train)}\\n[Test Score] {ovrModel.score(X_test, y_test)}')"
   ],
   "metadata": {
    "collapsed": false,
    "ExecuteTime": {
     "end_time": "2024-02-29T05:37:02.809040800Z",
     "start_time": "2024-02-29T05:37:02.792826800Z"
    }
   },
   "id": "a84cb71b02268d1f",
   "execution_count": 17
  },
  {
   "cell_type": "markdown",
   "source": [],
   "metadata": {
    "collapsed": false
   },
   "id": "2deadea113e7798a"
  },
  {
   "cell_type": "code",
   "outputs": [],
   "source": [],
   "metadata": {
    "collapsed": false
   },
   "id": "dcd855ad80fe2cc2"
  }
 ],
 "metadata": {
  "kernelspec": {
   "display_name": "Python 3",
   "language": "python",
   "name": "python3"
  },
  "language_info": {
   "codemirror_mode": {
    "name": "ipython",
    "version": 2
   },
   "file_extension": ".py",
   "mimetype": "text/x-python",
   "name": "python",
   "nbconvert_exporter": "python",
   "pygments_lexer": "ipython2",
   "version": "2.7.6"
  }
 },
 "nbformat": 4,
 "nbformat_minor": 5
}
