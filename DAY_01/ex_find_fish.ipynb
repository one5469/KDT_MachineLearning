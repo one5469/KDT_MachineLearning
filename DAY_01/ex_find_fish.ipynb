{
 "cells": [
  {
   "cell_type": "markdown",
   "source": [
    "#### 목표 : 생선 품종 분류 모델\n",
    "- 데이터 : fish.csv\n",
    "- 피쳐 : Weight, Length\n",
    "- 타겟 : Species\n",
    "- 기계학습 : 지도학습 + 분류 (도미, 빙어 분류는 이진분류)"
   ],
   "metadata": {
    "collapsed": false
   },
   "id": "e4c1aa01b5a4bba0"
  },
  {
   "cell_type": "markdown",
   "source": [
    "(1) 모듈 준비 및 데이터 준비"
   ],
   "metadata": {
    "collapsed": false
   },
   "id": "8bd054bfdc29d910"
  },
  {
   "cell_type": "code",
   "outputs": [],
   "source": [
    "# 데이터분석 모듈 로딩\n",
    "import pandas as pd\n",
    "from sklearn.neighbors import KNeighborsClassifier\n",
    "import matplotlib.pyplot as plt"
   ],
   "metadata": {
    "collapsed": false,
    "ExecuteTime": {
     "end_time": "2024-02-23T08:19:50.696663500Z",
     "start_time": "2024-02-23T08:19:50.630343400Z"
    }
   },
   "id": "d9f6c4b55e6dee62",
   "execution_count": 48
  },
  {
   "cell_type": "code",
   "outputs": [],
   "source": [
    "# 데이터 파일 설정\n",
    "data_file = '../data/fish.csv'"
   ],
   "metadata": {
    "collapsed": false,
    "ExecuteTime": {
     "end_time": "2024-02-23T08:19:50.733530200Z",
     "start_time": "2024-02-23T08:19:50.700636700Z"
    }
   },
   "id": "50d1bd4769e2f389",
   "execution_count": 49
  },
  {
   "cell_type": "code",
   "outputs": [
    {
     "name": "stdout",
     "output_type": "stream",
     "text": [
      "<class 'pandas.core.frame.DataFrame'>\n",
      "RangeIndex: 159 entries, 0 to 158\n",
      "Data columns (total 3 columns):\n",
      " #   Column   Non-Null Count  Dtype  \n",
      "---  ------   --------------  -----  \n",
      " 0   Species  159 non-null    object \n",
      " 1   Weight   159 non-null    float64\n",
      " 2   Length   159 non-null    float64\n",
      "dtypes: float64(2), object(1)\n",
      "memory usage: 3.9+ KB\n"
     ]
    }
   ],
   "source": [
    "# DF로 데이터 준비\n",
    "fishDF = pd.read_csv(data_file, usecols=[0,1,2])\n",
    "\n",
    "# 기본정보 확인\n",
    "fishDF.info()"
   ],
   "metadata": {
    "collapsed": false,
    "ExecuteTime": {
     "end_time": "2024-02-23T08:19:50.780255Z",
     "start_time": "2024-02-23T08:19:50.725554100Z"
    }
   },
   "id": "da8e1861d33a0f0",
   "execution_count": 50
  },
  {
   "cell_type": "markdown",
   "source": [
    "(2) 데이터 전처리\n",
    "- 결측치, 중복데이터, 이상치"
   ],
   "metadata": {
    "collapsed": false
   },
   "id": "9323b3811516303f"
  },
  {
   "cell_type": "code",
   "outputs": [
    {
     "name": "stdout",
     "output_type": "stream",
     "text": [
      "fishDF.Species =>  ['Bream' 'Roach' 'Whitefish' 'Parkki' 'Perch' 'Pike' 'Smelt']\n",
      "fishDF.Weight =>  [ 242.   290.   340.   363.   430.   450.   500.   390.   475.   600.\n",
      "  700.   610.   650.   575.   685.   620.   680.   725.   720.   714.\n",
      "  850.  1000.   920.   955.   925.   975.   950.    40.    69.    78.\n",
      "   87.   120.     0.   110.   150.   145.   160.   140.   169.   161.\n",
      "  200.   180.   272.   270.   306.   540.   800.    55.    60.    90.\n",
      "  170.   273.   300.     5.9   32.    51.5   70.   100.    80.    85.\n",
      "  115.   125.   130.   135.   225.   188.   197.   218.   260.   265.\n",
      "  250.   320.   514.   556.   840.   690.   900.   820.  1015.  1100.\n",
      "  345.   456.   510.   567.   770.  1250.  1600.  1550.  1650.     6.7\n",
      "    7.5    7.     9.7    9.8    8.7   10.     9.9   12.2   13.4   19.7\n",
      "   19.9]\n",
      "fishDF.Length =>  [25.4 26.3 26.5 29.  29.7 30.  30.7 31.  31.5 32.  33.  33.5 34.  34.5\n",
      " 35.  36.  37.  38.5 39.5 41.  14.1 18.2 18.8 19.8 20.  20.5 20.8 21.\n",
      " 22.  22.5 24.  23.4 23.5 25.2 26.  27.  31.7 28.  36.4 40.  14.7 15.5\n",
      " 17.7 19.  20.7 21.5 23.  25.   8.4 13.7 15.  16.2 17.4 18.  18.7 19.6\n",
      " 21.3 22.7 24.6 25.6 27.3 27.5 28.7 32.8 36.5 39.  42.  43.  43.5 44.\n",
      " 32.3 37.3 38.  42.5 45.  46.  48.  51.7 56.  60.  63.4  9.8 10.5 10.6\n",
      " 11.  11.2 11.3 11.8 12.  12.2 12.4 13.  14.3]\n"
     ]
    }
   ],
   "source": [
    "# 컬럼별 고유값으로 이상치 체크 => unique()\n",
    "print('fishDF.Species => ', fishDF.Species.unique())\n",
    "print('fishDF.Weight => ', fishDF.Weight.unique())\n",
    "print('fishDF.Length => ', fishDF.Length.unique())"
   ],
   "metadata": {
    "collapsed": false,
    "ExecuteTime": {
     "end_time": "2024-02-23T08:19:50.781249800Z",
     "start_time": "2024-02-23T08:19:50.746998300Z"
    }
   },
   "id": "4a2702e00c719cf1",
   "execution_count": 51
  },
  {
   "cell_type": "code",
   "outputs": [
    {
     "data": {
      "text/plain": "Species    0\nWeight     0\nLength     0\ndtype: int64"
     },
     "execution_count": 52,
     "metadata": {},
     "output_type": "execute_result"
    }
   ],
   "source": [
    "# 결측치 체크 => isna() / isnull()\n",
    "fishDF.isna().sum()"
   ],
   "metadata": {
    "collapsed": false,
    "ExecuteTime": {
     "end_time": "2024-02-23T08:19:50.782247600Z",
     "start_time": "2024-02-23T08:19:50.763942400Z"
    }
   },
   "id": "ceb76de6ba767d29",
   "execution_count": 52
  },
  {
   "cell_type": "code",
   "outputs": [
    {
     "data": {
      "text/plain": "4"
     },
     "execution_count": 53,
     "metadata": {},
     "output_type": "execute_result"
    }
   ],
   "source": [
    "# 중복데이터 => duplicated()\n",
    "fishDF.duplicated().sum()"
   ],
   "metadata": {
    "collapsed": false,
    "ExecuteTime": {
     "end_time": "2024-02-23T08:19:50.847976500Z",
     "start_time": "2024-02-23T08:19:50.779253600Z"
    }
   },
   "id": "967e14d6f27aa3b0",
   "execution_count": 53
  },
  {
   "cell_type": "code",
   "outputs": [
    {
     "name": "stdout",
     "output_type": "stream",
     "text": [
      "<class 'pandas.core.frame.DataFrame'>\n",
      "RangeIndex: 49 entries, 0 to 48\n",
      "Data columns (total 3 columns):\n",
      " #   Column   Non-Null Count  Dtype  \n",
      "---  ------   --------------  -----  \n",
      " 0   Species  49 non-null     object \n",
      " 1   Weight   49 non-null     float64\n",
      " 2   Length   49 non-null     float64\n",
      "dtypes: float64(2), object(1)\n",
      "memory usage: 1.3+ KB\n",
      "  Species  Weight  Length\n",
      "0   Bream   242.0    25.4\n",
      "1   Bream   290.0    26.3\n",
      "2   Bream   340.0    26.5    Species  Weight  Length\n",
      "46   Smelt    12.2    13.0\n",
      "47   Smelt    19.7    14.3\n",
      "48   Smelt    19.9    15.0\n"
     ]
    }
   ],
   "source": [
    "# 'Bream', 'Smelt' 두가지 품종 데이터만 추출\n",
    "BreamSmeltDF = fishDF[fishDF['Species'].isin(['Bream', 'Smelt'])]\n",
    "BreamSmeltDF\n",
    "\n",
    "# 인덱스 리셋 : 기존에 인덱스 삭제 후 0-base 인덱스 설정\n",
    "# Scikit-learn에 저장 시 ndarray 타입으로 저장되면서 인덱스 정리\n",
    "BreamSmeltDF = BreamSmeltDF.reset_index(drop=True)\n",
    "\n",
    "# 기본 정보 확인\n",
    "BreamSmeltDF.info()\n",
    "\n",
    "# 인덱스 확인\n",
    "print(BreamSmeltDF.head(3), BreamSmeltDF.tail(3))"
   ],
   "metadata": {
    "collapsed": false,
    "ExecuteTime": {
     "end_time": "2024-02-23T08:19:50.849981200Z",
     "start_time": "2024-02-23T08:19:50.798611700Z"
    }
   },
   "id": "2479a80066d83486",
   "execution_count": 54
  },
  {
   "cell_type": "markdown",
   "source": [
    "(3) 학습용 데이터 준비 => 피쳐 + 타겟 분리"
   ],
   "metadata": {
    "collapsed": false
   },
   "id": "8d423cd420f3b952"
  },
  {
   "cell_type": "code",
   "outputs": [
    {
     "data": {
      "text/plain": "   Weight  Length\n0   242.0    25.4\n1   290.0    26.3\n2   340.0    26.5\n3   363.0    29.0\n4   430.0    29.0",
      "text/html": "<div>\n<style scoped>\n    .dataframe tbody tr th:only-of-type {\n        vertical-align: middle;\n    }\n\n    .dataframe tbody tr th {\n        vertical-align: top;\n    }\n\n    .dataframe thead th {\n        text-align: right;\n    }\n</style>\n<table border=\"1\" class=\"dataframe\">\n  <thead>\n    <tr style=\"text-align: right;\">\n      <th></th>\n      <th>Weight</th>\n      <th>Length</th>\n    </tr>\n  </thead>\n  <tbody>\n    <tr>\n      <th>0</th>\n      <td>242.0</td>\n      <td>25.4</td>\n    </tr>\n    <tr>\n      <th>1</th>\n      <td>290.0</td>\n      <td>26.3</td>\n    </tr>\n    <tr>\n      <th>2</th>\n      <td>340.0</td>\n      <td>26.5</td>\n    </tr>\n    <tr>\n      <th>3</th>\n      <td>363.0</td>\n      <td>29.0</td>\n    </tr>\n    <tr>\n      <th>4</th>\n      <td>430.0</td>\n      <td>29.0</td>\n    </tr>\n  </tbody>\n</table>\n</div>"
     },
     "execution_count": 55,
     "metadata": {},
     "output_type": "execute_result"
    }
   ],
   "source": [
    "# 피쳐 데이터 추출\n",
    "feature = BreamSmeltDF[BreamSmeltDF.columns[1:]]\n",
    "feature.head()"
   ],
   "metadata": {
    "collapsed": false,
    "ExecuteTime": {
     "end_time": "2024-02-23T08:19:50.851964300Z",
     "start_time": "2024-02-23T08:19:50.811572700Z"
    }
   },
   "id": "c76584fe9639eee1",
   "execution_count": 55
  },
  {
   "cell_type": "code",
   "outputs": [
    {
     "data": {
      "text/plain": "0    Bream\n1    Bream\n2    Bream\n3    Bream\n4    Bream\nName: Species, dtype: object"
     },
     "execution_count": 56,
     "metadata": {},
     "output_type": "execute_result"
    }
   ],
   "source": [
    "# 타겟 데이터 추출\n",
    "target = BreamSmeltDF.Species\n",
    "target.head()"
   ],
   "metadata": {
    "collapsed": false,
    "ExecuteTime": {
     "end_time": "2024-02-23T08:19:50.888840900Z",
     "start_time": "2024-02-23T08:19:50.826522300Z"
    }
   },
   "id": "84245dd9c96255f4",
   "execution_count": 56
  },
  {
   "cell_type": "code",
   "outputs": [
    {
     "data": {
      "text/plain": "0     0\n1     0\n2     0\n3     0\n4     0\n5     0\n6     0\n7     0\n8     0\n9     0\n10    0\n11    0\n12    0\n13    0\n14    0\n15    0\n16    0\n17    0\n18    0\n19    0\n20    0\n21    0\n22    0\n23    0\n24    0\n25    0\n26    0\n27    0\n28    0\n29    0\n30    0\n31    0\n32    0\n33    0\n34    0\n35    1\n36    1\n37    1\n38    1\n39    1\n40    1\n41    1\n42    1\n43    1\n44    1\n45    1\n46    1\n47    1\n48    1\nName: Species, dtype: int64"
     },
     "execution_count": 57,
     "metadata": {},
     "output_type": "execute_result"
    }
   ],
   "source": [
    "# Bream => 0, Smelt => 1로 값 변환\n",
    "target = target.replace({'Bream':0, 'Smelt':1}).copy()\n",
    "target"
   ],
   "metadata": {
    "collapsed": false,
    "ExecuteTime": {
     "end_time": "2024-02-23T08:19:50.909769500Z",
     "start_time": "2024-02-23T08:19:50.853957500Z"
    }
   },
   "id": "d204081099bb7d7",
   "execution_count": 57
  },
  {
   "cell_type": "markdown",
   "source": [
    "(4) 학습 진행\n",
    "- 알고리즘 구현 인스턴스 생성 => 지도학습 -분류 알고리즘 중 선택 : KNN\n",
    "\n",
    "- 학습 진행 메소드 => fit()"
   ],
   "metadata": {
    "collapsed": false
   },
   "id": "81aed6d28e5596da"
  },
  {
   "cell_type": "code",
   "outputs": [],
   "source": [
    "# (4-1) \n",
    "model = KNeighborsClassifier()"
   ],
   "metadata": {
    "collapsed": false,
    "ExecuteTime": {
     "end_time": "2024-02-23T08:19:50.971374900Z",
     "start_time": "2024-02-23T08:19:50.896814Z"
    }
   },
   "id": "7448c6857b8a466d",
   "execution_count": 58
  },
  {
   "cell_type": "code",
   "outputs": [
    {
     "data": {
      "text/plain": "KNeighborsClassifier()",
      "text/html": "<style>#sk-container-id-3 {color: black;}#sk-container-id-3 pre{padding: 0;}#sk-container-id-3 div.sk-toggleable {background-color: white;}#sk-container-id-3 label.sk-toggleable__label {cursor: pointer;display: block;width: 100%;margin-bottom: 0;padding: 0.3em;box-sizing: border-box;text-align: center;}#sk-container-id-3 label.sk-toggleable__label-arrow:before {content: \"▸\";float: left;margin-right: 0.25em;color: #696969;}#sk-container-id-3 label.sk-toggleable__label-arrow:hover:before {color: black;}#sk-container-id-3 div.sk-estimator:hover label.sk-toggleable__label-arrow:before {color: black;}#sk-container-id-3 div.sk-toggleable__content {max-height: 0;max-width: 0;overflow: hidden;text-align: left;background-color: #f0f8ff;}#sk-container-id-3 div.sk-toggleable__content pre {margin: 0.2em;color: black;border-radius: 0.25em;background-color: #f0f8ff;}#sk-container-id-3 input.sk-toggleable__control:checked~div.sk-toggleable__content {max-height: 200px;max-width: 100%;overflow: auto;}#sk-container-id-3 input.sk-toggleable__control:checked~label.sk-toggleable__label-arrow:before {content: \"▾\";}#sk-container-id-3 div.sk-estimator input.sk-toggleable__control:checked~label.sk-toggleable__label {background-color: #d4ebff;}#sk-container-id-3 div.sk-label input.sk-toggleable__control:checked~label.sk-toggleable__label {background-color: #d4ebff;}#sk-container-id-3 input.sk-hidden--visually {border: 0;clip: rect(1px 1px 1px 1px);clip: rect(1px, 1px, 1px, 1px);height: 1px;margin: -1px;overflow: hidden;padding: 0;position: absolute;width: 1px;}#sk-container-id-3 div.sk-estimator {font-family: monospace;background-color: #f0f8ff;border: 1px dotted black;border-radius: 0.25em;box-sizing: border-box;margin-bottom: 0.5em;}#sk-container-id-3 div.sk-estimator:hover {background-color: #d4ebff;}#sk-container-id-3 div.sk-parallel-item::after {content: \"\";width: 100%;border-bottom: 1px solid gray;flex-grow: 1;}#sk-container-id-3 div.sk-label:hover label.sk-toggleable__label {background-color: #d4ebff;}#sk-container-id-3 div.sk-serial::before {content: \"\";position: absolute;border-left: 1px solid gray;box-sizing: border-box;top: 0;bottom: 0;left: 50%;z-index: 0;}#sk-container-id-3 div.sk-serial {display: flex;flex-direction: column;align-items: center;background-color: white;padding-right: 0.2em;padding-left: 0.2em;position: relative;}#sk-container-id-3 div.sk-item {position: relative;z-index: 1;}#sk-container-id-3 div.sk-parallel {display: flex;align-items: stretch;justify-content: center;background-color: white;position: relative;}#sk-container-id-3 div.sk-item::before, #sk-container-id-3 div.sk-parallel-item::before {content: \"\";position: absolute;border-left: 1px solid gray;box-sizing: border-box;top: 0;bottom: 0;left: 50%;z-index: -1;}#sk-container-id-3 div.sk-parallel-item {display: flex;flex-direction: column;z-index: 1;position: relative;background-color: white;}#sk-container-id-3 div.sk-parallel-item:first-child::after {align-self: flex-end;width: 50%;}#sk-container-id-3 div.sk-parallel-item:last-child::after {align-self: flex-start;width: 50%;}#sk-container-id-3 div.sk-parallel-item:only-child::after {width: 0;}#sk-container-id-3 div.sk-dashed-wrapped {border: 1px dashed gray;margin: 0 0.4em 0.5em 0.4em;box-sizing: border-box;padding-bottom: 0.4em;background-color: white;}#sk-container-id-3 div.sk-label label {font-family: monospace;font-weight: bold;display: inline-block;line-height: 1.2em;}#sk-container-id-3 div.sk-label-container {text-align: center;}#sk-container-id-3 div.sk-container {/* jupyter's `normalize.less` sets `[hidden] { display: none; }` but bootstrap.min.css set `[hidden] { display: none !important; }` so we also need the `!important` here to be able to override the default hidden behavior on the sphinx rendered scikit-learn.org. See: https://github.com/scikit-learn/scikit-learn/issues/21755 */display: inline-block !important;position: relative;}#sk-container-id-3 div.sk-text-repr-fallback {display: none;}</style><div id=\"sk-container-id-3\" class=\"sk-top-container\"><div class=\"sk-text-repr-fallback\"><pre>KNeighborsClassifier()</pre><b>In a Jupyter environment, please rerun this cell to show the HTML representation or trust the notebook. <br />On GitHub, the HTML representation is unable to render, please try loading this page with nbviewer.org.</b></div><div class=\"sk-container\" hidden><div class=\"sk-item\"><div class=\"sk-estimator sk-toggleable\"><input class=\"sk-toggleable__control sk-hidden--visually\" id=\"sk-estimator-id-3\" type=\"checkbox\" checked><label for=\"sk-estimator-id-3\" class=\"sk-toggleable__label sk-toggleable__label-arrow\">KNeighborsClassifier</label><div class=\"sk-toggleable__content\"><pre>KNeighborsClassifier()</pre></div></div></div></div></div>"
     },
     "execution_count": 59,
     "metadata": {},
     "output_type": "execute_result"
    }
   ],
   "source": [
    "# (4-2) 학습 진행 fit(2D, 1D)\n",
    "model.fit(feature, target)"
   ],
   "metadata": {
    "collapsed": false,
    "ExecuteTime": {
     "end_time": "2024-02-23T08:19:50.973368700Z",
     "start_time": "2024-02-23T08:19:50.947456600Z"
    }
   },
   "id": "f087643ac181c6d9",
   "execution_count": 59
  },
  {
   "cell_type": "code",
   "outputs": [
    {
     "name": "stdout",
     "output_type": "stream",
     "text": [
      "class+ :  [0 1]\n",
      "feature_names_in :  ['Weight' 'Length']\n",
      "n_features_in_ :  2\n"
     ]
    }
   ],
   "source": [
    "# 학습 후 속성 확인 => 속성명_ : 모델 파라미터 -> 모델 학습 후 생성 및 저장됨!\n",
    "print('class+ : ', model.classes_)\n",
    "print('feature_names_in : ', model.feature_names_in_)\n",
    "print('n_features_in_ : ', model.n_features_in_)"
   ],
   "metadata": {
    "collapsed": false,
    "ExecuteTime": {
     "end_time": "2024-02-23T08:19:51.020334500Z",
     "start_time": "2024-02-23T08:19:50.978352800Z"
    }
   },
   "id": "454be9336fe20266",
   "execution_count": 60
  },
  {
   "cell_type": "markdown",
   "source": [
    "(5) 학습 후 검사 즉 테스트 => 메서드 : score()\n",
    "- 결과값 : 0.0(0%) ~ 1.0(100%)\n",
    "- 사용 데이터 : 학습에 사용되지 않은 데이터"
   ],
   "metadata": {
    "collapsed": false
   },
   "id": "f3901ae00ac7e7f5"
  },
  {
   "cell_type": "code",
   "outputs": [
    {
     "data": {
      "text/plain": "1.0"
     },
     "execution_count": 61,
     "metadata": {},
     "output_type": "execute_result"
    }
   ],
   "source": [
    "model.score(feature, target)"
   ],
   "metadata": {
    "collapsed": false,
    "ExecuteTime": {
     "end_time": "2024-02-23T08:19:51.056125400Z",
     "start_time": "2024-02-23T08:19:50.994402700Z"
    }
   },
   "id": "f0263189f87a7be2",
   "execution_count": 61
  },
  {
   "cell_type": "markdown",
   "source": [
    "(6) 예측 즉 서비스에 모델 활용시 사용 => 메소드 : predict()\n",
    "- 조건 : 학습 시 전달된 데이터와 동일한 형태의 데이터 전달"
   ],
   "metadata": {
    "collapsed": false
   },
   "id": "13baf01ef0a27a81"
  },
  {
   "cell_type": "code",
   "outputs": [
    {
     "data": {
      "text/plain": "array([1, 1, 1], dtype=int64)"
     },
     "execution_count": 62,
     "metadata": {},
     "output_type": "execute_result"
    }
   ],
   "source": [
    "# [무게, 길이]\n",
    "new_dat = pd.DataFrame([[21.8, 17], [18.5, 15], [12.3, 6]], columns=model.feature_names_in_)\n",
    "\n",
    "# 학습 시 제공된 데이터와 동일한 형태로 제공\n",
    "pred_y = model.predict(new_dat)\n",
    "pred_y"
   ],
   "metadata": {
    "collapsed": false,
    "ExecuteTime": {
     "end_time": "2024-02-23T08:19:51.059114700Z",
     "start_time": "2024-02-23T08:19:51.028503300Z"
    }
   },
   "id": "e8404aaf8b9ff1b6",
   "execution_count": 62
  },
  {
   "cell_type": "code",
   "outputs": [
    {
     "data": {
      "text/plain": "(array([[ 2.75862284,  3.42052628,  9.57705592, 10.4       , 10.73312629],\n        [ 1.3892444 ,  1.4       ,  5.72450871,  6.60984115,  6.89420046],\n        [ 5.63560112,  5.76974869,  6.2008064 ,  6.239391  ,  6.27694193]]),\n array([[48, 47, 45, 46, 44],\n        [47, 48, 45, 46, 44],\n        [38, 39, 44, 41, 42]], dtype=int64))"
     },
     "execution_count": 63,
     "metadata": {},
     "output_type": "execute_result"
    }
   ],
   "source": [
    "# 데이터와 최근접 이웃 데이터 찾기 => kneighbors() 메소드\n",
    "# 반환값 : 거리, 원소번호\n",
    "model.kneighbors(new_dat)"
   ],
   "metadata": {
    "collapsed": false,
    "ExecuteTime": {
     "end_time": "2024-02-23T08:19:51.093997500Z",
     "start_time": "2024-02-23T08:19:51.064098400Z"
    }
   },
   "id": "ad45aa48d2c3216c",
   "execution_count": 63
  },
  {
   "cell_type": "code",
   "outputs": [
    {
     "data": {
      "text/plain": "<Figure size 640x480 with 1 Axes>",
      "image/png": "[encoded data removed]"
     },
     "metadata": {},
     "output_type": "display_data"
    }
   ],
   "source": [
    "# Weight & Length 시각화\n",
    "plt.scatter(BreamSmeltDF['Weight'], BreamSmeltDF['Length'])\n",
    "plt.scatter(21.8, 17.5)\n",
    "plt.show()"
   ],
   "metadata": {
    "collapsed": false,
    "ExecuteTime": {
     "end_time": "2024-02-23T08:19:51.193723700Z",
     "start_time": "2024-02-23T08:19:51.105957700Z"
    }
   },
   "id": "7ecbd3f979dbbd51",
   "execution_count": 64
  },
  {
   "cell_type": "code",
   "outputs": [],
   "source": [
    "# feature.Weight, feature.Length"
   ],
   "metadata": {
    "collapsed": false,
    "ExecuteTime": {
     "end_time": "2024-02-23T08:23:33.483969800Z",
     "start_time": "2024-02-23T08:23:33.467514500Z"
    }
   },
   "id": "cfd3dad3df79b605",
   "execution_count": 67
  },
  {
   "cell_type": "code",
   "outputs": [
    {
     "data": {
      "text/plain": "<Axes: xlabel='Weight', ylabel='Length'>"
     },
     "execution_count": 65,
     "metadata": {},
     "output_type": "execute_result"
    },
    {
     "data": {
      "text/plain": "<Figure size 640x480 with 1 Axes>",
      "image/png": "[encoded data removed]"
     },
     "metadata": {},
     "output_type": "display_data"
    }
   ],
   "source": [
    "# pandas 활용\n",
    "feature.plot(kind='scatter', x='Weight', y='Length')"
   ],
   "metadata": {
    "collapsed": false,
    "ExecuteTime": {
     "end_time": "2024-02-23T08:19:51.316466500Z",
     "start_time": "2024-02-23T08:19:51.196712400Z"
    }
   },
   "id": "e971acae28bc207d",
   "execution_count": 65
  },
  {
   "cell_type": "code",
   "outputs": [
    {
     "data": {
      "text/plain": "[48, 47, 45, 46, 44]"
     },
     "execution_count": 70,
     "metadata": {},
     "output_type": "execute_result"
    }
   ],
   "source": [
    "dis, ind = model.kneighbors(new_dat)\n",
    "ind.tolist()[0]"
   ],
   "metadata": {
    "collapsed": false,
    "ExecuteTime": {
     "end_time": "2024-02-23T08:26:24.620139500Z",
     "start_time": "2024-02-23T08:26:24.599210100Z"
    }
   },
   "id": "5fc854603778e95c",
   "execution_count": 70
  },
  {
   "cell_type": "code",
   "outputs": [
    {
     "data": {
      "text/plain": "RangeIndex(start=0, stop=49, step=1)"
     },
     "execution_count": 82,
     "metadata": {},
     "output_type": "execute_result"
    }
   ],
   "source": [],
   "metadata": {
    "collapsed": false,
    "ExecuteTime": {
     "end_time": "2024-02-23T08:36:26.106571900Z",
     "start_time": "2024-02-23T08:36:26.092678700Z"
    }
   },
   "id": "71eda629b12733e",
   "execution_count": 82
  },
  {
   "cell_type": "code",
   "outputs": [
    {
     "data": {
      "text/plain": "<Figure size 640x480 with 1 Axes>",
      "image/png": "[encoded data removed]"
     },
     "metadata": {},
     "output_type": "display_data"
    }
   ],
   "source": [
    "feature.plot(kind='scatter', x='Weight', y='Length')\n",
    "plt.scatter(21.8, 17, color='orange', marker='^')\n",
    "plt.scatter(feature.iloc[ind.tolist()[0]]['Weight'], feature.iloc[ind.tolist()[0]]['Length'], \n",
    "            color='red', marker='v')\n",
    "plt.show()"
   ],
   "metadata": {
    "collapsed": false,
    "ExecuteTime": {
     "end_time": "2024-02-23T08:35:36.761360200Z",
     "start_time": "2024-02-23T08:35:36.673381Z"
    }
   },
   "id": "e5f4008a1c0da48a",
   "execution_count": 81
  },
  {
   "cell_type": "code",
   "outputs": [],
   "source": [],
   "metadata": {
    "collapsed": false
   },
   "id": "52125911927c8547"
  }
 ],
 "metadata": {
  "kernelspec": {
   "display_name": "Python 3",
   "language": "python",
   "name": "python3"
  },
  "language_info": {
   "codemirror_mode": {
    "name": "ipython",
    "version": 2
   },
   "file_extension": ".py",
   "mimetype": "text/x-python",
   "name": "python",
   "nbconvert_exporter": "python",
   "pygments_lexer": "ipython2",
   "version": "2.7.6"
  }
 },
 "nbformat": 4,
 "nbformat_minor": 5
}
